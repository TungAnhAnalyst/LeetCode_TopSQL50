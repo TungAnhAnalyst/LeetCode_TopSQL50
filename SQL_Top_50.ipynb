{
 "cells": [
  {
   "cell_type": "markdown",
   "id": "1faf3790-7788-4149-bcfe-42f61fbf4e3c",
   "metadata": {},
   "source": [
    "<h1 style=\"font-family:'Glacial Indifference', sans-serif; font-size:32px; text-align:center; background-color:teal; color:white; border-radius: 15px 50px; \">TOP SQL 50 </h1>\n"
   ]
  },
  {
   "cell_type": "markdown",
   "id": "cba2a6da-25c6-4c46-8faf-2952e65ce0c5",
   "metadata": {},
   "source": [
    "> This notebook gathers my own solution for 50 SQL interviews questions on Leetcode. A full list of these questions are accessible [here](https://leetcode.com/studyplan/top-sql-50/).\n",
    "> \n",
    "> The dialect I used for these challenges is MySQL. For each problem, its hyperlink and corresponding LeetCode number and name are provided at the beginning.\""
   ]
  },
  {
   "cell_type": "markdown",
   "id": "b15b09c9-275b-4ba8-9759-e7a997ce0425",
   "metadata": {},
   "source": [
    "# SECTION 1: SELECT"
   ]
  },
  {
   "cell_type": "markdown",
   "id": "b1863ccc-6fd9-441f-8c62-099308b5b95d",
   "metadata": {
    "jp-MarkdownHeadingCollapsed": true
   },
   "source": [
    "## Problem 1 \n"
   ]
  },
  {
   "cell_type": "markdown",
   "id": "dd18ba35-8da9-4c53-994d-e087bf86c86e",
   "metadata": {},
   "source": [
    "*[(1757. Recyclable and Low Fat Products)](https://leetcode.com/problems/recyclable-and-low-fat-products/description/)*"
   ]
  },
  {
   "cell_type": "markdown",
   "id": "9abe3178-9b91-4b68-bff9-5e28bcd5ba6b",
   "metadata": {},
   "source": [
    "### Problem statement"
   ]
  },
  {
   "cell_type": "markdown",
   "id": "53e1cc64-9f9d-472f-924f-1edc0fa4ef40",
   "metadata": {},
   "source": [
    "Table `Products`\n",
    "\n",
    "| Column Name | Type    |\n",
    "|-------------|---------|\n",
    "| product_id  | int     |\n",
    "| low_fats    | enum    |\n",
    "| recyclable  | enum    |\n",
    "\n",
    "`product_id` is the primary key (column with unique values) for this table.  \n",
    "`low_fats` is an ENUM (category) of type ('Y', 'N') where 'Y' means this product is low fat and 'N' means it is not.   \n",
    "`recyclable` is an ENUM (category) of types ('Y', 'N') where 'Y' means this product is recyclable and 'N' means it is not.\n",
    "\n",
    "Write a solution to **find the ids of products that are both low fat and recyclable.**\n",
    "\n",
    "Return the result table in **any order.**\n",
    "\n",
    "The result format is in the following example.\n",
    "\n",
    "**Example 1**\n",
    "\n",
    "**Input:**\n",
    "\n",
    "`Products` table:\n",
    "| product_id  | low_fats | recyclable |\n",
    "|-------------|----------|------------|\n",
    "| 0           | Y        | N          |\n",
    "| 1           | Y        | Y          |\n",
    "| 2           | N        | Y          |\n",
    "| 3           | Y        | Y          |\n",
    "| 4           | N        | N          |\n",
    "\n",
    "**Output:**  \n",
    "| product_id  |\n",
    "|-------------|\n",
    "| 1           |\n",
    "| 3           |\n",
    "\n",
    "**Explanation:** Only products 1 and 3 are both low fat and recyclable."
   ]
  },
  {
   "cell_type": "markdown",
   "id": "ed19eaf5-dfe2-4f7e-a7ad-f7d47624c2da",
   "metadata": {},
   "source": [
    "### Solution"
   ]
  },
  {
   "cell_type": "raw",
   "id": "5424d8a8-9a48-42ef-9c89-6347cec2a157",
   "metadata": {},
   "source": [
    "SELECT product_id\n",
    "FROM Products\n",
    "WHERE low_fats = 'y' AND recyclable = 'y';"
   ]
  },
  {
   "cell_type": "markdown",
   "id": "e91b0291-2630-4fbf-b9e0-889392acf2d8",
   "metadata": {
    "jp-MarkdownHeadingCollapsed": true
   },
   "source": [
    "## Problem 2"
   ]
  },
  {
   "cell_type": "markdown",
   "id": "b37883dd-34a0-4419-a2e8-728b723036aa",
   "metadata": {},
   "source": [
    "*[(584. Find Customer Referee)](https://leetcode.com/problems/find-customer-referee/description/)*"
   ]
  },
  {
   "cell_type": "markdown",
   "id": "c09858c0-b57e-485b-bc76-a5efa1a1fbad",
   "metadata": {},
   "source": [
    "### Problem statement"
   ]
  },
  {
   "cell_type": "markdown",
   "id": "8fa64a4e-aca4-4c5c-a4a2-f3029245378c",
   "metadata": {},
   "source": [
    "Table: `Customer`\n",
    "\n",
    "| Column Name | Type    |\n",
    "|-------------|---------|\n",
    "| id          | int     |\n",
    "| name        | varchar |\n",
    "| referee_id  | int     |\n",
    "\n",
    "`id` is the primary key column for this table.  \n",
    "Each row of this table indicates the id of a customer, their name, and the id of the customer who referred them.\n",
    "\n",
    "Find the **names of the customers that are not referred by the customer with** `id = 2`.\n",
    "\n",
    "Return the result table in **any order.**\n",
    "\n",
    "The result format is as follows:\n",
    "\n",
    "**Example 2**\n",
    "\n",
    "**Input:**\n",
    "\n",
    "`Customer` table:\n",
    "\n",
    "| id | name | referee_id |\n",
    "|----|------|------------|\n",
    "| 1  | Will | null       |\n",
    "| 2  | Jane | null       |\n",
    "| 3  | Alex | 2          |\n",
    "| 4  | Bill | null       |\n",
    "| 5  | Zack | 1          |\n",
    "| 6  | Mark | 2          |\n",
    "\n",
    "**Output:**\n",
    "\n",
    "| name |\n",
    "|------|\n",
    "| Will |\n",
    "| Jane |\n",
    "| Bill |\n",
    "| Zack |"
   ]
  },
  {
   "cell_type": "markdown",
   "id": "09e0fed4-0835-4f13-b247-085909304876",
   "metadata": {},
   "source": [
    "### Solution"
   ]
  },
  {
   "cell_type": "code",
   "execution_count": null,
   "id": "0b6079dd-576a-4b8e-8c87-1105e54f951b",
   "metadata": {},
   "outputs": [],
   "source": [
    "SELECT name\n",
    "FROM Customer\n",
    "WHERE referee_id <> 2 OR referee_id IS NULL;"
   ]
  },
  {
   "cell_type": "markdown",
   "id": "e6316dea-07d2-40b3-8723-4e1e830d58dc",
   "metadata": {
    "jp-MarkdownHeadingCollapsed": true
   },
   "source": [
    "## Problem 3"
   ]
  },
  {
   "cell_type": "markdown",
   "id": "f932966d-6542-40cc-8990-a2f30b92f1c2",
   "metadata": {},
   "source": [
    "*[(595. Big Countries)](https://leetcode.com/problems/big-countries/description)*"
   ]
  },
  {
   "cell_type": "markdown",
   "id": "e97846c1-1aef-4ef8-b3a6-5874b6c22f64",
   "metadata": {},
   "source": [
    "### Problem statement"
   ]
  },
  {
   "cell_type": "markdown",
   "id": "7c69c87f-7fba-4469-9218-aa938162f59d",
   "metadata": {},
   "source": [
    "Table: `World`\n",
    "\n",
    "| Column Name | Type    |\n",
    "|-------------|---------|\n",
    "| name        | varchar |\n",
    "| continent   | varchar |\n",
    "| area        | int     |\n",
    "| population  | int     |\n",
    "| gdp         | bigint  |\n",
    "\n",
    "`name` is the primary key (column with unique values) for this table.  \n",
    "Each row of this table gives information about the name of a country, the continent to which it belongs, its area, the population, and its GDP value.\n",
    "\n",
    "A country is considered big if:\n",
    "- it has an area of at least three million (i.e., 3000000 km²), or\n",
    "- it has a population of at least twenty-five million (i.e., 25000000).\n",
    "\n",
    "Write a solution to **find the name, population, and area of the big countries.**\n",
    "\n",
    "Return the result table in **any** order.\n",
    "\n",
    "**Example:**\n",
    "\n",
    "**Input:**\n",
    "\n",
    "`World` table:\n",
    "| name        | continent | area    | population | gdp          |\n",
    "|-------------|-----------|---------|------------|--------------|\n",
    "| Afghanistan | Asia      | 652230  | 25500100   | 20343000000  |\n",
    "| Albania     | Europe    | 28748   | 2831741    | 12960000000  |\n",
    "| Algeria     | Africa    | 2381741 | 37100000   | 188681000000 |\n",
    "| Andorra     | Europe    | 468     | 78115      | 3712000000   |\n",
    "| Angola      | Africa    | 1246700 | 20609294   | 100990000000 |\n",
    "\n",
    "**Output:**\n",
    "| name        | population | area    |\n",
    "|-------------|------------|---------|\n",
    "| Afghanistan | 25500100   | 652230  |\n",
    "| Algeria     | 37100000   | 2381741 |"
   ]
  },
  {
   "cell_type": "markdown",
   "id": "418c86d8-b257-4921-8491-7c2968751e9e",
   "metadata": {},
   "source": [
    "### Solution"
   ]
  },
  {
   "cell_type": "code",
   "execution_count": null,
   "id": "50c5d9b4-1dfd-41c2-adc3-28841c6b8fd4",
   "metadata": {},
   "outputs": [],
   "source": [
    "SELECT name, population, area\n",
    "FROM World\n",
    "WHERE area >= 3000000 OR population >= 25000000;"
   ]
  },
  {
   "cell_type": "markdown",
   "id": "1322d942-fe1c-4e9a-9d66-1c3be7cf7632",
   "metadata": {
    "jp-MarkdownHeadingCollapsed": true
   },
   "source": [
    "## Problem 4"
   ]
  },
  {
   "cell_type": "markdown",
   "id": "a3b41b8d-88f5-46fb-99ab-e1126fba3aeb",
   "metadata": {},
   "source": [
    "*[(1148. Article Views I)](https://leetcode.com/problems/article-views-i/description)*"
   ]
  },
  {
   "cell_type": "markdown",
   "id": "51dd66c6-1aac-4be5-8a36-681984e26b4c",
   "metadata": {},
   "source": [
    "### Problem statement"
   ]
  },
  {
   "cell_type": "markdown",
   "id": "855f9ea6-99bc-4b45-bf8a-a81d19410054",
   "metadata": {},
   "source": [
    "Table: `Views`\n",
    "\n",
    "| Column Name | Type    |\n",
    "|-------------|---------|\n",
    "| article_id  | int     |\n",
    "| author_id   | int     |\n",
    "| viewer_id   | int     |\n",
    "| view_date   | date    |\n",
    "\n",
    "Each row of this table indicates that some viewer viewed an article (written by some author) on some date. Note that equal `author_id` and `viewer_id` indicate the same person.\n",
    "\n",
    "Write a solution to find all the authors that viewed at least one of their own articles.\n",
    "\n",
    "Return the result table sorted by `id` in ascending order.\n",
    "\n",
    "**Example:**\n",
    "\n",
    "**Input:**  \n",
    "\n",
    "`Views` table:\n",
    "| article_id | author_id | viewer_id | view_date  |\n",
    "|------------|-----------|-----------|------------|\n",
    "| 1          | 3         | 5         | 2019-08-01 |\n",
    "| 1          | 3         | 6         | 2019-08-02 |\n",
    "| 2          | 7         | 7         | 2019-08-01 |\n",
    "| 2          | 7         | 6         | 2019-08-02 |\n",
    "| 4          | 7         | 1         | 2019-07-22 |\n",
    "| 3          | 4         | 4         | 2019-07-21 |\n",
    "| 3          | 4         | 4         | 2019-07-21 |\n",
    "\n",
    "**Output:**  \n",
    "| id   |\n",
    "|------|\n",
    "| 4    |\n",
    "| 7    |\n"
   ]
  },
  {
   "cell_type": "markdown",
   "id": "8202bb40-89e0-40c4-a11d-05397d21db4d",
   "metadata": {},
   "source": [
    "### Solution"
   ]
  },
  {
   "cell_type": "code",
   "execution_count": null,
   "id": "d7ad2901-f5cb-4730-b930-daa7cc8a421f",
   "metadata": {},
   "outputs": [],
   "source": [
    "SELECT author_id AS id\n",
    "FROM Views\n",
    "WHERE Views.author_id = Views.viewer_id\n",
    "GROUP BY id\n",
    "ORDER BY id"
   ]
  },
  {
   "cell_type": "markdown",
   "id": "c4969d7b-f69a-41c3-93a5-31cd519b0df0",
   "metadata": {
    "jp-MarkdownHeadingCollapsed": true
   },
   "source": [
    "## Problem 5"
   ]
  },
  {
   "cell_type": "markdown",
   "id": "ea19ca45-7e4b-4ab0-ba1f-6cc9a21897a2",
   "metadata": {},
   "source": [
    "### Problem statement"
   ]
  },
  {
   "cell_type": "markdown",
   "id": "cbe87386-d8af-4f32-bda3-8760422a7adf",
   "metadata": {},
   "source": [
    "*[(1683. Invalid Tweets)](https://leetcode.com/problems/invalid-tweets/description)*"
   ]
  },
  {
   "cell_type": "markdown",
   "id": "cd75d45a-7b3e-4927-b2f0-a9b406bbce77",
   "metadata": {},
   "source": [
    "Table: `Tweets`\n",
    "\n",
    "| Column Name | Type    |\n",
    "|-------------|---------|\n",
    "| tweet_id    | int     |\n",
    "| content     | varchar |\n",
    "\n",
    "`tweet_id` is the primary key (column with unique values) for this table. This table contains all the tweets in a social media app.\n",
    "The tweet is invalid if the number of characters used in the content of the tweet is strictly greater than 15.\n",
    "\n",
    "Write a solution to **find the IDs of the invalid tweets.** \n",
    "\n",
    "Return the result table in any order.\n",
    "\n",
    "**Example 1:**\n",
    "\n",
    "**Input:**  \n",
    "\n",
    "`Tweets` table:\n",
    "| tweet_id | content                          |\n",
    "|----------|----------------------------------|\n",
    "| 1        | Vote for Biden                   |\n",
    "| 2        | Let us make America great again! |\n",
    "\n",
    "**Output:**  \n",
    "| tweet_id |\n",
    "|----------|\n",
    "| 2        |\n",
    "\n",
    "**Explanation:**  \n",
    "Tweet 1 has length = 14. It is a valid tweet.  \n",
    "Tweet 2 has length = 32. It is an invalid tweet.\n"
   ]
  },
  {
   "cell_type": "markdown",
   "id": "f8db288c-082f-4b2e-a1a4-03e89fc3d26b",
   "metadata": {},
   "source": [
    "### Solution"
   ]
  },
  {
   "cell_type": "code",
   "execution_count": null,
   "id": "a7c89f5f-976f-4331-aef7-243bcfe4ce74",
   "metadata": {},
   "outputs": [],
   "source": [
    "SELECT tweet_id\n",
    "FROM Tweets\n",
    "WHERE length(content) > 15"
   ]
  },
  {
   "cell_type": "markdown",
   "id": "90b06439-0006-497b-9b1d-435bf22c509a",
   "metadata": {},
   "source": [
    "---"
   ]
  },
  {
   "cell_type": "markdown",
   "id": "e75d3f3d-1751-460b-9e0b-b6a185a54128",
   "metadata": {},
   "source": [
    "# SECTION 2: BASIC JOINS"
   ]
  },
  {
   "cell_type": "markdown",
   "id": "3a0cd2c3-09d0-4eff-965d-3a767168e4e3",
   "metadata": {
    "jp-MarkdownHeadingCollapsed": true
   },
   "source": [
    "## Problem 6"
   ]
  },
  {
   "cell_type": "markdown",
   "id": "d90c653f-0ca7-47ff-8e2b-ffbb234ebfd7",
   "metadata": {},
   "source": [
    "### Problem statement"
   ]
  },
  {
   "cell_type": "markdown",
   "id": "d0179089-85fe-43ff-8949-b745ab6d468d",
   "metadata": {},
   "source": [
    "*[(1378. Replace Employee ID With The Unique Identifier)](https://leetcode.com/problems/https://leetcode.com/problems/replace-employee-id-with-the-unique-identifier/description)*"
   ]
  },
  {
   "cell_type": "markdown",
   "id": "412f7f66-e85f-44f0-9be5-26c7c9df339d",
   "metadata": {},
   "source": [
    "Table: `Employees`\n",
    "\n",
    "| Column Name | Type    |\n",
    "|-------------|---------|\n",
    "| id          | int     |\n",
    "| name        | varchar |\n",
    "\n",
    "`id` is the primary key (column with unique values) for this table.  \n",
    "Each row of this table contains the id and the name of an employee in a company.\n",
    "\n",
    "Table: `EmployeeUNI`\n",
    "\n",
    "| Column Name | Type    |\n",
    "|-------------|---------|\n",
    "| id          | int     |\n",
    "| unique_id   | int     |\n",
    "\n",
    "`(id, unique_id)` is the primary key (combination of columns with unique values) for this table.  \n",
    "Each row of this table contains the id and the corresponding unique id of an employee in the company.\n",
    "\n",
    "Write a solution to **show the** unique ID **of each user**. If a user does not have a unique ID, replace it with `null`.\n",
    "\n",
    "Return the result table in **any order.**\n",
    "\n",
    "**Example 1:**\n",
    "\n",
    "**Input:**  \n",
    "\n",
    "`Employees` table:\n",
    "| id | name     |\n",
    "|----|----------|\n",
    "| 1  | Alice    |\n",
    "| 7  | Bob      |\n",
    "| 11 | Meir     |\n",
    "| 90 | Winston  |\n",
    "| 3  | Jonathan |\n",
    "\n",
    "`EmployeeUNI` table:\n",
    "| id | unique_id |\n",
    "|----|-----------|\n",
    "| 3  | 1         |\n",
    "| 11 | 2         |\n",
    "| 90 | 3         |\n",
    "\n",
    "**Output:**  \n",
    "| unique_id | name     |\n",
    "|-----------|----------|\n",
    "| null      | Alice    |\n",
    "| null      | Bob      |\n",
    "| 2         | Meir     |\n",
    "| 3         | Winston  |\n",
    "| 1         | Jonathan |\n",
    "\n",
    "**Explanation:**  \n",
    "Alice and Bob do not have a unique ID, so we show null instead.  \n",
    "The unique ID of Meir is 2.  \n",
    "The unique ID of Winston is 3.  \n",
    "The unique ID of Jonathan is 1.\n"
   ]
  },
  {
   "cell_type": "markdown",
   "id": "9d615886-4d4c-403b-8a71-d8f942d59be6",
   "metadata": {},
   "source": [
    "### Solution "
   ]
  },
  {
   "cell_type": "code",
   "execution_count": null,
   "id": "51809c2b-fc0b-4db9-b621-fb5a23a93f8b",
   "metadata": {},
   "outputs": [],
   "source": [
    "SELECT e_id.unique_id, e_name.name\n",
    "FROM EmployeeUNI AS e_id\n",
    "RIGHT JOIN Employees AS e_name\n",
    "ON e_id.id = e_name.id"
   ]
  },
  {
   "cell_type": "markdown",
   "id": "849ae5af-6230-4d14-9eaa-0002157b29e3",
   "metadata": {
    "jp-MarkdownHeadingCollapsed": true
   },
   "source": [
    "## Problem 7"
   ]
  },
  {
   "cell_type": "markdown",
   "id": "71c8d31f-e71e-4288-83c1-d99c71a94027",
   "metadata": {},
   "source": [
    "*[(1068. Product Sales Analysis I)](https://leetcode.com/problems/product-sales-analysis-i/description)*"
   ]
  },
  {
   "cell_type": "markdown",
   "id": "97517f2f-8a4e-48b5-85ab-af66ab4f0462",
   "metadata": {},
   "source": [
    "### Problem statement"
   ]
  },
  {
   "cell_type": "markdown",
   "id": "7f3ce15a-e6be-45aa-a4a0-93dab51f37a6",
   "metadata": {},
   "source": [
    "Table: `Sales`\n",
    "\n",
    "| Column Name | Type  |\n",
    "|-------------|-------|\n",
    "| sale_id     | int   |\n",
    "| product_id  | int   |\n",
    "| year        | int   |\n",
    "| quantity    | int   |\n",
    "| price       | int   |\n",
    "\n",
    "`(sale_id, year)` is the primary key (combination of columns with unique values) of this table.  \n",
    "`product_id` is a foreign key (reference column) to `Product` table.  \n",
    "Each row of this table shows a sale on the product `product_id` in a certain year. Note that the price is per unit.\n",
    "\n",
    "Table: `Product`\n",
    "\n",
    "| Column Name  | Type    |\n",
    "|--------------|---------|\n",
    "| product_id   | int     |\n",
    "| product_name | varchar |\n",
    "\n",
    "`product_id` is the primary key (column with unique values) of this table.  \n",
    "Each row of this table indicates the product name of each product.\n",
    "\n",
    "Write a solution to **report the** `product_name`, `year`**, and** `price` **for each** `sale_id` **in the** `Sales` **table.**\n",
    "\n",
    "Return the resulting table in **any order**.\n",
    "\n",
    "**Example 1:**\n",
    "\n",
    "**Input:**  \n",
    "\n",
    "`Sales` table:\n",
    "| sale_id | product_id | year | quantity | price |\n",
    "|---------|------------|------|----------|-------| \n",
    "| 1       | 100        | 2008 | 10       | 5000  |\n",
    "| 2       | 100        | 2009 | 12       | 5000  |\n",
    "| 7       | 200        | 2011 | 15       | 9000  |\n",
    "\n",
    "`Product` table:\n",
    "| product_id | product_name |\n",
    "|------------|--------------|\n",
    "| 100        | Nokia        |\n",
    "| 200        | Apple        |\n",
    "| 300        | Samsung      |\n",
    "\n",
    "**Output:**  \n",
    "| product_name | year  | price |\n",
    "|--------------|-------|-------|\n",
    "| Nokia        | 2008  | 5000  |\n",
    "| Nokia        | 2009  | 5000  |\n",
    "| Apple        | 2011  | 9000  |\n",
    "\n",
    "**Explanation:**  \n",
    "- From sale_id = 1, we can conclude that Nokia was sold for 5000 in the year 2008.\n",
    "- From sale_id = 2, we can conclude that Nokia was sold for 5000 in the year 2009.\n",
    "- From sale_id = 7, we can conclude that Apple was sold for 9000 in the year 2011.\n"
   ]
  },
  {
   "cell_type": "markdown",
   "id": "c9467994-8151-402a-9db8-981c1c3c2095",
   "metadata": {},
   "source": [
    "### Solution"
   ]
  },
  {
   "cell_type": "code",
   "execution_count": null,
   "id": "3150de1c-cda2-44dd-a27f-2d3da0c938d0",
   "metadata": {},
   "outputs": [],
   "source": [
    "SELECT Product.product_name, Sales.year, Sales.price\n",
    "FROM Sales\n",
    "LEFT JOIN Product\n",
    "ON Sales.product_id = Product.product_id"
   ]
  },
  {
   "cell_type": "markdown",
   "id": "27f5cf25-bdaf-4af5-97e0-e98c9af7c2f8",
   "metadata": {
    "jp-MarkdownHeadingCollapsed": true
   },
   "source": [
    "## Problem 8"
   ]
  },
  {
   "cell_type": "markdown",
   "id": "6fb88170-fa6d-4a9e-9e41-e63288310205",
   "metadata": {},
   "source": [
    "*[(1581. Customer Who Visited but Did Not Make Any Transactions)](https://leetcode.com/problems/customer-who-visited-but-did-not-make-any-transactions/)*"
   ]
  },
  {
   "cell_type": "markdown",
   "id": "8dcd50e9-d54e-4511-9a63-6e98edbbf274",
   "metadata": {
    "jp-MarkdownHeadingCollapsed": true
   },
   "source": [
    "### Problem statement"
   ]
  },
  {
   "cell_type": "markdown",
   "id": "202d101a-b9df-41c9-9223-02adac570cfd",
   "metadata": {},
   "source": [
    "Table: `Visits`\n",
    "\n",
    "| Column Name | Type    |\n",
    "|-------------|---------|\n",
    "| visit_id    | int     |\n",
    "| customer_id | int     |\n",
    "\n",
    "`visit_id` is the column with unique values for this table. This table contains information about the customers who visited the mall.\n",
    "\n",
    "Table: `Transactions`\n",
    "\n",
    "| Column Name    | Type    |\n",
    "|----------------|---------|\n",
    "| transaction_id | int     |\n",
    "| visit_id       | int     |\n",
    "| amount         | int     |\n",
    "\n",
    "`transaction_id` is column with unique values for this table. This table contains information about the transactions made during the `visit_id`.\n",
    "\n",
    "Write a solution to **find the IDs of the users who visited without making any transactions and the number of times they made these types of visits.**\n",
    "\n",
    "Return the result table sorted in **any order**.\n",
    "\n",
    "**Example 1:**\n",
    "\n",
    "**Input:**  \n",
    "\n",
    "`Visits` table\n",
    "| visit_id | customer_id |\n",
    "|----------|-------------|\n",
    "| 1        | 23          |\n",
    "| 2        | 9           |\n",
    "| 4        | 30          |\n",
    "| 5        | 54          |\n",
    "| 6        | 96          |\n",
    "| 7        | 54          |\n",
    "| 8        | 54          |\n",
    "\n",
    "`Transactions` table\n",
    "| transaction_id | visit_id | amount |\n",
    "|----------------|----------|--------|\n",
    "| 2              | 5        | 310    |\n",
    "| 3              | 5        | 300    |\n",
    "| 9              | 5        | 200    |\n",
    "| 12             | 1        | 910    |\n",
    "| 13             | 2        | 970    |\n",
    "\n",
    "**Output:**  \n",
    "| customer_id | count_no_trans |\n",
    "|-------------|----------------|\n",
    "| 54          | 2              |\n",
    "| 30          | 1              |\n",
    "| 96          | 1              |\n",
    "\n",
    "**Explanation:**  \n",
    "- Customer with id = 23 visited the mall once and made one transaction during the visit with id = 12.  \n",
    "- Customer with id = 9 visited the mall once and made one transaction during the visit with id = 13.  \n",
    "- Customer with id = 30 visited the mall once and did not make any transactions.  \n",
    "- Customer with id = 54 visited the mall three times. During 2 visits they did not make any transactions, and during one visit they made 3 transactions.  \n",
    "- Customer with id = 96 visited the mall once and did not make any transactions.\n",
    "  \n",
    "As we can see, users with IDs 30 and 96 visited the mall one time without making any transactions. Also, user 54 visited the mall twice and did not make any transactions.\n"
   ]
  },
  {
   "cell_type": "markdown",
   "id": "8a13fc5f-6818-4192-8d65-83668674ab3e",
   "metadata": {},
   "source": [
    "### Solution"
   ]
  },
  {
   "cell_type": "code",
   "execution_count": null,
   "id": "0c772a09-059a-49d3-a331-52f86f614223",
   "metadata": {},
   "outputs": [],
   "source": [
    "SELECT Visits.customer_id, COUNT(*) as count_no_trans\n",
    "FROM Visits\n",
    "LEFT JOIN Transactions\n",
    "ON Visits.visit_id = Transactions.visit_id\n",
    "WHERE transaction_id IS NULL\n",
    "GROUP BY Visits.customer_id"
   ]
  },
  {
   "cell_type": "markdown",
   "id": "e2956a58-b63e-4027-a333-7f3702595c8f",
   "metadata": {
    "jp-MarkdownHeadingCollapsed": true
   },
   "source": [
    "## Problem 9"
   ]
  },
  {
   "cell_type": "markdown",
   "id": "367f6a9e-74e8-474d-b8d4-b84d2009da7f",
   "metadata": {},
   "source": [
    "### Problem statement"
   ]
  },
  {
   "cell_type": "markdown",
   "id": "908bf47a-6a25-4952-bc04-31ffd8572d59",
   "metadata": {},
   "source": [
    "*[(197. Rising Temperature)](https://leetcode.com/problems/rising-temperature/)*"
   ]
  },
  {
   "cell_type": "markdown",
   "id": "dd077e0a-26a4-438c-8e7f-b071f6e9c7df",
   "metadata": {},
   "source": [
    "Table: `Weather`\n",
    "\n",
    "| Column Name | Type  |\n",
    "|-------------|-------|\n",
    "| id          | int   |\n",
    "| recordDate  | date  |\n",
    "| temperature | int   |\n",
    "\n",
    "`id` is the column with unique values for this table. There are no different rows with the same `recordDate`. This table contains information about the temperature on a certain day.\n",
    "\n",
    "Write a solution to *find all dates' `Id` with higher temperatures compared to its previous dates (yesterday).*\n",
    "\n",
    "Return the result table in **any order**.\n",
    "\n",
    "**Example 1:**\n",
    "\n",
    "**Input:**  \n",
    "\n",
    "`Weather` table:\n",
    "| id | recordDate | temperature |\n",
    "|----|------------|-------------|\n",
    "| 1  | 2015-01-01 | 10          |\n",
    "| 2  | 2015-01-02 | 25          |\n",
    "| 3  | 2015-01-03 | 20          |\n",
    "| 4  | 2015-01-04 | 30          |\n",
    "\n",
    "**Output:**  \n",
    "| id |\n",
    "|----|\n",
    "| 2  |\n",
    "| 4  |\n",
    "\n",
    "**Explanation:**  \n",
    "- In 2015-01-02, the temperature was higher than the previous day (10 -> 25).  \n",
    "- In 2015-01-04, the temperature was higher than the previous day (20 -> 30)."
   ]
  },
  {
   "cell_type": "markdown",
   "id": "7ba6689a-6c15-48b5-968f-c3c35b3db523",
   "metadata": {},
   "source": [
    "### Solution"
   ]
  },
  {
   "cell_type": "markdown",
   "id": "ecad9d56-ea23-443d-acef-365a1ba63420",
   "metadata": {},
   "source": [
    "**Idea**: Using a subquery to compute the lagged temperature and date using the LAG() window function ordered by recordDate, and then filters the results based on the specified conditions."
   ]
  },
  {
   "cell_type": "code",
   "execution_count": null,
   "id": "a449f2c5-57cb-48f4-ac20-1ca14dc9495c",
   "metadata": {},
   "outputs": [],
   "source": [
    "SELECT id\n",
    "FROM (\n",
    "    SELECT \n",
    "        id,\n",
    "        temperature,\n",
    "        recordDate,\n",
    "        LAG(temperature) OVER (ORDER BY recordDate) AS prev_temperature,\n",
    "        LAG(recordDate) OVER (ORDER BY recordDate) AS prev_recordDate\n",
    "    FROM Weather\n",
    ") AS weather_with_lag\n",
    "WHERE temperature > prev_temperature\n",
    "  AND DATEDIFF(recordDate, prev_recordDate) = 1;"
   ]
  },
  {
   "cell_type": "markdown",
   "id": "237e5b52-0a4c-407a-9ed7-074b1f709ecc",
   "metadata": {
    "jp-MarkdownHeadingCollapsed": true
   },
   "source": [
    "## Problem 10"
   ]
  },
  {
   "cell_type": "markdown",
   "id": "d3ea1715-5baf-4889-b069-ecfcf41e3f90",
   "metadata": {},
   "source": [
    "*[(1661. Average Time of Process per Machine)](https://leetcode.com/problems/average-time-of-process-per-machine/)*"
   ]
  },
  {
   "cell_type": "markdown",
   "id": "069658e6-a733-4171-913e-558376682184",
   "metadata": {
    "jp-MarkdownHeadingCollapsed": true
   },
   "source": [
    "### Problem statement"
   ]
  },
  {
   "cell_type": "markdown",
   "id": "8cd3bb71-72be-4918-a2b1-b4a47f2952d5",
   "metadata": {},
   "source": [
    "Table: `Activity`\n",
    "\n",
    "| Column Name   | Type   |\n",
    "|---------------|--------|\n",
    "| machine_id    | int    |\n",
    "| process_id    | int    |\n",
    "| activity_type | enum   |\n",
    "| timestamp     | float  |\n",
    "\n",
    "The table shows the user activities for a factory website. `(machine_id, process_id, activity_type)` is the primary key (combination of columns with unique values) of this table.   \n",
    "`machine_id` is the ID of a machine.  \n",
    "`process_id` is the ID of a process running on the machine with ID `machine_id`.  \n",
    "`activity_type` is an ENUM (category) of type ('start', 'end'). 'start' means the machine starts the process at the given timestamp and 'end' means the machine ends the process at the given timestamp. The 'start' timestamp will always be before the 'end' timestamp for every (`machine_id`, `process_id`) pair.  \n",
    "`timestamp` is a float representing the current time in seconds.\n",
    "\n",
    "There is a factory website that has several machines each running the **same number of processes**. Write a solution to **find the average time each machine takes to complete a process.**\n",
    "\n",
    "The time to complete a process is the 'end' timestamp minus the 'start' timestamp. The average time is calculated by the total time to complete every process on the machine divided by the number of processes that were run.\n",
    "\n",
    "The resulting table should have the `machine_id` along with the average time as `processing_time`, which should be **rounded to 3 decimal places.**\n",
    "\n",
    "Return the result table in **any order.**\n",
    "\n",
    "The result format is in the following example.\n",
    "\n",
    "**Example 1:**\n",
    "\n",
    "**Input:**  \n",
    "`Activity` table:\n",
    "| machine_id | process_id | activity_type | timestamp |\n",
    "|------------|------------|---------------|-----------|\n",
    "| 0          | 0          | start         | 0.712     |\n",
    "| 0          | 0          | end           | 1.520     |\n",
    "| 0          | 1          | start         | 3.140     |\n",
    "| 0          | 1          | end           | 4.120     |\n",
    "| 1          | 0          | start         | 0.550     |\n",
    "| 1          | 0          | end           | 1.550     |\n",
    "| 1          | 1          | start         | 0.430     |\n",
    "| 1          | 1          | end           | 1.420     |\n",
    "| 2          | 0          | start         | 4.100     |\n",
    "| 2          | 0          | end           | 4.512     |\n",
    "| 2          | 1          | start         | 2.500     |\n",
    "| 2          | 1          | end           | 5.000     |\n",
    "\n",
    "**Output:**  \n",
    "| machine_id | processing_time |\n",
    "|------------|-----------------|\n",
    "| 0          | 0.894           |\n",
    "| 1          | 0.995           |\n",
    "| 2          | 1.456           |\n",
    "\n",
    "**Explanation:**  \n",
    "There are 3 machines running 2 processes each. \n",
    "- Machine 0's average time is ((1.520 - 0.712) + (4.120 - 3.140)) / 2 = 0.894\n",
    "- Machine 1's average time is ((1.550 - 0.550) + (1.420 - 0.430)) / 2 = 0.995\n",
    "- Machine 2's average time is ((4.512 - 4.100) + (5.000 - 2.500)) / 2 = 1.456\n"
   ]
  },
  {
   "cell_type": "markdown",
   "id": "d415f05d-7e2a-4a5c-9476-86d209e02a23",
   "metadata": {
    "jp-MarkdownHeadingCollapsed": true
   },
   "source": [
    "### Solution "
   ]
  },
  {
   "cell_type": "markdown",
   "id": "1a47e7d6-3a39-49e5-bde4-80373fa53f5f",
   "metadata": {},
   "source": [
    "**Idea**: Using CTE, we create seperate start and end time table. Then, we joins these tables based on the machine and process IDs. After joining, we calculates the processing time for each process. Finally, we calculate averages of these processing times for each machine."
   ]
  },
  {
   "cell_type": "code",
   "execution_count": null,
   "id": "77dc15ed-b78f-4f7f-8c2f-7bcadb769085",
   "metadata": {},
   "outputs": [],
   "source": [
    "WITH startset AS(\n",
    "    SELECT machine_id, process_id, activity_type, timestamp\n",
    "    FROM Activity\n",
    "    WHERE activity_type = \"start\"\n",
    "),\n",
    "endset AS(\n",
    "    SELECT machine_id, process_id, activity_type, timestamp\n",
    "    FROM Activity\n",
    "    WHERE activity_type = \"end\"\n",
    ")\n",
    "\n",
    "SELECT startset.machine_id, ROUND(AVG(endset.timestamp - startset.timestamp),3) as processing_time\n",
    "FROM startset\n",
    "LEFT JOIN endset\n",
    "ON startset.machine_id = endset.machine_id\n",
    "AND startset.process_id = endset.process_id\n",
    "GROUP BY machine_id;"
   ]
  },
  {
   "cell_type": "markdown",
   "id": "ce543ea2-63b3-493d-a8f8-f38aac1c7db3",
   "metadata": {
    "jp-MarkdownHeadingCollapsed": true
   },
   "source": [
    "## Problem 11"
   ]
  },
  {
   "cell_type": "markdown",
   "id": "45df6a6c-3fe9-4b83-96c8-310ec41a8bd8",
   "metadata": {},
   "source": [
    "[577. Employee Bonus](https://leetcode.com/problems/employee-bonus/)"
   ]
  },
  {
   "cell_type": "markdown",
   "id": "6beac91c-91a4-43ef-9977-e8f86f785172",
   "metadata": {},
   "source": [
    "### Problem statement"
   ]
  },
  {
   "cell_type": "markdown",
   "id": "94bf7b2e-1cbd-4eaa-8fa4-5492eece6569",
   "metadata": {},
   "source": [
    "Table: `Employee`\n",
    "\n",
    "| Column Name | Type    |\n",
    "|-------------|---------|\n",
    "| empId       | int     |\n",
    "| name        | varchar |\n",
    "| supervisor  | int     |\n",
    "| salary      | int     |\n",
    "\n",
    "`empId` is the column with unique values for this table.  \n",
    "Each row of this table indicates the name and the ID of an employee in addition to their salary and the id of their manager.\n",
    "\n",
    "Table: `Bonus`\n",
    "\n",
    "| Column Name | Type |\n",
    "|-------------|------|\n",
    "| empId       | int  |\n",
    "| bonus       | int  |\n",
    "\n",
    "`empId` is the column of unique values for this table.  \n",
    "`empId` is a foreign key (reference column) to empId from the Employee table.  \n",
    "Each row of this table contains the id of an employee and their respective bonus.\n",
    "\n",
    "Write a solution to **report the name and bonus amount of each employee with a bonus less than 1000.**  \n",
    "Return the result table in **any order.**\n",
    "\n",
    "**Example:**\n",
    "\n",
    "**Input:**  \n",
    "\n",
    "`Employee` table:\n",
    "| empId | name   | supervisor | salary |\n",
    "|-------|--------|------------|--------|\n",
    "| 3     | Brad   | null       | 4000   |\n",
    "| 1     | John   | 3          | 1000   |\n",
    "| 2     | Dan    | 3          | 2000   |\n",
    "| 4     | Thomas | 3          | 4000   |\n",
    "\n",
    "`Bonus` table:\n",
    "| empId | bonus |\n",
    "|-------|-------|\n",
    "| 2     | 500   |\n",
    "| 4     | 2000  |\n",
    "\n",
    "**Output:** \n",
    "| name  | bonus |\n",
    "|-------|-------|\n",
    "| Brad  | null  |\n",
    "| John  | null  |\n",
    "| Dan   | 500   |\n"
   ]
  },
  {
   "cell_type": "markdown",
   "id": "b5a98d63-2f9f-48e5-aeb6-55f7e3d84914",
   "metadata": {},
   "source": [
    "### Solution"
   ]
  },
  {
   "cell_type": "markdown",
   "id": "050933b4-4769-45d4-b899-fa9835f1a69b",
   "metadata": {},
   "source": [
    "**Idea**: Using subquery, we first create a join from two tables, then filter using WHERE, with the null included."
   ]
  },
  {
   "cell_type": "code",
   "execution_count": null,
   "id": "d07f5ace-24b5-49e8-8a76-e36cdab45e98",
   "metadata": {},
   "outputs": [],
   "source": [
    "SELECT name, bonus\n",
    "FROM (\n",
    "  SELECT e.name, b.bonus\n",
    "  FROM Employee e\n",
    "  LEFT JOIN bonus b ON e.empId = b.empId\n",
    ") AS subquery\n",
    "WHERE bonus < 1000 or bonus is null;"
   ]
  },
  {
   "cell_type": "markdown",
   "id": "3033d9b0-637f-4b00-b236-ad2df04f0644",
   "metadata": {
    "jp-MarkdownHeadingCollapsed": true
   },
   "source": [
    "## Problem 12"
   ]
  },
  {
   "cell_type": "markdown",
   "id": "94b1bd13-d784-4ca7-a767-7fea64897bb6",
   "metadata": {},
   "source": [
    "*[(1280. Students and Examinations)](https://leetcode.com/problems/students-and-examinations/)*"
   ]
  },
  {
   "cell_type": "markdown",
   "id": "8f8057bb-0bbd-439e-b478-773352da5db2",
   "metadata": {},
   "source": [
    "### Problem statement"
   ]
  },
  {
   "cell_type": "markdown",
   "id": "307ae460-734a-4597-b4a6-e237d2d416f7",
   "metadata": {},
   "source": [
    "Table: `Students`\n",
    "\n",
    "| Column Name   | Type    |\n",
    "|---------------|---------|\n",
    "| student_id    | int     |\n",
    "| student_name  | varchar |\n",
    "\n",
    "`student_id` is the primary key (column with unique values) for this table.  \n",
    "Each row of this table contains the ID and the name of one student in the school.\n",
    "\n",
    "Table: `Subjects`\n",
    "| Column Name   | Type    |\n",
    "|---------------|---------|\n",
    "| subject_name  | varchar |\n",
    "\n",
    "`subject_name` is the primary key (column with unique values) for this table.  \n",
    "Each row of this table contains the name of one subject in the school.\n",
    "\n",
    "Table: `Examinations`\n",
    "\n",
    "| Column Name   | Type    |\n",
    "|---------------|---------|\n",
    "| student_id    | int     |\n",
    "| subject_name  | varchar |\n",
    "\n",
    "There is no primary key (column with unique values) for this table. It may contain duplicates.  \n",
    "Each student from the Students table takes every course from the Subjects table.  \n",
    "Each row of this table indicates that a student with ID student_id attended the exam of subject_name.  \n",
    "\n",
    "Write a solution to **find the number of times each student attended each exam.**\n",
    "\n",
    "Return the result table **ordered by** `student_id` **and** `subject_name`.\n",
    "\n",
    "The result format is in the following example.\n",
    "\n",
    "**Example 1:**\n",
    "\n",
    "**Input:**  \n",
    "\n",
    "`Students` table:\n",
    "| student_id | student_name |\n",
    "|------------|--------------|\n",
    "| 1          | Alice        |\n",
    "| 2          | Bob          |\n",
    "| 13         | John         |\n",
    "| 6          | Alex         |\n",
    "\n",
    "`Subjects` table:\n",
    "| subject_name |\n",
    "|--------------|\n",
    "| Math         |\n",
    "| Physics      |\n",
    "| Programming  |\n",
    "\n",
    "`Examinations` table:\n",
    "| student_id | subject_name |\n",
    "|------------|--------------|\n",
    "| 1          | Math         |\n",
    "| 1          | Physics      |\n",
    "| 1          | Programming  |\n",
    "| 2          | Programming  |\n",
    "| 1          | Physics      |\n",
    "| 1          | Math         |\n",
    "| 13         | Math         |\n",
    "| 13         | Programming  |\n",
    "| 13         | Physics      |\n",
    "| 2          | Math         |\n",
    "| 1          | Math         |\n",
    "\n",
    "**Output:** \n",
    "| student_id | student_name | subject_name | attended_exams |\n",
    "|------------|--------------|--------------|----------------|\n",
    "| 1          | Alice        | Math         | 3              |\n",
    "| 1          | Alice        | Physics      | 2              |\n",
    "| 1          | Alice        | Programming  | 1              |\n",
    "| 2          | Bob          | Math         | 1              |\n",
    "| 2          | Bob          | Physics      | 0              |\n",
    "| 2          | Bob          | Programming  | 1              |\n",
    "| 6          | Alex         | Math         | 0              |\n",
    "| 6          | Alex         | Physics      | 0              |\n",
    "| 6          | Alex         | Programming  | 0              |\n",
    "| 13         | John         | Math         | 1              |\n",
    "| 13         | John         | Physics      | 1              |\n",
    "| 13         | John         | Programming  | 1              |\n",
    "\n",
    "**Explanation:** \n",
    "The result table should contain all students and all subjects.  \n",
    "- Alice attended the Math exam 3 times, the Physics exam 2 times, and the Programming exam 1 time.\n",
    "- Bob attended the Math exam 1 time, the Programming exam 1 time, and did not attend the Physics exam.\n",
    "- Alex did not attend any exams.\n",
    "- John attended the Math exam 1 time, the Physics exam 1 time, and the Programming exam 1 time."
   ]
  },
  {
   "cell_type": "markdown",
   "id": "d3497ab2-c793-47fe-8bc3-66424b539451",
   "metadata": {},
   "source": [
    "### Solution"
   ]
  },
  {
   "cell_type": "markdown",
   "id": "bdfaf13c-438b-4ce3-a986-1928a29fae64",
   "metadata": {},
   "source": [
    "**Idea**: \n",
    "- Using CTE, we count attended exams for each student, on each subject.\n",
    "- Perform CROSS JOIN on `Students` table to ensure that all combinations of students and subjects are included in the result, using IFNULL to fill NA by 0.\n",
    "- Afterward, LEFT JOIN with our CTE, again by student-subject pair.\n",
    "- Order the result as specified."
   ]
  },
  {
   "cell_type": "code",
   "execution_count": null,
   "id": "174f6cc6-cc34-4e5d-8878-cc3929ca0ea5",
   "metadata": {},
   "outputs": [],
   "source": [
    "WITH attended_count AS (\n",
    "    SELECT student_id, subject_name, COUNT(*) AS attended_exams\n",
    "    FROM Examinations\n",
    "    GROUP BY student_id, subject_name\n",
    ")\n",
    "\n",
    "SELECT Students.student_id, Students.student_name, Subjects.subject_name, IFNULL(attended_count.attended_exams, 0) AS attended_exams\n",
    "FROM Students\n",
    "CROSS JOIN Subjects\n",
    "LEFT JOIN attended_count\n",
    "    ON Students.student_id = attended_count.student_id\n",
    "    AND Subjects.subject_name = attended_count.subject_name\n",
    "ORDER BY student_id, subject_name;"
   ]
  },
  {
   "cell_type": "markdown",
   "id": "04f44080-39ef-43cd-94f4-14ad6e90a461",
   "metadata": {
    "jp-MarkdownHeadingCollapsed": true
   },
   "source": [
    "## Problem 13"
   ]
  },
  {
   "cell_type": "markdown",
   "id": "eda1ac88-9a55-4046-b1a9-a24bb3595c9b",
   "metadata": {},
   "source": [
    "*[(570. Managers with at Least 5 Direct Reports)](https://leetcode.com/problems/managers-with-at-least-5-direct-reports/)*"
   ]
  },
  {
   "cell_type": "markdown",
   "id": "af1a6c0e-1483-48a5-b1c5-1332c4d1d0a2",
   "metadata": {},
   "source": [
    "### Problem statement"
   ]
  },
  {
   "cell_type": "markdown",
   "id": "962f97ff-3046-4f64-bcf4-73f89de43554",
   "metadata": {},
   "source": [
    "Table: `Employee`\n",
    "\n",
    "| Column Name | Type    |\n",
    "|-------------|---------|\n",
    "| id          | int     |\n",
    "| name        | varchar |\n",
    "| department  | varchar |\n",
    "| managerId   | int     |\n",
    "\n",
    "`id` is the primary key (column with unique values) for this table.  \n",
    "Each row of this table indicates the name of an employee, their department, and the id of their manager.  \n",
    "If `managerId` is null, then the employee does not have a manager.  \n",
    "No employee will be the manager of themself.\n",
    "\n",
    "Write a solution to find **managers with at least five direct reports.**\n",
    "\n",
    "Return the result table in **any order.**\n",
    "\n",
    "The result format is in the following example.\n",
    "\n",
    "**Example 1:**\n",
    "\n",
    "**Input:** \n",
    "\n",
    "`Employee` table:\n",
    "| id  | name  | department | managerId |\n",
    "|-----|-------|------------|-----------|\n",
    "| 101 | John  | A          | null      |\n",
    "| 102 | Dan   | A          | 101       |\n",
    "| 103 | James | A          | 101       |\n",
    "| 104 | Amy   | A          | 101       |\n",
    "| 105 | Anne  | A          | 101       |\n",
    "| 106 | Ron   | B          | 101       |\n",
    "\n",
    "**Output:**\n",
    "| name |\n",
    "|------|\n",
    "| John |\n"
   ]
  },
  {
   "cell_type": "markdown",
   "id": "ec788d94-4a78-4a4e-b615-f071d70dcf3e",
   "metadata": {},
   "source": [
    "### Solution"
   ]
  },
  {
   "cell_type": "markdown",
   "id": "b9b4b50c-4434-462a-b833-c79478a3ed8c",
   "metadata": {},
   "source": [
    "**Idea**: We use subquery to find manager with at least 5 direct reports, using HAVING condition (as WHERE doesn't work after GROUP BY). Then, use JOIN to take out only those managers' names."
   ]
  },
  {
   "cell_type": "code",
   "execution_count": null,
   "id": "97807628-91b0-418a-b3bb-a93cdb3bb84d",
   "metadata": {},
   "outputs": [],
   "source": [
    "SELECT e.name\n",
    "FROM Employee e\n",
    "JOIN (\n",
    "    SELECT managerId, COUNT(managerId) AS num_reports\n",
    "    FROM Employee\n",
    "    GROUP BY managerId\n",
    "    HAVING COUNT(managerId) >= 5\n",
    ") reports_count ON e.id = reports_count.managerId;"
   ]
  },
  {
   "cell_type": "markdown",
   "id": "a57876c8-fd05-476e-9074-b95d632956c4",
   "metadata": {},
   "source": [
    "## Problem 14"
   ]
  },
  {
   "cell_type": "markdown",
   "id": "02bf6da6-6675-4c42-a314-e443a6e849cb",
   "metadata": {},
   "source": [
    "*[(1934. Confirmation Rate)](https://leetcode.com/problems/confirmation-rate/)*"
   ]
  },
  {
   "cell_type": "markdown",
   "id": "4f741adf-83ea-4a50-8263-29ffa501cdfe",
   "metadata": {
    "jp-MarkdownHeadingCollapsed": true
   },
   "source": [
    "### Problem statement"
   ]
  },
  {
   "cell_type": "markdown",
   "id": "c06f2f99-2ae6-488c-910f-8ab704e35a3f",
   "metadata": {},
   "source": [
    "Table: `Signups`\n",
    "\n",
    "| Column Name | Type     |\n",
    "|-------------|----------|\n",
    "| user_id     | int      |\n",
    "| time_stamp  | datetime |\n",
    "\n",
    "`user_id` is the column of unique values for this table.  \n",
    "Each row contains information about the signup time for the user with ID user_id.\n",
    "\n",
    "Table: `Confirmations`\n",
    "\n",
    "| Column Name | Type     |\n",
    "|-------------|----------|\n",
    "| user_id     | int      |\n",
    "| time_stamp  | datetime |\n",
    "| action      | ENUM     |\n",
    "\n",
    "`(user_id, time_stamp)` is the primary key (combination of columns with unique values) for this table.  \n",
    "`user_id` is a foreign key (reference column) to the `Signups` table.  \n",
    "`action` is an ENUM (category) of the type ('confirmed', 'timeout').  \n",
    "Each row of this table indicates that the user with ID `user_id` requested a confirmation message at time_stamp and that confirmation message was either confirmed ('confirmed') or expired without confirming ('timeout').\n",
    "\n",
    "The confirmation rate of a user is the number of 'confirmed' messages divided by the total number of requested confirmation messages. The confirmation rate of a user that did not request any confirmation messages is 0. Round the confirmation rate to **two decimal places.**\n",
    "\n",
    "Write a solution to **find the confirmation rate of each user.**\n",
    "\n",
    "Return the result table in **any order.**\n",
    "\n",
    "The result format is in the following example.\n",
    "\n",
    "**Example 1:**\n",
    "\n",
    "**Input:**  \n",
    "\n",
    "`Signups` table:\n",
    "| user_id | time_stamp          |\n",
    "|---------|---------------------|\n",
    "| 3       | 2020-03-21 10:16:13 |\n",
    "| 7       | 2020-01-04 13:57:59 |\n",
    "| 2       | 2020-07-29 23:09:44 |\n",
    "| 6       | 2020-12-09 10:39:37 |\n",
    "\n",
    "`Confirmations` table:\n",
    "| user_id | time_stamp          | action    |\n",
    "|---------|---------------------|-----------|\n",
    "| 3       | 2021-01-06 03:30:46 | timeout   |\n",
    "| 3       | 2021-07-14 14:00:00 | timeout   |\n",
    "| 7       | 2021-06-12 11:57:29 | confirmed |\n",
    "| 7       | 2021-06-13 12:58:28 | confirmed |\n",
    "| 7       | 2021-06-14 13:59:27 | confirmed |\n",
    "| 2       | 2021-01-22 00:00:00 | confirmed |\n",
    "| 2       | 2021-02-28 23:59:59 | timeout   |\n",
    "\n",
    "**Output:**  \n",
    "| user_id | confirmation_rate |\n",
    "|---------|-------------------|\n",
    "| 6       | 0.00              |\n",
    "| 3       | 0.00              |\n",
    "| 7       | 1.00              |\n",
    "| 2       | 0.50              |\n",
    "\n",
    "**Explanation:**  \n",
    "- User 6 did not request any confirmation messages. The confirmation rate is 0.\n",
    "- User 3 made 2 requests and both timed out. The confirmation rate is 0.\n",
    "- User 7 made 3 requests and all were confirmed. The confirmation rate is 1.\n",
    "- User 2 made 2 requests where one was confirmed and the other timed out. The confirmation rate is 1 / 2 = 0.5.\n"
   ]
  },
  {
   "cell_type": "markdown",
   "id": "faeed77c-6e85-491c-8094-690d0cb06a10",
   "metadata": {},
   "source": [
    "### Solution"
   ]
  },
  {
   "cell_type": "code",
   "execution_count": null,
   "id": "1776167c-e1cd-4d18-b092-b63a63509ef0",
   "metadata": {},
   "outputs": [],
   "source": [
    "SELECT \n",
    "    Signups.user_id,\n",
    "    IFNULL(ROUND(SUM(Confirmations.action = 'confirmed') / COUNT(Confirmations.action), 2), 0) AS confirmation_rate \n",
    "FROM Signups\n",
    "LEFT JOIN Confirmations ON Signups.user_id = Confirmations.user_id\n",
    "GROUP BY Signups.user_id;"
   ]
  },
  {
   "cell_type": "markdown",
   "id": "4fbadba8-8453-4432-9fcb-7d9a2ea67191",
   "metadata": {},
   "source": [
    "---"
   ]
  },
  {
   "cell_type": "code",
   "execution_count": null,
   "id": "fa56c10f-d5fd-4d34-ae00-944806d69ba7",
   "metadata": {},
   "outputs": [],
   "source": [
    "SECTION 3: BASIC AGGREGATIONS"
   ]
  }
 ],
 "metadata": {
  "kernelspec": {
   "display_name": "Python 3 (ipykernel)",
   "language": "python",
   "name": "python3"
  },
  "language_info": {
   "codemirror_mode": {
    "name": "ipython",
    "version": 3
   },
   "file_extension": ".py",
   "mimetype": "text/x-python",
   "name": "python",
   "nbconvert_exporter": "python",
   "pygments_lexer": "ipython3",
   "version": "3.11.7"
  }
 },
 "nbformat": 4,
 "nbformat_minor": 5
}
