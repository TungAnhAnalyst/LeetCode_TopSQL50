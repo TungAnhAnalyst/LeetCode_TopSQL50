{
 "cells": [
  {
   "cell_type": "markdown",
   "id": "1faf3790-7788-4149-bcfe-42f61fbf4e3c",
   "metadata": {},
   "source": [
    "<h1 style=\"font-family:'Glacial Indifference', sans-serif; font-size:32px; text-align:center; background-color:teal; color:white; border-radius: 15px 50px; \">TOP SQL 50 </h1>\n"
   ]
  },
  {
   "cell_type": "markdown",
   "id": "cba2a6da-25c6-4c46-8faf-2952e65ce0c5",
   "metadata": {},
   "source": [
    "> This notebook gathers my own solution for 50 SQL interviews questions on Leetcode. A full list of these questions are accessible [here](https://leetcode.com/studyplan/top-sql-50/).\n",
    "> \n",
    "> The dialect I used for these challenges is MySQL. For each problem, its hyperlink and corresponding LeetCode number and name are provided at the beginning.\""
   ]
  },
  {
   "cell_type": "markdown",
   "id": "3338eee0-fef3-46f5-bad9-25e35b7b0bb3",
   "metadata": {},
   "source": [
    "<details>\n",
    "    <summary><b>Leetcode badge for challenge completion</b></summary>\n",
    "    <p>\n",
    "        <div style=\"text-align: center;\">\n",
    "            <img src=\"Top_SQL_50.gif\" width=\"150\">\n",
    "        </div>\n",
    "    </p>\n",
    "</details>"
   ]
  },
  {
   "cell_type": "markdown",
   "id": "b15b09c9-275b-4ba8-9759-e7a997ce0425",
   "metadata": {},
   "source": [
    "# SECTION 1: SELECT"
   ]
  },
  {
   "cell_type": "markdown",
   "id": "b1863ccc-6fd9-441f-8c62-099308b5b95d",
   "metadata": {},
   "source": [
    "## Problem 1 \n"
   ]
  },
  {
   "cell_type": "markdown",
   "id": "dd18ba35-8da9-4c53-994d-e087bf86c86e",
   "metadata": {},
   "source": [
    "*[(1757. Recyclable and Low Fat Products)](https://leetcode.com/problems/recyclable-and-low-fat-products/description/)*"
   ]
  },
  {
   "cell_type": "markdown",
   "id": "9abe3178-9b91-4b68-bff9-5e28bcd5ba6b",
   "metadata": {},
   "source": [
    "### Problem statement"
   ]
  },
  {
   "cell_type": "markdown",
   "id": "53e1cc64-9f9d-472f-924f-1edc0fa4ef40",
   "metadata": {},
   "source": [
    "Table `Products`\n",
    "\n",
    "| Column Name | Type    |\n",
    "|-------------|---------|\n",
    "| product_id  | int     |\n",
    "| low_fats    | enum    |\n",
    "| recyclable  | enum    |\n",
    "\n",
    "`product_id` is the primary key (column with unique values) for this table.  \n",
    "`low_fats` is an ENUM (category) of type ('Y', 'N') where 'Y' means this product is low fat and 'N' means it is not.   \n",
    "`recyclable` is an ENUM (category) of types ('Y', 'N') where 'Y' means this product is recyclable and 'N' means it is not.\n",
    "\n",
    "Write a solution to **find the ids of products that are both low fat and recyclable.**\n",
    "\n",
    "Return the result table in **any order.**\n",
    "\n",
    "The result format is in the following example.\n",
    "\n",
    "**Example 1**\n",
    "\n",
    "**Input:**\n",
    "\n",
    "`Products` table:\n",
    "| product_id  | low_fats | recyclable |\n",
    "|-------------|----------|------------|\n",
    "| 0           | Y        | N          |\n",
    "| 1           | Y        | Y          |\n",
    "| 2           | N        | Y          |\n",
    "| 3           | Y        | Y          |\n",
    "| 4           | N        | N          |\n",
    "\n",
    "**Output:**  \n",
    "| product_id  |\n",
    "|-------------|\n",
    "| 1           |\n",
    "| 3           |\n",
    "\n",
    "**Explanation:** Only products 1 and 3 are both low fat and recyclable."
   ]
  },
  {
   "cell_type": "markdown",
   "id": "ed19eaf5-dfe2-4f7e-a7ad-f7d47624c2da",
   "metadata": {},
   "source": [
    "### Solution"
   ]
  },
  {
   "cell_type": "code",
   "execution_count": null,
   "id": "0fbcc810-079d-459d-97fa-cba71237fa98",
   "metadata": {},
   "outputs": [],
   "source": [
    "SELECT product_id\n",
    "FROM Products\n",
    "WHERE low_fats = 'y' AND recyclable = 'y';"
   ]
  },
  {
   "cell_type": "markdown",
   "id": "e91b0291-2630-4fbf-b9e0-889392acf2d8",
   "metadata": {
    "jp-MarkdownHeadingCollapsed": true
   },
   "source": [
    "## Problem 2"
   ]
  },
  {
   "cell_type": "markdown",
   "id": "b37883dd-34a0-4419-a2e8-728b723036aa",
   "metadata": {},
   "source": [
    "*[(584. Find Customer Referee)](https://leetcode.com/problems/find-customer-referee/description/)*"
   ]
  },
  {
   "cell_type": "markdown",
   "id": "c09858c0-b57e-485b-bc76-a5efa1a1fbad",
   "metadata": {},
   "source": [
    "### Problem statement"
   ]
  },
  {
   "cell_type": "markdown",
   "id": "8fa64a4e-aca4-4c5c-a4a2-f3029245378c",
   "metadata": {},
   "source": [
    "Table: `Customer`\n",
    "\n",
    "| Column Name | Type    |\n",
    "|-------------|---------|\n",
    "| id          | int     |\n",
    "| name        | varchar |\n",
    "| referee_id  | int     |\n",
    "\n",
    "`id` is the primary key column for this table.  \n",
    "Each row of this table indicates the id of a customer, their name, and the id of the customer who referred them.\n",
    "\n",
    "Find the **names of the customers that are not referred by the customer with** `id = 2`.\n",
    "\n",
    "Return the result table in **any order.**\n",
    "\n",
    "The result format is as follows:\n",
    "\n",
    "**Example 2**\n",
    "\n",
    "**Input:**\n",
    "\n",
    "`Customer` table:\n",
    "\n",
    "| id | name | referee_id |\n",
    "|----|------|------------|\n",
    "| 1  | Will | null       |\n",
    "| 2  | Jane | null       |\n",
    "| 3  | Alex | 2          |\n",
    "| 4  | Bill | null       |\n",
    "| 5  | Zack | 1          |\n",
    "| 6  | Mark | 2          |\n",
    "\n",
    "**Output:**\n",
    "\n",
    "| name |\n",
    "|------|\n",
    "| Will |\n",
    "| Jane |\n",
    "| Bill |\n",
    "| Zack |"
   ]
  },
  {
   "cell_type": "markdown",
   "id": "09e0fed4-0835-4f13-b247-085909304876",
   "metadata": {},
   "source": [
    "### Solution"
   ]
  },
  {
   "cell_type": "code",
   "execution_count": null,
   "id": "0b6079dd-576a-4b8e-8c87-1105e54f951b",
   "metadata": {},
   "outputs": [],
   "source": [
    "SELECT name\n",
    "FROM Customer\n",
    "WHERE referee_id <> 2 OR referee_id IS NULL;"
   ]
  },
  {
   "cell_type": "markdown",
   "id": "e6316dea-07d2-40b3-8723-4e1e830d58dc",
   "metadata": {
    "jp-MarkdownHeadingCollapsed": true
   },
   "source": [
    "## Problem 3"
   ]
  },
  {
   "cell_type": "markdown",
   "id": "f932966d-6542-40cc-8990-a2f30b92f1c2",
   "metadata": {},
   "source": [
    "*[(595. Big Countries)](https://leetcode.com/problems/big-countries/description)*"
   ]
  },
  {
   "cell_type": "markdown",
   "id": "e97846c1-1aef-4ef8-b3a6-5874b6c22f64",
   "metadata": {},
   "source": [
    "### Problem statement"
   ]
  },
  {
   "cell_type": "markdown",
   "id": "7c69c87f-7fba-4469-9218-aa938162f59d",
   "metadata": {},
   "source": [
    "Table: `World`\n",
    "\n",
    "| Column Name | Type    |\n",
    "|-------------|---------|\n",
    "| name        | varchar |\n",
    "| continent   | varchar |\n",
    "| area        | int     |\n",
    "| population  | int     |\n",
    "| gdp         | bigint  |\n",
    "\n",
    "`name` is the primary key (column with unique values) for this table.  \n",
    "Each row of this table gives information about the name of a country, the continent to which it belongs, its area, the population, and its GDP value.\n",
    "\n",
    "A country is considered big if:\n",
    "- it has an area of at least three million (i.e., 3000000 km²), or\n",
    "- it has a population of at least twenty-five million (i.e., 25000000).\n",
    "\n",
    "Write a solution to **find the name, population, and area of the big countries.**\n",
    "\n",
    "Return the result table in **any** order.\n",
    "\n",
    "**Example:**\n",
    "\n",
    "**Input:**\n",
    "\n",
    "`World` table:\n",
    "| name        | continent | area    | population | gdp          |\n",
    "|-------------|-----------|---------|------------|--------------|\n",
    "| Afghanistan | Asia      | 652230  | 25500100   | 20343000000  |\n",
    "| Albania     | Europe    | 28748   | 2831741    | 12960000000  |\n",
    "| Algeria     | Africa    | 2381741 | 37100000   | 188681000000 |\n",
    "| Andorra     | Europe    | 468     | 78115      | 3712000000   |\n",
    "| Angola      | Africa    | 1246700 | 20609294   | 100990000000 |\n",
    "\n",
    "**Output:**\n",
    "| name        | population | area    |\n",
    "|-------------|------------|---------|\n",
    "| Afghanistan | 25500100   | 652230  |\n",
    "| Algeria     | 37100000   | 2381741 |"
   ]
  },
  {
   "cell_type": "markdown",
   "id": "418c86d8-b257-4921-8491-7c2968751e9e",
   "metadata": {},
   "source": [
    "### Solution"
   ]
  },
  {
   "cell_type": "code",
   "execution_count": null,
   "id": "50c5d9b4-1dfd-41c2-adc3-28841c6b8fd4",
   "metadata": {},
   "outputs": [],
   "source": [
    "SELECT name, population, area\n",
    "FROM World\n",
    "WHERE area >= 3000000 OR population >= 25000000;"
   ]
  },
  {
   "cell_type": "markdown",
   "id": "1322d942-fe1c-4e9a-9d66-1c3be7cf7632",
   "metadata": {
    "jp-MarkdownHeadingCollapsed": true
   },
   "source": [
    "## Problem 4"
   ]
  },
  {
   "cell_type": "markdown",
   "id": "a3b41b8d-88f5-46fb-99ab-e1126fba3aeb",
   "metadata": {},
   "source": [
    "*[(1148. Article Views I)](https://leetcode.com/problems/article-views-i/description)*"
   ]
  },
  {
   "cell_type": "markdown",
   "id": "51dd66c6-1aac-4be5-8a36-681984e26b4c",
   "metadata": {
    "jp-MarkdownHeadingCollapsed": true
   },
   "source": [
    "### Problem statement"
   ]
  },
  {
   "cell_type": "markdown",
   "id": "855f9ea6-99bc-4b45-bf8a-a81d19410054",
   "metadata": {},
   "source": [
    "Table: `Views`\n",
    "\n",
    "| Column Name | Type    |\n",
    "|-------------|---------|\n",
    "| article_id  | int     |\n",
    "| author_id   | int     |\n",
    "| viewer_id   | int     |\n",
    "| view_date   | date    |\n",
    "\n",
    "Each row of this table indicates that some viewer viewed an article (written by some author) on some date. Note that equal `author_id` and `viewer_id` indicate the same person.\n",
    "\n",
    "Write a solution to find all the authors that viewed at least one of their own articles.\n",
    "\n",
    "Return the result table sorted by `id` in ascending order.\n",
    "\n",
    "**Example:**\n",
    "\n",
    "**Input:**  \n",
    "\n",
    "`Views` table:\n",
    "| article_id | author_id | viewer_id | view_date  |\n",
    "|------------|-----------|-----------|------------|\n",
    "| 1          | 3         | 5         | 2019-08-01 |\n",
    "| 1          | 3         | 6         | 2019-08-02 |\n",
    "| 2          | 7         | 7         | 2019-08-01 |\n",
    "| 2          | 7         | 6         | 2019-08-02 |\n",
    "| 4          | 7         | 1         | 2019-07-22 |\n",
    "| 3          | 4         | 4         | 2019-07-21 |\n",
    "| 3          | 4         | 4         | 2019-07-21 |\n",
    "\n",
    "**Output:**  \n",
    "| id   |\n",
    "|------|\n",
    "| 4    |\n",
    "| 7    |\n"
   ]
  },
  {
   "cell_type": "markdown",
   "id": "8202bb40-89e0-40c4-a11d-05397d21db4d",
   "metadata": {},
   "source": [
    "### Solution"
   ]
  },
  {
   "cell_type": "code",
   "execution_count": null,
   "id": "d7ad2901-f5cb-4730-b930-daa7cc8a421f",
   "metadata": {},
   "outputs": [],
   "source": [
    "SELECT author_id AS id\n",
    "FROM Views\n",
    "WHERE Views.author_id = Views.viewer_id\n",
    "GROUP BY id\n",
    "ORDER BY id"
   ]
  },
  {
   "cell_type": "markdown",
   "id": "c4969d7b-f69a-41c3-93a5-31cd519b0df0",
   "metadata": {
    "jp-MarkdownHeadingCollapsed": true
   },
   "source": [
    "## Problem 5"
   ]
  },
  {
   "cell_type": "markdown",
   "id": "ea19ca45-7e4b-4ab0-ba1f-6cc9a21897a2",
   "metadata": {},
   "source": [
    "### Problem statement"
   ]
  },
  {
   "cell_type": "markdown",
   "id": "cbe87386-d8af-4f32-bda3-8760422a7adf",
   "metadata": {},
   "source": [
    "*[(1683. Invalid Tweets)](https://leetcode.com/problems/invalid-tweets/description)*"
   ]
  },
  {
   "cell_type": "markdown",
   "id": "cd75d45a-7b3e-4927-b2f0-a9b406bbce77",
   "metadata": {},
   "source": [
    "Table: `Tweets`\n",
    "\n",
    "| Column Name | Type    |\n",
    "|-------------|---------|\n",
    "| tweet_id    | int     |\n",
    "| content     | varchar |\n",
    "\n",
    "`tweet_id` is the primary key (column with unique values) for this table. This table contains all the tweets in a social media app.\n",
    "The tweet is invalid if the number of characters used in the content of the tweet is strictly greater than 15.\n",
    "\n",
    "Write a solution to **find the IDs of the invalid tweets.** \n",
    "\n",
    "Return the result table in any order.\n",
    "\n",
    "**Example 1:**\n",
    "\n",
    "**Input:**  \n",
    "\n",
    "`Tweets` table:\n",
    "| tweet_id | content                          |\n",
    "|----------|----------------------------------|\n",
    "| 1        | Vote for Biden                   |\n",
    "| 2        | Let us make America great again! |\n",
    "\n",
    "**Output:**  \n",
    "| tweet_id |\n",
    "|----------|\n",
    "| 2        |\n",
    "\n",
    "**Explanation:**  \n",
    "Tweet 1 has length = 14. It is a valid tweet.  \n",
    "Tweet 2 has length = 32. It is an invalid tweet.\n"
   ]
  },
  {
   "cell_type": "markdown",
   "id": "f8db288c-082f-4b2e-a1a4-03e89fc3d26b",
   "metadata": {},
   "source": [
    "### Solution"
   ]
  },
  {
   "cell_type": "code",
   "execution_count": null,
   "id": "a7c89f5f-976f-4331-aef7-243bcfe4ce74",
   "metadata": {},
   "outputs": [],
   "source": [
    "SELECT tweet_id\n",
    "FROM Tweets\n",
    "WHERE length(content) > 15"
   ]
  },
  {
   "cell_type": "markdown",
   "id": "90b06439-0006-497b-9b1d-435bf22c509a",
   "metadata": {},
   "source": [
    "---"
   ]
  },
  {
   "cell_type": "markdown",
   "id": "e75d3f3d-1751-460b-9e0b-b6a185a54128",
   "metadata": {},
   "source": [
    "# SECTION 2: BASIC JOINS"
   ]
  },
  {
   "cell_type": "markdown",
   "id": "3a0cd2c3-09d0-4eff-965d-3a767168e4e3",
   "metadata": {
    "jp-MarkdownHeadingCollapsed": true
   },
   "source": [
    "## Problem 6"
   ]
  },
  {
   "cell_type": "markdown",
   "id": "d90c653f-0ca7-47ff-8e2b-ffbb234ebfd7",
   "metadata": {},
   "source": [
    "### Problem statement"
   ]
  },
  {
   "cell_type": "markdown",
   "id": "d0179089-85fe-43ff-8949-b745ab6d468d",
   "metadata": {},
   "source": [
    "*[(1378. Replace Employee ID With The Unique Identifier)](https://leetcode.com/problems/https://leetcode.com/problems/replace-employee-id-with-the-unique-identifier/description)*"
   ]
  },
  {
   "cell_type": "markdown",
   "id": "412f7f66-e85f-44f0-9be5-26c7c9df339d",
   "metadata": {},
   "source": [
    "Table: `Employees`\n",
    "\n",
    "| Column Name | Type    |\n",
    "|-------------|---------|\n",
    "| id          | int     |\n",
    "| name        | varchar |\n",
    "\n",
    "`id` is the primary key (column with unique values) for this table.  \n",
    "Each row of this table contains the id and the name of an employee in a company.\n",
    "\n",
    "Table: `EmployeeUNI`\n",
    "\n",
    "| Column Name | Type    |\n",
    "|-------------|---------|\n",
    "| id          | int     |\n",
    "| unique_id   | int     |\n",
    "\n",
    "`(id, unique_id)` is the primary key (combination of columns with unique values) for this table.  \n",
    "Each row of this table contains the id and the corresponding unique id of an employee in the company.\n",
    "\n",
    "Write a solution to **show the** unique ID **of each user**. If a user does not have a unique ID, replace it with `null`.\n",
    "\n",
    "Return the result table in **any order.**\n",
    "\n",
    "**Example 1:**\n",
    "\n",
    "**Input:**  \n",
    "\n",
    "`Employees` table:\n",
    "| id | name     |\n",
    "|----|----------|\n",
    "| 1  | Alice    |\n",
    "| 7  | Bob      |\n",
    "| 11 | Meir     |\n",
    "| 90 | Winston  |\n",
    "| 3  | Jonathan |\n",
    "\n",
    "`EmployeeUNI` table:\n",
    "| id | unique_id |\n",
    "|----|-----------|\n",
    "| 3  | 1         |\n",
    "| 11 | 2         |\n",
    "| 90 | 3         |\n",
    "\n",
    "**Output:**  \n",
    "| unique_id | name     |\n",
    "|-----------|----------|\n",
    "| null      | Alice    |\n",
    "| null      | Bob      |\n",
    "| 2         | Meir     |\n",
    "| 3         | Winston  |\n",
    "| 1         | Jonathan |\n",
    "\n",
    "**Explanation:**  \n",
    "- Alice and Bob do not have a unique ID, so we show null instead.  \n",
    "- The unique ID of Meir is 2.  \n",
    "- The unique ID of Winston is 3.  \n",
    "- The unique ID of Jonathan is 1.\n"
   ]
  },
  {
   "cell_type": "markdown",
   "id": "9d615886-4d4c-403b-8a71-d8f942d59be6",
   "metadata": {},
   "source": [
    "### Solution "
   ]
  },
  {
   "cell_type": "code",
   "execution_count": null,
   "id": "51809c2b-fc0b-4db9-b621-fb5a23a93f8b",
   "metadata": {},
   "outputs": [],
   "source": [
    "SELECT e_id.unique_id, e_name.name\n",
    "FROM EmployeeUNI AS e_id\n",
    "RIGHT JOIN Employees AS e_name\n",
    "ON e_id.id = e_name.id"
   ]
  },
  {
   "cell_type": "markdown",
   "id": "849ae5af-6230-4d14-9eaa-0002157b29e3",
   "metadata": {
    "jp-MarkdownHeadingCollapsed": true
   },
   "source": [
    "## Problem 7"
   ]
  },
  {
   "cell_type": "markdown",
   "id": "71c8d31f-e71e-4288-83c1-d99c71a94027",
   "metadata": {},
   "source": [
    "*[(1068. Product Sales Analysis I)](https://leetcode.com/problems/product-sales-analysis-i/description)*"
   ]
  },
  {
   "cell_type": "markdown",
   "id": "97517f2f-8a4e-48b5-85ab-af66ab4f0462",
   "metadata": {},
   "source": [
    "### Problem statement"
   ]
  },
  {
   "cell_type": "markdown",
   "id": "7f3ce15a-e6be-45aa-a4a0-93dab51f37a6",
   "metadata": {},
   "source": [
    "Table: `Sales`\n",
    "\n",
    "| Column Name | Type  |\n",
    "|-------------|-------|\n",
    "| sale_id     | int   |\n",
    "| product_id  | int   |\n",
    "| year        | int   |\n",
    "| quantity    | int   |\n",
    "| price       | int   |\n",
    "\n",
    "`(sale_id, year)` is the primary key (combination of columns with unique values) of this table.  \n",
    "`product_id` is a foreign key (reference column) to `Product` table.  \n",
    "Each row of this table shows a sale on the product `product_id` in a certain year. Note that the price is per unit.\n",
    "\n",
    "Table: `Product`\n",
    "\n",
    "| Column Name  | Type    |\n",
    "|--------------|---------|\n",
    "| product_id   | int     |\n",
    "| product_name | varchar |\n",
    "\n",
    "`product_id` is the primary key (column with unique values) of this table.  \n",
    "Each row of this table indicates the product name of each product.\n",
    "\n",
    "Write a solution to **report the** `product_name`, `year`**, and** `price` **for each** `sale_id` **in the** `Sales` **table.**\n",
    "\n",
    "Return the resulting table in **any order**.\n",
    "\n",
    "**Example 1:**\n",
    "\n",
    "**Input:**  \n",
    "\n",
    "`Sales` table:\n",
    "| sale_id | product_id | year | quantity | price |\n",
    "|---------|------------|------|----------|-------| \n",
    "| 1       | 100        | 2008 | 10       | 5000  |\n",
    "| 2       | 100        | 2009 | 12       | 5000  |\n",
    "| 7       | 200        | 2011 | 15       | 9000  |\n",
    "\n",
    "`Product` table:\n",
    "| product_id | product_name |\n",
    "|------------|--------------|\n",
    "| 100        | Nokia        |\n",
    "| 200        | Apple        |\n",
    "| 300        | Samsung      |\n",
    "\n",
    "**Output:**  \n",
    "| product_name | year  | price |\n",
    "|--------------|-------|-------|\n",
    "| Nokia        | 2008  | 5000  |\n",
    "| Nokia        | 2009  | 5000  |\n",
    "| Apple        | 2011  | 9000  |\n",
    "\n",
    "**Explanation:**  \n",
    "- From sale_id = 1, we can conclude that Nokia was sold for 5000 in the year 2008.\n",
    "- From sale_id = 2, we can conclude that Nokia was sold for 5000 in the year 2009.\n",
    "- From sale_id = 7, we can conclude that Apple was sold for 9000 in the year 2011.\n"
   ]
  },
  {
   "cell_type": "markdown",
   "id": "c9467994-8151-402a-9db8-981c1c3c2095",
   "metadata": {},
   "source": [
    "### Solution"
   ]
  },
  {
   "cell_type": "code",
   "execution_count": null,
   "id": "3150de1c-cda2-44dd-a27f-2d3da0c938d0",
   "metadata": {},
   "outputs": [],
   "source": [
    "SELECT Product.product_name, Sales.year, Sales.price\n",
    "FROM Sales\n",
    "LEFT JOIN Product\n",
    "ON Sales.product_id = Product.product_id"
   ]
  },
  {
   "cell_type": "markdown",
   "id": "27f5cf25-bdaf-4af5-97e0-e98c9af7c2f8",
   "metadata": {},
   "source": [
    "## Problem 8"
   ]
  },
  {
   "cell_type": "markdown",
   "id": "6fb88170-fa6d-4a9e-9e41-e63288310205",
   "metadata": {},
   "source": [
    "*[(1581. Customer Who Visited but Did Not Make Any Transactions)](https://leetcode.com/problems/customer-who-visited-but-did-not-make-any-transactions/)*"
   ]
  },
  {
   "cell_type": "markdown",
   "id": "8dcd50e9-d54e-4511-9a63-6e98edbbf274",
   "metadata": {
    "jp-MarkdownHeadingCollapsed": true
   },
   "source": [
    "### Problem statement"
   ]
  },
  {
   "cell_type": "markdown",
   "id": "202d101a-b9df-41c9-9223-02adac570cfd",
   "metadata": {},
   "source": [
    "Table: `Visits`\n",
    "\n",
    "| Column Name | Type    |\n",
    "|-------------|---------|\n",
    "| visit_id    | int     |\n",
    "| customer_id | int     |\n",
    "\n",
    "`visit_id` is the column with unique values for this table. This table contains information about the customers who visited the mall.\n",
    "\n",
    "Table: `Transactions`\n",
    "\n",
    "| Column Name    | Type    |\n",
    "|----------------|---------|\n",
    "| transaction_id | int     |\n",
    "| visit_id       | int     |\n",
    "| amount         | int     |\n",
    "\n",
    "`transaction_id` is column with unique values for this table. This table contains information about the transactions made during the `visit_id`.\n",
    "\n",
    "Write a solution to **find the IDs of the users who visited without making any transactions and the number of times they made these types of visits.**\n",
    "\n",
    "Return the result table sorted in **any order**.\n",
    "\n",
    "**Example 1:**\n",
    "\n",
    "**Input:**  \n",
    "\n",
    "`Visits` table\n",
    "| visit_id | customer_id |\n",
    "|----------|-------------|\n",
    "| 1        | 23          |\n",
    "| 2        | 9           |\n",
    "| 4        | 30          |\n",
    "| 5        | 54          |\n",
    "| 6        | 96          |\n",
    "| 7        | 54          |\n",
    "| 8        | 54          |\n",
    "\n",
    "`Transactions` table\n",
    "| transaction_id | visit_id | amount |\n",
    "|----------------|----------|--------|\n",
    "| 2              | 5        | 310    |\n",
    "| 3              | 5        | 300    |\n",
    "| 9              | 5        | 200    |\n",
    "| 12             | 1        | 910    |\n",
    "| 13             | 2        | 970    |\n",
    "\n",
    "**Output:**  \n",
    "| customer_id | count_no_trans |\n",
    "|-------------|----------------|\n",
    "| 54          | 2              |\n",
    "| 30          | 1              |\n",
    "| 96          | 1              |\n",
    "\n",
    "**Explanation:**  \n",
    "- Customer with id = 23 visited the mall once and made one transaction during the visit with id = 12.  \n",
    "- Customer with id = 9 visited the mall once and made one transaction during the visit with id = 13.  \n",
    "- Customer with id = 30 visited the mall once and did not make any transactions.  \n",
    "- Customer with id = 54 visited the mall three times. During 2 visits they did not make any transactions, and during one visit they made 3 transactions.  \n",
    "- Customer with id = 96 visited the mall once and did not make any transactions.\n",
    "  \n",
    "As we can see, users with IDs 30 and 96 visited the mall one time without making any transactions. Also, user 54 visited the mall twice and did not make any transactions.\n"
   ]
  },
  {
   "cell_type": "markdown",
   "id": "8a13fc5f-6818-4192-8d65-83668674ab3e",
   "metadata": {},
   "source": [
    "### Solution"
   ]
  },
  {
   "cell_type": "code",
   "execution_count": null,
   "id": "0c772a09-059a-49d3-a331-52f86f614223",
   "metadata": {},
   "outputs": [],
   "source": [
    "SELECT Visits.customer_id, COUNT(*) as count_no_trans\n",
    "FROM Visits\n",
    "LEFT JOIN Transactions\n",
    "ON Visits.visit_id = Transactions.visit_id\n",
    "WHERE transaction_id IS NULL\n",
    "GROUP BY Visits.customer_id"
   ]
  },
  {
   "cell_type": "markdown",
   "id": "e2956a58-b63e-4027-a333-7f3702595c8f",
   "metadata": {
    "jp-MarkdownHeadingCollapsed": true
   },
   "source": [
    "## Problem 9"
   ]
  },
  {
   "cell_type": "markdown",
   "id": "367f6a9e-74e8-474d-b8d4-b84d2009da7f",
   "metadata": {},
   "source": [
    "### Problem statement"
   ]
  },
  {
   "cell_type": "markdown",
   "id": "908bf47a-6a25-4952-bc04-31ffd8572d59",
   "metadata": {},
   "source": [
    "*[(197. Rising Temperature)](https://leetcode.com/problems/rising-temperature/)*"
   ]
  },
  {
   "cell_type": "markdown",
   "id": "dd077e0a-26a4-438c-8e7f-b071f6e9c7df",
   "metadata": {},
   "source": [
    "Table: `Weather`\n",
    "\n",
    "| Column Name | Type  |\n",
    "|-------------|-------|\n",
    "| id          | int   |\n",
    "| recordDate  | date  |\n",
    "| temperature | int   |\n",
    "\n",
    "`id` is the column with unique values for this table. There are no different rows with the same `recordDate`. This table contains information about the temperature on a certain day.\n",
    "\n",
    "Write a solution to *find all dates' `Id` with higher temperatures compared to its previous dates (yesterday).*\n",
    "\n",
    "Return the result table in **any order**.\n",
    "\n",
    "**Example 1:**\n",
    "\n",
    "**Input:**  \n",
    "\n",
    "`Weather` table:\n",
    "| id | recordDate | temperature |\n",
    "|----|------------|-------------|\n",
    "| 1  | 2015-01-01 | 10          |\n",
    "| 2  | 2015-01-02 | 25          |\n",
    "| 3  | 2015-01-03 | 20          |\n",
    "| 4  | 2015-01-04 | 30          |\n",
    "\n",
    "**Output:**  \n",
    "| id |\n",
    "|----|\n",
    "| 2  |\n",
    "| 4  |\n",
    "\n",
    "**Explanation:**  \n",
    "- In 2015-01-02, the temperature was higher than the previous day (10 -> 25).  \n",
    "- In 2015-01-04, the temperature was higher than the previous day (20 -> 30)."
   ]
  },
  {
   "cell_type": "markdown",
   "id": "7ba6689a-6c15-48b5-968f-c3c35b3db523",
   "metadata": {},
   "source": [
    "### Solution"
   ]
  },
  {
   "cell_type": "code",
   "execution_count": null,
   "id": "a449f2c5-57cb-48f4-ac20-1ca14dc9495c",
   "metadata": {},
   "outputs": [],
   "source": [
    "SELECT id\n",
    "FROM (\n",
    "    SELECT \n",
    "        id,\n",
    "        temperature,\n",
    "        recordDate,\n",
    "        LAG(temperature) OVER (ORDER BY recordDate) AS prev_temperature,\n",
    "        LAG(recordDate) OVER (ORDER BY recordDate) AS prev_recordDate\n",
    "    FROM Weather\n",
    ") AS weather_with_lag\n",
    "WHERE temperature > prev_temperature\n",
    "  AND DATEDIFF(recordDate, prev_recordDate) = 1;"
   ]
  },
  {
   "cell_type": "markdown",
   "id": "ecad9d56-ea23-443d-acef-365a1ba63420",
   "metadata": {},
   "source": [
    "**Idea**: Using a subquery to compute the lagged temperature and date using the LAG() window function ordered by recordDate, and then filters the results based on the specified conditions."
   ]
  },
  {
   "cell_type": "markdown",
   "id": "237e5b52-0a4c-407a-9ed7-074b1f709ecc",
   "metadata": {
    "jp-MarkdownHeadingCollapsed": true
   },
   "source": [
    "## Problem 10"
   ]
  },
  {
   "cell_type": "markdown",
   "id": "d3ea1715-5baf-4889-b069-ecfcf41e3f90",
   "metadata": {},
   "source": [
    "*[(1661. Average Time of Process per Machine)](https://leetcode.com/problems/average-time-of-process-per-machine/)*"
   ]
  },
  {
   "cell_type": "markdown",
   "id": "069658e6-a733-4171-913e-558376682184",
   "metadata": {
    "jp-MarkdownHeadingCollapsed": true
   },
   "source": [
    "### Problem statement"
   ]
  },
  {
   "cell_type": "markdown",
   "id": "8cd3bb71-72be-4918-a2b1-b4a47f2952d5",
   "metadata": {},
   "source": [
    "Table: `Activity`\n",
    "\n",
    "| Column Name   | Type   |\n",
    "|---------------|--------|\n",
    "| machine_id    | int    |\n",
    "| process_id    | int    |\n",
    "| activity_type | enum   |\n",
    "| timestamp     | float  |\n",
    "\n",
    "The table shows the user activities for a factory website. `(machine_id, process_id, activity_type)` is the primary key (combination of columns with unique values) of this table.   \n",
    "`machine_id` is the ID of a machine.  \n",
    "`process_id` is the ID of a process running on the machine with ID `machine_id`.  \n",
    "`activity_type` is an ENUM (category) of type ('start', 'end'). 'start' means the machine starts the process at the given timestamp and 'end' means the machine ends the process at the given timestamp. The 'start' timestamp will always be before the 'end' timestamp for every (`machine_id`, `process_id`) pair.  \n",
    "`timestamp` is a float representing the current time in seconds.\n",
    "\n",
    "There is a factory website that has several machines each running the **same number of processes**. Write a solution to **find the average time each machine takes to complete a process.**\n",
    "\n",
    "The time to complete a process is the 'end' timestamp minus the 'start' timestamp. The average time is calculated by the total time to complete every process on the machine divided by the number of processes that were run.\n",
    "\n",
    "The resulting table should have the `machine_id` along with the average time as `processing_time`, which should be **rounded to 3 decimal places.**\n",
    "\n",
    "Return the result table in **any order.**\n",
    "\n",
    "The result format is in the following example.\n",
    "\n",
    "**Example 1:**\n",
    "\n",
    "**Input:**  \n",
    "`Activity` table:\n",
    "| machine_id | process_id | activity_type | timestamp |\n",
    "|------------|------------|---------------|-----------|\n",
    "| 0          | 0          | start         | 0.712     |\n",
    "| 0          | 0          | end           | 1.520     |\n",
    "| 0          | 1          | start         | 3.140     |\n",
    "| 0          | 1          | end           | 4.120     |\n",
    "| 1          | 0          | start         | 0.550     |\n",
    "| 1          | 0          | end           | 1.550     |\n",
    "| 1          | 1          | start         | 0.430     |\n",
    "| 1          | 1          | end           | 1.420     |\n",
    "| 2          | 0          | start         | 4.100     |\n",
    "| 2          | 0          | end           | 4.512     |\n",
    "| 2          | 1          | start         | 2.500     |\n",
    "| 2          | 1          | end           | 5.000     |\n",
    "\n",
    "**Output:**  \n",
    "| machine_id | processing_time |\n",
    "|------------|-----------------|\n",
    "| 0          | 0.894           |\n",
    "| 1          | 0.995           |\n",
    "| 2          | 1.456           |\n",
    "\n",
    "**Explanation:**  \n",
    "There are 3 machines running 2 processes each. \n",
    "- Machine 0's average time is ((1.520 - 0.712) + (4.120 - 3.140)) / 2 = 0.894\n",
    "- Machine 1's average time is ((1.550 - 0.550) + (1.420 - 0.430)) / 2 = 0.995\n",
    "- Machine 2's average time is ((4.512 - 4.100) + (5.000 - 2.500)) / 2 = 1.456\n"
   ]
  },
  {
   "cell_type": "markdown",
   "id": "d415f05d-7e2a-4a5c-9476-86d209e02a23",
   "metadata": {},
   "source": [
    "### Solution "
   ]
  },
  {
   "cell_type": "code",
   "execution_count": null,
   "id": "77dc15ed-b78f-4f7f-8c2f-7bcadb769085",
   "metadata": {},
   "outputs": [],
   "source": [
    "WITH startset AS(\n",
    "    SELECT machine_id, process_id, activity_type, timestamp\n",
    "    FROM Activity\n",
    "    WHERE activity_type = \"start\"\n",
    "),\n",
    "endset AS(\n",
    "    SELECT machine_id, process_id, activity_type, timestamp\n",
    "    FROM Activity\n",
    "    WHERE activity_type = \"end\"\n",
    ")\n",
    "\n",
    "SELECT startset.machine_id, ROUND(AVG(endset.timestamp - startset.timestamp),3) as processing_time\n",
    "FROM startset\n",
    "LEFT JOIN endset\n",
    "ON startset.machine_id = endset.machine_id\n",
    "AND startset.process_id = endset.process_id\n",
    "GROUP BY machine_id;"
   ]
  },
  {
   "cell_type": "markdown",
   "id": "1a47e7d6-3a39-49e5-bde4-80373fa53f5f",
   "metadata": {},
   "source": [
    "**Idea**: Using CTE, we create seperate start and end time table. Then, we joins these tables based on the machine and process IDs. After joining, we calculates the processing time for each process. Finally, we calculate averages of these processing times for each machine."
   ]
  },
  {
   "cell_type": "markdown",
   "id": "ce543ea2-63b3-493d-a8f8-f38aac1c7db3",
   "metadata": {
    "jp-MarkdownHeadingCollapsed": true
   },
   "source": [
    "## Problem 11"
   ]
  },
  {
   "cell_type": "markdown",
   "id": "45df6a6c-3fe9-4b83-96c8-310ec41a8bd8",
   "metadata": {},
   "source": [
    "[577. Employee Bonus](https://leetcode.com/problems/employee-bonus/)"
   ]
  },
  {
   "cell_type": "markdown",
   "id": "6beac91c-91a4-43ef-9977-e8f86f785172",
   "metadata": {},
   "source": [
    "### Problem statement"
   ]
  },
  {
   "cell_type": "markdown",
   "id": "94bf7b2e-1cbd-4eaa-8fa4-5492eece6569",
   "metadata": {},
   "source": [
    "Table: `Employee`\n",
    "\n",
    "| Column Name | Type    |\n",
    "|-------------|---------|\n",
    "| empId       | int     |\n",
    "| name        | varchar |\n",
    "| supervisor  | int     |\n",
    "| salary      | int     |\n",
    "\n",
    "`empId` is the column with unique values for this table.  \n",
    "Each row of this table indicates the name and the ID of an employee in addition to their salary and the id of their manager.\n",
    "\n",
    "Table: `Bonus`\n",
    "\n",
    "| Column Name | Type |\n",
    "|-------------|------|\n",
    "| empId       | int  |\n",
    "| bonus       | int  |\n",
    "\n",
    "`empId` is the column of unique values for this table.  \n",
    "`empId` is a foreign key (reference column) to empId from the Employee table.  \n",
    "Each row of this table contains the id of an employee and their respective bonus.\n",
    "\n",
    "Write a solution to **report the name and bonus amount of each employee with a bonus less than 1000.**  \n",
    "Return the result table in **any order.**\n",
    "\n",
    "**Example:**\n",
    "\n",
    "**Input:**  \n",
    "\n",
    "`Employee` table:\n",
    "| empId | name   | supervisor | salary |\n",
    "|-------|--------|------------|--------|\n",
    "| 3     | Brad   | null       | 4000   |\n",
    "| 1     | John   | 3          | 1000   |\n",
    "| 2     | Dan    | 3          | 2000   |\n",
    "| 4     | Thomas | 3          | 4000   |\n",
    "\n",
    "`Bonus` table:\n",
    "| empId | bonus |\n",
    "|-------|-------|\n",
    "| 2     | 500   |\n",
    "| 4     | 2000  |\n",
    "\n",
    "**Output:** \n",
    "| name  | bonus |\n",
    "|-------|-------|\n",
    "| Brad  | null  |\n",
    "| John  | null  |\n",
    "| Dan   | 500   |\n"
   ]
  },
  {
   "cell_type": "markdown",
   "id": "b5a98d63-2f9f-48e5-aeb6-55f7e3d84914",
   "metadata": {},
   "source": [
    "### Solution"
   ]
  },
  {
   "cell_type": "code",
   "execution_count": null,
   "id": "d07f5ace-24b5-49e8-8a76-e36cdab45e98",
   "metadata": {},
   "outputs": [],
   "source": [
    "SELECT name, bonus\n",
    "FROM (\n",
    "  SELECT e.name, b.bonus\n",
    "  FROM Employee e\n",
    "  LEFT JOIN bonus b ON e.empId = b.empId\n",
    ") AS subquery\n",
    "WHERE bonus < 1000 or bonus is null;"
   ]
  },
  {
   "cell_type": "markdown",
   "id": "050933b4-4769-45d4-b899-fa9835f1a69b",
   "metadata": {},
   "source": [
    "**Idea**: Using subquery, we first create a join from two tables, then filter using WHERE, with the null included."
   ]
  },
  {
   "cell_type": "markdown",
   "id": "3033d9b0-637f-4b00-b236-ad2df04f0644",
   "metadata": {
    "jp-MarkdownHeadingCollapsed": true
   },
   "source": [
    "## Problem 12"
   ]
  },
  {
   "cell_type": "markdown",
   "id": "94b1bd13-d784-4ca7-a767-7fea64897bb6",
   "metadata": {},
   "source": [
    "*[(1280. Students and Examinations)](https://leetcode.com/problems/students-and-examinations/)*"
   ]
  },
  {
   "cell_type": "markdown",
   "id": "8f8057bb-0bbd-439e-b478-773352da5db2",
   "metadata": {},
   "source": [
    "### Problem statement"
   ]
  },
  {
   "cell_type": "markdown",
   "id": "307ae460-734a-4597-b4a6-e237d2d416f7",
   "metadata": {},
   "source": [
    "Table: `Students`\n",
    "\n",
    "| Column Name   | Type    |\n",
    "|---------------|---------|\n",
    "| student_id    | int     |\n",
    "| student_name  | varchar |\n",
    "\n",
    "`student_id` is the primary key (column with unique values) for this table.  \n",
    "Each row of this table contains the ID and the name of one student in the school.\n",
    "\n",
    "Table: `Subjects`\n",
    "| Column Name   | Type    |\n",
    "|---------------|---------|\n",
    "| subject_name  | varchar |\n",
    "\n",
    "`subject_name` is the primary key (column with unique values) for this table.  \n",
    "Each row of this table contains the name of one subject in the school.\n",
    "\n",
    "Table: `Examinations`\n",
    "\n",
    "| Column Name   | Type    |\n",
    "|---------------|---------|\n",
    "| student_id    | int     |\n",
    "| subject_name  | varchar |\n",
    "\n",
    "There is no primary key (column with unique values) for this table. It may contain duplicates.  \n",
    "Each student from the Students table takes every course from the Subjects table.  \n",
    "Each row of this table indicates that a student with ID student_id attended the exam of subject_name.  \n",
    "\n",
    "Write a solution to **find the number of times each student attended each exam.**\n",
    "\n",
    "Return the result table **ordered by** `student_id` **and** `subject_name`.\n",
    "\n",
    "The result format is in the following example.\n",
    "\n",
    "**Example 1:**\n",
    "\n",
    "**Input:**  \n",
    "\n",
    "`Students` table:\n",
    "| student_id | student_name |\n",
    "|------------|--------------|\n",
    "| 1          | Alice        |\n",
    "| 2          | Bob          |\n",
    "| 13         | John         |\n",
    "| 6          | Alex         |\n",
    "\n",
    "`Subjects` table:\n",
    "| subject_name |\n",
    "|--------------|\n",
    "| Math         |\n",
    "| Physics      |\n",
    "| Programming  |\n",
    "\n",
    "`Examinations` table:\n",
    "| student_id | subject_name |\n",
    "|------------|--------------|\n",
    "| 1          | Math         |\n",
    "| 1          | Physics      |\n",
    "| 1          | Programming  |\n",
    "| 2          | Programming  |\n",
    "| 1          | Physics      |\n",
    "| 1          | Math         |\n",
    "| 13         | Math         |\n",
    "| 13         | Programming  |\n",
    "| 13         | Physics      |\n",
    "| 2          | Math         |\n",
    "| 1          | Math         |\n",
    "\n",
    "**Output:** \n",
    "| student_id | student_name | subject_name | attended_exams |\n",
    "|------------|--------------|--------------|----------------|\n",
    "| 1          | Alice        | Math         | 3              |\n",
    "| 1          | Alice        | Physics      | 2              |\n",
    "| 1          | Alice        | Programming  | 1              |\n",
    "| 2          | Bob          | Math         | 1              |\n",
    "| 2          | Bob          | Physics      | 0              |\n",
    "| 2          | Bob          | Programming  | 1              |\n",
    "| 6          | Alex         | Math         | 0              |\n",
    "| 6          | Alex         | Physics      | 0              |\n",
    "| 6          | Alex         | Programming  | 0              |\n",
    "| 13         | John         | Math         | 1              |\n",
    "| 13         | John         | Physics      | 1              |\n",
    "| 13         | John         | Programming  | 1              |\n",
    "\n",
    "**Explanation:** \n",
    "The result table should contain all students and all subjects.  \n",
    "- Alice attended the Math exam 3 times, the Physics exam 2 times, and the Programming exam 1 time.\n",
    "- Bob attended the Math exam 1 time, the Programming exam 1 time, and did not attend the Physics exam.\n",
    "- Alex did not attend any exams.\n",
    "- John attended the Math exam 1 time, the Physics exam 1 time, and the Programming exam 1 time."
   ]
  },
  {
   "cell_type": "markdown",
   "id": "d3497ab2-c793-47fe-8bc3-66424b539451",
   "metadata": {},
   "source": [
    "### Solution"
   ]
  },
  {
   "cell_type": "code",
   "execution_count": null,
   "id": "174f6cc6-cc34-4e5d-8878-cc3929ca0ea5",
   "metadata": {},
   "outputs": [],
   "source": [
    "WITH attended_count AS (\n",
    "    SELECT student_id, subject_name, COUNT(*) AS attended_exams\n",
    "    FROM Examinations\n",
    "    GROUP BY student_id, subject_name\n",
    ")\n",
    "\n",
    "SELECT Students.student_id, Students.student_name, Subjects.subject_name, IFNULL(attended_count.attended_exams, 0) AS attended_exams\n",
    "FROM Students\n",
    "CROSS JOIN Subjects\n",
    "LEFT JOIN attended_count\n",
    "    ON Students.student_id = attended_count.student_id\n",
    "    AND Subjects.subject_name = attended_count.subject_name\n",
    "ORDER BY student_id, subject_name;"
   ]
  },
  {
   "cell_type": "markdown",
   "id": "bdfaf13c-438b-4ce3-a986-1928a29fae64",
   "metadata": {},
   "source": [
    "**Idea**: \n",
    "- Using CTE, we count attended exams for each student, on each subject.\n",
    "- Perform CROSS JOIN on `Students` table to ensure that all combinations of students and subjects are included in the result, using IFNULL to fill NA by 0.\n",
    "- Afterward, LEFT JOIN with our CTE, again by student-subject pair.\n",
    "- Order the result as specified."
   ]
  },
  {
   "cell_type": "markdown",
   "id": "04f44080-39ef-43cd-94f4-14ad6e90a461",
   "metadata": {
    "jp-MarkdownHeadingCollapsed": true
   },
   "source": [
    "## Problem 13"
   ]
  },
  {
   "cell_type": "markdown",
   "id": "eda1ac88-9a55-4046-b1a9-a24bb3595c9b",
   "metadata": {},
   "source": [
    "*[(570. Managers with at Least 5 Direct Reports)](https://leetcode.com/problems/managers-with-at-least-5-direct-reports/)*"
   ]
  },
  {
   "cell_type": "markdown",
   "id": "af1a6c0e-1483-48a5-b1c5-1332c4d1d0a2",
   "metadata": {},
   "source": [
    "### Problem statement"
   ]
  },
  {
   "cell_type": "markdown",
   "id": "962f97ff-3046-4f64-bcf4-73f89de43554",
   "metadata": {},
   "source": [
    "Table: `Employee`\n",
    "\n",
    "| Column Name | Type    |\n",
    "|-------------|---------|\n",
    "| id          | int     |\n",
    "| name        | varchar |\n",
    "| department  | varchar |\n",
    "| managerId   | int     |\n",
    "\n",
    "`id` is the primary key (column with unique values) for this table.  \n",
    "Each row of this table indicates the name of an employee, their department, and the id of their manager.  \n",
    "If `managerId` is null, then the employee does not have a manager.  \n",
    "No employee will be the manager of themself.\n",
    "\n",
    "Write a solution to find **managers with at least five direct reports.**\n",
    "\n",
    "Return the result table in **any order.**\n",
    "\n",
    "The result format is in the following example.\n",
    "\n",
    "**Example 1:**\n",
    "\n",
    "**Input:** \n",
    "\n",
    "`Employee` table:\n",
    "| id  | name  | department | managerId |\n",
    "|-----|-------|------------|-----------|\n",
    "| 101 | John  | A          | null      |\n",
    "| 102 | Dan   | A          | 101       |\n",
    "| 103 | James | A          | 101       |\n",
    "| 104 | Amy   | A          | 101       |\n",
    "| 105 | Anne  | A          | 101       |\n",
    "| 106 | Ron   | B          | 101       |\n",
    "\n",
    "**Output:**\n",
    "| name |\n",
    "|------|\n",
    "| John |\n"
   ]
  },
  {
   "cell_type": "markdown",
   "id": "ec788d94-4a78-4a4e-b615-f071d70dcf3e",
   "metadata": {},
   "source": [
    "### Solution"
   ]
  },
  {
   "cell_type": "code",
   "execution_count": null,
   "id": "97807628-91b0-418a-b3bb-a93cdb3bb84d",
   "metadata": {},
   "outputs": [],
   "source": [
    "SELECT e.name\n",
    "FROM Employee e\n",
    "JOIN (\n",
    "    SELECT managerId, COUNT(managerId) AS num_reports\n",
    "    FROM Employee\n",
    "    GROUP BY managerId\n",
    "    HAVING COUNT(managerId) >= 5\n",
    ") reports_count ON e.id = reports_count.managerId;"
   ]
  },
  {
   "cell_type": "markdown",
   "id": "b9b4b50c-4434-462a-b833-c79478a3ed8c",
   "metadata": {},
   "source": [
    "**Idea**: We use subquery to find manager with at least 5 direct reports, using HAVING condition (as WHERE doesn't work after GROUP BY). Then, use JOIN to take out only those managers' names."
   ]
  },
  {
   "cell_type": "markdown",
   "id": "a57876c8-fd05-476e-9074-b95d632956c4",
   "metadata": {
    "jp-MarkdownHeadingCollapsed": true
   },
   "source": [
    "## Problem 14"
   ]
  },
  {
   "cell_type": "markdown",
   "id": "02bf6da6-6675-4c42-a314-e443a6e849cb",
   "metadata": {},
   "source": [
    "*[(1934. Confirmation Rate)](https://leetcode.com/problems/confirmation-rate/)*"
   ]
  },
  {
   "cell_type": "markdown",
   "id": "4f741adf-83ea-4a50-8263-29ffa501cdfe",
   "metadata": {
    "jp-MarkdownHeadingCollapsed": true
   },
   "source": [
    "### Problem statement"
   ]
  },
  {
   "cell_type": "markdown",
   "id": "c06f2f99-2ae6-488c-910f-8ab704e35a3f",
   "metadata": {},
   "source": [
    "Table: `Signups`\n",
    "\n",
    "| Column Name | Type     |\n",
    "|-------------|----------|\n",
    "| user_id     | int      |\n",
    "| time_stamp  | datetime |\n",
    "\n",
    "`user_id` is the column of unique values for this table.  \n",
    "Each row contains information about the signup time for the user with ID user_id.\n",
    "\n",
    "Table: `Confirmations`\n",
    "\n",
    "| Column Name | Type     |\n",
    "|-------------|----------|\n",
    "| user_id     | int      |\n",
    "| time_stamp  | datetime |\n",
    "| action      | ENUM     |\n",
    "\n",
    "`(user_id, time_stamp)` is the primary key (combination of columns with unique values) for this table.  \n",
    "`user_id` is a foreign key (reference column) to the `Signups` table.  \n",
    "`action` is an ENUM (category) of the type ('confirmed', 'timeout').  \n",
    "Each row of this table indicates that the user with ID `user_id` requested a confirmation message at time_stamp and that confirmation message was either confirmed ('confirmed') or expired without confirming ('timeout').\n",
    "\n",
    "The confirmation rate of a user is the number of 'confirmed' messages divided by the total number of requested confirmation messages. The confirmation rate of a user that did not request any confirmation messages is 0. Round the confirmation rate to **two decimal places.**\n",
    "\n",
    "Write a solution to **find the confirmation rate of each user.**\n",
    "\n",
    "Return the result table in **any order.**\n",
    "\n",
    "The result format is in the following example.\n",
    "\n",
    "**Example 1:**\n",
    "\n",
    "**Input:**  \n",
    "\n",
    "`Signups` table:\n",
    "| user_id | time_stamp          |\n",
    "|---------|---------------------|\n",
    "| 3       | 2020-03-21 10:16:13 |\n",
    "| 7       | 2020-01-04 13:57:59 |\n",
    "| 2       | 2020-07-29 23:09:44 |\n",
    "| 6       | 2020-12-09 10:39:37 |\n",
    "\n",
    "`Confirmations` table:\n",
    "| user_id | time_stamp          | action    |\n",
    "|---------|---------------------|-----------|\n",
    "| 3       | 2021-01-06 03:30:46 | timeout   |\n",
    "| 3       | 2021-07-14 14:00:00 | timeout   |\n",
    "| 7       | 2021-06-12 11:57:29 | confirmed |\n",
    "| 7       | 2021-06-13 12:58:28 | confirmed |\n",
    "| 7       | 2021-06-14 13:59:27 | confirmed |\n",
    "| 2       | 2021-01-22 00:00:00 | confirmed |\n",
    "| 2       | 2021-02-28 23:59:59 | timeout   |\n",
    "\n",
    "**Output:**  \n",
    "| user_id | confirmation_rate |\n",
    "|---------|-------------------|\n",
    "| 6       | 0.00              |\n",
    "| 3       | 0.00              |\n",
    "| 7       | 1.00              |\n",
    "| 2       | 0.50              |\n",
    "\n",
    "**Explanation:**  \n",
    "- User 6 did not request any confirmation messages. The confirmation rate is 0.\n",
    "- User 3 made 2 requests and both timed out. The confirmation rate is 0.\n",
    "- User 7 made 3 requests and all were confirmed. The confirmation rate is 1.\n",
    "- User 2 made 2 requests where one was confirmed and the other timed out. The confirmation rate is 1 / 2 = 0.5.\n"
   ]
  },
  {
   "cell_type": "markdown",
   "id": "faeed77c-6e85-491c-8094-690d0cb06a10",
   "metadata": {},
   "source": [
    "### Solution"
   ]
  },
  {
   "cell_type": "code",
   "execution_count": null,
   "id": "1776167c-e1cd-4d18-b092-b63a63509ef0",
   "metadata": {},
   "outputs": [],
   "source": [
    "SELECT \n",
    "    Signups.user_id,\n",
    "    IFNULL(ROUND(SUM(Confirmations.action = 'confirmed') / COUNT(Confirmations.action), 2), 0) AS confirmation_rate \n",
    "FROM Signups\n",
    "LEFT JOIN Confirmations ON Signups.user_id = Confirmations.user_id\n",
    "GROUP BY Signups.user_id;"
   ]
  },
  {
   "cell_type": "markdown",
   "id": "4fbadba8-8453-4432-9fcb-7d9a2ea67191",
   "metadata": {},
   "source": [
    "---"
   ]
  },
  {
   "cell_type": "markdown",
   "id": "d606eb75-f493-4daf-a660-2e1b5e18ecd4",
   "metadata": {
    "jp-MarkdownHeadingCollapsed": true
   },
   "source": [
    "# SECTION 3: BASIC AGGREGATE FUNCTIONS"
   ]
  },
  {
   "cell_type": "markdown",
   "id": "7f71070d-d2f5-4a02-ae6c-959ae2367f3b",
   "metadata": {},
   "source": [
    "## Problem 15"
   ]
  },
  {
   "cell_type": "markdown",
   "id": "89811734-6c4e-4cbe-a5db-9711c57758ca",
   "metadata": {},
   "source": [
    "*[(620. Not Boring Movies)](https://leetcode.com/problems/not-boring-movies)*\n"
   ]
  },
  {
   "cell_type": "markdown",
   "id": "7531d67f-c77e-4998-99ee-b6ea3f52e061",
   "metadata": {},
   "source": [
    "### Problem statement"
   ]
  },
  {
   "cell_type": "markdown",
   "id": "fd494e06-372f-413c-92e4-098bdc8446d3",
   "metadata": {},
   "source": [
    "Table: `Cinema`\n",
    "\n",
    "| Column Name | Type     |\n",
    "|-------------|----------|\n",
    "| id          | int      |\n",
    "| movie       | varchar  |\n",
    "| description | varchar  |\n",
    "| rating      | float    |\n",
    "\n",
    "`id` is the primary key (column with unique values) for this table.  \n",
    "Each row contains information about the name of a movie, its genre, and its rating. rating is a 2 decimal places float in the range [0, 10].\n",
    "\n",
    "Write a solution to **report the movies with an odd-numbered ID and a description that is not \"boring\".**\n",
    "\n",
    "Return the result table **ordered by rating in descending order.**\n",
    "\n",
    "The result format is in the following example.\n",
    "\n",
    "**Example 1:**\n",
    "\n",
    "**Input:** \n",
    "\n",
    "`Cinema` table:\n",
    "| id | movie     | description | rating |\n",
    "|----|-----------|-------------|--------|\n",
    "| 1  | War       | great 3D    | 8.9    |\n",
    "| 2  | Science   | fiction     | 8.5    |\n",
    "| 3  | irish     | boring      | 6.2    |\n",
    "| 4  | Ice song  | Fantacy     | 8.6    |\n",
    "| 5  | House card| Interesting | 9.1    |\n",
    "\n",
    "**Output:**\n",
    "| id | movie      | description | rating |\n",
    "|----|------------|-------------|--------|\n",
    "| 5  | House card | Interesting | 9.1    |\n",
    "| 1  | War        | great 3D    | 8.9    |\n",
    "\n",
    "**Explanation:**\n",
    "We have three movies with odd-numbered IDs: 1, 3, and 5. The movie with ID = 3 is boring so we do not include it in the answer."
   ]
  },
  {
   "cell_type": "markdown",
   "id": "6100a8fb-c44a-4f96-9df8-3234a3e07893",
   "metadata": {},
   "source": [
    "### Solution"
   ]
  },
  {
   "cell_type": "code",
   "execution_count": null,
   "id": "194b1b59-73d5-466e-a5b9-449c789523de",
   "metadata": {},
   "outputs": [],
   "source": [
    "SELECT *\n",
    "FROM Cinema\n",
    "WHERE id % 2 = 1 AND description != 'boring'\n",
    "ORDER BY rating DESC;"
   ]
  },
  {
   "cell_type": "markdown",
   "id": "7d4bca42-2ebc-4af3-a296-d835752b7e80",
   "metadata": {},
   "source": [
    "## Problem 16"
   ]
  },
  {
   "cell_type": "markdown",
   "id": "44acd528-b82b-4546-8864-93f4f16c43df",
   "metadata": {},
   "source": [
    "*[(1251. Average Selling Price)](https://leetcode.com/problems/average-selling-price)*"
   ]
  },
  {
   "cell_type": "markdown",
   "id": "b7488459-8792-44ed-9a9f-55d1412d7e99",
   "metadata": {},
   "source": [
    "### Problem statement"
   ]
  },
  {
   "cell_type": "markdown",
   "id": "e894a106-66ba-4695-ba5c-99ddb9bdc4eb",
   "metadata": {},
   "source": [
    "Table: `Prices`\n",
    "\n",
    "| Column Name | Type    |\n",
    "|-------------|---------|\n",
    "| product_id  | int     |\n",
    "| start_date  | date    |\n",
    "| end_date    | date    |\n",
    "| price       | int     |\n",
    "\n",
    "`(product_id, start_date, end_date)` is the primary key (combination of columns with unique values) for this table.  \n",
    "Each row of this table indicates the price of the `product_id` in the period from `start_date` to `end_date`.  \n",
    "For each `product_id`, there will be no two overlapping periods. That means there will be no two intersecting periods for the same `product_id`.\n",
    "\n",
    "Table: `UnitsSold`\n",
    "\n",
    "| Column Name   | Type    |\n",
    "|---------------|---------|\n",
    "| product_id    | int     |\n",
    "| purchase_date | date    |\n",
    "| units         | int     |\n",
    "\n",
    "This table may contain duplicate rows.  \n",
    "Each row of this table indicates the `date`, `units`, and `product_id` of each product sold.\n",
    "\n",
    "Write a solution to find the **average selling price for each product**. `average_price` should be rounded to 2 decimal places.\n",
    "\n",
    "Return the result table in **any order.**\n",
    "\n",
    "The result format is in the following example.\n",
    "\n",
    "**Example 1:**\n",
    "\n",
    "**Input:**\n",
    "`Prices` table:\n",
    "| product_id | start_date | end_date   | price  |\n",
    "|------------|------------|------------|--------|\n",
    "| 1          | 2019-02-17 | 2019-02-28 | 5      |\n",
    "| 1          | 2019-03-01 | 2019-03-22 | 20     |\n",
    "| 2          | 2019-02-01 | 2019-02-20 | 15     |\n",
    "| 2          | 2019-02-21 | 2019-03-31 | 30     |\n",
    "\n",
    "`UnitsSold` table:\n",
    "| product_id | purchase_date | units |\n",
    "|------------|---------------|-------|\n",
    "| 1          | 2019-02-25    | 100   |\n",
    "| 1          | 2019-03-01    | 15    |\n",
    "| 2          | 2019-02-10    | 200   |\n",
    "| 2          | 2019-03-22    | 30    |\n",
    "\n",
    "**Output:** \n",
    "| product_id | average_price |\n",
    "|------------|---------------|\n",
    "| 1          | 6.96          |\n",
    "| 2          | 16.96         |\n",
    "\n",
    "**Explanation:** \n",
    "- Average selling price = Total Price of Product / Number of products sold.  \n",
    "- Average selling price for product 1 = ((100 * 5) + (15 * 20)) / 115 = 6.96  \n",
    "- Average selling price for product 2 = ((200 * 15) + (30 * 30)) / 230 = 16.96\n"
   ]
  },
  {
   "cell_type": "markdown",
   "id": "bcddaa3f-9a05-43d7-85e2-3fd8d6bbfe5b",
   "metadata": {},
   "source": [
    "### Solution"
   ]
  },
  {
   "cell_type": "code",
   "execution_count": null,
   "id": "b4648877-e4f9-4349-8149-2a18d11f4bd4",
   "metadata": {},
   "outputs": [],
   "source": [
    "WITH tempo AS(\n",
    "SELECT us.product_id, us.purchase_date, us.units, \n",
    "CASE\n",
    "  WHEN us.purchase_date BETWEEN p.start_date AND p.end_date THEN p.price\n",
    "  ELSE NULL\n",
    "END AS match_price\n",
    "FROM UnitsSold us\n",
    "JOIN Prices p ON us.product_id = p.product_id\n",
    ")\n",
    "SELECT  product_id,\n",
    "        ROUND(SUM(match_price*units)/SUM(units), 2) AS average_price\n",
    "FROM tempo\n",
    "WHERE match_price IS NOT NULL\n",
    "GROUP BY product_id"
   ]
  },
  {
   "cell_type": "markdown",
   "id": "53ca4ca2-bcb8-4efe-90ca-77d16bae4110",
   "metadata": {},
   "source": [
    "**Idea**: Create a CTE name tempo, which calculating match_price column using corresponding price of each product for corresponding period. The output of the CTE if we use the example above should look like this:\n",
    "\n",
    "| product_id | purchase_date | units | match_price |\n",
    "|------------|---------------|-------|-------------|\n",
    "| 1          | 2019-02-25    | 100   | 5           |\n",
    "| 1          | 2019-03-01    | 15    | 20          |\n",
    "| 2          | 2019-02-10    | 200   | 15          |\n",
    "| 2          | 2019-03-22    | 30    | 30          |\n",
    "\n",
    "Then, calculate the average price group by `product_id`, exclude the `NULL` case if exist, and rounded as specified."
   ]
  },
  {
   "cell_type": "markdown",
   "id": "35771230-9d0d-405f-bddd-dd3d8cb16f41",
   "metadata": {},
   "source": [
    "## Problem 17"
   ]
  },
  {
   "cell_type": "markdown",
   "id": "bd74f59a-c43c-4757-8bc1-62569c482659",
   "metadata": {},
   "source": [
    "*[(1075. Project Employees I)](https://leetcode.com/problems/project-employees-i)*"
   ]
  },
  {
   "cell_type": "markdown",
   "id": "959f0d9c-fa39-46bc-adbb-990e73f0fdfe",
   "metadata": {},
   "source": [
    "### Problem statement"
   ]
  },
  {
   "cell_type": "markdown",
   "id": "e3962ada-4ed7-4211-9035-4336aa47b023",
   "metadata": {},
   "source": [
    "Table: `Project`\n",
    "\n",
    "| Column Name | Type |\n",
    "|-------------|------|\n",
    "| project_id  | int  |\n",
    "| employee_id | int  |\n",
    "\n",
    "`(project_id, employee_id)` is the primary key of this table.  \n",
    "`employee_id` is a foreign key to `Employee` table.  \n",
    "Each row of this table indicates that the employee with `employee_id` is working on the project with `project_id`.\n",
    "\n",
    "Table: `Employee`\n",
    "\n",
    "| Column Name      | Type    |\n",
    "|------------------|---------|\n",
    "| employee_id      | int     |\n",
    "| name             | varchar |\n",
    "| experience_years | int     |\n",
    "\n",
    "`employee_id` is the primary key of this table. It's guaranteed that `experience_years` is not NULL.  \n",
    "Each row of this table contains information about one employee.\n",
    "\n",
    "Write an SQL query that reports the **average experience years of all the employees for each project**, rounded to 2 digits.\n",
    "\n",
    "Return the result table in **any order**.\n",
    "\n",
    "The query result format is in the following example.\n",
    "\n",
    "**Example 1:**\n",
    "\n",
    "**Input:** \n",
    "\n",
    "`Project` table:\n",
    "| project_id | employee_id |\n",
    "|------------|-------------|\n",
    "| 1          | 1           |\n",
    "| 1          | 2           |\n",
    "| 1          | 3           |\n",
    "| 2          | 1           |\n",
    "| 2          | 4           |\n",
    "\n",
    "`Employee` table:\n",
    "| employee_id | name   | experience_years |\n",
    "|-------------|--------|------------------|\n",
    "| 1           | Khaled | 3                |\n",
    "| 2           | Ali    | 2                |\n",
    "| 3           | John   | 1                |\n",
    "| 4           | Doe    | 2                |\n",
    "\n",
    "**Output:** \n",
    "| project_id | average_years |\n",
    "|------------|---------------|\n",
    "| 1          | 2.00          |\n",
    "| 2          | 2.50          |\n",
    "\n",
    "**Explanation:** \n",
    "The average experience years for the first project is (3 + 2 + 1) / 3 = 2.00 and for the second project is (3 + 2) / 2 = 2.50"
   ]
  },
  {
   "cell_type": "markdown",
   "id": "221bba0f-d07e-45e5-9f79-b223b1d94374",
   "metadata": {},
   "source": [
    "### Solution"
   ]
  },
  {
   "cell_type": "code",
   "execution_count": null,
   "id": "a0f87547-5500-4053-b94b-5a9ed7276de1",
   "metadata": {},
   "outputs": [],
   "source": [
    "SELECT project_id, ROUND(AVG(e.experience_years), 2) AS average_years \n",
    "FROM Employee e\n",
    "RIGHT JOIN Project p ON e.employee_id = p.employee_id   \n",
    "GROUP BY project_id"
   ]
  },
  {
   "cell_type": "markdown",
   "id": "e984730d-b0b2-4142-a052-b04f8f2bf648",
   "metadata": {},
   "source": [
    "## Problem 18"
   ]
  },
  {
   "cell_type": "markdown",
   "id": "a239f10b-dc79-4932-bd6e-cc5e62b9d732",
   "metadata": {},
   "source": [
    "*[(1633. Percentage of Users Attended a Contest)](https://leetcode.com/problems/percentage-of-users-attended-a-contest)*"
   ]
  },
  {
   "cell_type": "markdown",
   "id": "60623285-b13d-4d73-8eb8-f6df6fdc2c4c",
   "metadata": {},
   "source": [
    "### Problem statement"
   ]
  },
  {
   "cell_type": "markdown",
   "id": "99feee1d-7805-4e6e-9c45-d5a41d2065dd",
   "metadata": {},
   "source": [
    "Table: `Users`\n",
    "\n",
    "| Column Name | Type    |\n",
    "|-------------|---------|\n",
    "| user_id     | int     |\n",
    "| user_name   | varchar |\n",
    "\n",
    "`user_id` is the primary key (column with unique values) for this table.  \n",
    "Each row of this table contains the name and the id of a user.\n",
    "\n",
    "Table: `Register`\n",
    "\n",
    "| Column Name | Type    |\n",
    "|-------------|---------|\n",
    "| contest_id  | int     |\n",
    "| user_id     | int     |\n",
    "\n",
    "`(contest_id, user_id)` is the primary key (combination of columns with unique values) for this table.  \n",
    "Each row of this table contains the id of a user and the contest they registered into.\n",
    "\n",
    "Write a solution to find the **percentage of the users registered in each contest** rounded to two decimals.\n",
    "\n",
    "Return the result table **ordered by percentage in descending order**. In case of a tie, order it by `contest_id` in **ascending order.**\n",
    "\n",
    "The result format is in the following example.\n",
    "\n",
    "**Example 1:**\n",
    "\n",
    "**Input:** \n",
    "\n",
    "`Users` table:\n",
    "| user_id | user_name |\n",
    "|---------|-----------|\n",
    "| 6       | Alice     |\n",
    "| 2       | Bob       |\n",
    "| 7       | Alex      |\n",
    "\n",
    "`Register` table:\n",
    "| contest_id | user_id |\n",
    "|------------|---------|\n",
    "| 215        | 6       |\n",
    "| 209        | 2       |\n",
    "| 208        | 2       |\n",
    "| 210        | 6       |\n",
    "| 208        | 6       |\n",
    "| 209        | 7       |\n",
    "| 209        | 6       |\n",
    "| 215        | 7       |\n",
    "| 208        | 7       |\n",
    "| 210        | 2       |\n",
    "| 207        | 2       |\n",
    "| 210        | 7       |\n",
    "\n",
    "**Output:** \n",
    "| contest_id | percentage |\n",
    "|------------|------------|\n",
    "| 208        | 100.0      |\n",
    "| 209        | 100.0      |\n",
    "| 210        | 100.0      |\n",
    "| 215        | 66.67      |\n",
    "| 207        | 33.33      |\n",
    "\n",
    "**Explanation:** \n",
    "- All the users registered in contests 208, 209, and 210. The percentage is 100% and we sort them in the answer table by `contest_id` in ascending order.  \n",
    "- Alice and Alex registered in contest 215 and the percentage is ((2/3) * 100) = 66.67%  \n",
    "- Bob registered in contest 207 and the percentage is ((1/3) * 100) = 33.33%\n"
   ]
  },
  {
   "cell_type": "markdown",
   "id": "c6e25de9-97a7-4fd8-ba0a-a5190c7d8bb0",
   "metadata": {},
   "source": [
    "### Solution"
   ]
  },
  {
   "cell_type": "code",
   "execution_count": null,
   "id": "b7a86b6e-cf45-4f74-a064-ab7ec979a748",
   "metadata": {},
   "outputs": [],
   "source": [
    "SELECT contest_id,\n",
    "    ROUND((COUNT(*) / (SELECT COUNT(*) FROM Users)) * 100, 2) AS percentage\n",
    "FROM Register\n",
    "GROUP BY contest_id\n",
    "ORDER BY percentage DESC, contest_id "
   ]
  },
  {
   "cell_type": "markdown",
   "id": "8cd13e71-3948-4782-809b-7e7c2bf617d8",
   "metadata": {
    "jp-MarkdownHeadingCollapsed": true
   },
   "source": [
    "## Problem 19"
   ]
  },
  {
   "cell_type": "markdown",
   "id": "152ae837-d604-4166-966b-298d97d1a80b",
   "metadata": {},
   "source": [
    "*[(1211. Queries Quality and Percentage)](https://leetcode.com/problems/queries-quality-and-percentage)*"
   ]
  },
  {
   "cell_type": "markdown",
   "id": "acd0482d-e6ae-49a3-8e10-f531fde3469e",
   "metadata": {},
   "source": [
    "### Problem statement"
   ]
  },
  {
   "cell_type": "markdown",
   "id": "2998e8c6-1ebb-472d-a615-abb7ec722267",
   "metadata": {},
   "source": [
    "Table: `Queries`\n",
    "\n",
    "| Column Name | Type    |\n",
    "|-------------|---------|\n",
    "| query_name  | varchar |\n",
    "| result      | varchar |\n",
    "| position    | int     |\n",
    "| rating      | int     |\n",
    "\n",
    "This table may have duplicate rows.  \n",
    "This table contains information collected from some queries on a database.  \n",
    "The `position` column has a value from 1 to 500.  \n",
    "The `rating` column has a value from 1 to 5. A query with a rating less than 3 is considered a poor query.\n",
    "\n",
    "We define query quality as:\n",
    "\n",
    "The average of the ratio between query rating and its position.\n",
    "\n",
    "We also define poor query percentage as:\n",
    "\n",
    "The percentage of all queries with rating less than 3.\n",
    "\n",
    "Write a solution to **find each** `query_name`, **the** `quality`, **and** `poor_query_percentage`.\n",
    "\n",
    "Both `quality` and `poor_query_percentage` should be **rounded to 2 decimal places.**\n",
    "\n",
    "Return the result table in **any order.**\n",
    "\n",
    "The result format is in the following example.\n",
    "\n",
    "**Example 1:**\n",
    "\n",
    "**Input:** \n",
    "\n",
    "`Queries` table:\n",
    "| query_name | result           | position | rating |\n",
    "|------------|------------------|----------|--------|\n",
    "| Dog        | Golden Retriever | 1        | 5      |\n",
    "| Dog        | German Shepherd  | 2        | 5      |\n",
    "| Dog        | Mule             | 200      | 1      |\n",
    "| Cat        | Shirazi          | 5        | 2      |\n",
    "| Cat        | Siamese          | 3        | 3      |\n",
    "| Cat        | Sphynx           | 7        | 4      |\n",
    "\n",
    "**Output:** \n",
    "| query_name | quality | poor_query_percentage |\n",
    "|------------|---------|-----------------------|\n",
    "| Dog        | 2.50    | 33.33                 |\n",
    "| Cat        | 0.66    | 33.33                 |\n",
    "\n",
    "**Explanation:** \n",
    "- Dog queries quality is ((5 / 1) + (5 / 2) + (1 / 200)) / 3 = 2.50  \n",
    "  Dog queries poor query percentage is (1 / 3) * 100 = 33.33%\n",
    "- Cat queries quality equals ((2 / 5) + (3 / 3) + (4 / 7)) / 3 = 0.66  \n",
    "  Cat queries poor query percentage is (1 / 3) * 100 = 33.33%\n"
   ]
  },
  {
   "cell_type": "markdown",
   "id": "69a2546c-19f1-4974-aec2-caecbcdac9ff",
   "metadata": {},
   "source": [
    "### Solution"
   ]
  },
  {
   "cell_type": "code",
   "execution_count": null,
   "id": "05809564-9957-4130-9276-0462c7a62638",
   "metadata": {},
   "outputs": [],
   "source": [
    "SELECT  query_name,\n",
    "        ROUND(AVG(rating/position), 2) as quality,\n",
    "        ROUND((SUM(rating < 3)/COUNT(rating) * 100),2) as poor_query_percentage\n",
    "FROM Queries\n",
    "GROUP BY query_name"
   ]
  },
  {
   "cell_type": "markdown",
   "id": "d58fbdd1-89a9-4832-9b74-c5a330575bcf",
   "metadata": {
    "jp-MarkdownHeadingCollapsed": true
   },
   "source": [
    "## Problem 20"
   ]
  },
  {
   "cell_type": "markdown",
   "id": "31abef78-6845-4171-ad27-7dc154f94faa",
   "metadata": {},
   "source": [
    "*[(1193. Monthly Transactions I)](https://leetcode.com/problems/monthly-transactions-i)*"
   ]
  },
  {
   "cell_type": "markdown",
   "id": "cbcf1152-af31-4260-8a6f-6627a29ea726",
   "metadata": {},
   "source": [
    "### Problem statement"
   ]
  },
  {
   "cell_type": "markdown",
   "id": "8cd3b216-b556-485c-9ddc-b76d49cb01ff",
   "metadata": {},
   "source": [
    "Table: `Transactions`\n",
    "\n",
    "| Column Name | Type    |\n",
    "|-------------|---------|\n",
    "| id          | int     |\n",
    "| country     | varchar |\n",
    "| state       | enum    |\n",
    "| amount      | int     |\n",
    "| trans_date  | date    |\n",
    "\n",
    "`id` is the primary key of this table.  \n",
    "The table has information about incoming transactions.  \n",
    "The `state` column is an enum of type [\"approved\", \"declined\"].\n",
    "\n",
    "Write an SQL query to **find for each month and country**, the **number of transactions and their total amount**, the **number of approved transactions and their total amount**.\n",
    "\n",
    "Return the result table in **any order**.\n",
    "\n",
    "The query result format is in the following example.\n",
    "\n",
    "**Example 1:**\n",
    "\n",
    "**Input:** \n",
    "\n",
    "`Transactions` table:\n",
    "| id   | country | state    | amount | trans_date |\n",
    "|------|---------|----------|--------|------------|\n",
    "| 121  | US      | approved | 1000   | 2018-12-18 |\n",
    "| 122  | US      | declined | 2000   | 2018-12-19 |\n",
    "| 123  | US      | approved | 2000   | 2019-01-01 |\n",
    "| 124  | DE      | approved | 2000   | 2019-01-07 |\n",
    "\n",
    "**Output:** \n",
    "| month    | country | trans_count | approved_count | trans_total_amount | approved_total_amount |\n",
    "|----------|---------|-------------|----------------|--------------------|-----------------------|\n",
    "| 2018-12  | US      | 2           | 1              | 3000               | 1000                  |\n",
    "| 2019-01  | US      | 1           | 1              | 2000               | 2000                  |\n",
    "| 2019-01  | DE      | 1           | 1              | 2000               | 2000                  |\n"
   ]
  },
  {
   "cell_type": "markdown",
   "id": "088dbb00-6a0f-4c88-a0db-818e021fa58a",
   "metadata": {},
   "source": [
    "### Solution"
   ]
  },
  {
   "cell_type": "code",
   "execution_count": null,
   "id": "6d422077-8b05-4afa-be92-0f019013a92b",
   "metadata": {},
   "outputs": [],
   "source": [
    "SELECT DATE_FORMAT(trans_date, '%Y-%m') as month,\n",
    "country, \n",
    "COUNT(id) as trans_count,\n",
    "SUM(state = \"approved\") as approved_count,\n",
    "SUM(amount) as trans_total_amount,\n",
    "SUM(CASE WHEN state = \"approved\" THEN amount ELSE 0 END) as approved_total_amount \n",
    "FROM Transactions\n",
    "GROUP BY country, month;"
   ]
  },
  {
   "cell_type": "markdown",
   "id": "563ecdae-31d8-46b9-863f-bbc316426c4d",
   "metadata": {
    "jp-MarkdownHeadingCollapsed": true
   },
   "source": [
    "## Problem 21"
   ]
  },
  {
   "cell_type": "markdown",
   "id": "495a3b00-e907-4f33-998b-618d7cb1a3f4",
   "metadata": {},
   "source": [
    "*[(1174. Immediate Food Delivery II)](https://leetcode.com/problems/immediate-food-delivery-ii)*"
   ]
  },
  {
   "cell_type": "markdown",
   "id": "44f9c51d-85e9-41ab-8337-5c833153d3b9",
   "metadata": {},
   "source": [
    "### Problem statement"
   ]
  },
  {
   "cell_type": "markdown",
   "id": "0a08ff07-6a4e-4dd7-813a-4a5de537115c",
   "metadata": {},
   "source": [
    "Table: `Delivery`\n",
    "\n",
    "| Column Name                 | Type    |\n",
    "|-----------------------------|---------|\n",
    "| delivery_id                 | int     |\n",
    "| customer_id                 | int     |\n",
    "| order_date                  | date    |\n",
    "| customer_pref_delivery_date | date    |\n",
    "\n",
    "`delivery_id` is the column of unique values of this table.  \n",
    "The table holds information about food delivery to customers that make orders at some date and specify a preferred delivery date (on the same order date or after it).\n",
    "\n",
    "If the customer's preferred delivery date is the same as the order date, then the order is called immediate; otherwise, it is called scheduled.\n",
    "\n",
    "The first order of a customer is the order with the earliest order date that the customer made. It is guaranteed that a customer has precisely one first order.\n",
    "\n",
    "Write a solution to **find the percentage of immediate orders in the first orders of all customers, rounded to 2 decimal places**.\n",
    "\n",
    "The result format is in the following example.\n",
    "\n",
    "**Example:**\n",
    "\n",
    "**Input:**\n",
    "\n",
    "`Delivery` table:\n",
    "| delivery_id | customer_id | order_date | customer_pref_delivery_date |\n",
    "|-------------|-------------|------------|-----------------------------|\n",
    "| 1           | 1           | 2019-08-01 | 2019-08-02                  |\n",
    "| 2           | 2           | 2019-08-02 | 2019-08-02                  |\n",
    "| 3           | 1           | 2019-08-11 | 2019-08-12                  |\n",
    "| 4           | 3           | 2019-08-24 | 2019-08-24                  |\n",
    "| 5           | 3           | 2019-08-21 | 2019-08-22                  |\n",
    "| 6           | 2           | 2019-08-11 | 2019-08-13                  |\n",
    "| 7           | 4           | 2019-08-09 | 2019-08-09                  |\n",
    "\n",
    "**Output:** \n",
    "| immediate_percentage |\n",
    "|----------------------|\n",
    "| 50.00                |\n",
    "\n",
    "**Explanation:**  \n",
    "- The customer id 1 has a first order with delivery id 1 and it is scheduled.  \n",
    "- The customer id 2 has a first order with delivery id 2 and it is immediate.  \n",
    "- The customer id 3 has a first order with delivery id 5 and it is scheduled.  \n",
    "- The customer id 4 has a first order with delivery id 7 and it is immediate.  \n",
    "\n",
    "Hence, half the customers have immediate first orders.\n"
   ]
  },
  {
   "cell_type": "markdown",
   "id": "9dec9807-4143-4734-bd1a-f67783ceb4da",
   "metadata": {},
   "source": [
    "### Solution"
   ]
  },
  {
   "cell_type": "code",
   "execution_count": null,
   "id": "254dd2ef-cb0c-4d6a-8912-5f9238fef604",
   "metadata": {},
   "outputs": [],
   "source": [
    "SELECT ROUND((SUM(first_delivery_type = 'immediate')/COUNT(first_delivery_type))*100, 2) as immediate_percentage\n",
    "FROM (SELECT customer_id,(CASE WHEN MIN(order_date) = MIN(customer_pref_delivery_date) THEN 'immediate' ELSE 'scheduled' END) as first_delivery_type\n",
    "FROM Delivery\n",
    "GROUP BY customer_id) as tempo;"
   ]
  },
  {
   "cell_type": "markdown",
   "id": "d8043dab-e87a-493e-b062-92696e1ad317",
   "metadata": {},
   "source": [
    "**Idea**: We create a subquery to find out if first order of each client is immediate or scheduled using MIN() function. The subquery output should look like this:\n",
    "\n",
    "| customer_id | first_delivery_type |\r\n",
    "|-------------|---------------------|\r\n",
    "| 1           | scheduled           |\r\n",
    "| 2           | immediate           |\r\n",
    "| 3           | scheduled           |\r\n",
    "| 4           | immediate       \n",
    "\n",
    "Then, we calculate immediate_percentage using SUM and COUNT   |    |\r\n"
   ]
  },
  {
   "cell_type": "markdown",
   "id": "236332a2-3534-48c4-8673-e4705c787bb0",
   "metadata": {},
   "source": [
    "## Problem 22"
   ]
  },
  {
   "cell_type": "markdown",
   "id": "db28b5a0-eb7c-4da3-b342-8e637b302574",
   "metadata": {},
   "source": [
    "*[(550. Game Play Analysis IV)](https://leetcode.com/problems/game-play-analysis-iv)*"
   ]
  },
  {
   "cell_type": "markdown",
   "id": "7da73faa-367f-4af1-bc76-7e251f850c4b",
   "metadata": {},
   "source": [
    "### Problem statement"
   ]
  },
  {
   "cell_type": "markdown",
   "id": "8e361884-7a5a-4e28-ab4b-9eb102234450",
   "metadata": {},
   "source": [
    "Table: `Activity`\n",
    "\n",
    "| Column Name  | Type    |\n",
    "|--------------|---------|\n",
    "| player_id    | int     |\n",
    "| device_id    | int     |\n",
    "| event_date   | date    |\n",
    "| games_played | int     |\n",
    "\n",
    "`(player_id, event_date)` is the primary key (combination of columns with unique values) of this table.  \n",
    "This table shows the activity of players of some games. Each row is a record of a player who logged in and played a number of games (possibly 0) before logging out on some day using some device.\n",
    "\n",
    "Write a solution to **report the fraction of players that logged in again on the day after the day they first logged in, rounded to 2 decimal places.** In other words, you need to count the number of players that logged in for at least two consecutive days starting from their first login date, then divide that number by the total number of players.\n",
    "\n",
    "The result format is in the following example.\n",
    "\n",
    "**Example 1:**\n",
    "\n",
    "**Input:**\n",
    "\n",
    "`Activity` table:\n",
    "| player_id | device_id | event_date | games_played |\n",
    "|-----------|-----------|------------|--------------|\n",
    "| 1         | 2         | 2016-03-01 | 5            |\n",
    "| 1         | 2         | 2016-03-02 | 6            |\n",
    "| 2         | 3         | 2017-06-25 | 1            |\n",
    "| 3         | 1         | 2016-03-02 | 0            |\n",
    "| 3         | 4         | 2018-07-03 | 5            |\n",
    "\n",
    "**Output:**\n",
    "| fraction  |\n",
    "|-----------|\n",
    "| 0.33      |\n",
    "\n",
    "**Explanation:**\n",
    "Only the player with id 1 logged back in after the first day he had logged in so the answer is 1/3 = 0.33\n"
   ]
  },
  {
   "cell_type": "markdown",
   "id": "59b17679-e580-40b6-8ae7-08780988260e",
   "metadata": {},
   "source": [
    "### Solution"
   ]
  },
  {
   "cell_type": "code",
   "execution_count": null,
   "id": "b4d6edb1-561b-48f0-aad1-a3d0958c1d0d",
   "metadata": {},
   "outputs": [],
   "source": [
    "# Structure: Access second_day using a CTE, then combine with first_day. Afterward, using subquerries to calculate the ratio\n",
    "SELECT \n",
    "ROUND(AVG(consecutive_login), 2) AS fraction\n",
    "FROM\n",
    "  (SELECT \n",
    "    (CASE WHEN DATE_ADD(first_day, INTERVAL 1 DAY) = second_day THEN 1 ELSE 0 END) AS consecutive_login\n",
    "  FROM(\n",
    "    SELECT\n",
    "    main.player_id,\n",
    "    MIN(main.event_date) AS first_day,\n",
    "    (SELECT MIN(sub.event_date)\n",
    "     FROM Activity sub\n",
    "     WHERE sub.player_id = main.player_id\n",
    "     AND sub.event_date > MIN(main.event_date)) AS second_day\n",
    "FROM Activity main\n",
    "GROUP BY main.player_id) AS second_day) AS consecutive"
   ]
  },
  {
   "cell_type": "markdown",
   "id": "67e536b8-d231-49a5-8d0e-c1a2186cafde",
   "metadata": {},
   "source": [
    "**Idea**: This process uses 3 subquerries:\n",
    "\n",
    "Subquerry 1: Find out the second login day for each `player_id`\n",
    "```\n",
    "(SELECT MIN(sub.event_date)\n",
    "     FROM Activity sub\n",
    "     WHERE sub.player_id = main.player_id\n",
    "     AND sub.event_date > MIN(main.event_date)\n",
    "```\n",
    "The output of this subquerry should look like this:\n",
    "| player_id | second_day |\n",
    "|-----------|------------|\n",
    "| 1         | 2016-03-02 |\n",
    "| 2         | NULL       |\n",
    "| 3         | 2018-07-03 |\n",
    "\n",
    "Subquerry 2: Find the first login day and group first and second login day to the same table\n",
    "```\n",
    "SELECT\n",
    "    main.player_id,\n",
    "    MIN(main.event_date) AS first_day,\n",
    "    (SELECT MIN(sub.event_date)\n",
    "     FROM Activity sub\n",
    "     WHERE sub.player_id = main.player_id\n",
    "     AND sub.event_date > MIN(main.event_date)) AS second_day\n",
    "FROM Activity main\n",
    "GROUP BY main.player_id\n",
    "```\n",
    "The output should look like this now\n",
    "| player_id | first_day  | second_day |\n",
    "|-----------|------------|------------|\n",
    "| 1         | 2016-03-01 | 2016-03-02 |\n",
    "| 2         | 2017-06-25 | NULL       |\n",
    "| 3         | 2016-03-02 | 2018-07-03 |\n",
    "\n",
    "Subquerry 3: Check if the player logged in on the day after the first login\n",
    "```\n",
    "SELECT \n",
    "    (CASE WHEN DATE_ADD(first_day, INTERVAL 1 DAY) = second_day THEN 1 ELSE 0 END) AS consecutive_login\n",
    "FROM(\n",
    "    SELECT\n",
    "    main.player_id,\n",
    "    MIN(main.event_date) AS first_day,\n",
    "    (SELECT MIN(sub.event_date)\n",
    "     FROM Activity sub\n",
    "     WHERE sub.player_id = main.player_id\n",
    "     AND sub.event_date > MIN(main.event_date)) AS second_day\n",
    "FROM Activity main\n",
    "GROUP BY main.player_id) AS second_day\n",
    "```\n",
    "The output should be:\n",
    "| consecutive_login |\n",
    "|-------------------|\n",
    "| 1                 |\n",
    "| 0                 |\n",
    "| 0                 |\n",
    "\n",
    "Main querry: Calculate the fraction as specified, the output should be:\n",
    "\n",
    "| fraction  |\n",
    "|-----------|\n",
    "| 0.33      |"
   ]
  },
  {
   "cell_type": "markdown",
   "id": "61c642ae-ee36-468e-b91b-41b60163338e",
   "metadata": {},
   "source": [
    "**Note**:\n",
    "\n",
    "This solution from [@deepankyadav](https://leetcode.com/u/deepankyadav/) with the use of `DATE_SUB()` and `INTERVAL()` provide a shorter version:\n",
    "```\n",
    "SELECT\n",
    "  ROUND(COUNT(DISTINCT player_id) / (SELECT COUNT(DISTINCT player_id) FROM Activity), 2) AS fraction\n",
    "FROM\n",
    "  Activity\n",
    "WHERE\n",
    "  (player_id, DATE_SUB(event_date, INTERVAL 1 DAY))\n",
    "  IN (\n",
    "    SELECT player_id, MIN(event_date) AS first_login FROM Activity GROUP BY player_id\n",
    "    )\n",
    "```\n",
    "This approach also gives a boost of about 1.4 runtimes compare to the subquerries approach. More detail [here](https://leetcode.com/problems/game-play-analysis-iv/solutions/3673167/best-optimum-solution-with-explanation/)."
   ]
  },
  {
   "cell_type": "markdown",
   "id": "be14b060-1cda-4f7b-8656-61d925ff0aa6",
   "metadata": {},
   "source": [
    "---"
   ]
  },
  {
   "cell_type": "markdown",
   "id": "92a5c5ea-816c-4733-b991-9755993d2ab7",
   "metadata": {
    "jp-MarkdownHeadingCollapsed": true
   },
   "source": [
    "# SECTION 4: SORTING AND GROUPING"
   ]
  },
  {
   "cell_type": "markdown",
   "id": "d1bee09c-f7e5-49e7-8d2f-9936e73354fe",
   "metadata": {},
   "source": [
    "## Problem 23"
   ]
  },
  {
   "cell_type": "markdown",
   "id": "49f255d8-8f47-4517-8f67-6ba2d88bc014",
   "metadata": {},
   "source": [
    "*[(2356. Number of Unique Subjects Taught by Each Teacher)](https://leetcode.com/problems/number-of-unique-subjects-taught-by-each-teacher)*"
   ]
  },
  {
   "cell_type": "markdown",
   "id": "3f8ba2a6-af14-4909-a784-42cd0d047d5e",
   "metadata": {},
   "source": [
    "### Problem statement"
   ]
  },
  {
   "cell_type": "markdown",
   "id": "6e61196e-103f-4d5c-a923-b4ad985f84ee",
   "metadata": {},
   "source": [
    "Table: `Teacher`\n",
    "\n",
    "| Column Name | Type |\n",
    "|-------------|------|\n",
    "| teacher_id  | int  |\n",
    "| subject_id  | int  |\n",
    "| dept_id     | int  |\n",
    "\n",
    "`(subject_id, dept_id)` is the primary key (combinations of columns with unique values) of this table.\n",
    "\n",
    "Each row in this table indicates that the teacher with `teacher_id` teaches the subject `subject_id` in the department `dept_id`.\n",
    "\n",
    "Write a solution to **calculate the number of unique subjects each teacher teaches in the university.**\n",
    "\n",
    "Return the result table in **any order.**\n",
    "\n",
    "The result format is shown in the following example.\n",
    "\n",
    "**Example 1:**\n",
    "\n",
    "**Input:** \n",
    "\n",
    "`Teacher` table:\n",
    "| teacher_id | subject_id | dept_id |\n",
    "|------------|------------|---------|\n",
    "| 1          | 2          | 3       |\n",
    "| 1          | 2          | 4       |\n",
    "| 1          | 3          | 3       |\n",
    "| 2          | 1          | 1       |\n",
    "| 2          | 2          | 1       |\n",
    "| 2          | 3          | 1       |\n",
    "| 2          | 4          | 1       |\n",
    "\n",
    "**Output:**  \n",
    "| teacher_id | cnt |\n",
    "|------------|-----|\n",
    "| 1          | 2   |\n",
    "| 2          | 4   |\n",
    "\n",
    "**Explanation:** \n",
    "- Teacher 1:\n",
    "  - They teach subject 2 in departments 3 and 4.\n",
    "  - They teach subject 3 in department 3.\n",
    "- Teacher 2:\n",
    "  - They teach subject 1 in department 1.\n",
    "  - They teach subject 2 in department 1.\n",
    "  - They teach subject 3 in department 1.\n",
    "  - They teach subject 4 in department 1.\n"
   ]
  },
  {
   "cell_type": "markdown",
   "id": "76c93822-f5f5-4a40-b48a-b70e069f79e0",
   "metadata": {},
   "source": [
    "### Solution"
   ]
  },
  {
   "cell_type": "code",
   "execution_count": null,
   "id": "7bc38f16-11e8-496b-b3d1-5be82b024cd6",
   "metadata": {},
   "outputs": [],
   "source": [
    "SELECT teacher_id, COUNT(DISTINCT subject_id) as cnt\n",
    "FROM Teacher\n",
    "GROUP BY teacher_id;"
   ]
  },
  {
   "cell_type": "markdown",
   "id": "3a81e70d-eeb2-4c98-b068-67328bdcae36",
   "metadata": {},
   "source": [
    "## Problem 24"
   ]
  },
  {
   "cell_type": "markdown",
   "id": "5f0f28fe-bc26-48c5-82d5-4e804ee083cc",
   "metadata": {},
   "source": [
    "*[(1141. User Activity for the Past 30 Days I)](https://leetcode.com/problems/user-activity-for-the-past-30-days-i)*"
   ]
  },
  {
   "cell_type": "markdown",
   "id": "a49fc0df-ecd9-47bf-a569-d5fa6c72de39",
   "metadata": {},
   "source": [
    "### Problem statement"
   ]
  },
  {
   "cell_type": "markdown",
   "id": "78f47d32-8737-482c-843b-d50b1c1226cb",
   "metadata": {},
   "source": [
    "Table: `Activity`\n",
    "\n",
    "| Column Name   | Type    |\n",
    "|---------------|---------|\n",
    "| user_id       | int     |\n",
    "| session_id    | int     |\n",
    "| activity_date | date    |\n",
    "| activity_type | enum    |\n",
    "\n",
    "This table may have duplicate rows.\n",
    "The `activity_type` column is an ENUM (category) of type ('open_session', 'end_session', 'scroll_down', 'send_message').\n",
    "The table shows the user activities for a social media website. \n",
    "Note that each session belongs to exactly one user.\n",
    "\n",
    "Write a solution to **find the daily active user count for a period of 30 days ending 2019-07-27 inclusively**. A user was active on some day if they made at least one activity on that day.\n",
    "\n",
    "Return the result table in **any order.**\n",
    "\n",
    "The result format is in the following example.\n",
    "\n",
    "**Example 1:**\n",
    "\n",
    "**Input:**\n",
    "    \n",
    "`Activity` table:\n",
    "| user_id | session_id | activity_date | activity_type |\n",
    "|---------|------------|---------------|---------------|\n",
    "| 1       | 1          | 2019-07-20    | open_session  |\n",
    "| 1       | 1          | 2019-07-20    | scroll_down   |\n",
    "| 1       | 1          | 2019-07-20    | end_session   |\n",
    "| 2       | 4          | 2019-07-20    | open_session  |\n",
    "| 2       | 4          | 2019-07-21    | send_message  |\n",
    "| 2       | 4          | 2019-07-21    | end_session   |\n",
    "| 3       | 2          | 2019-07-21    | open_session  |\n",
    "| 3       | 2          | 2019-07-21    | send_message  |\n",
    "| 3       | 2          | 2019-07-21    | end_session   |\n",
    "| 4       | 3          | 2019-06-25    | open_session  |\n",
    "| 4       | 3          | 2019-06-25    | end_session   |\n",
    "\n",
    "**Output:** \n",
    "| day        | active_users |\n",
    "|------------|--------------| \n",
    "| 2019-07-20 | 2            |\n",
    "| 2019-07-21 | 2            |\n",
    "\n",
    "**Explanation:** \n",
    "Note that we do not care about days with zero active users."
   ]
  },
  {
   "cell_type": "markdown",
   "id": "d639ce2d-192d-4295-b833-055d3374137d",
   "metadata": {},
   "source": [
    "### Solution"
   ]
  },
  {
   "cell_type": "code",
   "execution_count": null,
   "id": "f1c33dcd-73ff-4caa-bf8e-9cc6568ac1f1",
   "metadata": {},
   "outputs": [],
   "source": [
    "SELECT activity_date as day, COUNT(DISTINCT user_id) as active_users\n",
    "FROM Activity\n",
    "WHERE activity_date BETWEEN DATE_SUB('2019-07-27', INTERVAL 29 DAY) AND '2019-07-27'\n",
    "GROUP BY activity_date\n",
    "HAVING active_users > 0;"
   ]
  },
  {
   "cell_type": "markdown",
   "id": "23bd9cb2-3d4a-4722-99b6-e263a1e98f49",
   "metadata": {},
   "source": [
    "## Problem 25"
   ]
  },
  {
   "cell_type": "markdown",
   "id": "719310e5-1899-4484-bbae-d4b7c53de76a",
   "metadata": {},
   "source": [
    "*[(1070. Product Sales Analysis III)](https://leetcode.com/problems/product-sales-analysis-iii)*"
   ]
  },
  {
   "cell_type": "markdown",
   "id": "abb950b8-6dea-4ea4-b6bd-038d1df7a248",
   "metadata": {},
   "source": [
    "### Problem statement"
   ]
  },
  {
   "cell_type": "markdown",
   "id": "f5c1f551-86d6-4914-b4e9-7d3b62efd745",
   "metadata": {},
   "source": [
    "Table: `Sales`\n",
    "\n",
    "| Column Name | Type |\n",
    "|-------------|------|\n",
    "| sale_id     | int  |\n",
    "| product_id  | int  |\n",
    "| year        | int  |\n",
    "| quantity    | int  |\n",
    "| price       | int  |\n",
    "\n",
    "(`sale_id`, `year`) is the primary key (combination of columns with unique values) of this table.  \n",
    "`product_id` is a foreign key (reference column) to `Product` table.  \n",
    "Each row of this table shows a sale on the product `product_id` in a certain `year`.\n",
    "Note that the price is per unit.\n",
    "\n",
    "Table: `Product`\n",
    "\n",
    "| Column Name  | Type    |\n",
    "|--------------|---------|\n",
    "| product_id   | int     |\n",
    "| product_name | varchar |\n",
    "\n",
    "`product_id` is the primary key (column with unique values) of this table.  \n",
    "Each row of this table indicates the product name of each product.\n",
    "\n",
    "Write a solution to **select the product id, year, quantity, and price for the first year of every product sold**.\n",
    "\n",
    "Return the resulting table in **any order**.\n",
    "\n",
    "The result format is in the following example.\n",
    "\n",
    "**Example 1:**\n",
    "\n",
    "**Input:**\n",
    "    \n",
    "`Sales` table:\n",
    "| sale_id | product_id | year | quantity | price |\n",
    "|---------|------------|------|----------|-------|\n",
    "| 1       | 100        | 2008 | 10       | 5000  |\n",
    "| 2       | 100        | 2009 | 12       | 5000  |\n",
    "| 7       | 200        | 2011 | 15       | 9000  |\n",
    "\n",
    "`Product` table:\n",
    "| product_id | product_name |\n",
    "|------------|--------------|\n",
    "| 100        | Nokia        |\n",
    "| 200        | Apple        |\n",
    "| 300        | Samsung      |\n",
    "\n",
    "**Output:** \n",
    "| product_id | first_year | quantity | price |\n",
    "|------------|------------|----------|-------|\n",
    "| 100        | 2008       | 10       | 5000  |\n",
    "| 200        | 2011       | 15       | 9000  |\n"
   ]
  },
  {
   "cell_type": "markdown",
   "id": "5de02056-c720-4d04-82e4-e953bf4573a8",
   "metadata": {},
   "source": [
    "### Solution"
   ]
  },
  {
   "cell_type": "code",
   "execution_count": null,
   "id": "13523e7d-62c4-45f3-9fcf-f4750bd6aafe",
   "metadata": {},
   "outputs": [],
   "source": [
    "SELECT s.product_id, f.first_year, s.quantity, s.price\n",
    "FROM SALES s\n",
    "INNER JOIN(\n",
    "  SELECT product_id, MIN(year) AS first_year\n",
    "  FROM Sales\n",
    "  GROUP BY product_id) f\n",
    "ON s.product_id = f.product_id AND s.year = f.first_year"
   ]
  },
  {
   "cell_type": "markdown",
   "id": "70834efb-87b0-47f1-bc50-5cea96cc2d93",
   "metadata": {},
   "source": [
    "**Idea**: We find first year for each product_id, then use INNER JOIN to select necessary columns. The subquerry should return the output below for Example 1:\n",
    "\n",
    "| product_id | first_year |\r\n",
    "|------------|------------|\r\n",
    "| 100        | 2008       |\r\n",
    "| 200        | 2011       |\r\n"
   ]
  },
  {
   "cell_type": "markdown",
   "id": "a2e352a6-312d-4ae4-bfad-1c55daa0b8b4",
   "metadata": {},
   "source": [
    "## Problem 26"
   ]
  },
  {
   "cell_type": "markdown",
   "id": "51a8fab8-8669-4a48-bef9-ca053f048ff3",
   "metadata": {},
   "source": [
    "*[(596. Classes More Than 5 Students)](https://leetcode.com/problems/classes-more-than-5-students)*"
   ]
  },
  {
   "cell_type": "markdown",
   "id": "1512e434-8c52-4958-9cfa-dcfcdb8bda6c",
   "metadata": {},
   "source": [
    "### Problem statement"
   ]
  },
  {
   "cell_type": "markdown",
   "id": "fafa3d99-6c1e-47ee-9ea2-416f71d7675c",
   "metadata": {},
   "source": [
    "Table: `Courses`\n",
    "\n",
    "| Column Name | Type    |\n",
    "|-------------|---------|\n",
    "| student     | varchar |\n",
    "| class       | varchar |\n",
    "\n",
    "`(student, class)` is the primary key (combination of columns with unique values) for this table.  \n",
    "Each row of this table indicates the name of a student and the class in which they are enrolled.\n",
    "\n",
    "Write a solution to **find all the classes that have at least five students**.\n",
    "\n",
    "Return the result table in **any order**.\n",
    "\n",
    "The result format is in the following example.\n",
    "\n",
    "**Example 1:**\n",
    "\n",
    "**Input:**\n",
    "\n",
    "`Courses` table:\n",
    "| student | class    |\n",
    "|---------|----------|\n",
    "| A       | Math     |\n",
    "| B       | English  |\n",
    "| C       | Math     |\n",
    "| D       | Biology  |\n",
    "| E       | Math     |\n",
    "| F       | Computer |\n",
    "| G       | Math     |\n",
    "| H       | Math     |\n",
    "| I       | Math     |\n",
    "\n",
    "**Output:**  \n",
    "| class |\n",
    "|-------|\n",
    "| Math  |\n",
    "\n",
    "**Explanation:**  \n",
    "- Math has 6 students, so we include it.\n",
    "- English has 1 student, so we do not include it.\n",
    "- Biology has 1 student, so we do not include it.\n",
    "- Computer has 1 student, so we do not include it.\n"
   ]
  },
  {
   "cell_type": "markdown",
   "id": "2f18b83a-6dd1-470b-b999-f9c57d703ad0",
   "metadata": {},
   "source": [
    "### Solution"
   ]
  },
  {
   "cell_type": "code",
   "execution_count": null,
   "id": "1a02b33d-f4b2-45cb-acd3-4a5d93a82028",
   "metadata": {},
   "outputs": [],
   "source": [
    "SELECT class\n",
    "FROM Courses\n",
    "GROUP BY class\n",
    "HAVING COUNT(student) >= 5"
   ]
  },
  {
   "cell_type": "markdown",
   "id": "789389d6-3d82-4ad7-a44f-552e76be11a8",
   "metadata": {},
   "source": [
    "## Problem 27"
   ]
  },
  {
   "cell_type": "markdown",
   "id": "e05a15c8-a3ef-4eab-88a9-87d0dd218edc",
   "metadata": {},
   "source": [
    "*[(1729. Find Followers Count)](https://leetcode.com/problems/find-followers-count)*"
   ]
  },
  {
   "cell_type": "markdown",
   "id": "ecc2d97d-c213-4016-9887-a16fa27ce369",
   "metadata": {},
   "source": [
    "### Problem statement"
   ]
  },
  {
   "cell_type": "markdown",
   "id": "4949cd8f-9775-4b74-8f32-1efa989070a5",
   "metadata": {},
   "source": [
    "Table: `Followers`\n",
    "\n",
    "| Column Name | Type |\n",
    "|-------------|------|\n",
    "| user_id     | int  |\n",
    "| follower_id | int  |\n",
    "\n",
    "`(user_id, follower_id)` is the primary key (combination of columns with unique values) for this table.\n",
    "\n",
    "This table contains the IDs of a user and a follower in a social media app where the follower follows the user.\n",
    "\n",
    "Write a solution that will, **for each user, return the number of followers.**\n",
    "\n",
    "Return the result table **ordered by `user_id` in ascending order.**\n",
    "\n",
    "The result format is in the following example.\n",
    "\n",
    "**Example 1:**\n",
    "\n",
    "**Input:**\n",
    "\n",
    "`Followers` table:\n",
    "| user_id | follower_id |\n",
    "|---------|-------------|\n",
    "| 0       | 1           |\n",
    "| 1       | 0           |\n",
    "| 2       | 0           |\n",
    "| 2       | 1           |\n",
    "\n",
    "**Output:** \n",
    "| user_id | followers_count|\n",
    "|---------|----------------|\n",
    "| 0       | 1              |\n",
    "| 1       | 1              |\n",
    "| 2       | 2              |\n",
    "\n",
    "**Explanation:** \n",
    "- The followers of 0 are {1}\n",
    "- The followers of 1 are {0}\n",
    "- The followers of 2 are {0,1}\n"
   ]
  },
  {
   "cell_type": "markdown",
   "id": "1b1ff1f6-04c2-4185-9736-efcf698d3d96",
   "metadata": {},
   "source": [
    "### Solution"
   ]
  },
  {
   "cell_type": "code",
   "execution_count": null,
   "id": "33ab425f-631b-49e5-9934-601368f829c4",
   "metadata": {},
   "outputs": [],
   "source": [
    "SELECT user_id, COUNT(follower_id) AS followers_count\n",
    "FROM Followers\n",
    "GROUP BY user_id\n",
    "ORDER BY user_id"
   ]
  },
  {
   "cell_type": "markdown",
   "id": "c3c70995-0aaa-442e-b5d3-cde201d39da1",
   "metadata": {},
   "source": [
    "## Problem 28"
   ]
  },
  {
   "cell_type": "markdown",
   "id": "6f60641b-5050-4a05-90fb-7c858efcde6c",
   "metadata": {},
   "source": [
    "*[(619. Biggest Single Number)](https://leetcode.com/problems/biggest-single-number)*"
   ]
  },
  {
   "cell_type": "markdown",
   "id": "f0dbea62-2397-4108-8f43-fa0ded1bb6b7",
   "metadata": {},
   "source": [
    "### Problem statement"
   ]
  },
  {
   "cell_type": "markdown",
   "id": "f15b3635-9da6-448a-8f3a-6132d9055b41",
   "metadata": {},
   "source": [
    "Table: `MyNumbers`\n",
    "\n",
    "| Column Name | Type |\n",
    "|-------------|------|\n",
    "| num         | int  |\n",
    "\n",
    "This table may contain duplicates (In other words, there is no primary key for this table in SQL).  \n",
    "Each row of this table contains an integer.\n",
    "\n",
    "A single number is a number that appeared only once in the `MyNumbers` table.\n",
    "\n",
    "Find the **largest single number**. If there is no single number, report null.\n",
    "\n",
    "The result format is in the following example.\n",
    "\n",
    "**Example 1:**\n",
    "\n",
    "**Input:** \n",
    "\n",
    "`MyNumbers` table:\n",
    "| num |\n",
    "|-----|\n",
    "| 8   |\n",
    "| 8   |\n",
    "| 3   |\n",
    "| 3   |\n",
    "| 1   |\n",
    "| 4   |\n",
    "| 5   |\n",
    "| 6   |\n",
    "\n",
    "**Output:** \n",
    "| num |\n",
    "|-----|\n",
    "| 6   |\n",
    "\n",
    "**Explanation:**  \n",
    "The single numbers are 1, 4, 5, and 6.  \n",
    "Since 6 is the largest single number, we return it.\n",
    "\n",
    "**Example 2:**\n",
    "\n",
    "**Input:** \n",
    "\n",
    "`MyNumbers` table:\n",
    "| num |\n",
    "|-----|\n",
    "| 8   |\n",
    "| 8   |\n",
    "| 7   |\n",
    "| 7   |\n",
    "| 3   |\n",
    "| 3   |\n",
    "| 3   |\n",
    "\n",
    "**Output:** \n",
    "| num  |\n",
    "|------|\n",
    "| null |\n",
    "\n",
    "**Explanation:**  \n",
    "There are no single numbers in the input table so we return null."
   ]
  },
  {
   "cell_type": "markdown",
   "id": "258078e4-a9cd-4977-bc4e-25a938fbdee4",
   "metadata": {},
   "source": [
    "### Solution"
   ]
  },
  {
   "cell_type": "code",
   "execution_count": null,
   "id": "f0ccb4ec-ecd2-4dda-9cba-0a516214e95d",
   "metadata": {},
   "outputs": [],
   "source": [
    "SELECT Max(num) AS num \n",
    "FROM (\n",
    "  SELECT num\n",
    "  FROM MyNumbers\n",
    "  GROUP BY num\n",
    "  HAVING COUNT(num) = 1) as tempo"
   ]
  },
  {
   "cell_type": "markdown",
   "id": "f9ed9255-ebc0-415d-9726-786d889bc780",
   "metadata": {},
   "source": [
    "**Idea**: We use subquerry to sort out single numbers only, then return the maximum value in this table. If there isn't any single number, the subquerry will return null, hence the main querry the same."
   ]
  },
  {
   "cell_type": "markdown",
   "id": "28dd9bd6-d358-4fb2-8021-b46840256a13",
   "metadata": {},
   "source": [
    "## Problem 29"
   ]
  },
  {
   "cell_type": "markdown",
   "id": "f696cc0a-c2ca-493d-a482-a3b00cae1a93",
   "metadata": {},
   "source": [
    "*[(1045. Customers Who Bought All Products)](https://leetcode.com/problems/customers-who-bought-all-products)*"
   ]
  },
  {
   "cell_type": "markdown",
   "id": "1c462573-8338-4daa-99f4-1558da69f20a",
   "metadata": {},
   "source": [
    "### Problem statement"
   ]
  },
  {
   "cell_type": "markdown",
   "id": "b0987c8f-e5d1-4c72-aad0-f706e5e0ffce",
   "metadata": {},
   "source": [
    "Table: `Customer`\n",
    "\n",
    "| Column Name | Type    |\n",
    "|-------------|---------|\n",
    "| customer_id | int     |\n",
    "| product_key | int     |\n",
    "\n",
    "This table may contain duplicate rows.  \n",
    "`customer_id` is not NULL.  \n",
    "`product_key` is a foreign key (reference column) to `Product` table.\n",
    "\n",
    "Table: `Product`\n",
    "\n",
    "| Column Name | Type    |\n",
    "|-------------|---------|\n",
    "| product_key | int     |\n",
    "\n",
    "`product_key` is the primary key (column with unique values) for this table.\n",
    "\n",
    "Write a solution to report the customer ids from the `Customer` table that **bought all the products** in the `Product` table.\n",
    "\n",
    "Return the result table in **any order.**\n",
    "\n",
    "The result format is in the following example.\n",
    "\n",
    "**Example 1:**\n",
    "\n",
    "**Input:** \n",
    "\n",
    "`Customer` table:\n",
    "| customer_id | product_key |\n",
    "|-------------|-------------|\n",
    "| 1           | 5           |\n",
    "| 2           | 6           |\n",
    "| 3           | 5           |\n",
    "| 3           | 6           |\n",
    "| 1           | 6           |\n",
    "\n",
    "`Product` table:\n",
    "| product_key |\n",
    "|-------------|\n",
    "| 5           |\n",
    "| 6           |\n",
    "\n",
    "**Output:** \n",
    "| customer_id |\n",
    "|-------------|\n",
    "| 1           |\n",
    "| 3           |\n",
    "\n",
    "**Explanation:**  \n",
    "The customers who bought all the products (5 and 6) are customers with IDs 1 and 3.\n"
   ]
  },
  {
   "cell_type": "markdown",
   "id": "19e2f198-4694-449a-9b58-db239e4c6e69",
   "metadata": {},
   "source": [
    "### Solution"
   ]
  },
  {
   "cell_type": "code",
   "execution_count": null,
   "id": "2a187925-c605-4e30-b715-d4f2b6b178e0",
   "metadata": {},
   "outputs": [],
   "source": [
    "SELECT customer_id\n",
    "FROM Customer\n",
    "GROUP BY customer_id\n",
    "HAVING COUNT(DISTINCT product_key) = (SELECT COUNT(product_key) FROM Product) "
   ]
  },
  {
   "cell_type": "markdown",
   "id": "e3a995ab-a9fe-42af-929d-4651b706c804",
   "metadata": {},
   "source": [
    "**Idea**: We use a subquerry in HAVING statement to retrieve the total count of `product_key` values in the `Product` table. Using the example above, the subquerry output should be:\n",
    "\n",
    "| COUNT(product_key) |\n",
    "|--------------------|\n",
    "|         2          |\n",
    "\n",
    "Then, we compare this count to the distinct count of `product_key` by `customer_id`, filtering out only those where these counts are equal. This indicates that they have purchased every product in the store."
   ]
  },
  {
   "cell_type": "markdown",
   "id": "f2e536f2-53b0-4515-8bdc-24b93c5d85cd",
   "metadata": {},
   "source": [
    "---"
   ]
  },
  {
   "cell_type": "markdown",
   "id": "662a4246-f7ec-407e-ad93-638f3fcb6882",
   "metadata": {
    "jp-MarkdownHeadingCollapsed": true
   },
   "source": [
    "# SETION 5: ADVANCED SELECT AND JOINS"
   ]
  },
  {
   "cell_type": "markdown",
   "id": "adf31bf9-2102-4155-b59d-04c88cb74b96",
   "metadata": {},
   "source": [
    "## Problem 30"
   ]
  },
  {
   "cell_type": "markdown",
   "id": "9f396b9f-c67b-45ad-adbf-6125ef5dd2d9",
   "metadata": {},
   "source": [
    "*[(1731. The Number of Employees Which Report to Each Employee)](https://leetcode.com/problems/the-number-of-employees-which-report-to-each-employee)*"
   ]
  },
  {
   "cell_type": "markdown",
   "id": "efc252c9-2739-4945-a2f2-cb5bfa2b03b5",
   "metadata": {},
   "source": [
    "### Problem statement"
   ]
  },
  {
   "cell_type": "markdown",
   "id": "b749f756-9326-40b7-84b6-ef2008d6006f",
   "metadata": {},
   "source": [
    "Table: `Employees`\n",
    "\n",
    "| Column Name | Type    |\n",
    "|-------------|---------|\n",
    "| employee_id | int     |\n",
    "| name        | varchar |\n",
    "| reports_to  | int     |\n",
    "| age         | int     |\n",
    "\n",
    "`employee_id` is the column with unique values for this table.  \n",
    "This table contains information about the employees and the id of the manager they report to. Some employees do not report to anyone (`reports_to` is null).\n",
    "\n",
    "For this problem, we will consider **a manager an employee who has at least 1 other employee reporting to them.**\n",
    "\n",
    "Write a solution to **report the ids and the names of all managers, the number of employees who report directly to them, and the average age of the reports rounded to the nearest integer.**\n",
    "\n",
    "Return the result table **ordered by `employee_id`.**\n",
    "\n",
    "The result format is in the following example.\n",
    "\n",
    "**Example 1:**\n",
    "\n",
    "**Input:** \n",
    "\n",
    "`Employees` table:\n",
    "| employee_id | name    | reports_to | age |\n",
    "|-------------|---------|------------|-----|\n",
    "| 9           | Hercy   | null       | 43  |\n",
    "| 6           | Alice   | 9          | 41  |\n",
    "| 4           | Bob     | 9          | 36  |\n",
    "| 2           | Winston | null       | 37  |\n",
    "\n",
    "**Output:** \n",
    "| employee_id | name  | reports_count | average_age |\n",
    "|-------------|-------|---------------|-------------|\n",
    "| 9           | Hercy | 2             | 39          |\n",
    "\n",
    "**Explanation:**  \n",
    "Hercy has 2 people report directly to him, Alice and Bob. Their average age is (41+36)/2 = 38.5, which is 39 after rounding it to the nearest integer.\n",
    "\n",
    "**Example 2:**\n",
    "\n",
    "**Input:** \n",
    "\n",
    "`Employees` table:\n",
    "| employee_id | name    | reports_to | age |\n",
    "|-------------|---------|------------|-----|\n",
    "| 1           | Michael | null       | 45  |\n",
    "| 2           | Alice   | 1          | 38  |\n",
    "| 3           | Bob     | 1          | 42  |\n",
    "| 4           | Charlie | 2          | 34  |\n",
    "| 5           | David   | 2          | 40  |\n",
    "| 6           | Eve     | 3          | 37  |\n",
    "| 7           | Frank   | null       | 50  |\n",
    "| 8           | Grace   | null       | 48  |\n",
    "\n",
    "**Output:** \n",
    "| employee_id | name    | reports_count | average_age |\n",
    "|-------------|---------|---------------|-------------|\n",
    "| 1           | Michael | 2             | 40          |\n",
    "| 2           | Alice   | 2             | 37          |\n",
    "| 3           | Bob     | 1             | 37          |\n"
   ]
  },
  {
   "cell_type": "markdown",
   "id": "4bb69a8b-cdf1-4a7b-b21f-1eb94d89fbeb",
   "metadata": {},
   "source": [
    "### Solution"
   ]
  },
  {
   "cell_type": "code",
   "execution_count": null,
   "id": "e4f1627a-2ac1-40ed-ab3c-2c289b454d96",
   "metadata": {},
   "outputs": [],
   "source": [
    "SELECT  e1.employee_id, \n",
    "        e1.name, \n",
    "        COUNT(e2.reports_to) AS reports_count, \n",
    "        ROUND(AVG(e2.age)) as average_age\n",
    "FROM Employees e1\n",
    "INNER JOIN Employees e2 ON e1.employee_id = e2.reports_to\n",
    "GROUP BY e1.employee_id\n",
    "ORDER BY employee_id"
   ]
  },
  {
   "cell_type": "markdown",
   "id": "b6c4f6ac-47fd-4367-8896-65db734b8d1a",
   "metadata": {},
   "source": [
    "**Idea**: We use INNER JOIN to summarize who report to who, and also to exclude `NULL` in reports_to. Once this is done, basically we would have employee_id of mangager, as they need at least 1 `reports_count` taking form `reports_to`, respected to the definition in Problem statement. The `average_age` is then simply calculated as specify. (We treats `e1` table as manager table, and `e2` table as employee table, noted that a manager can also be an employee of his/her N+1)"
   ]
  },
  {
   "cell_type": "markdown",
   "id": "8863909a-6eab-476d-99e5-97aacc3a5aca",
   "metadata": {},
   "source": [
    "## Problem 31"
   ]
  },
  {
   "cell_type": "markdown",
   "id": "e4e41438-04e5-4028-9f12-7b496b055cf1",
   "metadata": {},
   "source": [
    "*[(1789. Primary Department for Each Employee)](https://leetcode.com/problems/primary-department-for-each-employee)*"
   ]
  },
  {
   "cell_type": "markdown",
   "id": "de3e70ff-abd1-4f28-9644-2a69eb33a212",
   "metadata": {},
   "source": [
    "### Problem statement"
   ]
  },
  {
   "cell_type": "markdown",
   "id": "65459026-1258-4ea2-bc62-17c2571c7599",
   "metadata": {},
   "source": [
    "Table: `Employee`\n",
    "\n",
    "| Column Name   | Type    |\n",
    "|---------------|---------|\n",
    "| employee_id   | int     |\n",
    "| department_id | int     |\n",
    "| primary_flag  | varchar |\n",
    "\n",
    "`(employee_id, department_id)` is the primary key (combination of columns with unique values) for this table.  \n",
    "`employee_id` is the id of the employee.  \n",
    "`department_id` is the id of the department to which the employee belongs.  \n",
    "`primary_flag` is an ENUM (category) of type ('Y', 'N'). If the flag is 'Y', the department is the primary department for the employee. If the flag is 'N', the department is not the primary.  \n",
    "\n",
    "Employees can belong to multiple departments. When the employee joins other departments, they need to decide which department is their primary department. Note that when an employee belongs to only one department, their primary column is 'N'.\n",
    "\n",
    "Write a solution to **report all the employees with their primary department.** For employees who belong to one department, report their only department.\n",
    "\n",
    "Return the result table in **any order.**\n",
    "\n",
    "The result format is in the following example.\n",
    "\n",
    "**Example 1:**\n",
    "\n",
    "**Input:** \n",
    "\n",
    "`Employee` table:\n",
    "| employee_id | department_id | primary_flag |\n",
    "|-------------|---------------|--------------|\n",
    "| 1           | 1             | N            |\n",
    "| 2           | 1             | Y            |\n",
    "| 2           | 2             | N            |\n",
    "| 3           | 3             | N            |\n",
    "| 4           | 2             | N            |\n",
    "| 4           | 3             | Y            |\n",
    "| 4           | 4             | N            |\n",
    "\n",
    "**Output:** \n",
    "| employee_id | department_id |\n",
    "|-------------|---------------|\n",
    "| 1           | 1             |\n",
    "| 2           | 1             |\n",
    "| 3           | 3             |\n",
    "| 4           | 3             |\n"
   ]
  },
  {
   "cell_type": "markdown",
   "id": "2e40cd1f-560b-4c51-852b-d47cb3506f51",
   "metadata": {},
   "source": [
    "### Solution"
   ]
  },
  {
   "cell_type": "code",
   "execution_count": null,
   "id": "ea5d50f1-75c3-48e3-af73-fb9cf631668e",
   "metadata": {},
   "outputs": [],
   "source": [
    "# Choose all employees with only 1 department\n",
    "SELECT employee_id, department_id\n",
    "FROM Employee\n",
    "GROUP BY employee_id\n",
    "HAVING COUNT(*) = 1\n",
    "# Group with\n",
    "UNION\n",
    "# Employees with the line where indicated their primary department\n",
    "SELECT employee_id, department_id\n",
    "FROM Employee\n",
    "WHERE primary_flag = 'Y';"
   ]
  },
  {
   "cell_type": "markdown",
   "id": "3ab25898-0521-4d2b-b7ee-37fcfc096d6a",
   "metadata": {},
   "source": [
    "**Idea**: We filter out the employees seperatedly in two cases, then gather them up using UNION. Those who only has 1 department can be filtered out using `GROUP BY` and `HAVING COUNT(*) = 1`, while the others are filtered out using `WHERE primary_flag = 'Y'`."
   ]
  },
  {
   "cell_type": "markdown",
   "id": "3a949a95-a33a-44fb-a946-3ed1afb9c26c",
   "metadata": {},
   "source": [
    "## Problem 32"
   ]
  },
  {
   "cell_type": "markdown",
   "id": "48f0d22c-be89-4638-a4b9-c333d353c163",
   "metadata": {},
   "source": [
    "*[(610. Triangle Judgement)](https://leetcode.com/problems/triangle-judgement)*"
   ]
  },
  {
   "cell_type": "markdown",
   "id": "1b291dbd-8a3a-4c40-92ba-047fa46df857",
   "metadata": {},
   "source": [
    "### Problem statement"
   ]
  },
  {
   "cell_type": "markdown",
   "id": "40541402-0f0c-4b8f-a6eb-317b346c2bf0",
   "metadata": {},
   "source": [
    "Table: `Triangle`\n",
    "\n",
    "| Column Name | Type |\n",
    "|-------------|------|\n",
    "| x           | int  |\n",
    "| y           | int  |\n",
    "| z           | int  |\n",
    "\n",
    "In SQL, `(x, y, z)` is the primary key column for this table.\n",
    "Each row of this table contains the lengths of three line segments.\n",
    "\n",
    "Report for every three line segments whether they **can form a triangle.**\n",
    "\n",
    "Return the result table in **any order.**\n",
    "\n",
    "The result format is in the following example.\n",
    "\n",
    "**Example 1:**\n",
    "\n",
    "**Input:** \n",
    "\n",
    "`Triangle` table:\n",
    "| x  | y  | z  |\n",
    "|----|----|----|\n",
    "| 13 | 15 | 30 |\n",
    "| 10 | 20 | 15 |\n",
    "\n",
    "**Output:** \n",
    "| x  | y  | z  | triangle |\n",
    "|----|----|----|----------|\n",
    "| 13 | 15 | 30 | No       |\n",
    "| 10 | 20 | 15 | Yes      |\n"
   ]
  },
  {
   "cell_type": "markdown",
   "id": "65415f1c-2f93-4f80-bc7f-0e098f8085ac",
   "metadata": {},
   "source": [
    "### Solution"
   ]
  },
  {
   "cell_type": "code",
   "execution_count": null,
   "id": "6af69264-c25e-4973-8f70-fbe04e1f280b",
   "metadata": {},
   "outputs": [],
   "source": [
    "SELECT  x, y, z,\n",
    "        (CASE WHEN x+y>z AND x+z>y AND y+z>x THEN 'Yes' ELSE 'No' END) as triangle\n",
    "FROM Triangle"
   ]
  },
  {
   "cell_type": "markdown",
   "id": "fb30b39c-9e6f-4638-847f-74675e625364",
   "metadata": {},
   "source": [
    "## Problem 33"
   ]
  },
  {
   "cell_type": "markdown",
   "id": "221e37d4-0826-4174-98a8-93642fc13e31",
   "metadata": {},
   "source": [
    "*[(180. Consecutive Numbers)](https://leetcode.com/problems/consecutive-numbers)*"
   ]
  },
  {
   "cell_type": "markdown",
   "id": "45bc66ce-d56f-4919-a7fb-3db5de9ab47e",
   "metadata": {},
   "source": [
    "### Problem statement"
   ]
  },
  {
   "cell_type": "markdown",
   "id": "de80a20b-c483-422f-8941-1afcb1669e69",
   "metadata": {},
   "source": [
    "Table: `Logs`\n",
    "\n",
    "| Column Name | Type    |\n",
    "|-------------|---------|\n",
    "| id          | int     |\n",
    "| num         | varchar |\n",
    "\n",
    "In SQL, `id` is the primary key for this table.  \n",
    "`id` is an autoincrement column.\n",
    "\n",
    "Find all numbers that **appear at least three times consecutively.**\n",
    "\n",
    "Return the result table in **any order.**\n",
    "\n",
    "The result format is in the following example.\n",
    "\n",
    "**Example 1:**\n",
    "\n",
    "**Input:** \n",
    "\n",
    "`Logs` table:\n",
    "| id | num |\n",
    "|----|-----|\n",
    "| 1  | 1   |\n",
    "| 2  | 1   |\n",
    "| 3  | 1   |\n",
    "| 4  | 2   |\n",
    "| 5  | 1   |\n",
    "| 6  | 2   |\n",
    "| 7  | 2   |\n",
    "\n",
    "**Output:** \n",
    "| ConsecutiveNums |\n",
    "|-----------------|\n",
    "| 1               |\n",
    "\n",
    "**Explanation:**  \n",
    "1 is the only number that appears consecutively for at least three times.\n"
   ]
  },
  {
   "cell_type": "markdown",
   "id": "7529e473-b7d0-4f9a-99bc-ddd37649c3fd",
   "metadata": {},
   "source": [
    "### Solution"
   ]
  },
  {
   "cell_type": "code",
   "execution_count": null,
   "id": "a7aaef9e-439e-43e3-8ee8-7f19fb3614d6",
   "metadata": {},
   "outputs": [],
   "source": [
    "WITH list_3_num AS\n",
    "(SELECT\n",
    "    id,\n",
    "    num,\n",
    "    LEAD(num, 1) OVER (ORDER BY id) AS nextnum_1,\n",
    "    LEAD(num, 2) OVER (ORDER BY id) AS nextnum_2\n",
    "FROM Logs)\n",
    "SELECT DISTINCT num AS ConsecutiveNums\n",
    "FROM list_3_num\n",
    "WHERE num = nextnum_1 AND nextnum_1 = nextnum_2;"
   ]
  },
  {
   "attachments": {},
   "cell_type": "markdown",
   "id": "cd53f92d-ddf4-4b87-bbfd-451e41eec000",
   "metadata": {},
   "source": [
    "**Idea**: Two math problems in a row, interesting! In here we use `LEAD()` to SHIFT each number by 1 and 2 place, respectively. Afterward, we keep only distinct values of those who met the condition that value in position N equal the value in N+1 and N+2 place.  \n",
    "More precisely, the subquerry will return this output:\n",
    "\n",
    "| id | num | nextnum_1 | nextnum_2 |\n",
    "|----|-----|-----------|-----------|\n",
    "| 1  | 1   | 1         | 1         |\n",
    "| 2  | 1   | 1         | 1         |\n",
    "| 3  | 1   | 1         | 2         |\n",
    "| 4  | 2   | 1         | 1         |\n",
    "| 5  | 1   | 1         | 2         |\n",
    "| 6  | 2   | 2         | null      |\n",
    "| 7  | 2   | null      | null      |\n",
    "\n",
    "The `id` correspond to the place.  \n",
    "Taking `id = 1` for example, the `nextnum_1` is value of num at `id = 2`, and `nextnum_2` is `value` of num at `id = 3`.   As the `id = 8` doesn't exist, the `nextnum_2` of `id = 6` is `NULL`. Same logic applies to `nextnum_1` and `nextnum_2`of `id = 7`.  \n",
    "Finally, we just need to filter out distinct number with `num = nextnum_1 = nextnum_2`."
   ]
  },
  {
   "cell_type": "markdown",
   "id": "7cf60d7a-ee3f-41d0-bbfc-8335ad0e3e8d",
   "metadata": {},
   "source": [
    "## Problem 34"
   ]
  },
  {
   "cell_type": "markdown",
   "id": "de28eb9c-8a1b-4acb-ad55-e1c5547c74e2",
   "metadata": {},
   "source": [
    "*[(1164. Product Price at a Given Date)](https://leetcode.com/problems/product-price-at-a-given-date)*\n"
   ]
  },
  {
   "cell_type": "markdown",
   "id": "5b8ecfb9-7494-4bde-a15b-5661a1a93848",
   "metadata": {},
   "source": [
    "### Problem statement"
   ]
  },
  {
   "cell_type": "markdown",
   "id": "10f148ca-f5c6-4f4e-b911-2c4e021f6517",
   "metadata": {},
   "source": [
    "Table: `Products`\n",
    "\n",
    "| Column Name | Type    |\n",
    "|-------------|---------|\n",
    "| product_id  | int     |\n",
    "| new_price   | int     |\n",
    "| change_date | date    |\n",
    "\n",
    "`(product_id, change_date)` is the primary key (combination of columns with unique values) of this table.  \n",
    "Each row of this table indicates that the price of some product was changed to a new price at some date.\n",
    "\n",
    "Write a solution to find the **prices of all products on 2019-08-16.** Assume the price of all products before any change is 10.\n",
    "\n",
    "Return the result table in **any order.**\n",
    "\n",
    "The result format is in the following example.\n",
    "\n",
    "**Example 1:**\n",
    "\n",
    "**Input:**\n",
    "\n",
    "`Products` table:\n",
    "| product_id | new_price | change_date |\n",
    "|------------|-----------|-------------|\n",
    "| 1          | 20        | 2019-08-14  |\n",
    "| 2          | 50        | 2019-08-14  |\n",
    "| 1          | 30        | 2019-08-15  |\n",
    "| 1          | 35        | 2019-08-16  |\n",
    "| 2          | 65        | 2019-08-17  |\n",
    "| 3          | 20        | 2019-08-18  |\n",
    "\n",
    "**Output:** \n",
    "| product_id | price |\n",
    "|------------|-------|\n",
    "| 2          | 50    |\n",
    "| 1          | 35    |\n",
    "| 3          | 10    |\n",
    "\n"
   ]
  },
  {
   "cell_type": "markdown",
   "id": "f67a3c11-9e0c-42d7-a944-3a175808352e",
   "metadata": {},
   "source": [
    "### Solution"
   ]
  },
  {
   "cell_type": "code",
   "execution_count": null,
   "id": "c5043773-0308-42dc-a619-7351ab74132f",
   "metadata": {},
   "outputs": [],
   "source": [
    "WITH ProductsCTE AS\n",
    "(\n",
    "    -- Create starting price as 10 for every products\n",
    "SELECT DISTINCT\n",
    "    product_id,\n",
    "    10 AS new_price,\n",
    "    DATE_SUB((SELECT MIN(change_date) FROM Products), INTERVAL 1 DAY) AS change_date\n",
    "FROM\n",
    "    Products\n",
    "-- Using UNION to merge this to Products table\n",
    "UNION ALL\n",
    "SELECT \n",
    "    product_id,\n",
    "    new_price,\n",
    "    change_date\n",
    "FROM \n",
    "    Products\n",
    "-- Remove change_date after the selected date\n",
    "WHERE \n",
    "    change_date <= '2019-08-16'\n",
    ")\n",
    "-- From the new table, rank each line by the descending date, partition by product, then select only first row (date closest to selected date)\n",
    "SELECT \n",
    "    product_id,\n",
    "    new_price AS price\n",
    "FROM \n",
    "    (SELECT \n",
    "        product_id,\n",
    "        change_date,\n",
    "        new_price,\n",
    "        ROW_NUMBER() OVER (PARTITION BY product_id ORDER BY change_date DESC) AS row_num\n",
    "     FROM \n",
    "        ProductsCTE\n",
    "    ) AS tempo\n",
    "WHERE \n",
    "    row_num = 1;"
   ]
  },
  {
   "cell_type": "markdown",
   "id": "dd25d447-509b-4d12-aa9e-bcc6155f59e7",
   "metadata": {},
   "source": [
    "**Idea**: \n",
    "\n",
    "Step 1:\n",
    "Using CTE, we first modify the `Products` table as below:\n",
    "- Adding starting price as 10 with the date as the oldest one from `Products` table minus one, which means we have `2019-08-13` for the example above\n",
    "- Remove all rows with change_date after the selected date `2019-08-16`.\n",
    "\n",
    "The output, named `ProductsCTE` should be:\n",
    "\n",
    "| product_id | new_price | change_date |\n",
    "| ---------- | --------- | ----------- |\n",
    "| 1          | 10        | 2019-08-13  |\n",
    "| 2          | 10        | 2019-08-13  |\n",
    "| 3          | 10        | 2019-08-13  |\n",
    "| 1          | 20        | 2019-08-14  |\n",
    "| 2          | 50        | 2019-08-14  |\n",
    "| 1          | 30        | 2019-08-15  |\n",
    "| 1          | 35        | 2019-08-16  |\n",
    "\n",
    "Step 2: From here, we rank the rows by the most recent (descending order) on a partition defined by `product_id`, this step is written under the subquerry `tempo`, using 2 functions `ROW_NUMBER()` and `PARTITION BY`, and the output should look like:\n",
    "\n",
    "| product_id | change_date | new_price | row_num |\n",
    "| ---------- | ----------- | --------- | ------- |\n",
    "| 1          | 2019-08-16  | 35        | 1       |\n",
    "| 1          | 2019-08-15  | 30        | 2       |\n",
    "| 1          | 2019-08-14  | 20        | 3       |\n",
    "| 1          | 2019-08-13  | 10        | 4       |\n",
    "| 2          | 2019-08-14  | 50        | 1       |\n",
    "| 2          | 2019-08-13  | 10        | 2       |\n",
    "| 3          | 2019-08-13  | 10        | 1       |\n",
    "\n",
    "Step 3: Finally, we keep only first row for each product (ie: `row_num = 1`), which represent lastest price on selected date."
   ]
  },
  {
   "cell_type": "markdown",
   "id": "eba3c7f7-0db6-4384-9207-4ceae189af79",
   "metadata": {},
   "source": [
    "## Problem 35"
   ]
  },
  {
   "cell_type": "markdown",
   "id": "1e53fac5-88c6-4e96-8351-d7485e4731d3",
   "metadata": {},
   "source": [
    "*[(1204. Last Person to Fit in the Bus)](https://leetcode.com/problems/last-person-to-fit-in-the-bus)*"
   ]
  },
  {
   "cell_type": "markdown",
   "id": "568656b1-795b-4715-83cf-900b4437ad13",
   "metadata": {},
   "source": [
    "### Problem statement"
   ]
  },
  {
   "cell_type": "markdown",
   "id": "1d6116a0-b6a4-4a97-8bf3-ed774728fdef",
   "metadata": {},
   "source": [
    "Table: `Queue`\n",
    "\n",
    "| Column Name | Type    |\n",
    "|-------------|---------|\n",
    "| person_id   | int     |\n",
    "| person_name | varchar |\n",
    "| weight      | int     |\n",
    "| turn        | int     |\n",
    "\n",
    "`person_id` column contains unique values.  \n",
    "This table has the information about all people waiting for a bus.  \n",
    "The `person_id` and `turn` columns will contain all numbers from 1 to n, where n is the number of rows in the table.  \n",
    "`turn` determines the order in which people will board the bus, where `turn=1` denotes the first person to board and `turn=n` denotes the last person to board.  \n",
    "`weight` is the weight of the person in kilograms.\n",
    "\n",
    "There is a queue of people waiting to board a bus. However, the bus has a weight limit of 1000 kilograms, so there may be some people who cannot board.\n",
    "\n",
    "Write a solution to **find the** `person_name` **of the last person that can fit on the bus without exceeding the weight limit.**  \n",
    "The test cases are generated such that the first person does not exceed the weight limit.\n",
    "\n",
    "The result format is in the following example.\n",
    "\n",
    "**Example 1:**\n",
    "\n",
    "**Input:**\n",
    "\n",
    "`Queue` table:\n",
    "| person_id | person_name | weight | turn |\n",
    "|-----------|-------------|--------|------|\n",
    "| 5         | Alice       | 250    | 1    |\n",
    "| 4         | Bob         | 175    | 5    |\n",
    "| 3         | Alex        | 350    | 2    |\n",
    "| 6         | John Cena   | 400    | 3    |\n",
    "| 1         | Winston     | 500    | 6    |\n",
    "| 2         | Marie       | 200    | 4    |\n",
    "\n",
    "**Output:** \n",
    "| person_name |\n",
    "|-------------|\n",
    "| John Cena   |\n",
    "\n",
    "**Explanation:** \n",
    "The following table is ordered by the turn for simplicity.\n",
    "| Turn | ID | Name      | Weight | Total Weight |\n",
    "|------|----|-----------|--------|--------------|\n",
    "| 1    | 5  | Alice     | 250    | 250          |\n",
    "| 2    | 3  | Alex      | 350    | 600          |\n",
    "| 3    | 6  | John Cena | 400    | 1000 (last boardable)| \n",
    "| 4    | 2  | Marie     | 200    | 1200 (cannot board)  | \n",
    "| 5    | 4  | Bob       | 175    | ___          |\n",
    "| 6    | 1  | Winston   | 500    | ___          |\n",
    "\n"
   ]
  },
  {
   "cell_type": "markdown",
   "id": "16e205fc-1b18-47f6-b9fd-9c1eb04caef8",
   "metadata": {},
   "source": [
    "### Solution"
   ]
  },
  {
   "cell_type": "code",
   "execution_count": null,
   "id": "10ce58fe-ecc5-42c1-871d-461af0436ed9",
   "metadata": {},
   "outputs": [],
   "source": [
    "WITH total_weight AS(\n",
    "SELECT\n",
    "  turn,\n",
    "  person_id,\n",
    "  person_name,\n",
    "  weight,\n",
    "  SUM(weight) OVER (ORDER BY turn ROWS BETWEEN UNBOUNDED PRECEDING AND CURRENT ROW) AS total_weight\n",
    "FROM\n",
    "  Queue\n",
    "ORDER BY turn)\n",
    "SELECT person_name\n",
    "FROM total_weight\n",
    "WHERE total_weight <= 1000 \n",
    "ORDER BY turn DESC\n",
    "LIMIT 1;"
   ]
  },
  {
   "cell_type": "markdown",
   "id": "46ff11d5-83cc-4fa0-97db-d7e985b346a0",
   "metadata": {},
   "source": [
    "**Idea**: \n",
    "- We use CTE `total_weight` to reorder passengers to their right turn, then calculating the rolling sum of weight:\n",
    "\n",
    "| turn | person_id | person_name | weight | total_weight |\n",
    "| ---- | --------- | ----------- | ------ | ------------ |\n",
    "| 1    | 5         | Alice       | 250    | 250          |\n",
    "| 2    | 3         | Alex        | 350    | 600          |\n",
    "| 3    | 6         | John Cena   | 400    | 1000         |\n",
    "| 4    | 2         | Marie       | 200    | 1200         |\n",
    "| 5    | 4         | Bob         | 175    | 1375         |\n",
    "| 6    | 1         | Winston     | 500    | 1875         |\n",
    "\n",
    "- From this table, we filter boarded passengers using `WHERE total_weight <= 1000`, sort the result by descending `turn` to and `LIMIT 1` (show only first row) to show the last person who boarded."
   ]
  },
  {
   "cell_type": "markdown",
   "id": "a5d31b60-484c-4100-9ad9-deff8cd55530",
   "metadata": {},
   "source": [
    "## Problem 36"
   ]
  },
  {
   "cell_type": "markdown",
   "id": "a95a8956-0a01-478e-adcb-503603a2d3eb",
   "metadata": {},
   "source": [
    "*[(1907. Count Salary Categories)](https://leetcode.com/problems/count-salary-categories)*"
   ]
  },
  {
   "cell_type": "markdown",
   "id": "2a6fceab-10e3-4974-aac7-435f37dd3295",
   "metadata": {},
   "source": [
    "### Problem statement"
   ]
  },
  {
   "cell_type": "markdown",
   "id": "9ace6e08-7e95-4e40-8608-c70fff6ad356",
   "metadata": {},
   "source": [
    "Table: `Accounts`\n",
    "\n",
    "| Column Name | Type |\n",
    "|-------------|------|\n",
    "| account_id  | int  |\n",
    "| income      | int  |\n",
    "\n",
    "`account_id` is the primary key (column with unique values) for this table.  \n",
    "Each row contains information about the monthly income for one bank account.\n",
    "\n",
    "Write a solution to **calculate the number of bank accounts for each salary category.** The salary categories are:\n",
    "- \"Low Salary\": All the salaries strictly less than \\$ 20000.\n",
    "- \"Average Salary\": All the salaries in the inclusive range [\\\\$20000, \\\\$50000].\n",
    "- \"High Salary\": All the salaries strictly greater than \\$50000.\n",
    "\n",
    "The result table must contain all three categories. If there are no accounts in a category, return 0.\n",
    "\n",
    "Return the result table in **any order.**\n",
    "\n",
    "The result format is in the following example.\n",
    "\n",
    "**Example 1:**\n",
    "\n",
    "**Input:**\n",
    "\n",
    "`Accounts` table:\n",
    "| account_id | income |\n",
    "|------------|--------|\n",
    "| 3          | 108939 |\n",
    "| 2          | 12747  |\n",
    "| 8          | 87709  |\n",
    "| 6          | 91796  |\n",
    "\n",
    "**Output:** \n",
    "| category       | accounts_count |\n",
    "|----------------|----------------|\n",
    "| Low Salary     | 1              |\n",
    "| Average Salary | 0              |\n",
    "| High Salary    | 3              |\n",
    "\n",
    "**Explanation:**\n",
    "\n",
    "- Low Salary: Account 2.\n",
    "- Average Salary: No accounts.\n",
    "- High Salary: Accounts 3, 6, and 8.\n"
   ]
  },
  {
   "cell_type": "markdown",
   "id": "da3e1be3-8ec4-457b-abd7-a9fa259cb025",
   "metadata": {},
   "source": [
    "### Solution"
   ]
  },
  {
   "cell_type": "code",
   "execution_count": null,
   "id": "a15eb703-e5a4-41de-a35a-1bb43ee75e8d",
   "metadata": {},
   "outputs": [],
   "source": [
    "SELECT\r\n",
    "    'Low Salary' AS category,\r\n",
    "    SUM(CASE WHEN income < 20000 THEN 1 ELSE 0 END) AS accounts_count\r\n",
    "FROM Accounts\r\n",
    "UNION ALL\r\n",
    "SELECT\r\n",
    "    'Average Salary' AS category,\r\n",
    "    SUM(CASE WHEN income >= 20000 AND income <= 50000 THEN 1 ELSE 0 END) AS accounts_count\r\n",
    "FROM Accounts\r\n",
    "UNION ALL\r\n",
    "SELECT\r\n",
    "    'High Salary' AS category,\r\n",
    "    SUM(CASE WHEN income > 50000 THEN 1 ELSE 0 END) AS accounts_count\r\n",
    "FROM Accounts;"
   ]
  },
  {
   "cell_type": "markdown",
   "id": "2633d107-bbc7-49d8-8921-b9cf4f63e18e",
   "metadata": {},
   "source": [
    "---"
   ]
  },
  {
   "cell_type": "markdown",
   "id": "7ae4fd38-af90-44d9-8c49-16678ee81549",
   "metadata": {},
   "source": [
    "# SECTION 6: SUBQUERRIES"
   ]
  },
  {
   "cell_type": "markdown",
   "id": "271bd47b-0308-4dbc-8404-1766ef203eb3",
   "metadata": {},
   "source": [
    "## Problem 37"
   ]
  },
  {
   "cell_type": "markdown",
   "id": "3b9c7510-ae9f-4b62-82dc-0b9527e1a230",
   "metadata": {},
   "source": [
    "*[(1978. Employees Whose Manager Left the Company)](https://leetcode.com/problems/employees-whose-manager-left-the-company)*\n"
   ]
  },
  {
   "cell_type": "markdown",
   "id": "ef02a257-7eff-4f39-9c16-be65bc294a70",
   "metadata": {},
   "source": [
    "### Problem statement"
   ]
  },
  {
   "cell_type": "markdown",
   "id": "a52b6faf-a8f7-4bfe-94b6-c4b83b415090",
   "metadata": {},
   "source": [
    "Table: `Employees`\n",
    "\n",
    "| Column Name | Type    |\n",
    "|-------------|---------|\n",
    "| employee_id | int     |\n",
    "| name        | varchar |\n",
    "| manager_id  | int     |\n",
    "| salary      | int     |\n",
    "\n",
    "In SQL, `employee_id` is the primary key for this table.  \n",
    "This table contains information about the employees, their salary, and the ID of their manager.  \n",
    "Some employees do not have a manager (`manager_id` is null).  \n",
    "When a manager leaves the company, their information is deleted from the Employees table, but the reports still have their `manager_id` set to the manager that left.\n",
    "\n",
    "Find the IDs of the employees whose **salary is strictly less than $30000** and whose **manager left the company.**  \n",
    "\n",
    "\n",
    "Return the result table **ordered by** `employee_id`.\n",
    "\n",
    "The result format is in the following example.\n",
    "\n",
    "**Example 1:**\n",
    "\n",
    "**Input:**  \n",
    "`Employees` table:\n",
    "| employee_id | name      | manager_id | salary |\n",
    "|-------------|-----------|------------|--------|\n",
    "| 3           | Mila      | 9          | 60301  |\n",
    "| 12          | Antonella | null       | 31000  |\n",
    "| 13          | Emery     | null       | 67084  |\n",
    "| 1           | Kalel     | 11         | 21241  |\n",
    "| 9           | Mikaela   | null       | 50937  |\n",
    "| 11          | Joziah    | 6          | 28485  |\n",
    "\n",
    "**Output:** \n",
    "| employee_id |\n",
    "|-------------|\n",
    "| 11          |\n",
    "\n",
    "**Explanation:** \n",
    "\n",
    "- The employees with a salary less than $30000 are 1 (Kalel) and 11 (Joziah).\n",
    "- Kalel's manager is employee 11, who is still in the company (Joziah).\n",
    "- Joziah's manager is employee 6, who left the company because there is no row for employee 6 as it was deleted.\n"
   ]
  },
  {
   "cell_type": "markdown",
   "id": "5ec368f7-b025-45ff-977c-164404d5fbf0",
   "metadata": {},
   "source": [
    "### Solution"
   ]
  },
  {
   "cell_type": "code",
   "execution_count": null,
   "id": "76359f82-8885-45b8-8cb9-65f5eedce0f0",
   "metadata": {},
   "outputs": [],
   "source": [
    "SELECT employee_id\n",
    "FROM(\n",
    "SELECT e1.employee_id, e1.salary s1, e2.salary s2, e1.manager_id\n",
    "FROM Employees e1\n",
    "LEFT JOIN Employees e2 ON e2.employee_id = e1.manager_id) as tempo\n",
    "WHERE s1 < 30000 AND s2 IS NULL AND manager_id IS NOT NULL\n",
    "ORDER BY employee_id"
   ]
  },
  {
   "cell_type": "markdown",
   "id": "c279bd86-6ed9-43f9-8277-d7b4beeabd72",
   "metadata": {},
   "source": [
    "**Idea**: \n",
    "First, we use `LEFT JOIN` to add manager salary (`s2`) for each `employee_id`. If a manager left, their salary in s2 will be `NULL`.\n",
    "\n",
    "| employee_id | s1    | s2    | manager_id |\r\n",
    "| ----------- | ----- | ----- | ---------- |\r\n",
    "| 3           | 60301 | 50937 | 9          |\r\n",
    "| 12          | 31000 | null  | null       |\r\n",
    "| 13          | 67084 | null  | null       |\r\n",
    "| 1           | 21241 | 28485 | 11         |\r\n",
    "| 9           | 50937 | null  | null       |\r\n",
    "| 11          | 28485 | null  | 6    \n",
    "\n",
    "Afterward, we filter the table as specified condition, using `s1 < 30000` as employee salary, and `s2 IS NULL` represent that his/her manager left.      |"
   ]
  },
  {
   "cell_type": "markdown",
   "id": "06976906-6a5a-48a0-97c9-c4a4baf6f64c",
   "metadata": {},
   "source": [
    "## Problem 38"
   ]
  },
  {
   "cell_type": "markdown",
   "id": "6772cd5c-816c-41a8-bac8-a752cab2196a",
   "metadata": {},
   "source": [
    "*[(626. Exchange Seats)](https://leetcode.com/problems/exchange-seats)*"
   ]
  },
  {
   "cell_type": "markdown",
   "id": "13c1323a-c6ac-4f9f-b459-5bb39cb24a4b",
   "metadata": {},
   "source": [
    "### Problem statement"
   ]
  },
  {
   "cell_type": "markdown",
   "id": "07e728f2-d035-47f8-b650-0b451f9d4c16",
   "metadata": {},
   "source": [
    "Table: `Seat`\n",
    "\n",
    "| Column Name | Type    |\n",
    "|-------------|---------|\n",
    "| id          | int     |\n",
    "| student     | varchar |\n",
    "\n",
    "`id` is the primary key (unique value) column for this table.\n",
    "Each row of this table indicates the name and the ID of a student.\n",
    "`id` is a continuous increment.\n",
    "\n",
    "Write a solution to **swap the seat id of every two consecutive students.**  \n",
    "If the number of students is odd, the id of the last student is not swapped.\n",
    "\n",
    "Return the result table **ordered by** `id` **in ascending order.**\n",
    "\n",
    "The result format is in the following example.\n",
    "\n",
    "**Example 1:**\n",
    "\n",
    "**Input:**  \n",
    "`Seat` table:\n",
    "| id | student |\n",
    "|----|---------|\n",
    "| 1  | Abbot   |\n",
    "| 2  | Doris   |\n",
    "| 3  | Emerson |\n",
    "| 4  | Green   |\n",
    "| 5  | Jeames  |\n",
    "\n",
    "**Output:** \n",
    "| id | student |\n",
    "|----|---------|\n",
    "| 1  | Doris   |\n",
    "| 2  | Abbot   |\n",
    "| 3  | Green   |\n",
    "| 4  | Emerson |\n",
    "| 5  | Jeames  |\n",
    "\n",
    "**Explanation:** \n",
    "Note that if the number of students is odd, there is no need to change the last one's seat.\n"
   ]
  },
  {
   "cell_type": "markdown",
   "id": "3d0fed04-9880-47ad-96a1-73ad571fbf16",
   "metadata": {},
   "source": [
    "### Solution"
   ]
  },
  {
   "cell_type": "code",
   "execution_count": null,
   "id": "32bcfb44-5b59-470d-a507-07c43c52ce0a",
   "metadata": {},
   "outputs": [],
   "source": [
    "SELECT\n",
    "    CASE\n",
    "        WHEN (id = (SELECT COUNT(*) FROM Seat) AND id % 2 = 1 )THEN id -- last student is odd, then no change.\n",
    "        WHEN id % 2 = 0 THEN id - 1 -- even id change to previous odd\n",
    "        ELSE id + 1 -- odd id change to next even\n",
    "    END AS id, \n",
    "    student\n",
    "FROM Seat\n",
    "ORDER BY id;"
   ]
  },
  {
   "cell_type": "markdown",
   "id": "bcb7ef03-4ddc-47d9-a576-c16051e8fec5",
   "metadata": {},
   "source": [
    "## Problem 39"
   ]
  },
  {
   "cell_type": "markdown",
   "id": "08e494db-fff0-4db3-8834-4d885db91fa5",
   "metadata": {},
   "source": [
    "*[(1341. Movie Rating)](https://leetcode.com/problems/movie-rating)*"
   ]
  },
  {
   "cell_type": "markdown",
   "id": "e4da589c-385c-4828-94f7-6b7f9f9c21fa",
   "metadata": {},
   "source": [
    "### Problem statement"
   ]
  },
  {
   "cell_type": "markdown",
   "id": "7a7a7287-a0fc-4051-b542-4392ea2dca19",
   "metadata": {},
   "source": [
    "Table: `Movies`\n",
    "\n",
    "| Column Name | Type    |\n",
    "|-------------|---------|\n",
    "| movie_id    | int     |\n",
    "| title       | varchar |\n",
    "\n",
    "`movie_id` is the primary key (column with unique values) for this table.\n",
    "`title` is the name of the movie.\n",
    "\n",
    "Table: `Users`\n",
    "\n",
    "| Column Name | Type    |\n",
    "|-------------|---------|\n",
    "| user_id     | int     |\n",
    "| name        | varchar |\n",
    "\n",
    "`user_id` is the primary key (column with unique values) for this table.\n",
    "\n",
    "Table: `MovieRating`\n",
    "\n",
    "| Column Name | Type    |\n",
    "|-------------|---------|\n",
    "| movie_id    | int     |\n",
    "| user_id     | int     |\n",
    "| rating      | int     |\n",
    "| created_at  | date    |\n",
    "\n",
    "`(movie_id, user_id)` is the primary key (column with unique values) for this table.\n",
    "This table contains the rating of a movie by a user in their review.\n",
    "`created_at` is the user's review date.\n",
    "\n",
    "Write a solution to:\n",
    "\n",
    "1. Find the name of the user who has rated the greatest number of movies. In case of a tie, return the lexicographically smaller user name.\n",
    "2. Find the movie name with the highest average rating in February 2020. In case of a tie, return the lexicographically smaller movie name.\n",
    "\n",
    "The result format is in the following example.\n",
    "\n",
    "**Example 1:**\n",
    "\n",
    "**Input:**  \n",
    "`Movies` table:\n",
    "| movie_id | title    |\n",
    "|----------|----------|\n",
    "| 1        | Avengers |\n",
    "| 2        | Frozen 2 |\n",
    "| 3        | Joker    |\n",
    "\n",
    "`Users` table:\n",
    "| user_id | name   |\n",
    "|---------|--------|\n",
    "| 1       | Daniel |\n",
    "| 2       | Monica |\n",
    "| 3       | Maria  |\n",
    "| 4       | James  |\n",
    "\n",
    "`MovieRating` table:\n",
    "| movie_id | user_id | rating | created_at |\n",
    "|----------|---------|--------|------------|\n",
    "| 1        | 1       | 3      | 2020-01-12 |\n",
    "| 1        | 2       | 4      | 2020-02-11 |\n",
    "| 1        | 3       | 2      | 2020-02-12 |\n",
    "| 1        | 4       | 1      | 2020-01-01 |\n",
    "| 2        | 1       | 5      | 2020-02-17 |\n",
    "| 2        | 2       | 2      | 2020-02-01 |\n",
    "| 2        | 3       | 2      | 2020-03-01 |\n",
    "| 3        | 1       | 3      | 2020-02-22 |\n",
    "| 3        | 2       | 4      | 2020-02-25 |\n",
    "\n",
    "**Output:** \n",
    "| results  |\n",
    "|----------|\n",
    "| Daniel   |\n",
    "| Frozen 2 |\n",
    "\n",
    "**Explanation:**  \n",
    "- Daniel and Monica have rated 3 movies (\"Avengers\", \"Frozen 2\" and \"Joker\") but Daniel is smaller lexicographically.\n",
    "- \"Frozen 2\" and \"Joker\" have a rating average of 3.5 in February but \"Frozen 2\" is smaller lexicographically.\n"
   ]
  },
  {
   "cell_type": "code",
   "execution_count": null,
   "id": "46072217-15b0-439c-8844-0e197c2a22ab",
   "metadata": {},
   "outputs": [],
   "source": [
    "# Code structure:\n",
    "# UNION 2 querry: \n",
    "# 1 for name of the user who has rated the greatest number of movies\n",
    "# 1 for the movie name with the highest average rating in February 2020\n",
    "\n",
    "(WITH top_rank AS(\n",
    "SELECT user_id \n",
    "FROM(\n",
    "SELECT user_id, RANK() OVER (ORDER BY rating_counts DESC) as rt\n",
    "FROM(\n",
    "SELECT user_id, COUNT(rating) AS rating_counts\n",
    "FROM MovieRating\n",
    "GROUP BY user_id) as r_count) as r_rank\n",
    "WHERE rt = 1)\n",
    "SELECT u.name as results\n",
    "FROM top_rank tr\n",
    "LEFT JOIN Users u ON tr.user_id = u.user_id\n",
    "ORDER BY u.name\n",
    "LIMIT 1)\n",
    "UNION ALL -- to avoid same movie and user name, use UNION ALL instead of UNION\n",
    "(WITH top_rating AS (\n",
    "    SELECT \n",
    "        movie_id,\n",
    "        AVG(rating) AS avg_rating\n",
    "    FROM MovieRating\n",
    "    WHERE YEAR(created_at) = 2020 AND MONTH(created_at) = 2\n",
    "    GROUP BY movie_id\n",
    ")\n",
    "SELECT m.title AS results\n",
    "FROM\n",
    "(SELECT  \n",
    "    movie_id,\n",
    "    avg_rating,\n",
    "    RANK() OVER (ORDER BY avg_rating DESC) AS rnk\n",
    "FROM top_rating\n",
    "ORDER BY rnk DESC) as mr\n",
    "LEFT JOIN Movies m ON mr.movie_id = m.movie_id \n",
    "WHERE mr.rnk = 1\n",
    "ORDER BY m.title\n",
    "LIMIT 1)"
   ]
  },
  {
   "cell_type": "markdown",
   "id": "7c67a1d3-c88b-46bb-9b23-655c45bb06ae",
   "metadata": {},
   "source": [
    "**Idea**:\n",
    "\n",
    "- The querry before the `UNION ALL` aims to find the name of the user who has rated the greatest number of movies.\n",
    "    - Firstly, we use `(COUNT(rating) AS rating_counts)` and GROUPBY user_id.\n",
    "    - Secondly, we use `(RANK() OVER (ORDER BY rating_counts DESC) as rt)` to rank users by rating counts.\n",
    "    - Thirdly, we use `LEFT JOIN` with `Users` table to find his/her name from `user_id`.\n",
    "    - Finally, we keep only the user with rank 1.\n",
    "- The querry after the `UNION ALL` aims to find the movie name with the highest average rating in February 2020.\n",
    "    - Firstly, we calculate the average rating for each movie in February 2020 using `AVG()`, `YEAR()` and `MONTH()`.\n",
    "    -  Secondly, we rank the movies based on their average rating with similar function as first part.\n",
    "    -  Thirdly, we use `LEFT JOIN` to find movie name from `movie_id`.\n",
    "    - Finally, we keep only the user with rank 1\n",
    "      \n",
    "At the end, we merge these two querries using `UNION ALL`"
   ]
  },
  {
   "cell_type": "markdown",
   "id": "d2c950e7-8f6b-4d64-b73c-dab0f0cad12e",
   "metadata": {},
   "source": [
    "## Problem 40"
   ]
  },
  {
   "cell_type": "markdown",
   "id": "c2d0b5f8-1ebc-4c53-8032-86ca0fc8c5ba",
   "metadata": {},
   "source": [
    "*[(1321. Restaurant Growth)](https://leetcode.com/problems/restaurant-growth)*"
   ]
  },
  {
   "cell_type": "markdown",
   "id": "077f5a54-7df9-4f40-97b6-85fe1e86b1ea",
   "metadata": {},
   "source": [
    "### Problem statement"
   ]
  },
  {
   "cell_type": "markdown",
   "id": "0c940c96-b18b-4728-8af3-569c64f9bfc1",
   "metadata": {},
   "source": [
    "Table: `Customer`\n",
    "\n",
    "| Column Name | Type    |\n",
    "|-------------|---------|\n",
    "| customer_id | int     |\n",
    "| name        | varchar |\n",
    "| visited_on  | date    |\n",
    "| amount      | int     |\n",
    "\n",
    "In SQL, `(customer_id, visited_on)` is the primary key for this table.  \n",
    "This table contains data about customer transactions in a restaurant.  \n",
    "`visited_on` is the date on which the customer with ID `customer_id` has visited the restaurant.  \n",
    "`amount` is the total paid by a customer.  \n",
    "\n",
    "You are the restaurant owner and you want to analyze a possible expansion (there will be at least one customer every day). Compute the moving average of how much the **customer paid in a seven days window** (i.e., current day + 6 days before). `average_amount` should be rounded to two decimal places.\n",
    "\n",
    "Return the result table **ordered by** `visited_on` **in ascending order.**\n",
    "\n",
    "The result format is in the following example.\n",
    "\n",
    "**Example:**\n",
    "\n",
    "**Input:**\n",
    "`Customer` table:\n",
    "| customer_id | name    | visited_on | amount |\n",
    "|-------------|---------|------------|--------|\n",
    "| 1           | Jhon    | 2019-01-01 | 100    |\n",
    "| 2           | Daniel  | 2019-01-02 | 110    |\n",
    "| 3           | Jade    | 2019-01-03 | 120    |\n",
    "| 4           | Khaled  | 2019-01-04 | 130    |\n",
    "| 5           | Winston | 2019-01-05 | 110    |\n",
    "| 6           | Elvis   | 2019-01-06 | 140    |\n",
    "| 7           | Anna    | 2019-01-07 | 150    |\n",
    "| 8           | Maria   | 2019-01-08 | 80     |\n",
    "| 9           | Jaze    | 2019-01-09 | 110    |\n",
    "| 1           | Jhon    | 2019-01-10 | 130    |\n",
    "| 3           | Jade    | 2019-01-10 | 150    |\n",
    "\n",
    "Output: \n",
    "| visited_on | amount | average_amount |\n",
    "|------------|--------|----------------|\n",
    "| 2019-01-07 | 860    | 122.86         |\n",
    "| 2019-01-08 | 840    | 120            |\n",
    "| 2019-01-09 | 840    | 120            |\n",
    "| 2019-01-10 | 1000   | 142.86         |\n",
    "\n",
    "**Explanation:**\n",
    "- 1st moving average from 2019-01-01 to 2019-01-07 has an average_amount of (100 + 110 + 120 + 130 + 110 + 140 + 150)/7 = 122.86\n",
    "- 2nd moving average from 2019-01-02 to 2019-01-08 has an average_amount of (110 + 120 + 130 + 110 + 140 + 150 + 80)/7 = 120\n",
    "- 3rd moving average from 2019-01-03 to 2019-01-09 has an average_amount of (120 + 130 + 110 + 140 + 150 + 80 + 110)/7 = 120\n",
    "- 4th moving average from 2019-01-04 to 2019-01-10 has an average_amount of (130 + 110 + 140 + 150 + 80 + 110 + 130 + 150)/7 = 142.86\n"
   ]
  },
  {
   "cell_type": "markdown",
   "id": "f96f7f1e-82e5-48db-93f2-4d0ed1616a68",
   "metadata": {},
   "source": [
    "### Solution"
   ]
  },
  {
   "cell_type": "code",
   "execution_count": null,
   "id": "99a76981-b9e1-4f76-a32e-be58d8558533",
   "metadata": {},
   "outputs": [],
   "source": [
    "SELECT *\n",
    "FROM(\n",
    "SELECT \n",
    "    visited_on,\n",
    "    # Sum of daily amount last 6 days + today\n",
    "    SUM(daily_amount) OVER (\n",
    "        ORDER BY visited_on\n",
    "        RANGE BETWEEN INTERVAL 6 DAY PRECEDING AND CURRENT ROW\n",
    "    ) AS amount,\n",
    "    # Same idea, with a notice that the average should be /7 and not AVG() as the AVG() will divide the sum by number of rows\n",
    "    ROUND(SUM(daily_amount) OVER (\n",
    "        ORDER BY visited_on\n",
    "        RANGE BETWEEN INTERVAL 6 DAY PRECEDING AND CURRENT ROW\n",
    "    )/7, 2) AS average_amount\n",
    "FROM(\n",
    "SELECT\n",
    "    visited_on,\n",
    "    SUM(amount) AS daily_amount     \n",
    "FROM Customer\n",
    "GROUP BY visited_on\n",
    "ORDER BY visited_on) as d_amount) AS all_date\n",
    "# Filter our first 6 days\n",
    "WHERE visited_on >= (SELECT DATE_ADD(MIN(visited_on), INTERVAL 6 DAY) FROM Customer);"
   ]
  },
  {
   "cell_type": "markdown",
   "id": "4119fe62-7bf3-48ae-a907-afa47af8cef3",
   "metadata": {},
   "source": [
    "**Idea**:\n",
    "- First we calculate daily sales, using the CTE and called it `d_amount`:\n",
    "```\n",
    "SELECT\n",
    "    visited_on,\n",
    "    SUM(amount) AS daily_amount     \n",
    "FROM Customer\n",
    "GROUP BY visited_on\n",
    "ORDER BY visited_on)\n",
    "```\n",
    "\n",
    "| visited_on | daily_amount |\r\n",
    "| ---------- | ------------ |\r\n",
    "| 2019-01-01 | 100          |\r\n",
    "| 2019-01-02 | 110          |\r\n",
    "| 2019-01-03 | 120          |\r\n",
    "| 2019-01-04 | 130          |\r\n",
    "| 2019-01-05 | 110          |\r\n",
    "| 2019-01-06 | 140          |\r\n",
    "| 2019-01-07 | 150          |\r\n",
    "| 2019-01-08 | 80           |\r\n",
    "| 2019-01-09 | 110          |\r\n",
    "| 2019-01-10 | 280\n",
    "\n",
    "- Secondly, we calculate 7-day rolling sales and named it `amount`: \n",
    "```\n",
    "SUM(daily_amount) OVER (\n",
    "        ORDER BY visited_on\n",
    "        RANGE BETWEEN INTERVAL 6 DAY PRECEDING AND CURRENT ROW\n",
    "    )\n",
    "```\n",
    "\n",
    "- Thirdly, we calculate rolling 7-days average and named it `average_amount`. Noted that the average_amount supposed to be the total amount divided by 7 days, and not using AVG() as it will divide by number of rows:\n",
    "```\n",
    "ROUND(SUM(daily_amount) OVER (\n",
    "        ORDER BY visited_on\n",
    "        RANGE BETWEEN INTERVAL 6 DAY PRECEDING AND CURRENT ROW\n",
    "    )/7, 2) AS average_amount\n",
    "```\n",
    "- Finally, we filter out first 6 days which contains `NULL` for rolling sum calculation.          |"
   ]
  },
  {
   "cell_type": "markdown",
   "id": "505511df-191b-4204-a048-df647c37af54",
   "metadata": {},
   "source": [
    "## Problem 41"
   ]
  },
  {
   "cell_type": "markdown",
   "id": "630dbe04-62ce-4ecf-be54-c2579a627a5b",
   "metadata": {},
   "source": [
    "*[(602. Friend Requests II: Who Has the Most Friends)](https://leetcode.com/problems/friend-requests-ii-who-has-the-most-friends)*"
   ]
  },
  {
   "cell_type": "markdown",
   "id": "ff971fd0-92ad-487b-990b-002e6c1a0b8a",
   "metadata": {},
   "source": [
    "### Problem statement"
   ]
  },
  {
   "cell_type": "markdown",
   "id": "f1a7530d-6362-4589-9b91-ee7c31cecd25",
   "metadata": {},
   "source": [
    "Table: `RequestAccepted`\n",
    "\n",
    "| Column Name  | Type  |\n",
    "|--------------|-------|\n",
    "| requester_id | int   |\n",
    "| accepter_id  | int   |\n",
    "| accept_date  | date  |\n",
    "\n",
    "In SQL, `(requester_id, accepter_id)` is the primary key for this table.  \n",
    "This table contains the ID of the user who sent the request, the ID of the user who received the request, and the date when the request was accepted.\n",
    "\n",
    "Write a solution to **find the people who have the most friends and the most friends number.**\n",
    "\n",
    "The test cases are generated so that only one person has the most friends.\n",
    "\n",
    "The result format is in the following example.\n",
    "\n",
    "**Example:**\n",
    "\n",
    "**Input:**  \n",
    "`RequestAccepted` table:\n",
    "| requester_id | accepter_id | accept_date |\n",
    "|--------------|-------------|-------------|\n",
    "| 1            | 2           | 2016/06/03  |\n",
    "| 1            | 3           | 2016/06/08  |\n",
    "| 2            | 3           | 2016/06/08  |\n",
    "| 3            | 4           | 2016/06/09  |\n",
    "\n",
    "**Output:** \n",
    "| id | num |\n",
    "|----|-----|\n",
    "| 3  | 3   |\n",
    "\n",
    "**Explanation:**  \n",
    "The person with id 3 is a friend of people 1, 2, and 4, so he has three friends in total, which is the most number than any others.\n"
   ]
  },
  {
   "cell_type": "markdown",
   "id": "b21e8ace-4ade-4deb-bae9-579e0d64e911",
   "metadata": {},
   "source": [
    "### Solution"
   ]
  },
  {
   "cell_type": "code",
   "execution_count": null,
   "id": "fdbc84aa-bfea-4d13-8044-5744cbce12ca",
   "metadata": {},
   "outputs": [],
   "source": [
    "SELECT \n",
    "    id,\n",
    "    COUNT(id) AS num    \n",
    "FROM\n",
    "(\n",
    "    SELECT \n",
    "        requester_id AS id\n",
    "    FROM  \n",
    "        RequestAccepted \n",
    "    UNION ALL\n",
    "    (\n",
    "    SELECT\n",
    "        accepter_id AS id\n",
    "    FROM \n",
    "        RequestAccepted\n",
    "    )\n",
    ") AS rq_ac\n",
    "GROUP BY id\n",
    "ORDER BY num DESC\n",
    "LIMIT 1"
   ]
  },
  {
   "cell_type": "markdown",
   "id": "7191f439-e51a-4578-8c7e-3137b659c407",
   "metadata": {},
   "source": [
    "**Idea**: To find all friends of a person, we have to count both request and accept rows where his/her id appear. Here we use the `UNION ALL` to construct a list of all id appear in both columns, then count and sort in descending order. Finally, `LIMIT` the result to only first row. "
   ]
  },
  {
   "cell_type": "markdown",
   "id": "e70b690f-f1c5-4fce-9036-c85105debbd5",
   "metadata": {},
   "source": [
    "## Problem 42"
   ]
  },
  {
   "cell_type": "markdown",
   "id": "5d1d2d83-a338-4098-bb7f-39ebb49f96ee",
   "metadata": {},
   "source": [
    "*[(585. Investments in 2016)](https://leetcode.com/problems/investments-in-2016)*"
   ]
  },
  {
   "cell_type": "markdown",
   "id": "b8468de6-e0ba-4746-b6a0-407f06df2118",
   "metadata": {},
   "source": [
    "### Problem statement"
   ]
  },
  {
   "cell_type": "markdown",
   "id": "6992973d-d807-4fe4-a5c5-3243a4d24550",
   "metadata": {},
   "source": [
    "Table: `Insurance`\n",
    "\n",
    "| Column Name | Type  |\n",
    "|-------------|-------|\n",
    "| pid         | int   |\n",
    "| tiv_2015    | float |\n",
    "| tiv_2016    | float |\n",
    "| lat         | float |\n",
    "| lon         | float |\n",
    "\n",
    "pid is the primary key (column with unique values) for this table.  \n",
    "Each row of this table contains information about one policy where:  \n",
    "`pid` is the policyholder's policy ID.  \n",
    "`tiv_2015` is the total investment value in 2015 and tiv_2016 is the total investment value in 2016.  \n",
    "`lat` is the latitude of the policy holder's city. It's guaranteed that lat is not `NULL`.\n",
    "`lon` is the longitude of the policy holder's city. It's guaranteed that lon is not `NULL`.\n",
    "\n",
    "Write a solution to report the sum of all total investment values in 2016 `tiv_2016`, for all policyholders who:\n",
    "- have the same `tiv_2015` value as one or more other policyholders, and\n",
    "- are not located in the same city as any other policyholder (i.e., the (`lat`, `lon`) attribute pairs must be unique).\n",
    "\n",
    "Round `tiv_2016` to two decimal places.\n",
    "\n",
    "**Example:**\n",
    "\n",
    "**Input:**   \n",
    "`Insurance` table:\n",
    "| pid | tiv_2015 | tiv_2016 | lat | lon |\n",
    "|-----|----------|----------|-----|-----|\n",
    "| 1   | 10       | 5        | 10  | 10  |\n",
    "| 2   | 20       | 20       | 20  | 20  |\n",
    "| 3   | 10       | 30       | 20  | 20  |\n",
    "| 4   | 10       | 40       | 40  | 40  |\n",
    "\n",
    "**Output:** \n",
    "| tiv_2016 |\n",
    "|----------|\n",
    "| 45.00    |\n",
    "\n",
    "**Explanation:** \n",
    "- The first record in the table, like the last record, meets both of the two criteria. The `tiv_2015` value 10 is the same as the third and fourth records, and its location is unique.\n",
    "- The second record does not meet any of the two criteria. Its `tiv_2015` is not like any other policyholders and its location is the same as the third record, which makes the third record fail, too.\n",
    "\n",
    "So, the result is the sum of tiv_2016 of the first and last record, which is 45.\n"
   ]
  },
  {
   "cell_type": "markdown",
   "id": "7ce89b13-ba00-4713-aa82-6374987e571c",
   "metadata": {},
   "source": [
    "### Solution"
   ]
  },
  {
   "cell_type": "code",
   "execution_count": null,
   "id": "b9bea76a-b61b-4828-803a-e27811ce246c",
   "metadata": {},
   "outputs": [],
   "source": [
    "# Code structure: \n",
    "# First, filter out all lon-lat which has at least one duplicate\n",
    "# Secondly, SUM(tiv_2016) GROUP BY tiv_2015 ON a subset of Insurance which only take tiv_2015 with at least one duplicate.\n",
    "\n",
    "SELECT ROUND(SUM(tiv_2016), 2) AS tiv_2016\n",
    "FROM\n",
    "(WITH unique_location AS(\n",
    "SELECT \n",
    "    pid, tiv_2015, tiv_2016,    \n",
    "    CONCAT(lat, lon) AS geo_data\n",
    "FROM \n",
    "    Insurance\n",
    "GROUP BY \n",
    "    geo_data\n",
    "HAVING \n",
    "    COUNT(*) = 1\n",
    ")\n",
    "SELECT SUM(tiv_2016) AS tiv_2016\n",
    "FROM unique_location\n",
    "WHERE tiv_2015 IN (\n",
    "    SELECT tiv_2015\n",
    "    FROM Insurance\n",
    "    GROUP BY tiv_2015\n",
    "    HAVING COUNT(tiv_2015) > 1)\n",
    "GROUP BY tiv_2015) AS sum_by_tiv_2015"
   ]
  },
  {
   "cell_type": "markdown",
   "id": "60406ad5-6a99-4bbc-9ae5-7ea21ac55353",
   "metadata": {},
   "source": [
    "**Idea**:\n",
    "- First condition: starting from the `unique_location` CTE which filter out only rows that meet the condition 1:\n",
    "```\n",
    "SELECT \n",
    "    pid, tiv_2015, tiv_2016,    \n",
    "    CONCAT(lat, lon) AS geo_data\n",
    "FROM \n",
    "    Insurance\n",
    "GROUP BY \n",
    "    geo_data\n",
    "HAVING \n",
    "    COUNT(*) = 1\n",
    "```\n",
    "This code will return the output:\n",
    "\n",
    "| pid | tiv_2015 | tiv_2016 | geo_data |\n",
    "| --- | -------- | -------- | -------- |\n",
    "| 1   | 10       | 5        | 1010     |\n",
    "| 4   | 10       | 40       | 4040   \n",
    "\n",
    "- Second condition: We use a subquerry:\n",
    "```\n",
    "SELECT tiv_2015\n",
    "FROM Insurance\n",
    "GROUP BY tiv_2015\n",
    "HAVING COUNT(tiv_2015) > 1\n",
    "```\n",
    "The output of this subquerry return all the tiv_2015 that appears more than one, which help us verify the 2nd condition by using `tiv_2015 IN`. For our example, only the `tiv_2015 = 10` met this requirement.\n",
    "\n",
    "| tiv_2015 |\n",
    "| -------- |\n",
    "| 10       |\n",
    "\n",
    "- Finally, we calculate `SUM(tiv_2016)` and round them to 2 decimal places."
   ]
  },
  {
   "cell_type": "markdown",
   "id": "b3434f08-febb-4239-82c2-0edb6f5f1524",
   "metadata": {},
   "source": [
    "## Problem 43"
   ]
  },
  {
   "cell_type": "markdown",
   "id": "28cfb455-3dca-4824-b44b-9aa69e23d5b4",
   "metadata": {},
   "source": [
    "*[(185. Department Top Three Salaries)](https://leetcode.com/problems/department-top-three-salaries)*"
   ]
  },
  {
   "cell_type": "markdown",
   "id": "0d0f3e0a-ef4b-4c78-90fb-f755da2921d6",
   "metadata": {},
   "source": [
    "### Problem statement"
   ]
  },
  {
   "cell_type": "markdown",
   "id": "b13539e3-8dae-4980-baff-1667cb1a90c8",
   "metadata": {},
   "source": [
    "Table: `Employee`\n",
    "\n",
    "| Column Name  | Type    |\n",
    "|--------------|---------|\n",
    "| id           | int     |\n",
    "| name         | varchar |\n",
    "| salary       | int     |\n",
    "| departmentId | int     |\n",
    "\n",
    "`id` is the primary key (column with unique values) for this table.  \n",
    "`departmentId` is a foreign key (reference column) of the ID from the Department table.  \n",
    "Each row of this table indicates the ID, name, and salary of an employee. It also contains the ID of their department.\n",
    "\n",
    "Table: `Department`\n",
    "\n",
    "| Column Name | Type    |\n",
    "|-------------|---------|\n",
    "| id          | int     |\n",
    "| name        | varchar |\n",
    "\n",
    "`id` is the primary key (column with unique values) for this table.  \n",
    "Each row of this table indicates the ID of a department and its name.\n",
    "\n",
    "A company's executives are interested in seeing who earns the most money in each of the company's departments. A high earner in a department is an employee who has a salary in the top three unique salaries for that department.\n",
    "\n",
    "Write a solution to **find the employees who are high earners in each of the departments.**\n",
    "\n",
    "Return the result table in **any order.**\n",
    "\n",
    "The result format is in the following example.\n",
    "\n",
    "Example 1:\n",
    "\n",
    "**Input:**  \n",
    "`Employee` table:\n",
    "| id | name  | salary | departmentId |\n",
    "|----|-------|--------|--------------|\n",
    "| 1  | Joe   | 85000  | 1            |\n",
    "| 2  | Henry | 80000  | 2            |\n",
    "| 3  | Sam   | 60000  | 2            |\n",
    "| 4  | Max   | 90000  | 1            |\n",
    "| 5  | Janet | 69000  | 1            |\n",
    "| 6  | Randy | 85000  | 1            |\n",
    "| 7  | Will  | 70000  | 1            |\n",
    "\n",
    "`Department` table:\n",
    "| id | name  |\n",
    "|----|-------|\n",
    "| 1  | IT    |\n",
    "| 2  | Sales |\n",
    "\n",
    "**Output:**  \n",
    "| Department | Employee | Salary |\n",
    "|------------|----------|--------|\n",
    "| IT         | Max      | 90000  |\n",
    "| IT         | Joe      | 85000  |\n",
    "| IT         | Randy    | 85000  |\n",
    "| IT         | Will     | 70000  |\n",
    "| Sales      | Henry    | 80000  |\n",
    "| Sales      | Sam      | 60000  |\n",
    "\n",
    "**Explanation:** \n",
    "- In the IT department:\n",
    "  - Max earns the highest unique salary\n",
    "  - Both Randy and Joe earn the second-highest unique salary\n",
    "  - Will earns the third-highest unique salary\n",
    "- In the Sales department:\n",
    "  - Henry earns the highest salary\n",
    "  - Sam earns the second-highest salary\n",
    "  - There is no third-highest salary as there are only two employees\n"
   ]
  },
  {
   "cell_type": "markdown",
   "id": "1e1efc5e-0016-491c-985b-214d6ba42ad6",
   "metadata": {},
   "source": [
    "### Solution"
   ]
  },
  {
   "cell_type": "code",
   "execution_count": null,
   "id": "eab1685b-03be-49a2-908f-f963fab7e4b9",
   "metadata": {},
   "outputs": [],
   "source": [
    "SELECT\n",
    "    dpt.name AS Department,\n",
    "    Employee,\n",
    "    Salary\n",
    "FROM(\n",
    "    SELECT \n",
    "        name AS Employee,\n",
    "        salary AS Salary,\n",
    "        departmentId,\n",
    "        DENSE_RANK() OVER (PARTITION BY departmentId ORDER BY salary DESC) AS dt_rank\n",
    "    FROM Employee) as ranked\n",
    "LEFT JOIN Department dpt ON ranked.departmentId = dpt.id \n",
    "WHERE dt_rank <= 3"
   ]
  },
  {
   "cell_type": "markdown",
   "id": "930c7602-0b29-4380-b934-e1d6b1a7f79d",
   "metadata": {},
   "source": [
    "**Idea**: We use `DENSE_RANK()` instead of `RANK()` for tie without skip; then `PARTITION BY` to rank seperately between departments.\n"
   ]
  },
  {
   "cell_type": "markdown",
   "id": "b638b066-1271-467b-acd3-d028087c4b0f",
   "metadata": {},
   "source": [
    "---"
   ]
  },
  {
   "cell_type": "markdown",
   "id": "0c2d164b-1f8d-4494-b51f-9629a80f2804",
   "metadata": {},
   "source": [
    "# SECTION 7: ADVANCED STRING FUNCTIONS/ REGEX/ CLAUSE"
   ]
  },
  {
   "cell_type": "markdown",
   "id": "766f41ef-3121-4856-877b-4f75a0e0c1a1",
   "metadata": {},
   "source": [
    "## Problem 44"
   ]
  },
  {
   "cell_type": "markdown",
   "id": "39854580-3e1d-4dd2-8a17-c70cd170e150",
   "metadata": {},
   "source": [
    "*[(1667. Fix Names in a Table)](https://leetcode.com/problems/fix-names-in-a-table)*"
   ]
  },
  {
   "cell_type": "markdown",
   "id": "1e62c85d-a9a9-4250-bc60-ad2d8122fa13",
   "metadata": {},
   "source": [
    "### Problem statement"
   ]
  },
  {
   "cell_type": "markdown",
   "id": "6e9b96c6-fd6e-42d3-aa7b-7b42948dd036",
   "metadata": {},
   "source": [
    "Table: `Users`\n",
    "\n",
    "| Column Name | Type    |\n",
    "|-------------|---------|\n",
    "| user_id     | int     |\n",
    "| name        | varchar |\n",
    "\n",
    "`user_id` is the primary key (column with unique values) for this table.  \n",
    "This table contains the ID and the name of the user. The name consists of only lowercase and uppercase characters.\n",
    "\n",
    "Write a solution to **fix the names so that only the first character is uppercase and the rest are lowercase.**\n",
    "\n",
    "Return the result table **ordered by** `user_id`.\n",
    "\n",
    "The result format is in the following example.\n",
    "\n",
    "Example 1:\n",
    "\n",
    "**Input:**  \n",
    "`Users` table:\n",
    "| user_id | name  |\n",
    "|---------|-------|\n",
    "| 1       | aLice |\n",
    "| 2       | bOB   |\n",
    "\n",
    "**Output:**  \n",
    "| user_id | name  |\n",
    "|---------|-------|\n",
    "| 1       | Alice |\n",
    "| 2       | Bob   |"
   ]
  },
  {
   "cell_type": "markdown",
   "id": "0949a175-93d5-47ef-b869-dba5235c68c9",
   "metadata": {},
   "source": [
    "### Solution"
   ]
  },
  {
   "cell_type": "code",
   "execution_count": null,
   "id": "3c274eda-7d22-4e71-98a3-0bcd058aa3d3",
   "metadata": {},
   "outputs": [],
   "source": [
    "SELECT \n",
    "    user_id,\n",
    "    CONCAT(UPPER(SUBSTR(name,1,1)), LOWER(SUBSTR(name, 2))) AS name\n",
    "FROM \n",
    "    Users\n",
    "ORDER BY \n",
    "    user_id"
   ]
  },
  {
   "cell_type": "markdown",
   "id": "a039659a-a6d0-43da-8419-31c47edd34d6",
   "metadata": {},
   "source": [
    "### Problem 45"
   ]
  },
  {
   "cell_type": "markdown",
   "id": "6835cf04-0173-4346-9449-231f35f7a2a3",
   "metadata": {},
   "source": [
    "*[(1667. Fix Names in a Table)](https://leetcode.com/problems/fix-names-in-a-table)*"
   ]
  },
  {
   "cell_type": "markdown",
   "id": "6e0fd374-031e-46e0-a126-90e796caa666",
   "metadata": {},
   "source": [
    "### Problem statement"
   ]
  },
  {
   "cell_type": "markdown",
   "id": "a8b4ae01-fa0a-41a7-af7f-b8ec1b8eb4c9",
   "metadata": {},
   "source": [
    "Table: `Patients`\n",
    "\n",
    "| Column Name  | Type    |\n",
    "|--------------|---------|\n",
    "| patient_id   | int     |\n",
    "| patient_name | varchar |\n",
    "| conditions   | varchar |\n",
    "\n",
    "`patient_id` is the primary key (column with unique values) for this table.  \n",
    "`conditions` contains 0 or more codes separated by spaces.  \n",
    "This table contains information of the patients in the hospital.\n",
    "\n",
    "Write a solution to find the `patient_id`, `patient_name`, and `conditions` of the patients who **have Type I Diabetes**. Type I Diabetes always starts with `DIAB1` prefix.\n",
    "\n",
    "Return the result table in **any order.**\n",
    "\n",
    "The result format is in the following example.\n",
    "\n",
    "**Example 1:**\n",
    "\n",
    "**Input:**  \n",
    "`Patients` table:\n",
    "| patient_id | patient_name | conditions   |\n",
    "|------------|--------------|--------------|\n",
    "| 1          | Daniel       | YFEV COUGH   |\n",
    "| 2          | Alice        |              |\n",
    "| 3          | Bob          | DIAB100 MYOP |\n",
    "| 4          | George       | ACNE DIAB100 |\n",
    "| 5          | Alain        | DIAB201      |\n",
    "\n",
    "**Output:**  \n",
    "| patient_id | patient_name | conditions   |\n",
    "|------------|--------------|--------------|\n",
    "| 3          | Bob          | DIAB100 MYOP |\n",
    "| 4          | George       | ACNE DIAB100 |\n",
    "\n",
    "**Explanation:**  \n",
    "Bob and George both have a condition that starts with `DIAB1`."
   ]
  },
  {
   "cell_type": "markdown",
   "id": "69e96421-cefa-4146-bd1f-58dec04ba3f8",
   "metadata": {},
   "source": [
    "### Solution"
   ]
  },
  {
   "cell_type": "code",
   "execution_count": null,
   "id": "f07f25fc-2455-4a00-8d84-a337793b39b2",
   "metadata": {},
   "outputs": [],
   "source": [
    "SELECT *\n",
    "FROM Patients\n",
    "WHERE conditions REGEXP '\\\\bDIAB1';"
   ]
  },
  {
   "cell_type": "markdown",
   "id": "b60a8f3b-e0bd-4678-aff0-883e85491dac",
   "metadata": {},
   "source": [
    "## Problem 46"
   ]
  },
  {
   "cell_type": "markdown",
   "id": "cffe5e36-fbcd-449e-b81a-22862d57cfa3",
   "metadata": {},
   "source": [
    "*[(196. Delete Duplicate Emails)](https://leetcode.com/problems/delete-duplicate-emails)*"
   ]
  },
  {
   "cell_type": "markdown",
   "id": "7ee8f7de-302a-4077-9f22-a68b2ba8f7ca",
   "metadata": {},
   "source": [
    "### Problem statement"
   ]
  },
  {
   "cell_type": "markdown",
   "id": "61792408-5c0a-447a-b826-d4748ee732cd",
   "metadata": {},
   "source": [
    "Table: `Person`\n",
    "\n",
    "| Column Name | Type    |\n",
    "|-------------|---------|\n",
    "| id          | int     |\n",
    "| email       | varchar |\n",
    "\n",
    "`id` is the primary key (column with unique values) for this table.  \n",
    "Each row of this table contains an email. The emails will not contain uppercase letters.\n",
    "\n",
    "Write a solution to **delete all duplicate emails**, keeping only one unique email with the smallest `id`.\n",
    "\n",
    "For SQL users, please note that you are supposed to write a `DELETE` statement and not a `SELECT` one.\n",
    "\n",
    "For Pandas users, please note that you are supposed to modify `Person` in place.\n",
    "\n",
    "After running your script, the answer shown is the `Person` table. The driver will first compile and run your piece of code and then show the `Person` table. The final order of the `Person` table does not matter.\n",
    "\n",
    "The result format is in the following example.\n",
    "\n",
    "**Example 1:**\n",
    "\n",
    "**Input:**  \n",
    "`Person` table:\n",
    "| id | email            |\n",
    "|----|------------------|\n",
    "| 1  | john@example.com |\n",
    "| 2  | bob@example.com  |\n",
    "| 3  | john@example.com |\n",
    "\n",
    "**Output:**  \n",
    "| id | email            |\n",
    "|----|------------------|\n",
    "| 1  | john@example.com |\n",
    "| 2  | bob@example.com  |\n",
    "\n",
    "**Explanation:**  \n",
    "`john@example.com` is repeated two times. We keep the row with the smallest `id = 1`."
   ]
  },
  {
   "cell_type": "markdown",
   "id": "34d503c3-8cf5-419d-94c7-8ca2ad135c71",
   "metadata": {},
   "source": [
    "### Solution"
   ]
  },
  {
   "cell_type": "code",
   "execution_count": null,
   "id": "b5e255ec-91ed-41d1-af15-87185e10a2d3",
   "metadata": {},
   "outputs": [],
   "source": [
    "WITH list_unique AS\n",
    "(\n",
    "    SELECT (MIN(id)) AS id\n",
    "    FROM Person\n",
    "    GROUP BY email\n",
    ")\n",
    "DELETE FROM Person\n",
    "WHERE id NOT IN (SELECT id FROM list_unique)"
   ]
  },
  {
   "cell_type": "markdown",
   "id": "534fde2d-d376-4985-8faa-3a18032a9fa8",
   "metadata": {},
   "source": [
    "**Idea**: The CTE `list_unique` identifies the minimum `id` for each unique email in the \"Person\" table. \n",
    "- `MIN(id) AS id`: We select the minimum `id` value for each unique email in the \"Person\" table.\n",
    "- `GROUP BY email`: This groups the rows by the email column, ensuring that only unique emails are considered.\n",
    "  \n",
    "Afterward, we `DELETE`all rows with id isn't in `list_unique`, those who are duplicates."
   ]
  },
  {
   "cell_type": "markdown",
   "id": "4cff6172-e889-41ec-aba8-a440b5172b7f",
   "metadata": {},
   "source": [
    "## Problem 47"
   ]
  },
  {
   "cell_type": "markdown",
   "id": "d8fa818d-fed2-4833-aa1d-e9fab0e11d9a",
   "metadata": {},
   "source": [
    "*[(176. Second Highest Salary)](https://leetcode.com/problems/second-highest-salary)*"
   ]
  },
  {
   "cell_type": "markdown",
   "id": "91917d77-dc5f-473d-9e00-18d57a7a4c94",
   "metadata": {},
   "source": [
    "### Problem statement"
   ]
  },
  {
   "cell_type": "markdown",
   "id": "f50bf8fe-268e-488d-b63c-875b575a1f08",
   "metadata": {},
   "source": [
    "Table: `Employee`\n",
    "\n",
    "| Column Name | Type |\n",
    "|-------------|------|\n",
    "| id          | int  |\n",
    "| salary      | int  |\n",
    "\n",
    "`id` is the primary key (column with unique values) for this table.  \n",
    "Each row of this table contains information about the salary of an employee.\n",
    "\n",
    "Write a solution to find the second highest salary from the `Employee` table. If there is no second highest salary, return `null` (`None` in Pandas).\n",
    "\n",
    "The result format is in the following example.\n",
    "\n",
    "**Example 1:**\n",
    "\n",
    "**Input:**  \n",
    "`Employee` table:\n",
    "| id | salary |\n",
    "|----|--------|\n",
    "| 1  | 100    |\n",
    "| 2  | 200    |\n",
    "| 3  | 300    |\n",
    "\n",
    "**Output:**  \n",
    "| SecondHighestSalary |\n",
    "|---------------------|\n",
    "| 200                 |\n",
    "\n",
    "**Example 2:**\n",
    "\n",
    "**Input:**  \n",
    "`Employee` table:\n",
    "| id | salary |\n",
    "|----|--------|\n",
    "| 1  | 100    |\n",
    "\n",
    "**Output:**  \n",
    "| SecondHighestSalary |\n",
    "|---------------------|\n",
    "| null                |\n"
   ]
  },
  {
   "cell_type": "markdown",
   "id": "47925838-6d2b-4bb8-92ba-9113e19363d5",
   "metadata": {},
   "source": [
    "### Solution"
   ]
  },
  {
   "cell_type": "code",
   "execution_count": null,
   "id": "7b50015a-9dc9-49c8-a1e7-7cc7f2f3ffb2",
   "metadata": {},
   "outputs": [],
   "source": [
    "SELECT \n",
    "    (CASE WHEN SUM(rt)>1 THEN salary ELSE NULL END) AS SecondHighestSalary\n",
    "FROM(\n",
    "    SELECT\n",
    "        DENSE_RANK() OVER (ORDER BY salary DESC) AS rt,\n",
    "        salary\n",
    "    FROM Employee) Employee_ranked\n",
    "WHERE rt = 2"
   ]
  },
  {
   "cell_type": "markdown",
   "id": "a65dacfe-3781-43b7-930e-659025c328c5",
   "metadata": {},
   "source": [
    "**Idea**: To obtain the second highest salary we use `DENSE_RANK()` then filter with `WHERE rt = 2`, and to make the cell become `NULL` when there is no second highest salary, we add a CASE WHEN after finding salary rank (`rt`)"
   ]
  },
  {
   "cell_type": "markdown",
   "id": "4bac6fa0-1154-485a-b54e-57cfa0bb11a8",
   "metadata": {},
   "source": [
    "### Problem 48"
   ]
  },
  {
   "cell_type": "markdown",
   "id": "153c7fe0-9d62-40d2-8bf6-20582c9d7d63",
   "metadata": {},
   "source": [
    "*[(1484. Group Sold Products By The Date)](https://leetcode.com/problems/group-sold-products-by-the-date)*"
   ]
  },
  {
   "cell_type": "markdown",
   "id": "4879bb8d-20c3-4c24-9e01-d61042396921",
   "metadata": {},
   "source": [
    "### Problem statement"
   ]
  },
  {
   "cell_type": "markdown",
   "id": "c976be61-9bf1-42c3-ad99-f68e3c67d080",
   "metadata": {},
   "source": [
    "Table: `Activities`\n",
    "\n",
    "| Column Name | Type    |\n",
    "|-------------|---------|\n",
    "| sell_date   | date    |\n",
    "| product     | varchar |\n",
    "\n",
    "Each row of this table contains the product name and the date it was sold in a market.\n",
    "\n",
    "Write a solution to **find for each date the number of different products sold and their names.**\n",
    "\n",
    "The sold products names for each date should be sorted lexicographically.\n",
    "\n",
    "Return the result table **ordered by** `sell_date`.\n",
    "\n",
    "The result format is in the following example.\n",
    "\n",
    "**Example 1:**\n",
    "\n",
    "**Input:**  \n",
    "`Activities` table:\n",
    "| sell_date  | product    |\n",
    "|------------|------------|\n",
    "| 2020-05-30 | Headphone  |\n",
    "| 2020-06-01 | Pencil     |\n",
    "| 2020-06-02 | Mask       |\n",
    "| 2020-05-30 | Basketball |\n",
    "| 2020-06-01 | Bible      |\n",
    "| 2020-06-02 | Mask       |\n",
    "| 2020-05-30 | T-Shirt    |\n",
    "\n",
    "**Output:**  \n",
    "| sell_date  | num_sold | products                     |\n",
    "|------------|----------|------------------------------|\n",
    "| 2020-05-30 | 3        | Basketball,Headphone,T-shirt |\n",
    "| 2020-06-01 | 2        | Bible,Pencil                 |\n",
    "| 2020-06-02 | 1        | Mask                         |\n",
    "\n",
    "**Explanation:**   \n",
    "- For 2020-05-30, Sold items were (Headphone, Basketball, T-shirt), we sort them lexicographically and separate them by a comma.  \n",
    "- For 2020-06-01, Sold items were (Pencil, Bible), we sort them lexicographically and separate them by a comma.  \n",
    "- For 2020-06-02, the Sold item is (Mask), we just return it.\n"
   ]
  },
  {
   "cell_type": "markdown",
   "id": "7ee60290-9a7f-466e-96e1-af40308d055f",
   "metadata": {},
   "source": [
    "### Solution"
   ]
  },
  {
   "cell_type": "code",
   "execution_count": null,
   "id": "da88f92b-8096-4265-8734-ea3bcb62fa8a",
   "metadata": {},
   "outputs": [],
   "source": [
    "SELECT \n",
    "    sell_date,\n",
    "    COUNT(DISTINCT product) AS num_sold,\n",
    "    GROUP_CONCAT(DISTINCT product ORDER BY product) AS products\n",
    "FROM Activities\n",
    "GROUP BY sell_date"
   ]
  },
  {
   "cell_type": "markdown",
   "id": "3f25382c-196c-4679-8ec8-f3d48509d50a",
   "metadata": {},
   "source": [
    "### Problem 49"
   ]
  },
  {
   "cell_type": "markdown",
   "id": "214dd4e0-29f0-446f-bfbc-45a6d9bb13ef",
   "metadata": {},
   "source": [
    "*[(1327. List the Products Ordered in a Period)](https://leetcode.com/problems/list-the-products-ordered-in-a-period)*"
   ]
  },
  {
   "cell_type": "markdown",
   "id": "30874042-1f1d-4b2d-bfc0-684fb51035d7",
   "metadata": {},
   "source": [
    "### Problem statement"
   ]
  },
  {
   "cell_type": "markdown",
   "id": "7feadcba-ee4c-4a26-8649-a07f313f8bc0",
   "metadata": {},
   "source": [
    "Table: `Products`\n",
    "\n",
    "| Column Name      | Type    |\n",
    "|------------------|---------|\n",
    "| product_id       | int     |\n",
    "| product_name     | varchar |\n",
    "| product_category | varchar |\n",
    "\n",
    "`product_id` is the primary key (column with unique values) for this table.\n",
    "This table contains data about the company's products.\n",
    "\n",
    "Table: `Orders`\n",
    "\n",
    "| Column Name   | Type  |\n",
    "|---------------|-------|\n",
    "| product_id    | int   |\n",
    "| order_date    | date  |\n",
    "| unit          | int   |\n",
    "\n",
    "This table may have duplicate rows.\n",
    "`product_id` is a foreign key (reference column) to the `Products` table.\n",
    "`unit` is the number of products ordered in `order_date`.\n",
    "\n",
    "Write a solution to get the names of **products that have at least 100 units ordered in February 2020** and their amount.\n",
    "\n",
    "Return the result table in **any order.**\n",
    "\n",
    "The result format is in the following example.\n",
    "\n",
    "**Example 1:**\n",
    "\n",
    "**Input:**\n",
    "`Products` table:\n",
    "| product_id | product_name          | product_category |\n",
    "|------------|-----------------------|------------------|\n",
    "| 1          | Leetcode Solutions    | Book             |\n",
    "| 2          | Jewels of Stringology | Book             |\n",
    "| 3          | HP                    | Laptop           |\n",
    "| 4          | Lenovo                | Laptop           |\n",
    "| 5          | Leetcode Kit          | T-shirt          |\n",
    "\n",
    "`Orders` table:\n",
    "| product_id | order_date | unit |\n",
    "|------------|------------|------|\n",
    "| 1          | 2020-02-05 | 60   |\n",
    "| 1          | 2020-02-10 | 70   |\n",
    "| 2          | 2020-01-18 | 30   |\n",
    "| 2          | 2020-02-11 | 80   |\n",
    "| 3          | 2020-02-17 | 2    |\n",
    "| 3          | 2020-02-24 | 3    |\n",
    "| 4          | 2020-03-01 | 20   |\n",
    "| 4          | 2020-03-04 | 30   |\n",
    "| 4          | 2020-03-04 | 60   |\n",
    "| 5          | 2020-02-25 | 50   |\n",
    "| 5          | 2020-02-27 | 50   |\n",
    "| 5          | 2020-03-01 | 50   |\n",
    "\n",
    "**Output:**\n",
    "| product_name       | unit  |\n",
    "|--------------------|-------|\n",
    "| Leetcode Solutions | 130   |\n",
    "| Leetcode Kit       | 100   |\n",
    "\n",
    "**Explanation:** \n",
    "- Products with `product_id = 1` were ordered in February for a total of (60 + 70) = 130 units.\n",
    "- Products with `product_id = 2` were ordered in February for a total of 80 units.\n",
    "- Products with `product_id = 3` were ordered in February for a total of (2 + 3) = 5 units.\n",
    "- Products with `product_id = 4` were not ordered in February 2020.\n",
    "- Products with `product_id = 5` were ordered in February for a total of (50 + 50) = 100 units.\n"
   ]
  },
  {
   "cell_type": "markdown",
   "id": "995d936c-0c50-45a7-98c5-4cafd523f855",
   "metadata": {},
   "source": [
    "### Solution"
   ]
  },
  {
   "cell_type": "code",
   "execution_count": null,
   "id": "44b387d0-bb7e-468b-b9d7-a9c8beb0bac8",
   "metadata": {},
   "outputs": [],
   "source": [
    "SELECT \n",
    "    p.product_name, \n",
    "    su.unit\n",
    "FROM\n",
    "(\n",
    "    SELECT \n",
    "        product_id,\n",
    "        SUM(unit) as unit\n",
    "    FROM \n",
    "        Orders\n",
    "    WHERE MONTH(order_date) = 2 AND YEAR(order_date) = 2020\n",
    "    GROUP BY product_id\n",
    ") AS su\n",
    "LEFT JOIN Products p ON su.product_id = p.product_id\n",
    "WHERE unit >= 100"
   ]
  },
  {
   "cell_type": "markdown",
   "id": "1cd3ef7c-8176-4710-bde3-8b350bd56f22",
   "metadata": {},
   "source": [
    "**Idea**: We use subquerry to calculate sum for each unit with respect to the time condition (February 2020), then use `LEFT JOIN` to return the name by id of a product"
   ]
  },
  {
   "cell_type": "markdown",
   "id": "9de7da09-90f5-47a7-85de-9455f5a8e9c4",
   "metadata": {},
   "source": [
    "### Problem 50"
   ]
  },
  {
   "cell_type": "markdown",
   "id": "45125ec5-740e-42c4-9ed0-79118dddb2e4",
   "metadata": {},
   "source": [
    "*[(1517. Find Users With Valid E-Mails)](https://leetcode.com/problems/find-users-with-valid-e-mails)*"
   ]
  },
  {
   "cell_type": "markdown",
   "id": "fe26e2fc-13ea-4bac-8abc-31d450e62406",
   "metadata": {},
   "source": [
    "### Problem statement"
   ]
  },
  {
   "cell_type": "markdown",
   "id": "1763ca75-10b5-4d3b-ae3f-25349559f344",
   "metadata": {},
   "source": [
    "Table: `Users`\n",
    "\n",
    "| Column Name   | Type    |\n",
    "|---------------|---------|\n",
    "| user_id       | int     |\n",
    "| name          | varchar |\n",
    "| mail          | varchar |\n",
    "\n",
    "`user_id` is the primary key (column with unique values) for this table.\n",
    "This table contains information of the users signed up on a website. Some e-mails are invalid.\n",
    "\n",
    "Write a solution to **find the users who have valid emails.**\n",
    "\n",
    "A valid e-mail has a prefix name and a domain where:\n",
    "\n",
    "- The prefix name is a string that may contain letters (upper or lower case), digits, underscore '_', period '.', and/or dash '-'. The prefix name must start with a letter.\n",
    "- The domain is '@leetcode.com'.\n",
    "\n",
    "Return the result table in **any order.**\n",
    "\n",
    "The result format is in the following example.\n",
    "\n",
    "**Example 1:**\n",
    "\n",
    "**Input:** \n",
    "`Users` table:\n",
    "| user_id | name      | mail                    |\n",
    "|---------|-----------|-------------------------|\n",
    "| 1       | Winston   | winston@leetcode.com    |\n",
    "| 2       | Jonathan  | jonathanisgreat         |\n",
    "| 3       | Annabelle | bella-@leetcode.com     |\n",
    "| 4       | Sally     | sally.come@leetcode.com |\n",
    "| 5       | Marwan    | quarz#2020@leetcode.com |\n",
    "| 6       | David     | david69@gmail.com       |\n",
    "| 7       | Shapiro   | .shapo@leetcode.com     |\n",
    "\n",
    "Output: \n",
    "| user_id | name      | mail                    |\n",
    "|---------|-----------|-------------------------|\n",
    "| 1       | Winston   | winston@leetcode.com    |\n",
    "| 3       | Annabelle | bella-@leetcode.com     |\n",
    "| 4       | Sally     | sally.come@leetcode.com |\n",
    "\n",
    "**Explanation:** \n",
    "- The mail of user 2 does not have a domain.\n",
    "- The mail of user 5 has the '#' sign which is not allowed.\n",
    "- The mail of user 6 does not have the leetcode domain.\n",
    "- The mail of user 7 starts with a period.\n"
   ]
  },
  {
   "cell_type": "markdown",
   "id": "fbc76895-96be-4993-b70c-e33aceed96be",
   "metadata": {},
   "source": [
    "### Solution"
   ]
  },
  {
   "cell_type": "code",
   "execution_count": null,
   "id": "9123c15b-ca8f-45e6-9c63-114603d19510",
   "metadata": {},
   "outputs": [],
   "source": [
    "SELECT *\n",
    "FROM Users\n",
    "WHERE mail REGEXP '^[a-zA-Z][a-zA-Z0-9._-]*@leetcode\\\\.com$'\n",
    "# First char as character, 2nd part contains character, digits, ., _, and hyphen -(here need to put at the end, or at the beginning)\n",
    "# the * indicate the part [a-zA-Z0-9._-] is optional, an email might be created with only first char, exp: a@leetcode.com"
   ]
  },
  {
   "cell_type": "markdown",
   "id": "d0463e21-94e3-49af-b66a-a6154006d8a7",
   "metadata": {},
   "source": [
    "---"
   ]
  }
 ],
 "metadata": {
  "kernelspec": {
   "display_name": "Python 3 (ipykernel)",
   "language": "python",
   "name": "python3"
  },
  "language_info": {
   "codemirror_mode": {
    "name": "ipython",
    "version": 3
   },
   "file_extension": ".py",
   "mimetype": "text/x-python",
   "name": "python",
   "nbconvert_exporter": "python",
   "pygments_lexer": "ipython3",
   "version": "3.11.7"
  }
 },
 "nbformat": 4,
 "nbformat_minor": 5
}
