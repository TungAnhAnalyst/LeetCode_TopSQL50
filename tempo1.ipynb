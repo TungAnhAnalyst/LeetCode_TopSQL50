{
 "cells": [
  {
   "cell_type": "markdown",
   "id": "444fbf2b",
   "metadata": {},
   "source": [
    "# PROJET ENL "
   ]
  },
  {
   "cell_type": "markdown",
   "id": "5478282a",
   "metadata": {},
   "source": [
    "## I. Introduction"
   ]
  },
  {
   "cell_type": "markdown",
   "id": "b832c7b8",
   "metadata": {},
   "source": [
    "**Problématics**"
   ]
  },
  {
   "cell_type": "markdown",
   "id": "43104281",
   "metadata": {},
   "source": [
    "Le dispositif représente un instrument d’étude de la conjoncture politique et de la manière dont les opinions, jugements et comportements politiques se structurent à l’approche des échéances électorales de 2007. La taille des échantillons est de 5600 personnes. Le Baromètre Politique Français part de l’idée que l’on ne peut comprendre les dynamiques et évolutions de l’électorat si l’on ne dispose pas d’observations conduites très en amont de la campagne électorale. Ainsi, cette vague du BPF a été réalisée plus d’un an avant l’échéance présidentielle de 2007. Cette vague du BPF se compose, outre les renseignements signalétiques classiques (age, sexe, profession, etc...), des indicateurs de politisation, ceux concernant le rapport à la politique, les valeurs et univers de représentations sociales des électeurs, leur perception des enjeux et thèmes politiques, leur degré d’adhésion à des propositions politiques. De plus, des questions portent sur le thème du \" modèle social français \" et du \" déclin \" de la France. Il s’agit de mesurer les perceptions des électeurs sur les contours de ce \" modèle social français \", ses faiblesses et points forts, mais également de mesurer les opinions sur la préservation ou la réforme de ce modèle."
   ]
  },
  {
   "cell_type": "markdown",
   "id": "6b3d031f",
   "metadata": {},
   "source": [
    "**Question**"
   ]
  },
  {
   "cell_type": "markdown",
   "id": "ea1b11a0",
   "metadata": {},
   "source": [
    "On s’intéresse à la probabilité de vote (variables Q46A à Q46P) que l’on recodera en variable binaire : Y = 1 si vote tout à fait probable ou plutôt probable, sinon Y = 0"
   ]
  },
  {
   "cell_type": "markdown",
   "id": "17f01519",
   "metadata": {},
   "source": [
    "**Solution**"
   ]
  },
  {
   "cell_type": "markdown",
   "id": "b3792dc8",
   "metadata": {},
   "source": [
    "Ce projet consiste deux partie, avec chacun un modèle permettant de prédire la probabilité de vote Y=1 ou Y=0"
   ]
  },
  {
   "cell_type": "markdown",
   "id": "5983f1c5",
   "metadata": {},
   "source": [
    "## PREPARATION DE DONNÉES"
   ]
  },
  {
   "cell_type": "code",
   "execution_count": 1,
   "id": "26db9b12",
   "metadata": {},
   "outputs": [],
   "source": [
    "import pandas as pd\n",
    "import os\n",
    "import pyreadstat\n",
    "import numpy as np\n",
    "import random\n",
    "\n",
    "seed_value = 8\n",
    "np.random.seed(seed_value)\n",
    "random.seed(seed_value)\n",
    "os.environ['PYTHONHASHSEED'] = str(seed_value)"
   ]
  },
  {
   "cell_type": "code",
   "execution_count": 2,
   "id": "7b01435c",
   "metadata": {},
   "outputs": [],
   "source": [
    "df,meta = pyreadstat.read_sav(\"fr.cdsp.ddi.BPF2007-R1_F1.sav\")"
   ]
  },
  {
   "cell_type": "code",
   "execution_count": 3,
   "id": "a3a99284",
   "metadata": {},
   "outputs": [
    {
     "data": {
      "text/html": [
       "<div>\n",
       "<style scoped>\n",
       "    .dataframe tbody tr th:only-of-type {\n",
       "        vertical-align: middle;\n",
       "    }\n",
       "\n",
       "    .dataframe tbody tr th {\n",
       "        vertical-align: top;\n",
       "    }\n",
       "\n",
       "    .dataframe thead th {\n",
       "        text-align: right;\n",
       "    }\n",
       "</style>\n",
       "<table border=\"1\" class=\"dataframe\">\n",
       "  <thead>\n",
       "    <tr style=\"text-align: right;\">\n",
       "      <th></th>\n",
       "      <th>QUEST</th>\n",
       "      <th>VAGUE</th>\n",
       "      <th>DATE_TER</th>\n",
       "      <th>DPT</th>\n",
       "      <th>REG</th>\n",
       "      <th>CCM</th>\n",
       "      <th>AGGLO</th>\n",
       "      <th>GR</th>\n",
       "      <th>REGA</th>\n",
       "      <th>NATIO</th>\n",
       "      <th>...</th>\n",
       "      <th>RCRS13</th>\n",
       "      <th>RCRS15</th>\n",
       "      <th>RCPRE</th>\n",
       "      <th>RCREG</th>\n",
       "      <th>REFPROX</th>\n",
       "      <th>RED1</th>\n",
       "      <th>RED2</th>\n",
       "      <th>RED3</th>\n",
       "      <th>RED4</th>\n",
       "      <th>REDDEF</th>\n",
       "    </tr>\n",
       "  </thead>\n",
       "  <tbody>\n",
       "    <tr>\n",
       "      <th>0</th>\n",
       "      <td>1.0</td>\n",
       "      <td>1.0</td>\n",
       "      <td>1.336271e+10</td>\n",
       "      <td>43.0</td>\n",
       "      <td>8.0</td>\n",
       "      <td>6.0</td>\n",
       "      <td>1.0</td>\n",
       "      <td>5.0</td>\n",
       "      <td>83.0</td>\n",
       "      <td>1.0</td>\n",
       "      <td>...</td>\n",
       "      <td>3.0</td>\n",
       "      <td>2.0</td>\n",
       "      <td>4.0</td>\n",
       "      <td>3.0</td>\n",
       "      <td>4.0</td>\n",
       "      <td>93286.0</td>\n",
       "      <td>93079.0</td>\n",
       "      <td>115671.0</td>\n",
       "      <td>138610.0</td>\n",
       "      <td>0.93286</td>\n",
       "    </tr>\n",
       "    <tr>\n",
       "      <th>1</th>\n",
       "      <td>2.0</td>\n",
       "      <td>1.0</td>\n",
       "      <td>1.336271e+10</td>\n",
       "      <td>19.0</td>\n",
       "      <td>7.0</td>\n",
       "      <td>6.0</td>\n",
       "      <td>1.0</td>\n",
       "      <td>5.0</td>\n",
       "      <td>74.0</td>\n",
       "      <td>1.0</td>\n",
       "      <td>...</td>\n",
       "      <td>3.0</td>\n",
       "      <td>4.0</td>\n",
       "      <td>2.0</td>\n",
       "      <td>2.0</td>\n",
       "      <td>3.0</td>\n",
       "      <td>75467.0</td>\n",
       "      <td>79476.0</td>\n",
       "      <td>83044.0</td>\n",
       "      <td>73570.0</td>\n",
       "      <td>0.75467</td>\n",
       "    </tr>\n",
       "    <tr>\n",
       "      <th>2</th>\n",
       "      <td>3.0</td>\n",
       "      <td>1.0</td>\n",
       "      <td>1.336271e+10</td>\n",
       "      <td>19.0</td>\n",
       "      <td>7.0</td>\n",
       "      <td>1.0</td>\n",
       "      <td>3.0</td>\n",
       "      <td>5.0</td>\n",
       "      <td>74.0</td>\n",
       "      <td>1.0</td>\n",
       "      <td>...</td>\n",
       "      <td>1.0</td>\n",
       "      <td>2.0</td>\n",
       "      <td>2.0</td>\n",
       "      <td>7.0</td>\n",
       "      <td>3.0</td>\n",
       "      <td>76974.0</td>\n",
       "      <td>64144.0</td>\n",
       "      <td>119251.0</td>\n",
       "      <td>121849.0</td>\n",
       "      <td>0.76974</td>\n",
       "    </tr>\n",
       "    <tr>\n",
       "      <th>3</th>\n",
       "      <td>4.0</td>\n",
       "      <td>1.0</td>\n",
       "      <td>1.336271e+10</td>\n",
       "      <td>18.0</td>\n",
       "      <td>5.0</td>\n",
       "      <td>2.0</td>\n",
       "      <td>1.0</td>\n",
       "      <td>5.0</td>\n",
       "      <td>24.0</td>\n",
       "      <td>1.0</td>\n",
       "      <td>...</td>\n",
       "      <td>3.0</td>\n",
       "      <td>2.0</td>\n",
       "      <td>1.0</td>\n",
       "      <td>3.0</td>\n",
       "      <td>5.0</td>\n",
       "      <td>222342.0</td>\n",
       "      <td>179811.0</td>\n",
       "      <td>112919.0</td>\n",
       "      <td>135954.0</td>\n",
       "      <td>2.22342</td>\n",
       "    </tr>\n",
       "    <tr>\n",
       "      <th>4</th>\n",
       "      <td>5.0</td>\n",
       "      <td>1.0</td>\n",
       "      <td>1.336297e+10</td>\n",
       "      <td>43.0</td>\n",
       "      <td>8.0</td>\n",
       "      <td>4.0</td>\n",
       "      <td>2.0</td>\n",
       "      <td>5.0</td>\n",
       "      <td>83.0</td>\n",
       "      <td>1.0</td>\n",
       "      <td>...</td>\n",
       "      <td>3.0</td>\n",
       "      <td>2.0</td>\n",
       "      <td>7.0</td>\n",
       "      <td>7.0</td>\n",
       "      <td>3.0</td>\n",
       "      <td>137731.0</td>\n",
       "      <td>124963.0</td>\n",
       "      <td>104551.0</td>\n",
       "      <td>110822.0</td>\n",
       "      <td>1.37731</td>\n",
       "    </tr>\n",
       "    <tr>\n",
       "      <th>...</th>\n",
       "      <td>...</td>\n",
       "      <td>...</td>\n",
       "      <td>...</td>\n",
       "      <td>...</td>\n",
       "      <td>...</td>\n",
       "      <td>...</td>\n",
       "      <td>...</td>\n",
       "      <td>...</td>\n",
       "      <td>...</td>\n",
       "      <td>...</td>\n",
       "      <td>...</td>\n",
       "      <td>...</td>\n",
       "      <td>...</td>\n",
       "      <td>...</td>\n",
       "      <td>...</td>\n",
       "      <td>...</td>\n",
       "      <td>...</td>\n",
       "      <td>...</td>\n",
       "      <td>...</td>\n",
       "      <td>...</td>\n",
       "      <td>...</td>\n",
       "    </tr>\n",
       "    <tr>\n",
       "      <th>5645</th>\n",
       "      <td>5646.0</td>\n",
       "      <td>1.0</td>\n",
       "      <td>1.336297e+10</td>\n",
       "      <td>81.0</td>\n",
       "      <td>7.0</td>\n",
       "      <td>1.0</td>\n",
       "      <td>3.0</td>\n",
       "      <td>3.0</td>\n",
       "      <td>73.0</td>\n",
       "      <td>1.0</td>\n",
       "      <td>...</td>\n",
       "      <td>3.0</td>\n",
       "      <td>2.0</td>\n",
       "      <td>7.0</td>\n",
       "      <td>4.0</td>\n",
       "      <td>4.0</td>\n",
       "      <td>138827.0</td>\n",
       "      <td>247272.0</td>\n",
       "      <td>89199.0</td>\n",
       "      <td>261463.0</td>\n",
       "      <td>1.38827</td>\n",
       "    </tr>\n",
       "    <tr>\n",
       "      <th>5646</th>\n",
       "      <td>5647.0</td>\n",
       "      <td>1.0</td>\n",
       "      <td>1.336297e+10</td>\n",
       "      <td>65.0</td>\n",
       "      <td>7.0</td>\n",
       "      <td>1.0</td>\n",
       "      <td>3.0</td>\n",
       "      <td>3.0</td>\n",
       "      <td>73.0</td>\n",
       "      <td>1.0</td>\n",
       "      <td>...</td>\n",
       "      <td>1.0</td>\n",
       "      <td>2.0</td>\n",
       "      <td>6.0</td>\n",
       "      <td>7.0</td>\n",
       "      <td>3.0</td>\n",
       "      <td>188565.0</td>\n",
       "      <td>114400.0</td>\n",
       "      <td>157698.0</td>\n",
       "      <td>167757.0</td>\n",
       "      <td>1.88565</td>\n",
       "    </tr>\n",
       "    <tr>\n",
       "      <th>5647</th>\n",
       "      <td>5648.0</td>\n",
       "      <td>1.0</td>\n",
       "      <td>1.336297e+10</td>\n",
       "      <td>46.0</td>\n",
       "      <td>7.0</td>\n",
       "      <td>1.0</td>\n",
       "      <td>3.0</td>\n",
       "      <td>3.0</td>\n",
       "      <td>73.0</td>\n",
       "      <td>1.0</td>\n",
       "      <td>...</td>\n",
       "      <td>3.0</td>\n",
       "      <td>4.0</td>\n",
       "      <td>5.0</td>\n",
       "      <td>2.0</td>\n",
       "      <td>1.0</td>\n",
       "      <td>77395.0</td>\n",
       "      <td>97742.0</td>\n",
       "      <td>71277.0</td>\n",
       "      <td>51534.0</td>\n",
       "      <td>0.77395</td>\n",
       "    </tr>\n",
       "    <tr>\n",
       "      <th>5648</th>\n",
       "      <td>5649.0</td>\n",
       "      <td>1.0</td>\n",
       "      <td>1.336297e+10</td>\n",
       "      <td>46.0</td>\n",
       "      <td>7.0</td>\n",
       "      <td>1.0</td>\n",
       "      <td>3.0</td>\n",
       "      <td>3.0</td>\n",
       "      <td>73.0</td>\n",
       "      <td>1.0</td>\n",
       "      <td>...</td>\n",
       "      <td>3.0</td>\n",
       "      <td>4.0</td>\n",
       "      <td>1.0</td>\n",
       "      <td>2.0</td>\n",
       "      <td>3.0</td>\n",
       "      <td>22543.0</td>\n",
       "      <td>37974.0</td>\n",
       "      <td>92590.0</td>\n",
       "      <td>67622.0</td>\n",
       "      <td>0.22543</td>\n",
       "    </tr>\n",
       "    <tr>\n",
       "      <th>5649</th>\n",
       "      <td>5650.0</td>\n",
       "      <td>1.0</td>\n",
       "      <td>1.336297e+10</td>\n",
       "      <td>12.0</td>\n",
       "      <td>7.0</td>\n",
       "      <td>1.0</td>\n",
       "      <td>3.0</td>\n",
       "      <td>3.0</td>\n",
       "      <td>73.0</td>\n",
       "      <td>1.0</td>\n",
       "      <td>...</td>\n",
       "      <td>2.0</td>\n",
       "      <td>2.0</td>\n",
       "      <td>7.0</td>\n",
       "      <td>7.0</td>\n",
       "      <td>5.0</td>\n",
       "      <td>187929.0</td>\n",
       "      <td>129844.0</td>\n",
       "      <td>145043.0</td>\n",
       "      <td>162482.0</td>\n",
       "      <td>1.87929</td>\n",
       "    </tr>\n",
       "  </tbody>\n",
       "</table>\n",
       "<p>5650 rows × 236 columns</p>\n",
       "</div>"
      ],
      "text/plain": [
       "       QUEST  VAGUE      DATE_TER   DPT  REG  CCM  AGGLO   GR  REGA  NATIO  \\\n",
       "0        1.0    1.0  1.336271e+10  43.0  8.0  6.0    1.0  5.0  83.0    1.0   \n",
       "1        2.0    1.0  1.336271e+10  19.0  7.0  6.0    1.0  5.0  74.0    1.0   \n",
       "2        3.0    1.0  1.336271e+10  19.0  7.0  1.0    3.0  5.0  74.0    1.0   \n",
       "3        4.0    1.0  1.336271e+10  18.0  5.0  2.0    1.0  5.0  24.0    1.0   \n",
       "4        5.0    1.0  1.336297e+10  43.0  8.0  4.0    2.0  5.0  83.0    1.0   \n",
       "...      ...    ...           ...   ...  ...  ...    ...  ...   ...    ...   \n",
       "5645  5646.0    1.0  1.336297e+10  81.0  7.0  1.0    3.0  3.0  73.0    1.0   \n",
       "5646  5647.0    1.0  1.336297e+10  65.0  7.0  1.0    3.0  3.0  73.0    1.0   \n",
       "5647  5648.0    1.0  1.336297e+10  46.0  7.0  1.0    3.0  3.0  73.0    1.0   \n",
       "5648  5649.0    1.0  1.336297e+10  46.0  7.0  1.0    3.0  3.0  73.0    1.0   \n",
       "5649  5650.0    1.0  1.336297e+10  12.0  7.0  1.0    3.0  3.0  73.0    1.0   \n",
       "\n",
       "      ...  RCRS13  RCRS15  RCPRE  RCREG  REFPROX      RED1      RED2  \\\n",
       "0     ...     3.0     2.0    4.0    3.0      4.0   93286.0   93079.0   \n",
       "1     ...     3.0     4.0    2.0    2.0      3.0   75467.0   79476.0   \n",
       "2     ...     1.0     2.0    2.0    7.0      3.0   76974.0   64144.0   \n",
       "3     ...     3.0     2.0    1.0    3.0      5.0  222342.0  179811.0   \n",
       "4     ...     3.0     2.0    7.0    7.0      3.0  137731.0  124963.0   \n",
       "...   ...     ...     ...    ...    ...      ...       ...       ...   \n",
       "5645  ...     3.0     2.0    7.0    4.0      4.0  138827.0  247272.0   \n",
       "5646  ...     1.0     2.0    6.0    7.0      3.0  188565.0  114400.0   \n",
       "5647  ...     3.0     4.0    5.0    2.0      1.0   77395.0   97742.0   \n",
       "5648  ...     3.0     4.0    1.0    2.0      3.0   22543.0   37974.0   \n",
       "5649  ...     2.0     2.0    7.0    7.0      5.0  187929.0  129844.0   \n",
       "\n",
       "          RED3      RED4   REDDEF  \n",
       "0     115671.0  138610.0  0.93286  \n",
       "1      83044.0   73570.0  0.75467  \n",
       "2     119251.0  121849.0  0.76974  \n",
       "3     112919.0  135954.0  2.22342  \n",
       "4     104551.0  110822.0  1.37731  \n",
       "...        ...       ...      ...  \n",
       "5645   89199.0  261463.0  1.38827  \n",
       "5646  157698.0  167757.0  1.88565  \n",
       "5647   71277.0   51534.0  0.77395  \n",
       "5648   92590.0   67622.0  0.22543  \n",
       "5649  145043.0  162482.0  1.87929  \n",
       "\n",
       "[5650 rows x 236 columns]"
      ]
     },
     "execution_count": 3,
     "metadata": {},
     "output_type": "execute_result"
    }
   ],
   "source": [
    "df"
   ]
  },
  {
   "cell_type": "markdown",
   "id": "272db825",
   "metadata": {},
   "source": [
    "**Convention de nom**"
   ]
  },
  {
   "cell_type": "code",
   "execution_count": 4,
   "id": "da34e4df",
   "metadata": {},
   "outputs": [],
   "source": [
    "df.columns = df.columns.str.lower()"
   ]
  },
  {
   "cell_type": "code",
   "execution_count": 5,
   "id": "0c56dcaa",
   "metadata": {},
   "outputs": [],
   "source": [
    "variables_contextes = [\"rcrs2\", # Diplôme le plus élevé\n",
    "                      \"rcrs7\",  # Profession\n",
    "                      \"rcrs13\", # Origine Parents\n",
    "                      \"rage\",   # Tranche d'age\n",
    "                      \"sexe\",   # Sexe\n",
    "                      \"gr\",     # Grand région\n",
    "                      \"rrs8\",   # Situation professionnelle\n",
    "                      \"q48\",    # Situation familiale\n",
    "                      \"rcrs15\"  # Religion\n",
    "                      ]  \n",
    "\n",
    "variables_opinions = [\"q17e\",     # Opinion sur les immigrés\n",
    "                     \"q12a\", \"q12b\",  # Problèmes en France\n",
    "                     \"q14\",     # Chômage\n",
    "                     \"q15\",     # Délinquance\n",
    "                     \"q17b\",    # Homosexualité\n",
    "                     \"q18\",     # France en déclin\n",
    "                     \"q37\", \"q38\",  # TV\n",
    "                     \"q44\",     # Mondialisation\n",
    "                     \"q17d\"]    # Peine de mort\n",
    "\n",
    "target = \"q46l\"  # Y"
   ]
  },
  {
   "cell_type": "code",
   "execution_count": 6,
   "id": "370c2719",
   "metadata": {},
   "outputs": [
    {
     "data": {
      "text/html": [
       "<div>\n",
       "<style scoped>\n",
       "    .dataframe tbody tr th:only-of-type {\n",
       "        vertical-align: middle;\n",
       "    }\n",
       "\n",
       "    .dataframe tbody tr th {\n",
       "        vertical-align: top;\n",
       "    }\n",
       "\n",
       "    .dataframe thead th {\n",
       "        text-align: right;\n",
       "    }\n",
       "</style>\n",
       "<table border=\"1\" class=\"dataframe\">\n",
       "  <thead>\n",
       "    <tr style=\"text-align: right;\">\n",
       "      <th></th>\n",
       "      <th>rcrs2</th>\n",
       "      <th>rcrs7</th>\n",
       "      <th>rcrs13</th>\n",
       "      <th>rage</th>\n",
       "      <th>sexe</th>\n",
       "      <th>gr</th>\n",
       "      <th>rrs8</th>\n",
       "      <th>q48</th>\n",
       "      <th>rcrs15</th>\n",
       "      <th>q17e</th>\n",
       "      <th>...</th>\n",
       "      <th>q12b</th>\n",
       "      <th>q14</th>\n",
       "      <th>q15</th>\n",
       "      <th>q17b</th>\n",
       "      <th>q18</th>\n",
       "      <th>q37</th>\n",
       "      <th>q38</th>\n",
       "      <th>q44</th>\n",
       "      <th>q17d</th>\n",
       "      <th>q46l</th>\n",
       "    </tr>\n",
       "  </thead>\n",
       "  <tbody>\n",
       "    <tr>\n",
       "      <th>0</th>\n",
       "      <td>2.0</td>\n",
       "      <td>5.0</td>\n",
       "      <td>3.0</td>\n",
       "      <td>2.0</td>\n",
       "      <td>2.0</td>\n",
       "      <td>5.0</td>\n",
       "      <td>2.0</td>\n",
       "      <td>2.0</td>\n",
       "      <td>2.0</td>\n",
       "      <td>3.0</td>\n",
       "      <td>...</td>\n",
       "      <td>2.0</td>\n",
       "      <td>3.0</td>\n",
       "      <td>2.0</td>\n",
       "      <td>2.0</td>\n",
       "      <td>2.0</td>\n",
       "      <td>5.0</td>\n",
       "      <td>1.0</td>\n",
       "      <td>2.0</td>\n",
       "      <td>4.0</td>\n",
       "      <td>2.0</td>\n",
       "    </tr>\n",
       "    <tr>\n",
       "      <th>1</th>\n",
       "      <td>4.0</td>\n",
       "      <td>5.0</td>\n",
       "      <td>3.0</td>\n",
       "      <td>4.0</td>\n",
       "      <td>1.0</td>\n",
       "      <td>5.0</td>\n",
       "      <td>3.0</td>\n",
       "      <td>1.0</td>\n",
       "      <td>4.0</td>\n",
       "      <td>2.0</td>\n",
       "      <td>...</td>\n",
       "      <td>9.0</td>\n",
       "      <td>2.0</td>\n",
       "      <td>2.0</td>\n",
       "      <td>3.0</td>\n",
       "      <td>2.0</td>\n",
       "      <td>7.0</td>\n",
       "      <td>6.0</td>\n",
       "      <td>2.0</td>\n",
       "      <td>3.0</td>\n",
       "      <td>4.0</td>\n",
       "    </tr>\n",
       "    <tr>\n",
       "      <th>2</th>\n",
       "      <td>1.0</td>\n",
       "      <td>6.0</td>\n",
       "      <td>1.0</td>\n",
       "      <td>5.0</td>\n",
       "      <td>2.0</td>\n",
       "      <td>5.0</td>\n",
       "      <td>3.0</td>\n",
       "      <td>8.0</td>\n",
       "      <td>2.0</td>\n",
       "      <td>4.0</td>\n",
       "      <td>...</td>\n",
       "      <td>7.0</td>\n",
       "      <td>1.0</td>\n",
       "      <td>3.0</td>\n",
       "      <td>1.0</td>\n",
       "      <td>2.0</td>\n",
       "      <td>7.0</td>\n",
       "      <td>3.0</td>\n",
       "      <td>2.0</td>\n",
       "      <td>4.0</td>\n",
       "      <td>4.0</td>\n",
       "    </tr>\n",
       "    <tr>\n",
       "      <th>3</th>\n",
       "      <td>1.0</td>\n",
       "      <td>5.0</td>\n",
       "      <td>3.0</td>\n",
       "      <td>5.0</td>\n",
       "      <td>2.0</td>\n",
       "      <td>5.0</td>\n",
       "      <td>3.0</td>\n",
       "      <td>7.0</td>\n",
       "      <td>2.0</td>\n",
       "      <td>2.0</td>\n",
       "      <td>...</td>\n",
       "      <td>3.0</td>\n",
       "      <td>4.0</td>\n",
       "      <td>3.0</td>\n",
       "      <td>2.0</td>\n",
       "      <td>2.0</td>\n",
       "      <td>7.0</td>\n",
       "      <td>2.0</td>\n",
       "      <td>3.0</td>\n",
       "      <td>2.0</td>\n",
       "      <td>4.0</td>\n",
       "    </tr>\n",
       "    <tr>\n",
       "      <th>4</th>\n",
       "      <td>4.0</td>\n",
       "      <td>6.0</td>\n",
       "      <td>3.0</td>\n",
       "      <td>2.0</td>\n",
       "      <td>2.0</td>\n",
       "      <td>5.0</td>\n",
       "      <td>1.0</td>\n",
       "      <td>2.0</td>\n",
       "      <td>2.0</td>\n",
       "      <td>3.0</td>\n",
       "      <td>...</td>\n",
       "      <td>11.0</td>\n",
       "      <td>2.0</td>\n",
       "      <td>3.0</td>\n",
       "      <td>2.0</td>\n",
       "      <td>3.0</td>\n",
       "      <td>5.0</td>\n",
       "      <td>2.0</td>\n",
       "      <td>3.0</td>\n",
       "      <td>2.0</td>\n",
       "      <td>2.0</td>\n",
       "    </tr>\n",
       "  </tbody>\n",
       "</table>\n",
       "<p>5 rows × 21 columns</p>\n",
       "</div>"
      ],
      "text/plain": [
       "   rcrs2  rcrs7  rcrs13  rage  sexe   gr  rrs8  q48  rcrs15  q17e  ...  q12b  \\\n",
       "0    2.0    5.0     3.0   2.0   2.0  5.0   2.0  2.0     2.0   3.0  ...   2.0   \n",
       "1    4.0    5.0     3.0   4.0   1.0  5.0   3.0  1.0     4.0   2.0  ...   9.0   \n",
       "2    1.0    6.0     1.0   5.0   2.0  5.0   3.0  8.0     2.0   4.0  ...   7.0   \n",
       "3    1.0    5.0     3.0   5.0   2.0  5.0   3.0  7.0     2.0   2.0  ...   3.0   \n",
       "4    4.0    6.0     3.0   2.0   2.0  5.0   1.0  2.0     2.0   3.0  ...  11.0   \n",
       "\n",
       "   q14  q15  q17b  q18  q37  q38  q44  q17d  q46l  \n",
       "0  3.0  2.0   2.0  2.0  5.0  1.0  2.0   4.0   2.0  \n",
       "1  2.0  2.0   3.0  2.0  7.0  6.0  2.0   3.0   4.0  \n",
       "2  1.0  3.0   1.0  2.0  7.0  3.0  2.0   4.0   4.0  \n",
       "3  4.0  3.0   2.0  2.0  7.0  2.0  3.0   2.0   4.0  \n",
       "4  2.0  3.0   2.0  3.0  5.0  2.0  3.0   2.0   2.0  \n",
       "\n",
       "[5 rows x 21 columns]"
      ]
     },
     "execution_count": 6,
     "metadata": {},
     "output_type": "execute_result"
    }
   ],
   "source": [
    "df1 = df[variables_contextes + variables_opinions + [target]].copy()\n",
    "df1.head(5)"
   ]
  },
  {
   "cell_type": "markdown",
   "id": "1b04f9bd",
   "metadata": {},
   "source": [
    "**Proportion entre Vote/Non**"
   ]
  },
  {
   "cell_type": "code",
   "execution_count": 7,
   "id": "d52ea4a8",
   "metadata": {},
   "outputs": [],
   "source": [
    "# Renommer la colonne cible (Y)\n",
    "df1.rename(columns={target: \"target\"}, inplace=True)"
   ]
  },
  {
   "cell_type": "code",
   "execution_count": 8,
   "id": "1dd112f8",
   "metadata": {},
   "outputs": [
    {
     "name": "stdout",
     "output_type": "stream",
     "text": [
      "4.0    43.769912\n",
      "2.0    27.610619\n",
      "1.0    16.176991\n",
      "3.0    12.247788\n",
      "6.0     0.159292\n",
      "5.0     0.035398\n",
      "Name: target, dtype: float64\n"
     ]
    }
   ],
   "source": [
    "print(df1[\"target\"].value_counts(normalize=True) * 100)  # Verification"
   ]
  },
  {
   "cell_type": "markdown",
   "id": "15b006dc",
   "metadata": {},
   "source": [
    "Comme on cherche à modéliser un modèle binaire, il suffit de transformer ces 6 modalité en 2:"
   ]
  },
  {
   "cell_type": "code",
   "execution_count": 9,
   "id": "6de54bae",
   "metadata": {},
   "outputs": [
    {
     "name": "stdout",
     "output_type": "stream",
     "text": [
      "0    56.212389\n",
      "1    43.787611\n",
      "Name: target, dtype: float64\n"
     ]
    }
   ],
   "source": [
    "# Replacing target values with 1 or 0\n",
    "df1[\"target\"] = df1[\"target\"].apply(lambda x: 1 if x in [1, 2] else 0)\n",
    "print(df1[\"target\"].value_counts(normalize=True) * 100)  # Verification"
   ]
  },
  {
   "cell_type": "markdown",
   "id": "29abcbbf",
   "metadata": {},
   "source": [
    "La proportion de vote dans notre cas est de xx : yy"
   ]
  },
  {
   "cell_type": "markdown",
   "id": "e0ed86af",
   "metadata": {},
   "source": [
    "**Correction des valeurs manquantes**"
   ]
  },
  {
   "cell_type": "code",
   "execution_count": 10,
   "id": "a84123e1",
   "metadata": {},
   "outputs": [
    {
     "data": {
      "text/plain": [
       "rcrs2       0\n",
       "rcrs7       0\n",
       "rcrs13      0\n",
       "rage        0\n",
       "sexe        0\n",
       "gr          0\n",
       "rrs8        0\n",
       "q48         0\n",
       "rcrs15      0\n",
       "q17e        0\n",
       "q12a        0\n",
       "q12b        6\n",
       "q14         0\n",
       "q15         0\n",
       "q17b        0\n",
       "q18         0\n",
       "q37         8\n",
       "q38       203\n",
       "q44         0\n",
       "q17d        0\n",
       "target      0\n",
       "dtype: int64"
      ]
     },
     "execution_count": 10,
     "metadata": {},
     "output_type": "execute_result"
    }
   ],
   "source": [
    "# Verifier les valeurs manquantes\n",
    "df1.isnull().sum()"
   ]
  },
  {
   "cell_type": "markdown",
   "id": "0e8922f0",
   "metadata": {},
   "source": [
    "On observe qu'il y a 3 colonnes contiennnent les valeurs. En considérant la documentation des variables, on constate que chacune de ces trois variables a une valeur pour les réponse invalide/non réponse/non concerné:\n",
    "- q12b: 99\n",
    "- q37: 88\n",
    "- q38: 99\n",
    "\n",
    "On recodage donc ces valeurs manquantes:"
   ]
  },
  {
   "cell_type": "code",
   "execution_count": 11,
   "id": "60fea50b",
   "metadata": {},
   "outputs": [],
   "source": [
    "# Corriger les valeurs manquantes\n",
    "df1[\"q12b\"].fillna(99, inplace=True)\n",
    "df1[\"q37\"].fillna(88, inplace=True)\n",
    "df1[\"q38\"].fillna(99, inplace=True)"
   ]
  },
  {
   "cell_type": "markdown",
   "id": "25300917",
   "metadata": {},
   "source": [
    "En suite, comme toutes les variables sont qualitatives, on les transforme sous type *\"categorical\"* en Python"
   ]
  },
  {
   "cell_type": "code",
   "execution_count": 12,
   "id": "f7fd459a",
   "metadata": {},
   "outputs": [
    {
     "data": {
      "text/plain": [
       "rcrs2     float64\n",
       "rcrs7     float64\n",
       "rcrs13    float64\n",
       "rage      float64\n",
       "sexe      float64\n",
       "gr        float64\n",
       "rrs8      float64\n",
       "q48       float64\n",
       "rcrs15    float64\n",
       "q17e      float64\n",
       "q12a      float64\n",
       "q12b      float64\n",
       "q14       float64\n",
       "q15       float64\n",
       "q17b      float64\n",
       "q18       float64\n",
       "q37       float64\n",
       "q38       float64\n",
       "q44       float64\n",
       "q17d      float64\n",
       "target      int64\n",
       "dtype: object"
      ]
     },
     "execution_count": 12,
     "metadata": {},
     "output_type": "execute_result"
    }
   ],
   "source": [
    "df1.dtypes"
   ]
  },
  {
   "cell_type": "code",
   "execution_count": 13,
   "id": "8314e541",
   "metadata": {},
   "outputs": [
    {
     "data": {
      "text/html": [
       "<div>\n",
       "<style scoped>\n",
       "    .dataframe tbody tr th:only-of-type {\n",
       "        vertical-align: middle;\n",
       "    }\n",
       "\n",
       "    .dataframe tbody tr th {\n",
       "        vertical-align: top;\n",
       "    }\n",
       "\n",
       "    .dataframe thead th {\n",
       "        text-align: right;\n",
       "    }\n",
       "</style>\n",
       "<table border=\"1\" class=\"dataframe\">\n",
       "  <thead>\n",
       "    <tr style=\"text-align: right;\">\n",
       "      <th></th>\n",
       "      <th>rcrs2</th>\n",
       "      <th>rcrs7</th>\n",
       "      <th>rcrs13</th>\n",
       "      <th>rage</th>\n",
       "      <th>sexe</th>\n",
       "      <th>gr</th>\n",
       "      <th>rrs8</th>\n",
       "      <th>q48</th>\n",
       "      <th>rcrs15</th>\n",
       "      <th>q17e</th>\n",
       "      <th>...</th>\n",
       "      <th>q12b</th>\n",
       "      <th>q14</th>\n",
       "      <th>q15</th>\n",
       "      <th>q17b</th>\n",
       "      <th>q18</th>\n",
       "      <th>q37</th>\n",
       "      <th>q38</th>\n",
       "      <th>q44</th>\n",
       "      <th>q17d</th>\n",
       "      <th>target</th>\n",
       "    </tr>\n",
       "  </thead>\n",
       "  <tbody>\n",
       "    <tr>\n",
       "      <th>0</th>\n",
       "      <td>2</td>\n",
       "      <td>5</td>\n",
       "      <td>3</td>\n",
       "      <td>2</td>\n",
       "      <td>2</td>\n",
       "      <td>5</td>\n",
       "      <td>2</td>\n",
       "      <td>2</td>\n",
       "      <td>2</td>\n",
       "      <td>3</td>\n",
       "      <td>...</td>\n",
       "      <td>2</td>\n",
       "      <td>3</td>\n",
       "      <td>2</td>\n",
       "      <td>2</td>\n",
       "      <td>2</td>\n",
       "      <td>5</td>\n",
       "      <td>1</td>\n",
       "      <td>2</td>\n",
       "      <td>4</td>\n",
       "      <td>1</td>\n",
       "    </tr>\n",
       "    <tr>\n",
       "      <th>1</th>\n",
       "      <td>4</td>\n",
       "      <td>5</td>\n",
       "      <td>3</td>\n",
       "      <td>4</td>\n",
       "      <td>1</td>\n",
       "      <td>5</td>\n",
       "      <td>3</td>\n",
       "      <td>1</td>\n",
       "      <td>4</td>\n",
       "      <td>2</td>\n",
       "      <td>...</td>\n",
       "      <td>9</td>\n",
       "      <td>2</td>\n",
       "      <td>2</td>\n",
       "      <td>3</td>\n",
       "      <td>2</td>\n",
       "      <td>7</td>\n",
       "      <td>6</td>\n",
       "      <td>2</td>\n",
       "      <td>3</td>\n",
       "      <td>0</td>\n",
       "    </tr>\n",
       "    <tr>\n",
       "      <th>2</th>\n",
       "      <td>1</td>\n",
       "      <td>6</td>\n",
       "      <td>1</td>\n",
       "      <td>5</td>\n",
       "      <td>2</td>\n",
       "      <td>5</td>\n",
       "      <td>3</td>\n",
       "      <td>8</td>\n",
       "      <td>2</td>\n",
       "      <td>4</td>\n",
       "      <td>...</td>\n",
       "      <td>7</td>\n",
       "      <td>1</td>\n",
       "      <td>3</td>\n",
       "      <td>1</td>\n",
       "      <td>2</td>\n",
       "      <td>7</td>\n",
       "      <td>3</td>\n",
       "      <td>2</td>\n",
       "      <td>4</td>\n",
       "      <td>0</td>\n",
       "    </tr>\n",
       "    <tr>\n",
       "      <th>3</th>\n",
       "      <td>1</td>\n",
       "      <td>5</td>\n",
       "      <td>3</td>\n",
       "      <td>5</td>\n",
       "      <td>2</td>\n",
       "      <td>5</td>\n",
       "      <td>3</td>\n",
       "      <td>7</td>\n",
       "      <td>2</td>\n",
       "      <td>2</td>\n",
       "      <td>...</td>\n",
       "      <td>3</td>\n",
       "      <td>4</td>\n",
       "      <td>3</td>\n",
       "      <td>2</td>\n",
       "      <td>2</td>\n",
       "      <td>7</td>\n",
       "      <td>2</td>\n",
       "      <td>3</td>\n",
       "      <td>2</td>\n",
       "      <td>0</td>\n",
       "    </tr>\n",
       "    <tr>\n",
       "      <th>4</th>\n",
       "      <td>4</td>\n",
       "      <td>6</td>\n",
       "      <td>3</td>\n",
       "      <td>2</td>\n",
       "      <td>2</td>\n",
       "      <td>5</td>\n",
       "      <td>1</td>\n",
       "      <td>2</td>\n",
       "      <td>2</td>\n",
       "      <td>3</td>\n",
       "      <td>...</td>\n",
       "      <td>11</td>\n",
       "      <td>2</td>\n",
       "      <td>3</td>\n",
       "      <td>2</td>\n",
       "      <td>3</td>\n",
       "      <td>5</td>\n",
       "      <td>2</td>\n",
       "      <td>3</td>\n",
       "      <td>2</td>\n",
       "      <td>1</td>\n",
       "    </tr>\n",
       "  </tbody>\n",
       "</table>\n",
       "<p>5 rows × 21 columns</p>\n",
       "</div>"
      ],
      "text/plain": [
       "  rcrs2 rcrs7 rcrs13 rage sexe gr rrs8 q48 rcrs15 q17e  ... q12b q14 q15 q17b  \\\n",
       "0     2     5      3    2    2  5    2   2      2    3  ...    2   3   2    2   \n",
       "1     4     5      3    4    1  5    3   1      4    2  ...    9   2   2    3   \n",
       "2     1     6      1    5    2  5    3   8      2    4  ...    7   1   3    1   \n",
       "3     1     5      3    5    2  5    3   7      2    2  ...    3   4   3    2   \n",
       "4     4     6      3    2    2  5    1   2      2    3  ...   11   2   3    2   \n",
       "\n",
       "  q18 q37 q38 q44 q17d target  \n",
       "0   2   5   1   2    4      1  \n",
       "1   2   7   6   2    3      0  \n",
       "2   2   7   3   2    4      0  \n",
       "3   2   7   2   3    2      0  \n",
       "4   3   5   2   3    2      1  \n",
       "\n",
       "[5 rows x 21 columns]"
      ]
     },
     "execution_count": 13,
     "metadata": {},
     "output_type": "execute_result"
    }
   ],
   "source": [
    "# Transformer d'abord à integer pour éviter le virgule et les decimales\n",
    "df1 = df1.apply(lambda col: pd.to_numeric(col, downcast='integer', errors='coerce'))\n",
    "# Transformer en suite à catégorielles\n",
    "df1 = df1.apply(lambda col: col.astype(\"category\"))\n",
    "df1.head(5)"
   ]
  },
  {
   "cell_type": "code",
   "execution_count": 14,
   "id": "33464521",
   "metadata": {},
   "outputs": [
    {
     "data": {
      "text/plain": [
       "rcrs2     category\n",
       "rcrs7     category\n",
       "rcrs13    category\n",
       "rage      category\n",
       "sexe      category\n",
       "gr        category\n",
       "rrs8      category\n",
       "q48       category\n",
       "rcrs15    category\n",
       "q17e      category\n",
       "q12a      category\n",
       "q12b      category\n",
       "q14       category\n",
       "q15       category\n",
       "q17b      category\n",
       "q18       category\n",
       "q37       category\n",
       "q38       category\n",
       "q44       category\n",
       "q17d      category\n",
       "target    category\n",
       "dtype: object"
      ]
     },
     "execution_count": 14,
     "metadata": {},
     "output_type": "execute_result"
    }
   ],
   "source": [
    "df1.dtypes"
   ]
  },
  {
   "cell_type": "markdown",
   "id": "aca2729d",
   "metadata": {},
   "source": [
    "## PARTIE I: LA REGRESSION LOGISTIQUE"
   ]
  },
  {
   "cell_type": "markdown",
   "id": "cbc5bbf1",
   "metadata": {},
   "source": [
    "### 1. Modèles des variables contextes"
   ]
  },
  {
   "cell_type": "markdown",
   "id": "1cd397f4",
   "metadata": {},
   "source": [
    "#### 1.1. Préparation de données d'entrainement"
   ]
  },
  {
   "cell_type": "code",
   "execution_count": null,
   "id": "153f693e",
   "metadata": {},
   "outputs": [],
   "source": [
    "df1a = df1[variables_contextes + [\"target\"]].copy()\n",
    "df1a.head(5)"
   ]
  },
  {
   "cell_type": "code",
   "execution_count": null,
   "id": "fd31fd9f",
   "metadata": {},
   "outputs": [],
   "source": [
    "unique_values_count = df1a.drop(columns=\"target\").nunique()\n",
    "print(unique_values_count)"
   ]
  },
  {
   "cell_type": "code",
   "execution_count": null,
   "id": "11410843",
   "metadata": {},
   "outputs": [],
   "source": [
    "total = sum(unique_values_count)\n",
    "print(\"L'encodage créera donc\", total, \"nouvelles colonnes\")"
   ]
  },
  {
   "cell_type": "code",
   "execution_count": null,
   "id": "51451259",
   "metadata": {},
   "outputs": [],
   "source": [
    "# Dumminiser tous les variables explicatives\n",
    "df1a_dummies = pd.get_dummies(df1a.drop(columns=\"target\"))\n",
    "\n",
    "# Recoller la colonne \"target\"\n",
    "df1a_encoded = pd.concat([df1a_dummies, df1a[\"target\"]], axis=1)\n",
    "\n",
    "df1a_encoded.head(5)"
   ]
  },
  {
   "cell_type": "code",
   "execution_count": null,
   "id": "c9e449b2",
   "metadata": {},
   "outputs": [],
   "source": [
    "# On vérifie bien qu'il y a 53 colonnes + 1 colonne de target"
   ]
  },
  {
   "cell_type": "code",
   "execution_count": null,
   "id": "577b5c36",
   "metadata": {},
   "outputs": [],
   "source": [
    "from sklearn.model_selection import train_test_split\n",
    "\n",
    "X_train, X_test, y_train, y_test = train_test_split(df1a_encoded, \n",
    "                                                    df1a_encoded['target'],\n",
    "                                                    test_size = 0.2, \n",
    "                                                    stratify = df1a_encoded['target'],\n",
    "                                                    random_state = 0) \n",
    "del X_train['target'], X_test['target']"
   ]
  },
  {
   "cell_type": "code",
   "execution_count": null,
   "id": "cc6d6705",
   "metadata": {},
   "outputs": [],
   "source": [
    "# Vérification de stratify\n",
    "for i in ['train','test']:\n",
    "    print(f\"Echantillon {i}: Part y=1 : {round(y_train.astype(int).mean(), 4)}\")"
   ]
  },
  {
   "cell_type": "code",
   "execution_count": null,
   "id": "2be15135",
   "metadata": {},
   "outputs": [],
   "source": [
    "X_train.head(5)"
   ]
  },
  {
   "cell_type": "code",
   "execution_count": null,
   "id": "e1fd2ab6",
   "metadata": {},
   "outputs": [],
   "source": [
    "y_train.head(5)"
   ]
  },
  {
   "cell_type": "markdown",
   "id": "60392635",
   "metadata": {},
   "source": [
    "#### 1.2. Modèle de base"
   ]
  },
  {
   "cell_type": "code",
   "execution_count": null,
   "id": "208bff2d",
   "metadata": {},
   "outputs": [],
   "source": [
    "from sklearn.linear_model import LogisticRegression\n",
    "import numpy as np\n",
    "import random\n",
    "# np.random.seed(8)\n",
    "\n",
    "# Create the LogisticRegression estimator with default parameters\n",
    "model = LogisticRegression(max_iter = 1000)\n",
    "\n",
    "# Fit the model to the training data\n",
    "model.fit(X_train, y_train)  # Replace X_train and y_train with your actual training data\n",
    "\n",
    "# Make predictions on the training data\n",
    "y_train_pred = model.predict(X_train)\n",
    "y_test_pred = model.predict(X_test)"
   ]
  },
  {
   "cell_type": "code",
   "execution_count": null,
   "id": "20262904",
   "metadata": {},
   "outputs": [],
   "source": [
    "for a in np.arange(0.01, 1.0, 0.1):\n",
    "    print(a)\n",
    "    model = LogisticRegression(max_iter = 1000, class_weight = {0:a, 1:(1-a)})\n",
    "    model.fit(X_train, y_train)  # Replace X_train and y_train with your actual training data\n",
    "    # Make predictions on the training data\n",
    "    y_train_pred = model.predict(X_train)\n",
    "    y_test_pred = model.predict(X_test)\n",
    "    from sklearn.metrics import confusion_matrix, ConfusionMatrixDisplay\n",
    "    import matplotlib.pyplot as plt \n",
    "    labels = [\"Non\", \"Voter\"]\n",
    "\n",
    "    # Calculate the confusion matrix for the test data\n",
    "    conf_matrix_test = confusion_matrix(y_test, y_test_pred)\n",
    "\n",
    "    # Display the confusion matrix using ConfusionMatrixDisplay\n",
    "    disp = ConfusionMatrixDisplay(conf_matrix_test, display_labels=labels)\n",
    "    disp.plot(cmap=plt.cm.Blues)\n",
    "\n",
    "    plt.title(\"Confusion Matrix - Test\")\n",
    "    plt.show()\n",
    "    from sklearn.metrics import classification_report\n",
    "\n",
    "    # Generate the classification report\n",
    "    report = classification_report(y_test, y_test_pred)\n",
    "    print(report)"
   ]
  },
  {
   "cell_type": "code",
   "execution_count": null,
   "id": "a937bdd5",
   "metadata": {},
   "outputs": [],
   "source": [
    "from sklearn.metrics import confusion_matrix, ConfusionMatrixDisplay\n",
    "import matplotlib.pyplot as plt \n",
    "labels = [\"Non\", \"Voter\"]\n",
    "\n",
    "# Calculate the confusion matrix for the test data\n",
    "conf_matrix_test = confusion_matrix(y_test, y_test_pred)\n",
    "\n",
    "# Display the confusion matrix using ConfusionMatrixDisplay\n",
    "disp = ConfusionMatrixDisplay(conf_matrix_test, display_labels=labels)\n",
    "disp.plot(cmap=plt.cm.Blues)\n",
    "\n",
    "plt.title(\"Confusion Matrix - Test\")\n",
    "plt.show()"
   ]
  },
  {
   "cell_type": "code",
   "execution_count": null,
   "id": "c769f971",
   "metadata": {},
   "outputs": [],
   "source": [
    "from sklearn.metrics import classification_report\n",
    "\n",
    "# Generate the classification report\n",
    "report = classification_report(y_test, y_test_pred)\n",
    "print(report)"
   ]
  },
  {
   "cell_type": "markdown",
   "id": "3d540b26",
   "metadata": {},
   "source": [
    "On constate qu'en terme de l'accuracy, le modèle classifie avec l'accuracy d'environ de 60%. En terme de performance, il classe mieux les *Non-voter* par rapport aux *Voter*"
   ]
  },
  {
   "cell_type": "markdown",
   "id": "dd60e405",
   "metadata": {},
   "source": [
    "#### 1.2. Optimisation du modèle"
   ]
  },
  {
   "cell_type": "markdown",
   "id": "9890febf",
   "metadata": {},
   "source": [
    "**Structure de fonction d'optimisation**:\n",
    "\n",
    "On cherche à améliorer les paramètres pour mieux classer la classe positive (y=1). La fonction d'optimisation utilise:\n",
    "- Input: X, Y, searcher (BayesSearchCV, RandomizedSearchCV ou Optuna) et Scoring metrique (balanced accuracy, f1, precision, recall ou roc-auc)\n",
    "- Output: les meilleurs paramètres, le résumé du modèle, la confusion matrice sur l'ensemble de test et la courbe ROC-AUC."
   ]
  },
  {
   "cell_type": "code",
   "execution_count": null,
   "id": "29cdb702",
   "metadata": {},
   "outputs": [],
   "source": [
    "#!pip install -q optuna"
   ]
  },
  {
   "cell_type": "code",
   "execution_count": null,
   "id": "405f8c22",
   "metadata": {},
   "outputs": [],
   "source": [
    "def optimiser(searcher, scorer):\n",
    "    if searcher not in ('BayesSearchCV', 'RandomizedSearchCV', 'Optuna'):\n",
    "        return('Wrong searcher')\n",
    "    print('Searcher:', searcher,',', 'Scorer:', scorer)\n",
    "    # Params dict for BayesSearchCV and RandomizedSearchCV\n",
    "    # Import libraries\n",
    "    from sklearn.linear_model import LogisticRegression\n",
    "    from skopt.space import Real,Integer,Categorical # for BayesSearch\n",
    "    from scipy.stats import uniform # for RandomizedSearch\n",
    "    from sklearn.model_selection import cross_val_score # for Optuna\n",
    "    from skopt import BayesSearchCV\n",
    "    from sklearn.model_selection import RandomizedSearchCV\n",
    "    import optuna\n",
    "\n",
    "    # BayesSearchCV\n",
    "    if searcher == 'BayesSearchCV':\n",
    "        # Définir l'espace de recherche pour les hyperparamètres\n",
    "        # Lasso (pénalisation L1)\n",
    "        param_dict_l1 = {\n",
    "            'penalty': Categorical(['l1']), \n",
    "            'solver': Categorical(['liblinear','saga']),\n",
    "            'tol': Real(0,1, prior='uniform'),\n",
    "            'C':Real(0,0.9, prior='uniform'),\n",
    "            'max_iter': [1000],\n",
    "            'fit_intercept': [True, False],\n",
    "            'class_weight': [None, 'balanced']\n",
    "        }\n",
    "        # Ridge (pénalisation L2)\n",
    "        param_dict_l2 = {\n",
    "            'penalty': Categorical(['l2']), \n",
    "            'solver': Categorical(['newton-cg', 'lbfgs', 'saga']),\n",
    "            'tol': Real(0,1, prior='uniform'),\n",
    "            'C':Real(0,0.99, prior='uniform'),\n",
    "            'max_iter': [1000],\n",
    "            'fit_intercept': [True, False],\n",
    "            'class_weight': [None, 'balanced']\n",
    "        }  \n",
    "        # Elastic Net (pénalisation L1+L2)\n",
    "        param_dict_elasticnet = {\n",
    "            'penalty': Categorical(['elasticnet']), \n",
    "            'solver': Categorical(['saga']),\n",
    "            'l1_ratio' : Real(0,0.99, prior='uniform'),\n",
    "            'tol': Real(0,1, prior='uniform'),\n",
    "            'C':Real(0,0.99, prior='uniform'),\n",
    "            'max_iter': [1000],\n",
    "            'fit_intercept': [True, False],\n",
    "            'class_weight': [None, 'balanced']\n",
    "        }\n",
    "        # Définir l'optimiseur\n",
    "        opt = BayesSearchCV(LogisticRegression(),\n",
    "                            [(param_dict_elasticnet,10),\n",
    "                             (param_dict_l1,10),\n",
    "                             (param_dict_l2,10)],\n",
    "                            cv = 5,\n",
    "                            scoring = scorer)\n",
    "        opt.fit(X_train, y_train)\n",
    "        best_params = opt.best_params_\n",
    "        \n",
    "    # RandomizedSearchCV \n",
    "    if searcher == 'RandomizedSearchCV':\n",
    "        # Définir l'espace de recherche pour les hyperparamètres\n",
    "        param_distributions = {\n",
    "        'penalty': ['l1', 'l2'],\n",
    "        'solver': ['liblinear', 'newton-cg', 'saga'],\n",
    "        'C': uniform(loc=0, scale=10),\n",
    "        'tol': uniform(loc=0, scale=1),\n",
    "        'max_iter': [100, 1000, 10000, 100000],\n",
    "        'fit_intercept': [True, False],\n",
    "        'class_weight': [None, 'balanced']    \n",
    "        }\n",
    "        \n",
    "        # Définir l'optimiseur\n",
    "        opt = RandomizedSearchCV(LogisticRegression(),\n",
    "                                 param_distributions=param_distributions,\n",
    "                                 cv=5,\n",
    "                                 scoring=scorer)\n",
    "        opt.fit(X_train, y_train)\n",
    "        best_params = opt.best_params_\n",
    "\n",
    "    # Optuna \n",
    "    if searcher == 'Optuna':\n",
    "        # Définir l'espace de recherche pour les hyperparamètres\n",
    "        def objective(trial):\n",
    "            penalty = trial.suggest_categorical('penalty', [\"l1\", \"l2\"])\n",
    "            solver = trial.suggest_categorical('solver', ['liblinear', 'saga'])\n",
    "            C = trial.suggest_float('C', 0.01, 10)  # Wider range for C\n",
    "            class_weight = trial.suggest_categorical('class_weight', [\"balanced\", None])\n",
    "            max_iter = trial.suggest_int('max_iter', 100, 100000)  # Extend range for max_iter\n",
    "            \n",
    "            \n",
    "            model = LogisticRegression(solver=solver, \n",
    "                                       penalty=penalty, \n",
    "                                       C=C,\n",
    "                                       class_weight=class_weight, \n",
    "                                       max_iter=max_iter)\n",
    "\n",
    "            return cross_val_score(model, X_train, y_train, n_jobs=-1, cv=5, \n",
    "                                   scoring=scorer).mean()\n",
    "\n",
    "        opt = optuna.create_study(direction='maximize')\n",
    "        opt.optimize(objective, n_trials=20)\n",
    "        best_params = opt.best_params\n",
    "    \n",
    "    # Extracting result\n",
    "    #1. Best params\n",
    "    print(\"\\n Paramètres optimaux : \")\n",
    "    print(best_params)\n",
    "    \n",
    "    #2. Model summary\n",
    "    from sklearn.metrics import classification_report\n",
    "    # Define best model\n",
    "    reg_log = LogisticRegression(**best_params)\n",
    "    reg_log.fit(X_train, y_train)\n",
    "    # Predict on y_test\n",
    "    y_test_pred = reg_log.predict(X_test)\n",
    "    # Reporting\n",
    "    report = classification_report(y_test, y_test_pred)\n",
    "    print(report)\n",
    "    \n",
    "    #3. Confusion matrix on Test\n",
    "    from sklearn.metrics import confusion_matrix, ConfusionMatrixDisplay\n",
    "    import matplotlib.pyplot as plt \n",
    "    labels = [\"Non\", \"Voter\"]\n",
    "    # Calculate the confusion matrix for the test data\n",
    "    conf_matrix_test = confusion_matrix(y_test, y_test_pred)\n",
    "    # Display the confusion matrix using ConfusionMatrixDisplay\n",
    "    disp = ConfusionMatrixDisplay(conf_matrix_test, display_labels=labels)\n",
    "    disp.plot(cmap=plt.cm.Blues)\n",
    "    plt.title(\"Confusion Matrix - Test\")\n",
    "    plt.show()\n",
    "    \n",
    "    #4. ROC-AUC curve\n",
    "    from sklearn.metrics import roc_curve, auc\n",
    "    import matplotlib.pyplot as plt\n",
    "    # Extract values\n",
    "    y_train_predict_RL = reg_log.predict(X_train)\n",
    "    y_test_predict_RL = reg_log.predict(X_train)\n",
    "    y_train_predict_proba_RL = reg_log.predict_proba(X_train)[:,1]\n",
    "    y_test_predict_proba_RL = reg_log.predict_proba(X_test)[:,1]\n",
    "    fpr_train, tpr_train, _ = roc_curve(y_train, y_train_predict_proba_RL)\n",
    "    roc_auc_train = auc(fpr_train, tpr_train)\n",
    "    fpr_test, tpr_test, _ = roc_curve(y_test, y_test_predict_proba_RL)\n",
    "    roc_auc_test = auc(fpr_test, tpr_test)\n",
    "    # Plotting\n",
    "    lw = 2\n",
    "    plt.plot(fpr_train, tpr_train, color='darkorange',\n",
    "             lw=lw, label='Train - ROC curve (area = %0.2f)' % roc_auc_train)\n",
    "\n",
    "    plt.plot(fpr_test, tpr_test, color='darkgreen',\n",
    "             lw=lw, label='Test - ROC curve (area = %0.2f)' % roc_auc_test)\n",
    "\n",
    "    plt.plot([0, 1], [0, 1], color='navy', lw=lw, linestyle='--')\n",
    "    plt.xlim([0.0, 1.0])\n",
    "    plt.ylim([0.0, 1.05])\n",
    "    plt.xlabel('False Positive Rate')\n",
    "    plt.ylabel('True Positive Rate')\n",
    "    plt.title('Comparaison courve ROC (TRAIN / TEST)')\n",
    "    plt.legend(loc=\"lower right\")\n",
    "    plt.show()\n",
    "    \n",
    "    # Output saved best fitted model\n",
    "    return reg_log"
   ]
  },
  {
   "cell_type": "code",
   "execution_count": null,
   "id": "0774c8df",
   "metadata": {},
   "outputs": [],
   "source": [
    "# np.random.seed(8)\n",
    "for i in ('BayesSearchCV', 'RandomizedSearchCV', 'Optuna'):\n",
    "    for j in ('balanced_accuracy', 'recall', 'precision', 'f1', 'roc_auc'):\n",
    "        optimiser(searcher = i, scorer = j)"
   ]
  },
  {
   "cell_type": "markdown",
   "id": "71e740e4",
   "metadata": {},
   "source": [
    "On constate que dans notre cas:\n",
    "- La métrique de scoring F1 adapte le meilleur. Elle améliore notre modèle en prenant en compte à la fois le précision et le recall sur les deux classes.\n",
    "- Les trois chercheur de paramètres montre un résultat similaire: On obtiens très souvant un meilleur modèle (avec le F1-score) avec d'environ 370 TN et 300 TP. En terme de la performance et le résultat final, on conclut que le BayesSearch nous donne le meilleur modèle: 380 TN et 301 TP, le precision, recall et f1 sont proches entre les deux classes. Un seul soucis avec ce modèle: il est légèrement sur-apprentisage avec la courbe ROC 0.67 sur le train mais 0.62 sur le test"
   ]
  },
  {
   "cell_type": "code",
   "execution_count": null,
   "id": "1870fc91",
   "metadata": {},
   "outputs": [],
   "source": [
    "model1 = optimiser('BayesSearchCV', 'f1')"
   ]
  },
  {
   "cell_type": "code",
   "execution_count": null,
   "id": "96ad7522",
   "metadata": {},
   "outputs": [],
   "source": [
    "# Params de Messaoud\n",
    "best_params = {\n",
    "    'C': 0.4421244891227494,\n",
    "    'class_weight': 'balanced',\n",
    "    'fit_intercept': False,\n",
    "    'max_iter': 1000,\n",
    "    'penalty': 'l1',\n",
    "    'solver': 'liblinear',\n",
    "    'tol': 0.052132926431018536\n",
    "}\n",
    "\n",
    "# Extracting result\n",
    "#1. Best params\n",
    "print(\"\\n Paramètres optimaux : \")\n",
    "print(best_params)\n",
    "\n",
    "#2. Model summary\n",
    "from sklearn.metrics import classification_report\n",
    "# Define best model\n",
    "reg_log = LogisticRegression(**best_params)\n",
    "reg_log.fit(X_train, y_train)\n",
    "# Predict on y_test\n",
    "y_test_pred = reg_log.predict(X_test)\n",
    "# Reporting\n",
    "report = classification_report(y_test, y_test_pred)\n",
    "print(report)\n",
    "\n",
    "#3. Confusion matrix on Test\n",
    "from sklearn.metrics import confusion_matrix, ConfusionMatrixDisplay\n",
    "import matplotlib.pyplot as plt \n",
    "labels = [\"Non\", \"Voter\"]\n",
    "# Calculate the confusion matrix for the test data\n",
    "conf_matrix_test = confusion_matrix(y_test, y_test_pred)\n",
    "# Display the confusion matrix using ConfusionMatrixDisplay\n",
    "disp = ConfusionMatrixDisplay(conf_matrix_test, display_labels=labels)\n",
    "disp.plot(cmap=plt.cm.Blues)\n",
    "plt.title(\"Confusion Matrix - Test\")\n",
    "plt.show()\n",
    "\n",
    "#4. ROC-AUC curve\n",
    "from sklearn.metrics import roc_curve, auc\n",
    "import matplotlib.pyplot as plt\n",
    "# Extract values\n",
    "y_train_predict_RL = reg_log.predict(X_train)\n",
    "y_test_predict_RL = reg_log.predict(X_train)\n",
    "y_train_predict_proba_RL = reg_log.predict_proba(X_train)[:,1]\n",
    "y_test_predict_proba_RL = reg_log.predict_proba(X_test)[:,1]\n",
    "fpr_train, tpr_train, _ = roc_curve(y_train, y_train_predict_proba_RL)\n",
    "roc_auc_train = auc(fpr_train, tpr_train)\n",
    "fpr_test, tpr_test, _ = roc_curve(y_test, y_test_predict_proba_RL)\n",
    "roc_auc_test = auc(fpr_test, tpr_test)\n",
    "# Plotting\n",
    "lw = 2\n",
    "plt.plot(fpr_train, tpr_train, color='darkorange',\n",
    "         lw=lw, label='Train - ROC curve (area = %0.2f)' % roc_auc_train)\n",
    "\n",
    "plt.plot(fpr_test, tpr_test, color='darkgreen',\n",
    "         lw=lw, label='Test - ROC curve (area = %0.2f)' % roc_auc_test)\n",
    "\n",
    "plt.plot([0, 1], [0, 1], color='navy', lw=lw, linestyle='--')\n",
    "plt.xlim([0.0, 1.0])\n",
    "plt.ylim([0.0, 1.05])\n",
    "plt.xlabel('False Positive Rate')\n",
    "plt.ylabel('True Positive Rate')\n",
    "plt.title('Comparaison courve ROC (TRAIN / TEST)')\n",
    "plt.legend(loc=\"lower right\")\n",
    "plt.show()\n"
   ]
  },
  {
   "cell_type": "markdown",
   "id": "75d8b05d",
   "metadata": {},
   "source": [
    "#### 1.3. Evaluation du modèle"
   ]
  },
  {
   "cell_type": "markdown",
   "id": "7fff7864",
   "metadata": {},
   "source": [
    "**Tableau de coefficient**"
   ]
  },
  {
   "cell_type": "code",
   "execution_count": null,
   "id": "b797270c",
   "metadata": {},
   "outputs": [],
   "source": [
    "table_coeff = pd.DataFrame()\n",
    "table_coeff[\"Variable\"] = X_train.columns\n",
    "table_coeff[\"Coefficient\"] = model1.coef_[0]\n",
    "table_coeff.head()"
   ]
  },
  {
   "cell_type": "code",
   "execution_count": null,
   "id": "20792f35",
   "metadata": {},
   "outputs": [],
   "source": [
    "table_coeff_pos = table_coeff[table_coeff['Coefficient']>=0]\n",
    "table_coeff_neg = table_coeff[table_coeff['Coefficient']<0]"
   ]
  },
  {
   "cell_type": "code",
   "execution_count": null,
   "id": "702bda89",
   "metadata": {},
   "outputs": [],
   "source": [
    "table_coeff_pos.sort_values(by = 'Coefficient', ascending = False)[0:5]"
   ]
  },
  {
   "cell_type": "markdown",
   "id": "14980a2c",
   "metadata": {},
   "source": [
    "Les caractéristiques des personnes qui est plus susceptible de voter pour Sarkozy:\n",
    "- Être Catholique pratiquant (RCRS15 = 1)\n",
    "- Avoir retraité (RRS8 = 3)\n",
    "- Être veuf ou veuve vivant en couple (Q48 = 8)\n",
    "- Être un(e) artisane, commerçant, chef(e) d'entreprise (RCRS7 = 2)\n",
    "- N'avoir pas de diplôme, certificat d'études"
   ]
  },
  {
   "cell_type": "code",
   "execution_count": null,
   "id": "bf80f494",
   "metadata": {},
   "outputs": [],
   "source": [
    "table_coeff_neg.sort_values(by = 'Coefficient', ascending = True)[0:5]"
   ]
  },
  {
   "cell_type": "markdown",
   "id": "621a7176",
   "metadata": {},
   "source": [
    "Caracteristique des personnes qui est moins susceptible de voter pour Sarkozy:\n",
    "- Être enseignant (RCRS7 = 4)\n",
    "- N'avoir pas de réligion (RCRS15 = 4)\n",
    "- Avoir de diplôme de l'enseignement supérieur (RCRS2 = 5)\n",
    "- Être divorcé(e) vivant en couple (Q48 = 6)\n",
    "- Venir de Grand Ouest (GR = 2)"
   ]
  },
  {
   "cell_type": "markdown",
   "id": "e1a1ea5e",
   "metadata": {},
   "source": [
    "Dans chacun des deux derniers cas, la religion joue le rôle de l'indicateur important quant à la décision de voter ou non pour la candidature de Sarkozy. Ensuite, on observe la caractéristique de la profession, avec une probabilité plus élevée de vote pour les retraités et une probabilité plus élevée de ne pas voter pour les enseignants."
   ]
  },
  {
   "cell_type": "markdown",
   "id": "67458b80",
   "metadata": {},
   "source": [
    "## Data Augmentation "
   ]
  },
  {
   "cell_type": "markdown",
   "id": "27342860",
   "metadata": {},
   "source": [
    "### Voteur non-fiable exclu"
   ]
  },
  {
   "cell_type": "code",
   "execution_count": null,
   "id": "c481fe1b",
   "metadata": {},
   "outputs": [],
   "source": [
    "# List of column names\n",
    "column_names = ['q46a', 'q46b', 'q46c', 'q46d', 'q46e', 'q46f', 'q46g', 'q46h', 'q46i', 'q46j', 'q46k', 'q46l', 'q46m', 'q46n', 'q46o', 'q46p']\n",
    "\n",
    "df1 = df[variables_contextes + variables_opinions + column_names].copy()"
   ]
  },
  {
   "cell_type": "markdown",
   "id": "23d3e93a",
   "metadata": {},
   "source": [
    "#### Les ne-sait-pas (9 observations)"
   ]
  },
  {
   "cell_type": "markdown",
   "id": "7693b8c3",
   "metadata": {},
   "source": [
    "Modalité 6 (Nsp) n'indique pas une probabilité fiable pour le fait que le répondeur va voter pas. Il ne rends pas donc une information fiable pour notre estimateur"
   ]
  },
  {
   "cell_type": "code",
   "execution_count": null,
   "id": "54983f8e",
   "metadata": {},
   "outputs": [],
   "source": [
    "filter_condition = df1[column_names].isin([6]).any(axis=1)\n",
    "\n",
    "# Drop rows that meet the filter condition\n",
    "df1 = df1[~filter_condition]"
   ]
  },
  {
   "cell_type": "markdown",
   "id": "33533642",
   "metadata": {},
   "source": [
    "#### Les rien-voter"
   ]
  },
  {
   "cell_type": "code",
   "execution_count": null,
   "id": "44aea743",
   "metadata": {},
   "outputs": [],
   "source": [
    "# Loop through each column name in column_names\n",
    "for col_name in column_names:\n",
    "    df1[col_name] = df1[col_name].apply(lambda x: 1 if x in [1, 2] else 0)\n",
    "\n",
    "# Create the 'no_vote' column by summing the selected columns\n",
    "df1['no_vote'] = df1[column_names].sum(axis=1)\n",
    "\n",
    "# Calculate the value counts of the 'no_vote' column and sort them in descending order\n",
    "sorted_no_vote_counts = df1['no_vote'].value_counts().sort_index()\n",
    "\n",
    "# Print the sorted value counts\n",
    "print(sorted_no_vote_counts)"
   ]
  },
  {
   "cell_type": "markdown",
   "id": "54d9c988",
   "metadata": {},
   "source": [
    "Il y a 175 qui ne veux rien voter. Ces personnes ne donnent pas l'information à notre modèle de prédiction"
   ]
  },
  {
   "cell_type": "code",
   "execution_count": null,
   "id": "94d42a94",
   "metadata": {},
   "outputs": [],
   "source": [
    "# Find the index locations where 'no_vote' equals 0\n",
    "index_of_zero = df1.index[df1['no_vote'] == 0].tolist()\n",
    "\n",
    "# Print the index locations\n",
    "print(index_of_zero)"
   ]
  },
  {
   "cell_type": "code",
   "execution_count": null,
   "id": "e66df495",
   "metadata": {},
   "outputs": [],
   "source": [
    "df1 = df[variables_contextes + variables_opinions + [target]].copy()\n",
    "df1 = df1[~df1.index.isin(index_of_zero)]\n",
    "len(df1)"
   ]
  },
  {
   "cell_type": "code",
   "execution_count": null,
   "id": "d8d7a227",
   "metadata": {},
   "outputs": [],
   "source": [
    "# Renommer la colonne cible (Y)\n",
    "df1.rename(columns={target: \"target\"}, inplace=True)"
   ]
  },
  {
   "cell_type": "code",
   "execution_count": null,
   "id": "f3e963fc",
   "metadata": {},
   "outputs": [],
   "source": [
    "print(df1[\"target\"].value_counts(normalize=True) * 100)  # Verification"
   ]
  },
  {
   "cell_type": "markdown",
   "id": "505eb0d2",
   "metadata": {},
   "source": [
    "Comme on cherche à modéliser un modèle binaire, il suffit de transformer ces 6 modalité en 2:"
   ]
  },
  {
   "cell_type": "code",
   "execution_count": null,
   "id": "3a03df40",
   "metadata": {},
   "outputs": [],
   "source": [
    "# Replacing target values with 1 or 0\n",
    "df1[\"target\"] = df1[\"target\"].apply(lambda x: 1 if x in [1, 2] else 0)\n",
    "print(df1[\"target\"].value_counts(normalize=True) * 100)  # Verification"
   ]
  },
  {
   "cell_type": "markdown",
   "id": "dae0b7a0",
   "metadata": {},
   "source": [
    "La proportion de vote dans notre cas est de xx : yy"
   ]
  },
  {
   "cell_type": "code",
   "execution_count": null,
   "id": "11c73acb",
   "metadata": {},
   "outputs": [],
   "source": [
    "# Corriger les valeurs manquantes\n",
    "df1[\"q12b\"].fillna(99, inplace=True)\n",
    "df1[\"q37\"].fillna(88, inplace=True)\n",
    "df1[\"q38\"].fillna(99, inplace=True)"
   ]
  },
  {
   "cell_type": "code",
   "execution_count": null,
   "id": "9a4a3e6d",
   "metadata": {},
   "outputs": [],
   "source": [
    "# Transformer d'abord à integer pour éviter le virgule et les decimales\n",
    "df1 = df1.apply(lambda col: pd.to_numeric(col, downcast='integer', errors='coerce'))\n",
    "# Transformer en suite à catégorielles\n",
    "df1 = df1.apply(lambda col: col.astype(\"category\"))\n",
    "df1.head(5)"
   ]
  },
  {
   "cell_type": "code",
   "execution_count": null,
   "id": "5f84fd21",
   "metadata": {},
   "outputs": [],
   "source": [
    "df1.dtypes"
   ]
  },
  {
   "cell_type": "code",
   "execution_count": null,
   "id": "cfcaf99b",
   "metadata": {},
   "outputs": [],
   "source": [
    "df1a = df1[variables_contextes + [\"target\"]].copy()\n",
    "df1a.head(5)"
   ]
  },
  {
   "cell_type": "code",
   "execution_count": null,
   "id": "22630ca7",
   "metadata": {},
   "outputs": [],
   "source": [
    "total = sum(unique_values_count)\n",
    "print(\"L'encodage créera donc\", total, \"nouvelles colonnes\")"
   ]
  },
  {
   "cell_type": "code",
   "execution_count": null,
   "id": "de14abbe",
   "metadata": {},
   "outputs": [],
   "source": [
    "# Dumminiser tous les variables explicatives\n",
    "df1a_dummies = pd.get_dummies(df1a.drop(columns=\"target\"))\n",
    "\n",
    "# Recoller la colonne \"target\"\n",
    "df1a_encoded = pd.concat([df1a_dummies, df1a[\"target\"]], axis=1)\n",
    "\n",
    "df1a_encoded.head(5)"
   ]
  },
  {
   "cell_type": "code",
   "execution_count": null,
   "id": "4aac5d04",
   "metadata": {},
   "outputs": [],
   "source": [
    "# On vérifie bien qu'il y a 53 colonnes + 1 colonne de target"
   ]
  },
  {
   "cell_type": "code",
   "execution_count": null,
   "id": "fe64fb1c",
   "metadata": {},
   "outputs": [],
   "source": [
    "from sklearn.model_selection import train_test_split\n",
    "\n",
    "X_train, X_test, y_train, y_test = train_test_split(df1a_encoded, \n",
    "                                                    df1a_encoded['target'],\n",
    "                                                    test_size = 0.2, \n",
    "                                                    stratify = df1a_encoded['target'],\n",
    "                                                    random_state = 8) \n",
    "del X_train['target'], X_test['target']"
   ]
  },
  {
   "cell_type": "code",
   "execution_count": null,
   "id": "cef0b9a4",
   "metadata": {},
   "outputs": [],
   "source": [
    "# Vérification de stratify\n",
    "for i in ['train','test']:\n",
    "    print(f\"Echantillon {i}: Part y=1 : {round(y_train.astype(int).mean(), 4)}\")"
   ]
  },
  {
   "cell_type": "code",
   "execution_count": null,
   "id": "61ec4835",
   "metadata": {},
   "outputs": [],
   "source": [
    "X_train.head(5)"
   ]
  },
  {
   "cell_type": "code",
   "execution_count": null,
   "id": "a8f872ef",
   "metadata": {},
   "outputs": [],
   "source": [
    "y_train.head(5)"
   ]
  },
  {
   "cell_type": "code",
   "execution_count": null,
   "id": "bee003ca",
   "metadata": {},
   "outputs": [],
   "source": [
    "reg_log.fit(X_train, y_train)"
   ]
  },
  {
   "cell_type": "markdown",
   "id": "6d402383",
   "metadata": {},
   "source": [
    "#### 1.2. Modèle de base"
   ]
  },
  {
   "cell_type": "code",
   "execution_count": null,
   "id": "2f88c9ed",
   "metadata": {},
   "outputs": [],
   "source": [
    "from sklearn.linear_model import LogisticRegression\n",
    "\n",
    "# Create the LogisticRegression estimator with default parameters\n",
    "model = LogisticRegression(max_iter = 1000, random_state = 8)\n",
    "\n",
    "# Fit the model to the training data\n",
    "model.fit(X_train, y_train)  # Replace X_train and y_train with your actual training data\n",
    "\n",
    "# Make predictions on the training data\n",
    "y_train_pred = model.predict(X_train)\n",
    "y_test_pred = model.predict(X_test)"
   ]
  },
  {
   "cell_type": "code",
   "execution_count": null,
   "id": "5226a0e1",
   "metadata": {},
   "outputs": [],
   "source": [
    "from sklearn.metrics import confusion_matrix, ConfusionMatrixDisplay\n",
    "import matplotlib.pyplot as plt \n",
    "labels = [\"Non\", \"Voter\"]\n",
    "\n",
    "# Calculate the confusion matrix for the test data\n",
    "conf_matrix_test = confusion_matrix(y_test, y_test_pred)\n",
    "\n",
    "# Display the confusion matrix using ConfusionMatrixDisplay\n",
    "disp = ConfusionMatrixDisplay(conf_matrix_test, display_labels=labels)\n",
    "disp.plot(cmap=plt.cm.Blues)\n",
    "\n",
    "plt.title(\"Confusion Matrix - Test\")\n",
    "plt.show()"
   ]
  },
  {
   "cell_type": "code",
   "execution_count": null,
   "id": "870cabb0",
   "metadata": {},
   "outputs": [],
   "source": [
    "from sklearn.metrics import classification_report\n",
    "\n",
    "# Generate the classification report\n",
    "report = classification_report(y_test, y_test_pred)\n",
    "print(report)"
   ]
  },
  {
   "cell_type": "markdown",
   "id": "477cfe88",
   "metadata": {},
   "source": [
    "**Modele optimise**"
   ]
  },
  {
   "cell_type": "code",
   "execution_count": null,
   "id": "eb695aa0",
   "metadata": {},
   "outputs": [],
   "source": [
    "# Espace de recherche des paramètres\n",
    "from skopt import BayesSearchCV\n",
    "from sklearn.metrics import make_scorer, f1_score\n",
    "\n",
    "# Define the F1-score scorer\n",
    "f1_scorer = make_scorer(f1_score)\n",
    "\n",
    "opt = BayesSearchCV(LogisticRegression(),\n",
    "                    [(param_dict_bayes_elasticnet,10),\n",
    "                     (param_dict_bayes_l1,10),\n",
    "                     (param_dict_bayes_l2,10)],\n",
    "                    cv = 5,\n",
    "                    scoring = 'average_precision',\n",
    "                    random_state = 8)  \n",
    "\n",
    "start = timer()  \n",
    "opt.fit(X_train, y_train)\n",
    "delais = timer() - start\n",
    "best_param_opti_bayes = opt.best_params_\n",
    "best_score_opti_bayes = opt.best_score_\n",
    "all_result_opti_bayes = opt.cv_results_\n",
    "print(\" #### RECHERCHE DES PARAMETRES OPTIMAUX POUR LA REGRESSION LOGISTIQUE #### \")\n",
    "print(\" \\n Durée de recherche en seconde :\")\n",
    "print(delais)\n",
    "print(\"\\n Paramètres optimaux : \")\n",
    "best_param_opti_bayes = opt.best_params_\n",
    "print(best_param_opti_bayes)\n",
    "best_score_opti_bayes = opt.best_score_\n",
    "print(\"\\n Résultats  : \" + str(best_score_opti_bayes))\n",
    "from sklearn.metrics import confusion_matrix\n",
    "\n",
    "reg_log = LogisticRegression(**opt.best_params_, random_state = 8)\n",
    "reg_log.fit(X_train, y_train)\n",
    "\n",
    "y_test_pred = reg_log.predict(X_test)\n",
    "\n",
    "# Confusion matrix and report\n",
    "from sklearn.metrics import confusion_matrix, ConfusionMatrixDisplay\n",
    "import matplotlib.pyplot as plt \n",
    "labels = [\"Non\", \"Voter\"]\n",
    "\n",
    "# Calculate the confusion matrix for the test data\n",
    "conf_matrix_test = confusion_matrix(y_test, y_test_pred)\n",
    "\n",
    "# Display the confusion matrix using ConfusionMatrixDisplay\n",
    "disp = ConfusionMatrixDisplay(conf_matrix_test, display_labels=labels)\n",
    "disp.plot(cmap=plt.cm.Blues)\n",
    "\n",
    "plt.title(\"Confusion Matrix - Test\")\n",
    "plt.show()"
   ]
  },
  {
   "cell_type": "code",
   "execution_count": null,
   "id": "40403a74",
   "metadata": {},
   "outputs": [],
   "source": [
    "from sklearn.metrics import classification_report\n",
    "\n",
    "# Generate the classification report\n",
    "report = classification_report(y_test, y_test_pred)\n",
    "print(report)"
   ]
  },
  {
   "cell_type": "markdown",
   "id": "2e167d25",
   "metadata": {},
   "source": [
    "### 2. Modèles des variables d'opinions"
   ]
  },
  {
   "cell_type": "markdown",
   "id": "dd0b94ae",
   "metadata": {},
   "source": [
    "#### 1.1. Préparation de données d'entrainement"
   ]
  },
  {
   "cell_type": "code",
   "execution_count": null,
   "id": "dcfd609b",
   "metadata": {},
   "outputs": [],
   "source": [
    "df1a = df1[variables_opinions + [\"target\"]].copy()\n",
    "df1a.head(5)"
   ]
  },
  {
   "cell_type": "code",
   "execution_count": null,
   "id": "3a49ea52",
   "metadata": {},
   "outputs": [],
   "source": [
    "unique_values_count = df1a.drop(columns=\"target\").nunique()\n",
    "print(unique_values_count)"
   ]
  },
  {
   "cell_type": "code",
   "execution_count": null,
   "id": "949c857a",
   "metadata": {},
   "outputs": [],
   "source": [
    "total = sum(unique_values_count)\n",
    "print(\"L'encodage créera donc\", total, \"nouvelles colonnes\")"
   ]
  },
  {
   "cell_type": "code",
   "execution_count": null,
   "id": "2dbe932c",
   "metadata": {},
   "outputs": [],
   "source": [
    "# Dumminiser tous les variables explicatives\n",
    "df1a_dummies = pd.get_dummies(df1a.drop(columns=\"target\"))\n",
    "\n",
    "# Recoller la colonne \"target\"\n",
    "df1a_encoded = pd.concat([df1a_dummies, df1a[\"target\"]], axis=1)\n",
    "\n",
    "df1a_encoded.head(5)"
   ]
  },
  {
   "cell_type": "code",
   "execution_count": null,
   "id": "eabd9649",
   "metadata": {},
   "outputs": [],
   "source": [
    "# On vérifie bien qu'il y a 57 colonnes dumminisés + 1 colonne de target"
   ]
  },
  {
   "cell_type": "code",
   "execution_count": null,
   "id": "0069fa00",
   "metadata": {},
   "outputs": [],
   "source": [
    "from sklearn.model_selection import train_test_split\n",
    "\n",
    "X_train, X_test, y_train, y_test = train_test_split(df1a_encoded, \n",
    "                                                    df1a_encoded['target'],\n",
    "                                                    test_size=0.2, \n",
    "                                                    stratify=df1a_encoded[\"target\"],\n",
    "                                                    random_state = 8) \n",
    "del X_train['target'], X_test['target']"
   ]
  },
  {
   "cell_type": "code",
   "execution_count": null,
   "id": "187b562d",
   "metadata": {},
   "outputs": [],
   "source": [
    "# Vérification de stratify\n",
    "for i in ['train','test']:\n",
    "    print(f\"Echantillon {i}: Part y=1 : {round(y_train.astype(int).mean(), 4)}\")\n",
    "print(\"Total True Positive in Test:\", sum(y_test))\n",
    "print(\"Total True Negative in Test:\", len(y_test) - sum(y_test))"
   ]
  },
  {
   "cell_type": "code",
   "execution_count": null,
   "id": "9457ef8d",
   "metadata": {},
   "outputs": [],
   "source": [
    "X_train.head(5)"
   ]
  },
  {
   "cell_type": "code",
   "execution_count": null,
   "id": "e699dc35",
   "metadata": {},
   "outputs": [],
   "source": [
    "y_train.head(5)"
   ]
  },
  {
   "cell_type": "markdown",
   "id": "0b7e4628",
   "metadata": {},
   "source": [
    "#### 1.2. Modèle de base"
   ]
  },
  {
   "cell_type": "code",
   "execution_count": null,
   "id": "2ed94cac",
   "metadata": {},
   "outputs": [],
   "source": [
    "from sklearn.linear_model import LogisticRegression\n",
    "\n",
    "# Create the LogisticRegression estimator with default parameters\n",
    "model = LogisticRegression(max_iter = 1000, random_state = 8)\n",
    "\n",
    "# Fit the model to the training data\n",
    "model.fit(X_train, y_train)  # Replace X_train and y_train with your actual training data\n",
    "\n",
    "# Make predictions on the training data\n",
    "y_train_pred = model.predict(X_train)"
   ]
  },
  {
   "cell_type": "code",
   "execution_count": null,
   "id": "31649d93",
   "metadata": {},
   "outputs": [],
   "source": [
    "from sklearn.metrics import confusion_matrix\n",
    "\n",
    "y_pred_test = model.predict(X_test)\n",
    "\n",
    "# Calculate confusion matrix for test dataset\n",
    "conf_matrix_test = confusion_matrix(y_test, y_pred_test)\n",
    "\n",
    "print(\"\\nConfusion Matrix - Test:\")\n",
    "print(conf_matrix_test)"
   ]
  },
  {
   "cell_type": "markdown",
   "id": "e3d7579e",
   "metadata": {},
   "source": [
    "On constate un problème de données déséquilibres"
   ]
  },
  {
   "cell_type": "markdown",
   "id": "c4b25621",
   "metadata": {},
   "source": [
    "#### 1.2. Optimisation du modèle"
   ]
  },
  {
   "cell_type": "code",
   "execution_count": null,
   "id": "2f0706b0",
   "metadata": {},
   "outputs": [],
   "source": [
    "# Définir l'espace de recherche pour les hyperparamètres\n",
    "from sklearn.linear_model import LogisticRegression\n",
    "from skopt.space import Real,Integer,Categorical\n",
    "\n",
    "# Régression logistique Lasso (pénalisation L1)\n",
    "param_dict_bayes_l1 = {\n",
    "    'penalty': Categorical(['l1']), \n",
    "    'solver': Categorical(['liblinear','saga']),\n",
    "    'tol': Real(0,1, prior='uniform'),\n",
    "    'C':Real(0,0.9, prior='uniform'),\n",
    "    'max_iter': [1000]}\n",
    "\n",
    "# Régression logistique Ridge (pénalisation L2)\n",
    "param_dict_bayes_l2 = {\n",
    "    'penalty': Categorical(['l2']), \n",
    "    'solver': Categorical(['newton-cg', 'lbfgs','sag', 'saga']),\n",
    "    'tol': Real(0,1, prior='uniform'),\n",
    "    'C':Real(0,0.99, prior='uniform'),\n",
    "    'max_iter': [1000]}  \n",
    "\n",
    "# Régression logistique Elastic Net (pénalisation L1+L2)\n",
    "param_dict_bayes_elasticnet = {\n",
    "    'penalty': Categorical(['elasticnet']), \n",
    "    'solver': Categorical(['saga']),\n",
    "    'l1_ratio' : Real(0,0.99, prior='uniform'),\n",
    "    'tol': Real(0,1, prior='uniform'),\n",
    "    'C':Real(0,0.99, prior='uniform'),\n",
    "    'max_iter': [1000]}"
   ]
  },
  {
   "cell_type": "code",
   "execution_count": null,
   "id": "e007096a",
   "metadata": {},
   "outputs": [],
   "source": [
    "# Espace de recherche des paramètres\n",
    "from skopt import BayesSearchCV\n",
    "from sklearn.metrics import make_scorer\n",
    "\n",
    "opt = BayesSearchCV(LogisticRegression(),\n",
    "                    [(param_dict_bayes_elasticnet,10),\n",
    "                     (param_dict_bayes_l1,10),\n",
    "                     (param_dict_bayes_l2,10)],\n",
    "                    cv = 5,\n",
    "                    scoring = 'precision_micro',\n",
    "                    random_state = 8)  "
   ]
  },
  {
   "cell_type": "code",
   "execution_count": null,
   "id": "d3de85e7",
   "metadata": {},
   "outputs": [],
   "source": [
    "from timeit import default_timer as timer\n",
    "start = timer()  \n",
    "opt.fit(X_train, y_train)\n",
    "delais = timer()- start\n",
    "best_param_opti_bayes = opt.best_params_\n",
    "best_score_opti_bayes = opt.best_score_\n",
    "all_result_opti_bayes = opt.cv_results_\n",
    "print(\" #### RECHERCHE DES PARAMETRES OPTIMAUX POUR LA REGRESSION LOGISTIQUE #### \")\n",
    "print(\" \\n Durée de recherche en seconde :\")\n",
    "print(delais)\n",
    "print(\"\\n Paramètres optimaux : \")\n",
    "best_param_opti_bayes = opt.best_params_\n",
    "print(best_param_opti_bayes)\n",
    "best_score_opti_bayes = opt.best_score_\n",
    "print(\"\\n Résultats  : \" + str(best_score_opti_bayes))"
   ]
  },
  {
   "cell_type": "markdown",
   "id": "b050d0f6",
   "metadata": {},
   "source": [
    "#### 1.3. Evaluation du modèle"
   ]
  },
  {
   "cell_type": "markdown",
   "id": "95b88a0f",
   "metadata": {},
   "source": [
    "**Matrix de confusion**"
   ]
  },
  {
   "cell_type": "code",
   "execution_count": null,
   "id": "161c24ea",
   "metadata": {},
   "outputs": [],
   "source": [
    "from sklearn.metrics import confusion_matrix\n",
    "\n",
    "reg_log = LogisticRegression(**opt.best_params_, random_state = 8)\n",
    "reg_log.fit(X_train,y_train)\n",
    "\n",
    "y_pred_test = reg_log.predict(X_test)\n",
    "\n",
    "# Calculate confusion matrix for test dataset\n",
    "conf_matrix_test = confusion_matrix(y_test, y_pred_test)\n",
    "\n",
    "print(\"\\nConfusion Matrix - Test:\")\n",
    "print(conf_matrix_test)"
   ]
  },
  {
   "cell_type": "markdown",
   "id": "f9780a4d",
   "metadata": {},
   "source": [
    "**Tableau de coefficient**"
   ]
  },
  {
   "cell_type": "code",
   "execution_count": null,
   "id": "a6885c25",
   "metadata": {},
   "outputs": [],
   "source": [
    "table_coeff = pd.DataFrame()\n",
    "table_coeff[\"Variable\"] = X_train.columns\n",
    "table_coeff[\"Coefficient\"] = reg_log.coef_[0]\n",
    "table_coeff.head()"
   ]
  },
  {
   "cell_type": "code",
   "execution_count": null,
   "id": "1d34462a",
   "metadata": {},
   "outputs": [],
   "source": [
    "table_coeff_pos = table_coeff[table_coeff['Coefficient']>=0]\n",
    "table_coeff_neg = table_coeff[table_coeff['Coefficient']<0]"
   ]
  },
  {
   "cell_type": "code",
   "execution_count": null,
   "id": "7718722e",
   "metadata": {},
   "outputs": [],
   "source": [
    "table_coeff_pos.sort_values(by = 'Coefficient', ascending = False)[0:5]"
   ]
  },
  {
   "cell_type": "code",
   "execution_count": null,
   "id": "27268062",
   "metadata": {},
   "outputs": [],
   "source": [
    "table_coeff_neg.sort_values(by = 'Coefficient', ascending = True)[0:5]"
   ]
  },
  {
   "cell_type": "markdown",
   "id": "62686982",
   "metadata": {},
   "source": [
    "**Courbe ROC-AUC**"
   ]
  },
  {
   "cell_type": "code",
   "execution_count": null,
   "id": "1bb1ab9a",
   "metadata": {},
   "outputs": [],
   "source": [
    "y_train_predict_RL = reg_log.predict(X_train)\n",
    "y_test_predict_RL = reg_log.predict(X_train)\n",
    "\n",
    "# On conserve en mémoire la probabilité de l'événement cible\n",
    "y_train_predict_proba_RL = reg_log.predict_proba(X_train)[:,1]\n",
    "y_test_predict_proba_RL = reg_log.predict_proba(X_test)[:,1]"
   ]
  },
  {
   "cell_type": "code",
   "execution_count": null,
   "id": "f0f9990f",
   "metadata": {},
   "outputs": [],
   "source": [
    "# Creation des courbes ROC\n",
    "from sklearn.metrics import roc_curve, auc\n",
    "import matplotlib.pyplot as plt\n",
    "\n",
    "fpr_train, tpr_train, _ = roc_curve(y_train, y_train_predict_proba_RL)\n",
    "roc_auc_train = auc(fpr_train, tpr_train)\n",
    "fpr_test, tpr_test, _ = roc_curve(y_test, y_test_predict_proba_RL)\n",
    "roc_auc_test = auc(fpr_test, tpr_test)"
   ]
  },
  {
   "cell_type": "code",
   "execution_count": null,
   "id": "7fee3a4b",
   "metadata": {},
   "outputs": [],
   "source": [
    "lw = 2\n",
    "plt.plot(fpr_train, tpr_train, color='darkorange',\n",
    "         lw=lw, label='Train - ROC curve (area = %0.2f)' % roc_auc_train)\n",
    "\n",
    "plt.plot(fpr_test, tpr_test, color='darkgreen',\n",
    "         lw=lw, label='Test - ROC curve (area = %0.2f)' % roc_auc_test)\n",
    "\n",
    "plt.plot([0, 1], [0, 1], color='navy', lw=lw, linestyle='--')\n",
    "plt.xlim([0.0, 1.0])\n",
    "plt.ylim([0.0, 1.05])\n",
    "plt.xlabel('False Positive Rate')\n",
    "plt.ylabel('True Positive Rate')\n",
    "plt.title('Comparaison courve ROC (TRAIN / TEST)')\n",
    "plt.legend(loc=\"lower right\")\n",
    "plt.show()"
   ]
  },
  {
   "cell_type": "code",
   "execution_count": null,
   "id": "7da9ee64",
   "metadata": {},
   "outputs": [],
   "source": [
    "from sklearn.metrics import log_loss\n",
    "print(\"log loss app : \" + str(log_loss(y_train, y_train_predict_proba_RL)))\n",
    "print(\"log loss test : \" + str(log_loss(y_test, y_test_predict_proba_RL)))"
   ]
  },
  {
   "cell_type": "markdown",
   "id": "64574f30",
   "metadata": {},
   "source": [
    "**Courbe P-R**"
   ]
  },
  {
   "cell_type": "code",
   "execution_count": null,
   "id": "5100643d",
   "metadata": {},
   "outputs": [],
   "source": [
    "from sklearn.metrics import precision_recall_curve\n",
    "from sklearn.metrics import average_precision_score"
   ]
  },
  {
   "cell_type": "code",
   "execution_count": null,
   "id": "7b42ba2b",
   "metadata": {},
   "outputs": [],
   "source": [
    "precision_train,recall_train, thresholds_train = precision_recall_curve(y_train, y_train_predict_proba_RL)\n",
    "precision_test, recall_test, thresholds_test = precision_recall_curve(y_test, y_test_predict_proba_RL)"
   ]
  },
  {
   "cell_type": "code",
   "execution_count": null,
   "id": "c1ea7a93",
   "metadata": {},
   "outputs": [],
   "source": [
    "lw = 2\n",
    "plt.plot(recall_train,precision_train, color='darkorange',\n",
    "         lw=lw, label='Train')\n",
    "\n",
    "plt.plot(recall_test,precision_test, color='darkgreen',\n",
    "         lw=lw, label='Test')\n",
    "plt.xlim([0.0, 1.0])\n",
    "plt.ylim([0.0, 1.05])\n",
    "plt.xlabel('Recall',fontsize=20)\n",
    "plt.ylabel('Precision',fontsize=20)\n",
    "plt.title('Courbe Précision / Rappel (Train / Test)',fontsize=25)\n",
    "plt.legend(loc=\"lower left\",fontsize=20)\n",
    "plt.show()"
   ]
  },
  {
   "cell_type": "code",
   "execution_count": null,
   "id": "52daa007",
   "metadata": {},
   "outputs": [],
   "source": [
    "# random.seed(8)\n",
    "# np.random.seed(8)\n",
    "for i in ('BayesSearchCV', 'RandomizedSearchCV', 'Optuna'):\n",
    "    for j in ('balanced_accuracy', 'recall', 'precision', 'f1', 'roc_auc'):\n",
    "        optimiser(searcher = i, scorer = j)"
   ]
  },
  {
   "cell_type": "markdown",
   "id": "733cfecf",
   "metadata": {},
   "source": [
    "## PARTIE II: LA RÉSEAU BAYÉSIEN"
   ]
  },
  {
   "cell_type": "code",
   "execution_count": 15,
   "id": "c680e78a",
   "metadata": {},
   "outputs": [],
   "source": [
    "all_var = variables_opinions + variables_contextes"
   ]
  },
  {
   "cell_type": "code",
   "execution_count": 16,
   "id": "b53e2bfb",
   "metadata": {},
   "outputs": [
    {
     "data": {
      "text/html": [
       "<div>\n",
       "<style scoped>\n",
       "    .dataframe tbody tr th:only-of-type {\n",
       "        vertical-align: middle;\n",
       "    }\n",
       "\n",
       "    .dataframe tbody tr th {\n",
       "        vertical-align: top;\n",
       "    }\n",
       "\n",
       "    .dataframe thead th {\n",
       "        text-align: right;\n",
       "    }\n",
       "</style>\n",
       "<table border=\"1\" class=\"dataframe\">\n",
       "  <thead>\n",
       "    <tr style=\"text-align: right;\">\n",
       "      <th></th>\n",
       "      <th>q17e</th>\n",
       "      <th>q12a</th>\n",
       "      <th>q12b</th>\n",
       "      <th>q14</th>\n",
       "      <th>q15</th>\n",
       "      <th>q17b</th>\n",
       "      <th>q18</th>\n",
       "      <th>q37</th>\n",
       "      <th>q38</th>\n",
       "      <th>q44</th>\n",
       "      <th>...</th>\n",
       "      <th>rcrs2</th>\n",
       "      <th>rcrs7</th>\n",
       "      <th>rcrs13</th>\n",
       "      <th>rage</th>\n",
       "      <th>sexe</th>\n",
       "      <th>gr</th>\n",
       "      <th>rrs8</th>\n",
       "      <th>q48</th>\n",
       "      <th>rcrs15</th>\n",
       "      <th>target</th>\n",
       "    </tr>\n",
       "  </thead>\n",
       "  <tbody>\n",
       "    <tr>\n",
       "      <th>0</th>\n",
       "      <td>3</td>\n",
       "      <td>1</td>\n",
       "      <td>2</td>\n",
       "      <td>3</td>\n",
       "      <td>2</td>\n",
       "      <td>2</td>\n",
       "      <td>2</td>\n",
       "      <td>5</td>\n",
       "      <td>1</td>\n",
       "      <td>2</td>\n",
       "      <td>...</td>\n",
       "      <td>2</td>\n",
       "      <td>5</td>\n",
       "      <td>3</td>\n",
       "      <td>2</td>\n",
       "      <td>2</td>\n",
       "      <td>5</td>\n",
       "      <td>2</td>\n",
       "      <td>2</td>\n",
       "      <td>2</td>\n",
       "      <td>1</td>\n",
       "    </tr>\n",
       "    <tr>\n",
       "      <th>1</th>\n",
       "      <td>2</td>\n",
       "      <td>2</td>\n",
       "      <td>9</td>\n",
       "      <td>2</td>\n",
       "      <td>2</td>\n",
       "      <td>3</td>\n",
       "      <td>2</td>\n",
       "      <td>7</td>\n",
       "      <td>6</td>\n",
       "      <td>2</td>\n",
       "      <td>...</td>\n",
       "      <td>4</td>\n",
       "      <td>5</td>\n",
       "      <td>3</td>\n",
       "      <td>4</td>\n",
       "      <td>1</td>\n",
       "      <td>5</td>\n",
       "      <td>3</td>\n",
       "      <td>1</td>\n",
       "      <td>4</td>\n",
       "      <td>0</td>\n",
       "    </tr>\n",
       "    <tr>\n",
       "      <th>2</th>\n",
       "      <td>4</td>\n",
       "      <td>6</td>\n",
       "      <td>7</td>\n",
       "      <td>1</td>\n",
       "      <td>3</td>\n",
       "      <td>1</td>\n",
       "      <td>2</td>\n",
       "      <td>7</td>\n",
       "      <td>3</td>\n",
       "      <td>2</td>\n",
       "      <td>...</td>\n",
       "      <td>1</td>\n",
       "      <td>6</td>\n",
       "      <td>1</td>\n",
       "      <td>5</td>\n",
       "      <td>2</td>\n",
       "      <td>5</td>\n",
       "      <td>3</td>\n",
       "      <td>8</td>\n",
       "      <td>2</td>\n",
       "      <td>0</td>\n",
       "    </tr>\n",
       "    <tr>\n",
       "      <th>3</th>\n",
       "      <td>2</td>\n",
       "      <td>10</td>\n",
       "      <td>3</td>\n",
       "      <td>4</td>\n",
       "      <td>3</td>\n",
       "      <td>2</td>\n",
       "      <td>2</td>\n",
       "      <td>7</td>\n",
       "      <td>2</td>\n",
       "      <td>3</td>\n",
       "      <td>...</td>\n",
       "      <td>1</td>\n",
       "      <td>5</td>\n",
       "      <td>3</td>\n",
       "      <td>5</td>\n",
       "      <td>2</td>\n",
       "      <td>5</td>\n",
       "      <td>3</td>\n",
       "      <td>7</td>\n",
       "      <td>2</td>\n",
       "      <td>0</td>\n",
       "    </tr>\n",
       "    <tr>\n",
       "      <th>4</th>\n",
       "      <td>3</td>\n",
       "      <td>10</td>\n",
       "      <td>11</td>\n",
       "      <td>2</td>\n",
       "      <td>3</td>\n",
       "      <td>2</td>\n",
       "      <td>3</td>\n",
       "      <td>5</td>\n",
       "      <td>2</td>\n",
       "      <td>3</td>\n",
       "      <td>...</td>\n",
       "      <td>4</td>\n",
       "      <td>6</td>\n",
       "      <td>3</td>\n",
       "      <td>2</td>\n",
       "      <td>2</td>\n",
       "      <td>5</td>\n",
       "      <td>1</td>\n",
       "      <td>2</td>\n",
       "      <td>2</td>\n",
       "      <td>1</td>\n",
       "    </tr>\n",
       "  </tbody>\n",
       "</table>\n",
       "<p>5 rows × 21 columns</p>\n",
       "</div>"
      ],
      "text/plain": [
       "  q17e q12a q12b q14 q15 q17b q18 q37 q38 q44  ... rcrs2 rcrs7 rcrs13 rage  \\\n",
       "0    3    1    2   3   2    2   2   5   1   2  ...     2     5      3    2   \n",
       "1    2    2    9   2   2    3   2   7   6   2  ...     4     5      3    4   \n",
       "2    4    6    7   1   3    1   2   7   3   2  ...     1     6      1    5   \n",
       "3    2   10    3   4   3    2   2   7   2   3  ...     1     5      3    5   \n",
       "4    3   10   11   2   3    2   3   5   2   3  ...     4     6      3    2   \n",
       "\n",
       "  sexe gr rrs8 q48 rcrs15 target  \n",
       "0    2  5    2   2      2      1  \n",
       "1    1  5    3   1      4      0  \n",
       "2    2  5    3   8      2      0  \n",
       "3    2  5    3   7      2      0  \n",
       "4    2  5    1   2      2      1  \n",
       "\n",
       "[5 rows x 21 columns]"
      ]
     },
     "execution_count": 16,
     "metadata": {},
     "output_type": "execute_result"
    }
   ],
   "source": [
    "df2 = df1[all_var + [\"target\"]].copy()\n",
    "df2.head(5)"
   ]
  },
  {
   "cell_type": "code",
   "execution_count": 17,
   "id": "da4e9a33",
   "metadata": {},
   "outputs": [
    {
     "name": "stdout",
     "output_type": "stream",
     "text": [
      "q17e       5\n",
      "q12a      12\n",
      "q12b      14\n",
      "q14        6\n",
      "q15        6\n",
      "q17b       5\n",
      "q18        4\n",
      "q37        9\n",
      "q38       17\n",
      "q44        4\n",
      "q17d       5\n",
      "rcrs2      5\n",
      "rcrs7      9\n",
      "rcrs13     4\n",
      "rage       5\n",
      "sexe       2\n",
      "gr         7\n",
      "rrs8       7\n",
      "q48        9\n",
      "rcrs15     5\n",
      "dtype: int64\n"
     ]
    }
   ],
   "source": [
    "unique_values_count = df2.drop(columns=\"target\").nunique()\n",
    "print(unique_values_count)"
   ]
  },
  {
   "cell_type": "code",
   "execution_count": 18,
   "id": "c74ca900",
   "metadata": {},
   "outputs": [
    {
     "name": "stdout",
     "output_type": "stream",
     "text": [
      "L'encodage créera donc 140 nouvelles colonnes\n"
     ]
    }
   ],
   "source": [
    "total = sum(unique_values_count)\n",
    "print(\"L'encodage créera donc\", total, \"nouvelles colonnes\")"
   ]
  },
  {
   "cell_type": "code",
   "execution_count": 19,
   "id": "dabcc3e2",
   "metadata": {},
   "outputs": [
    {
     "data": {
      "text/html": [
       "<div>\n",
       "<style scoped>\n",
       "    .dataframe tbody tr th:only-of-type {\n",
       "        vertical-align: middle;\n",
       "    }\n",
       "\n",
       "    .dataframe tbody tr th {\n",
       "        vertical-align: top;\n",
       "    }\n",
       "\n",
       "    .dataframe thead th {\n",
       "        text-align: right;\n",
       "    }\n",
       "</style>\n",
       "<table border=\"1\" class=\"dataframe\">\n",
       "  <thead>\n",
       "    <tr style=\"text-align: right;\">\n",
       "      <th></th>\n",
       "      <th>q17e_1</th>\n",
       "      <th>q17e_2</th>\n",
       "      <th>q17e_3</th>\n",
       "      <th>q17e_4</th>\n",
       "      <th>q17e_5</th>\n",
       "      <th>q12a_1</th>\n",
       "      <th>q12a_2</th>\n",
       "      <th>q12a_3</th>\n",
       "      <th>q12a_4</th>\n",
       "      <th>q12a_5</th>\n",
       "      <th>...</th>\n",
       "      <th>q48_6</th>\n",
       "      <th>q48_7</th>\n",
       "      <th>q48_8</th>\n",
       "      <th>q48_9</th>\n",
       "      <th>rcrs15_1</th>\n",
       "      <th>rcrs15_2</th>\n",
       "      <th>rcrs15_3</th>\n",
       "      <th>rcrs15_4</th>\n",
       "      <th>rcrs15_5</th>\n",
       "      <th>target</th>\n",
       "    </tr>\n",
       "  </thead>\n",
       "  <tbody>\n",
       "    <tr>\n",
       "      <th>0</th>\n",
       "      <td>0</td>\n",
       "      <td>0</td>\n",
       "      <td>1</td>\n",
       "      <td>0</td>\n",
       "      <td>0</td>\n",
       "      <td>1</td>\n",
       "      <td>0</td>\n",
       "      <td>0</td>\n",
       "      <td>0</td>\n",
       "      <td>0</td>\n",
       "      <td>...</td>\n",
       "      <td>0</td>\n",
       "      <td>0</td>\n",
       "      <td>0</td>\n",
       "      <td>0</td>\n",
       "      <td>0</td>\n",
       "      <td>1</td>\n",
       "      <td>0</td>\n",
       "      <td>0</td>\n",
       "      <td>0</td>\n",
       "      <td>1</td>\n",
       "    </tr>\n",
       "    <tr>\n",
       "      <th>1</th>\n",
       "      <td>0</td>\n",
       "      <td>1</td>\n",
       "      <td>0</td>\n",
       "      <td>0</td>\n",
       "      <td>0</td>\n",
       "      <td>0</td>\n",
       "      <td>1</td>\n",
       "      <td>0</td>\n",
       "      <td>0</td>\n",
       "      <td>0</td>\n",
       "      <td>...</td>\n",
       "      <td>0</td>\n",
       "      <td>0</td>\n",
       "      <td>0</td>\n",
       "      <td>0</td>\n",
       "      <td>0</td>\n",
       "      <td>0</td>\n",
       "      <td>0</td>\n",
       "      <td>1</td>\n",
       "      <td>0</td>\n",
       "      <td>0</td>\n",
       "    </tr>\n",
       "    <tr>\n",
       "      <th>2</th>\n",
       "      <td>0</td>\n",
       "      <td>0</td>\n",
       "      <td>0</td>\n",
       "      <td>1</td>\n",
       "      <td>0</td>\n",
       "      <td>0</td>\n",
       "      <td>0</td>\n",
       "      <td>0</td>\n",
       "      <td>0</td>\n",
       "      <td>0</td>\n",
       "      <td>...</td>\n",
       "      <td>0</td>\n",
       "      <td>0</td>\n",
       "      <td>1</td>\n",
       "      <td>0</td>\n",
       "      <td>0</td>\n",
       "      <td>1</td>\n",
       "      <td>0</td>\n",
       "      <td>0</td>\n",
       "      <td>0</td>\n",
       "      <td>0</td>\n",
       "    </tr>\n",
       "    <tr>\n",
       "      <th>3</th>\n",
       "      <td>0</td>\n",
       "      <td>1</td>\n",
       "      <td>0</td>\n",
       "      <td>0</td>\n",
       "      <td>0</td>\n",
       "      <td>0</td>\n",
       "      <td>0</td>\n",
       "      <td>0</td>\n",
       "      <td>0</td>\n",
       "      <td>0</td>\n",
       "      <td>...</td>\n",
       "      <td>0</td>\n",
       "      <td>1</td>\n",
       "      <td>0</td>\n",
       "      <td>0</td>\n",
       "      <td>0</td>\n",
       "      <td>1</td>\n",
       "      <td>0</td>\n",
       "      <td>0</td>\n",
       "      <td>0</td>\n",
       "      <td>0</td>\n",
       "    </tr>\n",
       "    <tr>\n",
       "      <th>4</th>\n",
       "      <td>0</td>\n",
       "      <td>0</td>\n",
       "      <td>1</td>\n",
       "      <td>0</td>\n",
       "      <td>0</td>\n",
       "      <td>0</td>\n",
       "      <td>0</td>\n",
       "      <td>0</td>\n",
       "      <td>0</td>\n",
       "      <td>0</td>\n",
       "      <td>...</td>\n",
       "      <td>0</td>\n",
       "      <td>0</td>\n",
       "      <td>0</td>\n",
       "      <td>0</td>\n",
       "      <td>0</td>\n",
       "      <td>1</td>\n",
       "      <td>0</td>\n",
       "      <td>0</td>\n",
       "      <td>0</td>\n",
       "      <td>1</td>\n",
       "    </tr>\n",
       "  </tbody>\n",
       "</table>\n",
       "<p>5 rows × 141 columns</p>\n",
       "</div>"
      ],
      "text/plain": [
       "   q17e_1  q17e_2  q17e_3  q17e_4  q17e_5  q12a_1  q12a_2  q12a_3  q12a_4  \\\n",
       "0       0       0       1       0       0       1       0       0       0   \n",
       "1       0       1       0       0       0       0       1       0       0   \n",
       "2       0       0       0       1       0       0       0       0       0   \n",
       "3       0       1       0       0       0       0       0       0       0   \n",
       "4       0       0       1       0       0       0       0       0       0   \n",
       "\n",
       "   q12a_5  ...  q48_6  q48_7  q48_8  q48_9  rcrs15_1  rcrs15_2  rcrs15_3  \\\n",
       "0       0  ...      0      0      0      0         0         1         0   \n",
       "1       0  ...      0      0      0      0         0         0         0   \n",
       "2       0  ...      0      0      1      0         0         1         0   \n",
       "3       0  ...      0      1      0      0         0         1         0   \n",
       "4       0  ...      0      0      0      0         0         1         0   \n",
       "\n",
       "   rcrs15_4  rcrs15_5  target  \n",
       "0         0         0       1  \n",
       "1         1         0       0  \n",
       "2         0         0       0  \n",
       "3         0         0       0  \n",
       "4         0         0       1  \n",
       "\n",
       "[5 rows x 141 columns]"
      ]
     },
     "execution_count": 19,
     "metadata": {},
     "output_type": "execute_result"
    }
   ],
   "source": [
    "# Dumminiser tous les variables explicatives\n",
    "df2_dummies = pd.get_dummies(df2.drop(columns=\"target\"))\n",
    "\n",
    "# Recoller la colonne \"target\"\n",
    "df2_encoded = pd.concat([df2_dummies, df2[\"target\"]], axis=1)\n",
    "\n",
    "df2_encoded.head(5) # On vérifie bien qu'il y a 140 colonnes dumminisés + 1 colonne de target"
   ]
  },
  {
   "cell_type": "code",
   "execution_count": 20,
   "id": "ea61a178",
   "metadata": {},
   "outputs": [],
   "source": [
    "from sklearn.model_selection import train_test_split\n",
    "\n",
    "X_train, X_test, y_train, y_test = train_test_split(df2_encoded, \n",
    "                                                    df2_encoded['target'],\n",
    "                                                    test_size=0.2, \n",
    "                                                    stratify=df2_encoded[\"target\"],\n",
    "                                                    random_state = 8) \n",
    "del X_train['target'], X_test['target']"
   ]
  },
  {
   "cell_type": "code",
   "execution_count": 21,
   "id": "3b5500d8",
   "metadata": {},
   "outputs": [
    {
     "name": "stdout",
     "output_type": "stream",
     "text": [
      "Echantillon train: Part y=1 : 0.4378\n",
      "Echantillon test: Part y=1 : 0.4378\n",
      "Total True Positive in Test: 495\n",
      "Total True Negative in Test: 635\n"
     ]
    }
   ],
   "source": [
    "# Vérification de stratify\n",
    "for i in ['train','test']:\n",
    "    print(f\"Echantillon {i}: Part y=1 : {round(y_train.astype(int).mean(), 4)}\")\n",
    "print(\"Total True Positive in Test:\", sum(y_test))\n",
    "print(\"Total True Negative in Test:\", len(y_test) - sum(y_test))"
   ]
  },
  {
   "cell_type": "code",
   "execution_count": 22,
   "id": "728f09fa",
   "metadata": {},
   "outputs": [
    {
     "data": {
      "text/html": [
       "<div>\n",
       "<style scoped>\n",
       "    .dataframe tbody tr th:only-of-type {\n",
       "        vertical-align: middle;\n",
       "    }\n",
       "\n",
       "    .dataframe tbody tr th {\n",
       "        vertical-align: top;\n",
       "    }\n",
       "\n",
       "    .dataframe thead th {\n",
       "        text-align: right;\n",
       "    }\n",
       "</style>\n",
       "<table border=\"1\" class=\"dataframe\">\n",
       "  <thead>\n",
       "    <tr style=\"text-align: right;\">\n",
       "      <th></th>\n",
       "      <th>q17e_1</th>\n",
       "      <th>q17e_2</th>\n",
       "      <th>q17e_3</th>\n",
       "      <th>q17e_4</th>\n",
       "      <th>q17e_5</th>\n",
       "      <th>q12a_1</th>\n",
       "      <th>q12a_2</th>\n",
       "      <th>q12a_3</th>\n",
       "      <th>q12a_4</th>\n",
       "      <th>q12a_5</th>\n",
       "      <th>...</th>\n",
       "      <th>q48_5</th>\n",
       "      <th>q48_6</th>\n",
       "      <th>q48_7</th>\n",
       "      <th>q48_8</th>\n",
       "      <th>q48_9</th>\n",
       "      <th>rcrs15_1</th>\n",
       "      <th>rcrs15_2</th>\n",
       "      <th>rcrs15_3</th>\n",
       "      <th>rcrs15_4</th>\n",
       "      <th>rcrs15_5</th>\n",
       "    </tr>\n",
       "  </thead>\n",
       "  <tbody>\n",
       "    <tr>\n",
       "      <th>2973</th>\n",
       "      <td>0</td>\n",
       "      <td>1</td>\n",
       "      <td>0</td>\n",
       "      <td>0</td>\n",
       "      <td>0</td>\n",
       "      <td>0</td>\n",
       "      <td>0</td>\n",
       "      <td>0</td>\n",
       "      <td>1</td>\n",
       "      <td>0</td>\n",
       "      <td>...</td>\n",
       "      <td>0</td>\n",
       "      <td>0</td>\n",
       "      <td>0</td>\n",
       "      <td>0</td>\n",
       "      <td>0</td>\n",
       "      <td>0</td>\n",
       "      <td>0</td>\n",
       "      <td>1</td>\n",
       "      <td>0</td>\n",
       "      <td>0</td>\n",
       "    </tr>\n",
       "    <tr>\n",
       "      <th>2426</th>\n",
       "      <td>0</td>\n",
       "      <td>0</td>\n",
       "      <td>1</td>\n",
       "      <td>0</td>\n",
       "      <td>0</td>\n",
       "      <td>1</td>\n",
       "      <td>0</td>\n",
       "      <td>0</td>\n",
       "      <td>0</td>\n",
       "      <td>0</td>\n",
       "      <td>...</td>\n",
       "      <td>0</td>\n",
       "      <td>0</td>\n",
       "      <td>0</td>\n",
       "      <td>0</td>\n",
       "      <td>0</td>\n",
       "      <td>0</td>\n",
       "      <td>0</td>\n",
       "      <td>0</td>\n",
       "      <td>1</td>\n",
       "      <td>0</td>\n",
       "    </tr>\n",
       "    <tr>\n",
       "      <th>1874</th>\n",
       "      <td>0</td>\n",
       "      <td>0</td>\n",
       "      <td>0</td>\n",
       "      <td>1</td>\n",
       "      <td>0</td>\n",
       "      <td>0</td>\n",
       "      <td>0</td>\n",
       "      <td>1</td>\n",
       "      <td>0</td>\n",
       "      <td>0</td>\n",
       "      <td>...</td>\n",
       "      <td>0</td>\n",
       "      <td>0</td>\n",
       "      <td>0</td>\n",
       "      <td>0</td>\n",
       "      <td>0</td>\n",
       "      <td>0</td>\n",
       "      <td>0</td>\n",
       "      <td>0</td>\n",
       "      <td>1</td>\n",
       "      <td>0</td>\n",
       "    </tr>\n",
       "    <tr>\n",
       "      <th>5215</th>\n",
       "      <td>1</td>\n",
       "      <td>0</td>\n",
       "      <td>0</td>\n",
       "      <td>0</td>\n",
       "      <td>0</td>\n",
       "      <td>1</td>\n",
       "      <td>0</td>\n",
       "      <td>0</td>\n",
       "      <td>0</td>\n",
       "      <td>0</td>\n",
       "      <td>...</td>\n",
       "      <td>0</td>\n",
       "      <td>0</td>\n",
       "      <td>0</td>\n",
       "      <td>0</td>\n",
       "      <td>0</td>\n",
       "      <td>0</td>\n",
       "      <td>0</td>\n",
       "      <td>0</td>\n",
       "      <td>1</td>\n",
       "      <td>0</td>\n",
       "    </tr>\n",
       "    <tr>\n",
       "      <th>157</th>\n",
       "      <td>1</td>\n",
       "      <td>0</td>\n",
       "      <td>0</td>\n",
       "      <td>0</td>\n",
       "      <td>0</td>\n",
       "      <td>1</td>\n",
       "      <td>0</td>\n",
       "      <td>0</td>\n",
       "      <td>0</td>\n",
       "      <td>0</td>\n",
       "      <td>...</td>\n",
       "      <td>1</td>\n",
       "      <td>0</td>\n",
       "      <td>0</td>\n",
       "      <td>0</td>\n",
       "      <td>0</td>\n",
       "      <td>0</td>\n",
       "      <td>0</td>\n",
       "      <td>1</td>\n",
       "      <td>0</td>\n",
       "      <td>0</td>\n",
       "    </tr>\n",
       "  </tbody>\n",
       "</table>\n",
       "<p>5 rows × 140 columns</p>\n",
       "</div>"
      ],
      "text/plain": [
       "      q17e_1  q17e_2  q17e_3  q17e_4  q17e_5  q12a_1  q12a_2  q12a_3  q12a_4  \\\n",
       "2973       0       1       0       0       0       0       0       0       1   \n",
       "2426       0       0       1       0       0       1       0       0       0   \n",
       "1874       0       0       0       1       0       0       0       1       0   \n",
       "5215       1       0       0       0       0       1       0       0       0   \n",
       "157        1       0       0       0       0       1       0       0       0   \n",
       "\n",
       "      q12a_5  ...  q48_5  q48_6  q48_7  q48_8  q48_9  rcrs15_1  rcrs15_2  \\\n",
       "2973       0  ...      0      0      0      0      0         0         0   \n",
       "2426       0  ...      0      0      0      0      0         0         0   \n",
       "1874       0  ...      0      0      0      0      0         0         0   \n",
       "5215       0  ...      0      0      0      0      0         0         0   \n",
       "157        0  ...      1      0      0      0      0         0         0   \n",
       "\n",
       "      rcrs15_3  rcrs15_4  rcrs15_5  \n",
       "2973         1         0         0  \n",
       "2426         0         1         0  \n",
       "1874         0         1         0  \n",
       "5215         0         1         0  \n",
       "157          1         0         0  \n",
       "\n",
       "[5 rows x 140 columns]"
      ]
     },
     "execution_count": 22,
     "metadata": {},
     "output_type": "execute_result"
    }
   ],
   "source": [
    "X_train.head(5)"
   ]
  },
  {
   "cell_type": "code",
   "execution_count": 23,
   "id": "22c3a70c",
   "metadata": {},
   "outputs": [
    {
     "data": {
      "text/plain": [
       "2973    0\n",
       "2426    0\n",
       "1874    0\n",
       "5215    1\n",
       "157     1\n",
       "Name: target, dtype: category\n",
       "Categories (2, int64): [0, 1]"
      ]
     },
     "execution_count": 23,
     "metadata": {},
     "output_type": "execute_result"
    }
   ],
   "source": [
    "y_train.head(5)"
   ]
  },
  {
   "cell_type": "code",
   "execution_count": 24,
   "id": "74d0c993",
   "metadata": {},
   "outputs": [],
   "source": [
    "#pip install -q bnlearn"
   ]
  },
  {
   "cell_type": "code",
   "execution_count": 25,
   "id": "9b7e8668",
   "metadata": {},
   "outputs": [
    {
     "name": "stdout",
     "output_type": "stream",
     "text": [
      "1.24.1\n"
     ]
    }
   ],
   "source": [
    "print(np.__version__) # need np >1.24.1 to run"
   ]
  },
  {
   "cell_type": "code",
   "execution_count": 26,
   "id": "0f785c4a",
   "metadata": {},
   "outputs": [],
   "source": [
    "import bnlearn as bn"
   ]
  },
  {
   "cell_type": "markdown",
   "id": "46ee035a",
   "metadata": {},
   "source": [
    "**Simple model (no contraints)**"
   ]
  },
  {
   "cell_type": "code",
   "execution_count": 53,
   "id": "381e5a7b",
   "metadata": {},
   "outputs": [
    {
     "name": "stdout",
     "output_type": "stream",
     "text": [
      "[bnlearn] >Computing best DAG using [hc]\n",
      "[bnlearn] >Set scoring type at [bic]\n",
      "[bnlearn] >Compute structure scores for model comparison (higher is better).\n"
     ]
    }
   ],
   "source": [
    "smodel = bn.structure_learning.fit(df2, root_node = \"target\")"
   ]
  },
  {
   "cell_type": "code",
   "execution_count": 55,
   "id": "8f59a18f",
   "metadata": {},
   "outputs": [
    {
     "name": "stdout",
     "output_type": "stream",
     "text": [
      "[bnlearn] >Set node properties.\n",
      "[bnlearn] >Set edge properties.\n",
      "[bnlearn] >Plot based on Bayesian model\n"
     ]
    },
    {
     "data": {
      "image/png": "[encoded data removed]",
      "text/plain": [
       "<Figure size 1500x1000 with 1 Axes>"
      ]
     },
     "metadata": {},
     "output_type": "display_data"
    }
   ],
   "source": [
    "# Plot\n",
    "G = bn.plot(smodel, interactive=False)"
   ]
  },
  {
   "cell_type": "code",
   "execution_count": 56,
   "id": "a0556e1e",
   "metadata": {},
   "outputs": [
    {
     "name": "stdout",
     "output_type": "stream",
     "text": [
      "[bnlearn] >Parameter learning> Computing parameters using [bayes]\n",
      "[bnlearn] >Converting [<class 'pgmpy.base.DAG.DAG'>] to BayesianNetwork model.\n",
      "[bnlearn] >Converting adjmat to BayesianNetwork.\n",
      "[bnlearn] >CPD of q17e:\n",
      "+---------+---------------------+---------------------+-----+----------------------+---------------------+\n",
      "| q17d    | q17d(1)             | q17d(2)             | ... | q17d(4)              | q17d(5)             |\n",
      "+---------+---------------------+---------------------+-----+----------------------+---------------------+\n",
      "| q17e(1) | 0.42138939670932357 | 0.2679628064243449  | ... | 0.12078208766950489  | 0.20833333333333334 |\n",
      "+---------+---------------------+---------------------+-----+----------------------+---------------------+\n",
      "| q17e(2) | 0.27148080438756855 | 0.3727810650887574  | ... | 0.21665089877010407  | 0.21296296296296297 |\n",
      "+---------+---------------------+---------------------+-----+----------------------+---------------------+\n",
      "| q17e(3) | 0.13711151736745886 | 0.19695688926458157 | ... | 0.2847682119205298   | 0.2037037037037037  |\n",
      "+---------+---------------------+---------------------+-----+----------------------+---------------------+\n",
      "| q17e(4) | 0.12979890310786105 | 0.12172442941673711 | ... | 0.3576158940397351   | 0.18981481481481483 |\n",
      "+---------+---------------------+---------------------+-----+----------------------+---------------------+\n",
      "| q17e(5) | 0.04021937842778794 | 0.04057480980557904 | ... | 0.020182907600126143 | 0.18518518518518517 |\n",
      "+---------+---------------------+---------------------+-----+----------------------+---------------------+\n",
      "[bnlearn] >CPD of q15:\n",
      "+--------+----------------------+----------------------+-----+----------------------+---------------------+\n",
      "| q17e   | q17e(1)              | q17e(2)              | ... | q17e(4)              | q17e(5)             |\n",
      "+--------+----------------------+----------------------+-----+----------------------+---------------------+\n",
      "| q15(1) | 0.14806917791992422  | 0.09571694599627563  | ... | 0.05287356321839082  | 0.1590594744121715  |\n",
      "+--------+----------------------+----------------------+-----+----------------------+---------------------+\n",
      "| q15(2) | 0.2006633499170813   | 0.18566108007448792  | ... | 0.10929989550679207  | 0.17565698478561548 |\n",
      "+--------+----------------------+----------------------+-----+----------------------+---------------------+\n",
      "| q15(3) | 0.4750059227671169   | 0.5532588454376165   | ... | 0.6854754440961338   | 0.2420470262793914  |\n",
      "+--------+----------------------+----------------------+-----+----------------------+---------------------+\n",
      "| q15(4) | 0.0947642738687515   | 0.09515828677839852  | ... | 0.08171368861024035  | 0.1466113416320885  |\n",
      "+--------+----------------------+----------------------+-----+----------------------+---------------------+\n",
      "| q15(5) | 0.04856669035773515  | 0.04376163873370578  | ... | 0.04597701149425289  | 0.1383125864453665  |\n",
      "+--------+----------------------+----------------------+-----+----------------------+---------------------+\n",
      "| q15(6) | 0.032930585169391145 | 0.026443202979515832 | ... | 0.024660397074190182 | 0.1383125864453665  |\n",
      "+--------+----------------------+----------------------+-----+----------------------+---------------------+\n",
      "[bnlearn] >CPD of target:\n",
      "+-----------+---------------------+--------------------+---------------------+--------------------+--------------------+\n",
      "| q17e      | q17e(1)             | q17e(2)            | q17e(3)             | q17e(4)            | q17e(5)            |\n",
      "+-----------+---------------------+--------------------+---------------------+--------------------+--------------------+\n",
      "| target(0) | 0.41222459132906897 | 0.4659217877094972 | 0.6017316017316018  | 0.7310344827586207 | 0.5103734439834025 |\n",
      "+-----------+---------------------+--------------------+---------------------+--------------------+--------------------+\n",
      "| target(1) | 0.587775408670931   | 0.5340782122905028 | 0.39826839826839827 | 0.2689655172413793 | 0.4896265560165975 |\n",
      "+-----------+---------------------+--------------------+---------------------+--------------------+--------------------+\n",
      "[bnlearn] >CPD of q12b:\n",
      "+----------+----------------------+----------------------+\n",
      "| target   | target(0)            | target(1)            |\n",
      "+----------+----------------------+----------------------+\n",
      "| q12b(1)  | 0.17293642157624745  | 0.1646651935824767   |\n",
      "+----------+----------------------+----------------------+\n",
      "| q12b(2)  | 0.061130110368412864 | 0.09674320299740607  |\n",
      "+----------+----------------------+----------------------+\n",
      "| q12b(3)  | 0.10955230840976216  | 0.08968200595638388  |\n",
      "+----------+----------------------+----------------------+\n",
      "| q12b(4)  | 0.13049898958495257  | 0.07387837448361993  |\n",
      "+----------+----------------------+----------------------+\n",
      "| q12b(5)  | 0.07391574692989274  | 0.06210971274858295  |\n",
      "+----------+----------------------+----------------------+\n",
      "| q12b(6)  | 0.07146743354577957  | 0.08934575847823997  |\n",
      "+----------+----------------------+----------------------+\n",
      "| q12b(7)  | 0.12288201461215606  | 0.11624555672975308  |\n",
      "+----------+----------------------+----------------------+\n",
      "| q12b(8)  | 0.043991916679620706 | 0.07421462196176384  |\n",
      "+----------+----------------------+----------------------+\n",
      "| q12b(9)  | 0.07119539872532255  | 0.05437602075127293  |\n",
      "+----------+----------------------+----------------------+\n",
      "| q12b(10) | 0.0703792942639515   | 0.07925833413392255  |\n",
      "+----------+----------------------+----------------------+\n",
      "| q12b(11) | 0.041543603295507534 | 0.06110097031415121  |\n",
      "+----------+----------------------+----------------------+\n",
      "| q12b(12) | 0.01025959894295041  | 0.012345085983283694 |\n",
      "+----------+----------------------+----------------------+\n",
      "| q12b(13) | 0.009715529302036374 | 0.013017580939571524 |\n",
      "+----------+----------------------+----------------------+\n",
      "| q12b(99) | 0.01053163376340743  | 0.013017580939571524 |\n",
      "+----------+----------------------+----------------------+\n",
      "[bnlearn] >CPD of q12a:\n",
      "+----------+----------------------+-----+---------------------+---------------------+\n",
      "| q12b     | q12b(1)              | ... | q12b(13)            | q12b(99)            |\n",
      "+----------+----------------------+-----+---------------------+---------------------+\n",
      "| q12a(1)  | 0.005288990437505288 | ... | 0.07997440818937941 | 0.07687576875768759 |\n",
      "+----------+----------------------+-----+---------------------+---------------------+\n",
      "| q12a(2)  | 0.09503258018109502  | ... | 0.07997440818937941 | 0.07687576875768759 |\n",
      "+----------+----------------------+-----+---------------------+---------------------+\n",
      "| q12a(3)  | 0.12168909198612168  | ... | 0.07997440818937941 | 0.07687576875768759 |\n",
      "+----------+----------------------+-----+---------------------+---------------------+\n",
      "| q12a(4)  | 0.2052128289752052   | ... | 0.07997440818937941 | 0.07687576875768759 |\n",
      "+----------+----------------------+-----+---------------------+---------------------+\n",
      "| q12a(5)  | 0.04349665735804349  | ... | 0.07997440818937941 | 0.07687576875768759 |\n",
      "+----------+----------------------+-----+---------------------+---------------------+\n",
      "| q12a(6)  | 0.08436997545908435  | ... | 0.07997440818937941 | 0.07687576875768759 |\n",
      "+----------+----------------------+-----+---------------------+---------------------+\n",
      "| q12a(7)  | 0.15989675890665989  | ... | 0.09341010876519515 | 0.07687576875768759 |\n",
      "+----------+----------------------+-----+---------------------+---------------------+\n",
      "| q12a(8)  | 0.06037911483456037  | ... | 0.09341010876519515 | 0.07687576875768759 |\n",
      "+----------+----------------------+-----+---------------------+---------------------+\n",
      "| q12a(9)  | 0.045273758145045265 | ... | 0.09341010876519515 | 0.07687576875768759 |\n",
      "+----------+----------------------+-----+---------------------+---------------------+\n",
      "| q12a(10) | 0.14123720064314124  | ... | 0.07997440818937941 | 0.07687576875768759 |\n",
      "+----------+----------------------+-----+---------------------+---------------------+\n",
      "| q12a(11) | 0.032834052636032826 | ... | 0.07997440818937941 | 0.07687576875768759 |\n",
      "+----------+----------------------+-----+---------------------+---------------------+\n",
      "| q12a(13) | 0.005288990437505288 | ... | 0.07997440818937941 | 0.15436654366543667 |\n",
      "+----------+----------------------+-----+---------------------+---------------------+\n",
      "[bnlearn] >CPD of q37:\n",
      "+---------+----------------------+----------------------+-----+---------------------+----------------------+\n",
      "| q38     | q38(1)               | q38(2)               | ... | q38(16)             | q38(99)              |\n",
      "+---------+----------------------+----------------------+-----+---------------------+----------------------+\n",
      "| q37(0)  | 0.003469511666232978 | 0.008233502120126796 | ... | 0.09360666479453338 | 0.800294565515864    |\n",
      "+---------+----------------------+----------------------+-----+---------------------+----------------------+\n",
      "| q37(1)  | 0.019925405499175992 | 0.029648841134576588 | ... | 0.09360666479453338 | 0.024963179310516982 |\n",
      "+---------+----------------------+----------------------+-----+---------------------+----------------------+\n",
      "| q37(2)  | 0.05336802844999567  | 0.047285002675888185 | ... | 0.09360666479453338 | 0.024963179310516982 |\n",
      "+---------+----------------------+----------------------+-----+---------------------+----------------------+\n",
      "| q37(3)  | 0.08362563969121346  | 0.04224609937837059  | ... | 0.09360666479453338 | 0.024963179310516982 |\n",
      "+---------+----------------------+----------------------+-----+---------------------+----------------------+\n",
      "| q37(4)  | 0.07778645155694336  | 0.05106418014902638  | ... | 0.09360666479453338 | 0.024963179310516982 |\n",
      "+---------+----------------------+----------------------+-----+---------------------+----------------------+\n",
      "| q37(5)  | 0.12715413305577242  | 0.11782964884113457  | ... | 0.09360666479453338 | 0.024963179310516982 |\n",
      "+---------+----------------------+----------------------+-----+---------------------+----------------------+\n",
      "| q37(6)  | 0.10592072165842659  | 0.11279074554361698  | ... | 0.09360666479453338 | 0.024963179310516982 |\n",
      "+---------+----------------------+----------------------+-----+---------------------+----------------------+\n",
      "| q37(7)  | 0.5252805967560066   | 0.5814087522127537   | ... | 0.25114668164373305 | 0.024963179310516982 |\n",
      "+---------+----------------------+----------------------+-----+---------------------+----------------------+\n",
      "| q37(88) | 0.003469511666232978 | 0.009493227944506195 | ... | 0.09360666479453338 | 0.024963179310516982 |\n",
      "+---------+----------------------+----------------------+-----+---------------------+----------------------+\n",
      "[bnlearn] >CPD of rage:\n",
      "+---------+---------------------+---------------------+-----+---------------------+---------------------+\n",
      "| q37     | q37(0)              | q37(1)              | ... | q37(7)              | q37(88)             |\n",
      "+---------+---------------------+---------------------+-----+---------------------+---------------------+\n",
      "| rage(1) | 0.1535196321188539  | 0.1506849315068493  | ... | 0.07537948907811923 | 0.20335820895522386 |\n",
      "+---------+---------------------+---------------------+-----+---------------------+---------------------+\n",
      "| rage(2) | 0.20127343473646972 | 0.2539800074046649  | ... | 0.1226952980377638  | 0.22014925373134328 |\n",
      "+---------+---------------------+---------------------+-----+---------------------+---------------------+\n",
      "| rage(3) | 0.3158825610187478  | 0.32062199185486856 | ... | 0.24731580895964458 | 0.19496268656716417 |\n",
      "+---------+---------------------+---------------------+-----+---------------------+---------------------+\n",
      "| rage(4) | 0.19172267421294656 | 0.14735283228433912 | ... | 0.24431691965938543 | 0.18656716417910446 |\n",
      "+---------+---------------------+---------------------+-----+---------------------+---------------------+\n",
      "| rage(5) | 0.13760169791298194 | 0.12736023694927803 | ... | 0.310292484265087   | 0.19496268656716417 |\n",
      "+---------+---------------------+---------------------+-----+---------------------+---------------------+\n",
      "[bnlearn] >CPD of q38:\n",
      "+---------+-----------+\n",
      "| q38(1)  | 0.283282  |\n",
      "+---------+-----------+\n",
      "| q38(2)  | 0.119372  |\n",
      "+---------+-----------+\n",
      "| q38(3)  | 0.158019  |\n",
      "+---------+-----------+\n",
      "| q38(4)  | 0.0456877 |\n",
      "+---------+-----------+\n",
      "| q38(5)  | 0.0962141 |\n",
      "+---------+-----------+\n",
      "| q38(6)  | 0.0321539 |\n",
      "+---------+-----------+\n",
      "| q38(7)  | 0.0216276 |\n",
      "+---------+-----------+\n",
      "| q38(8)  | 0.0210261 |\n",
      "+---------+-----------+\n",
      "| q38(9)  | 0.0238832 |\n",
      "+---------+-----------+\n",
      "| q38(10) | 0.0572667 |\n",
      "+---------+-----------+\n",
      "| q38(11) | 0.0171163 |\n",
      "+---------+-----------+\n",
      "| q38(12) | 0.0309509 |\n",
      "+---------+-----------+\n",
      "| q38(13) | 0.0198231 |\n",
      "+---------+-----------+\n",
      "| q38(14) | 0.011402  |\n",
      "+---------+-----------+\n",
      "| q38(15) | 0.0123043 |\n",
      "+---------+-----------+\n",
      "| q38(16) | 0.0104998 |\n",
      "+---------+-----------+\n",
      "| q38(99) | 0.039372  |\n",
      "+---------+-----------+\n",
      "[bnlearn] >CPD of q44:\n",
      "+--------+---------------------+---------------------+-----+----------------------+---------------------+\n",
      "| q17d   | q17d(1)             | q17d(2)             | ... | q17d(4)              | q17d(5)             |\n",
      "+--------+---------------------+---------------------+-----+----------------------+---------------------+\n",
      "| q44(1) | 0.17824497257769653 | 0.19949281487743026 | ... | 0.2967518133081047   | 0.25462962962962965 |\n",
      "+--------+---------------------+---------------------+-----+----------------------+---------------------+\n",
      "| q44(2) | 0.5402193784277879  | 0.4894336432797971  | ... | 0.34531693472090824  | 0.2638888888888889  |\n",
      "+--------+---------------------+---------------------+-----+----------------------+---------------------+\n",
      "| q44(3) | 0.23583180987202926 | 0.2679628064243449  | ... | 0.33995584988962474  | 0.25                |\n",
      "+--------+---------------------+---------------------+-----+----------------------+---------------------+\n",
      "| q44(4) | 0.04570383912248629 | 0.04311073541842773 | ... | 0.017975402081362345 | 0.23148148148148148 |\n",
      "+--------+---------------------+---------------------+-----+----------------------+---------------------+\n",
      "[bnlearn] >CPD of q14:\n",
      "+--------+----------------------+----------------------+----------------------+---------------------+\n",
      "| q44    | q44(1)               | q44(2)               | q44(3)               | q44(4)              |\n",
      "+--------+----------------------+----------------------+----------------------+---------------------+\n",
      "| q14(1) | 0.10405432394647492  | 0.23193685488767457  | 0.15578059071729958  | 0.16347381864623242 |\n",
      "+--------+----------------------+----------------------+----------------------+---------------------+\n",
      "| q14(2) | 0.22808068703814657  | 0.2967820279295689   | 0.2727426160337552   | 0.17113665389527458 |\n",
      "+--------+----------------------+----------------------+----------------------+---------------------+\n",
      "| q14(3) | 0.3053724785300579   | 0.2581663630843959   | 0.30514767932489445  | 0.16347381864623242 |\n",
      "+--------+----------------------+----------------------+----------------------+---------------------+\n",
      "| q14(4) | 0.29998002796085477  | 0.17219186399514272  | 0.20995780590717297  | 0.17879948914431673 |\n",
      "+--------+----------------------+----------------------+----------------------+---------------------+\n",
      "| q14(5) | 0.03215498302376672  | 0.022829386763812996 | 0.028691983122362864 | 0.15964240102171134 |\n",
      "+--------+----------------------+----------------------+----------------------+---------------------+\n",
      "| q14(6) | 0.030357499500699017 | 0.01809350333940498  | 0.027679324894514763 | 0.16347381864623242 |\n",
      "+--------+----------------------+----------------------+----------------------+---------------------+\n",
      "[bnlearn] >CPD of q18:\n",
      "+--------+---------------------+---------------------+---------------------+---------------------+\n",
      "| q44    | q44(1)              | q44(2)              | q44(3)              | q44(4)              |\n",
      "+--------+---------------------+---------------------+---------------------+---------------------+\n",
      "| q18(1) | 0.15308568004793288 | 0.07486338797814207 | 0.09240506329113925 | 0.24329501915708812 |\n",
      "+--------+---------------------+---------------------+---------------------+---------------------+\n",
      "| q18(2) | 0.41671659676452966 | 0.5619307832422586  | 0.4220253164556962  | 0.2471264367816092  |\n",
      "+--------+---------------------+---------------------+---------------------+---------------------+\n",
      "| q18(3) | 0.39215098861593767 | 0.3400728597449909  | 0.4539240506329114  | 0.27011494252873564 |\n",
      "+--------+---------------------+---------------------+---------------------+---------------------+\n",
      "| q18(4) | 0.03804673457159976 | 0.02313296903460838 | 0.03164556962025317 | 0.23946360153256704 |\n",
      "+--------+---------------------+---------------------+---------------------+---------------------+\n",
      "[bnlearn] >CPD of q17d:\n",
      "+---------+----------------------+---------------------+-----+---------------------+----------------------+\n",
      "| rcrs2   | rcrs2(1)             | rcrs2(2)            | ... | rcrs2(4)            | rcrs2(5)             |\n",
      "+---------+----------------------+---------------------+-----+---------------------+----------------------+\n",
      "| q17d(1) | 0.2535531552018192   | 0.1705189707806367  | ... | 0.10664819944598337 | 0.07509386733416772  |\n",
      "+---------+----------------------+---------------------+-----+---------------------+----------------------+\n",
      "| q17d(2) | 0.21489482660602616  | 0.19799389446140428 | ... | 0.14542936288088643 | 0.10888610763454318  |\n",
      "+---------+----------------------+---------------------+-----+---------------------+----------------------+\n",
      "| q17d(3) | 0.1381466742467311   | 0.1530745747928478  | ... | 0.16620498614958448 | 0.13391739674593242  |\n",
      "+---------+----------------------+---------------------+-----+---------------------+----------------------+\n",
      "| q17d(4) | 0.3672541216600341   | 0.45835150457915397 | ... | 0.5249307479224377  | 0.6295369211514393   |\n",
      "+---------+----------------------+---------------------+-----+---------------------+----------------------+\n",
      "| q17d(5) | 0.026151222285389426 | 0.02006105538595726 | ... | 0.05678670360110803 | 0.052565707133917394 |\n",
      "+---------+----------------------+---------------------+-----+---------------------+----------------------+\n",
      "[bnlearn] >CPD of rcrs2:\n",
      "+----------+----------+---------------------+-----+----------+---------------------+\n",
      "| rage     | rage(1)  | rage(1)             | ... | rage(5)  | rage(5)             |\n",
      "+----------+----------+---------------------+-----+----------+---------------------+\n",
      "| rcrs7    | rcrs7(1) | rcrs7(2)            | ... | rcrs7(8) | rcrs7(9)            |\n",
      "+----------+----------+---------------------+-----+----------+---------------------+\n",
      "| rcrs2(1) | 0.2      | 0.1762114537444934  | ... | 0.2      | 0.6117021276595743  |\n",
      "+----------+----------+---------------------+-----+----------+---------------------+\n",
      "| rcrs2(2) | 0.2      | 0.21585903083700442 | ... | 0.2      | 0.2287234042553191  |\n",
      "+----------+----------+---------------------+-----+----------+---------------------+\n",
      "| rcrs2(3) | 0.2      | 0.21585903083700442 | ... | 0.2      | 0.07826747720364739 |\n",
      "+----------+----------+---------------------+-----+----------+---------------------+\n",
      "| rcrs2(4) | 0.2      | 0.1762114537444934  | ... | 0.2      | 0.04407294832826747 |\n",
      "+----------+----------+---------------------+-----+----------+---------------------+\n",
      "| rcrs2(5) | 0.2      | 0.21585903083700442 | ... | 0.2      | 0.03723404255319148 |\n",
      "+----------+----------+---------------------+-----+----------+---------------------+\n",
      "[bnlearn] >CPD of rcrs7:\n",
      "+----------+----------------------+-----+----------------------+---------------------+\n",
      "| rrs8     | rrs8(1)              | ... | rrs8(6)              | rrs8(7)             |\n",
      "+----------+----------------------+-----+----------------------+---------------------+\n",
      "| rcrs7(1) | 0.03398537184935319  | ... | 0.059884249294494665 | 0.10957703265395573 |\n",
      "+----------+----------------------+-----+----------------------+---------------------+\n",
      "| rcrs7(2) | 0.04822218915179875  | ... | 0.07193762854546323  | 0.10957703265395573 |\n",
      "+----------+----------------------+-----+----------------------+---------------------+\n",
      "| rcrs7(3) | 0.102044303343971    | ... | 0.06591093891997894  | 0.10957703265395573 |\n",
      "+----------+----------------------+-----+----------------------+---------------------+\n",
      "| rcrs7(4) | 0.05273630195501319  | ... | 0.05084421485626823  | 0.11648038571115495 |\n",
      "+----------+----------------------+-----+----------------------+---------------------+\n",
      "| rcrs7(5) | 0.20066030612188654  | ... | 0.09001769742191609  | 0.11648038571115495 |\n",
      "+----------+----------------------+-----+----------------------+---------------------+\n",
      "| rcrs7(6) | 0.280178139347741    | ... | 0.14124455923853255  | 0.10957703265395573 |\n",
      "+----------+----------------------+-----+----------------------+---------------------+\n",
      "| rcrs7(7) | 0.2711499137413121   | ... | 0.14425790405127467  | 0.10957703265395573 |\n",
      "+----------+----------------------+-----+----------------------+---------------------+\n",
      "| rcrs7(8) | 0.005511737244462082 | ... | 0.05084421485626823  | 0.10957703265395573 |\n",
      "+----------+----------------------+-----+----------------------+---------------------+\n",
      "| rcrs7(9) | 0.005511737244462082 | ... | 0.3250585928158033   | 0.10957703265395573 |\n",
      "+----------+----------------------+-----+----------------------+---------------------+\n",
      "[bnlearn] >CPD of sexe:\n",
      "+---------+---------------------+---------------------+-----+---------------------+--------------------+\n",
      "| rcrs7   | rcrs7(1)            | rcrs7(2)            | ... | rcrs7(8)            | rcrs7(9)           |\n",
      "+---------+---------------------+---------------------+-----+---------------------+--------------------+\n",
      "| sexe(1) | 0.5262199563000728  | 0.5793450881612091  | ... | 0.47934990439770553 | 0.2512444328006288 |\n",
      "+---------+---------------------+---------------------+-----+---------------------+--------------------+\n",
      "| sexe(2) | 0.47378004369992716 | 0.42065491183879095 | ... | 0.5206500956022945  | 0.7487555671993712 |\n",
      "+---------+---------------------+---------------------+-----+---------------------+--------------------+\n",
      "[bnlearn] >CPD of rcrs13:\n",
      "+-----------+---------------------+---------------------+-----+---------------------+---------------------+\n",
      "| rcrs15    | rcrs15(1)           | rcrs15(2)           | ... | rcrs15(4)           | rcrs15(5)           |\n",
      "+-----------+---------------------+---------------------+-----+---------------------+---------------------+\n",
      "| rcrs13(1) | 0.14328358208955225 | 0.11150652431791222 | ... | 0.13060109289617486 | 0.24528301886792453 |\n",
      "+-----------+---------------------+---------------------+-----+---------------------+---------------------+\n",
      "| rcrs13(2) | 0.11940298507462686 | 0.07621589561091341 | ... | 0.126775956284153   | 0.2358490566037736  |\n",
      "+-----------+---------------------+---------------------+-----+---------------------+---------------------+\n",
      "| rcrs13(3) | 0.6626865671641791  | 0.7959667852906287  | ... | 0.7136612021857923  | 0.27358490566037735 |\n",
      "+-----------+---------------------+---------------------+-----+---------------------+---------------------+\n",
      "| rcrs13(4) | 0.07462686567164178 | 0.01631079478054567 | ... | 0.02896174863387978 | 0.24528301886792453 |\n",
      "+-----------+---------------------+---------------------+-----+---------------------+---------------------+\n",
      "[bnlearn] >CPD of gr:\n",
      "+--------+---------------------+---------------------+---------------------+---------------------+\n",
      "| rcrs13 | rcrs13(1)           | rcrs13(2)           | rcrs13(3)           | rcrs13(4)           |\n",
      "+--------+---------------------+---------------------+---------------------+---------------------+\n",
      "| gr(1)  | 0.11251451800232286 | 0.12102040816326531 | 0.10344618187338697 | 0.14066776135741654 |\n",
      "+--------+---------------------+---------------------+---------------------+---------------------+\n",
      "| gr(2)  | 0.09015679442508709 | 0.10816326530612246 | 0.19632609685744648 | 0.14066776135741654 |\n",
      "+--------+---------------------+---------------------+---------------------+---------------------+\n",
      "| gr(3)  | 0.133855981416957   | 0.1353061224489796  | 0.13298922119325943 | 0.1444991789819376  |\n",
      "+--------+---------------------+---------------------+---------------------+---------------------+\n",
      "| gr(4)  | 0.22735191637630658 | 0.2553061224489796  | 0.19951419462577805 | 0.1444991789819376  |\n",
      "+--------+---------------------+---------------------+---------------------+---------------------+\n",
      "| gr(5)  | 0.10946573751451799 | 0.09244897959183675 | 0.11641111279793531 | 0.1444991789819376  |\n",
      "+--------+---------------------+---------------------+---------------------+---------------------+\n",
      "| gr(6)  | 0.1297909407665505  | 0.1195918367346939  | 0.11258539547593745 | 0.14066776135741654 |\n",
      "+--------+---------------------+---------------------+---------------------+---------------------+\n",
      "| gr(7)  | 0.1968641114982578  | 0.16816326530612247 | 0.13872779717625625 | 0.1444991789819376  |\n",
      "+--------+---------------------+---------------------+---------------------+---------------------+\n",
      "[bnlearn] >CPD of q17b:\n",
      "+---------+---------------------+---------------------+-----+---------------------+---------------------+\n",
      "| rage    | rage(1)             | rage(2)             | ... | rage(4)             | rage(5)             |\n",
      "+---------+---------------------+---------------------+-----+---------------------+---------------------+\n",
      "| q17b(1) | 0.4926829268292683  | 0.5511744966442953  | ... | 0.3468372423596304  | 0.21308016877637131 |\n",
      "+---------+---------------------+---------------------+-----+---------------------+---------------------+\n",
      "| q17b(2) | 0.26097560975609757 | 0.27348993288590606 | ... | 0.3368869936034115  | 0.3530239099859353  |\n",
      "+---------+---------------------+---------------------+-----+---------------------+---------------------+\n",
      "| q17b(3) | 0.08780487804878048 | 0.06963087248322147 | ... | 0.12153518123667377 | 0.14486638537271448 |\n",
      "+---------+---------------------+---------------------+-----+---------------------+---------------------+\n",
      "| q17b(4) | 0.10975609756097561 | 0.07046979865771812 | ... | 0.15849324804548684 | 0.2390998593530239  |\n",
      "+---------+---------------------+---------------------+-----+---------------------+---------------------+\n",
      "| q17b(5) | 0.04878048780487805 | 0.03523489932885906 | ... | 0.03624733475479744 | 0.04992967651195499 |\n",
      "+---------+---------------------+---------------------+-----+---------------------+---------------------+\n",
      "[bnlearn] >CPD of rrs8:\n",
      "+---------+----------------------+----------------------+-----+----------------------+---------------------+\n",
      "| rage    | rage(1)              | rage(2)              | ... | rage(4)              | rage(5)             |\n",
      "+---------+----------------------+----------------------+-----+----------------------+---------------------+\n",
      "| rrs8(1) | 0.20679442508710802  | 0.683365292425695    | ... | 0.37496192506853476  | 0.02853124372111713 |\n",
      "+---------+----------------------+----------------------+-----+----------------------+---------------------+\n",
      "| rrs8(2) | 0.1019163763066202   | 0.09276126558005751  | ... | 0.07147933800385824  | 0.02079566003616636 |\n",
      "+---------+----------------------+----------------------+-----+----------------------+---------------------+\n",
      "| rrs8(3) | 0.03606271777003484  | 0.023969319271332692 | ... | 0.35150776728601874  | 0.7718505123568413  |\n",
      "+---------+----------------------+----------------------+-----+----------------------+---------------------+\n",
      "| rrs8(4) | 0.04581881533101045  | 0.0642377756471716   | ... | 0.08071885470606151  | 0.09674502712477394 |\n",
      "+---------+----------------------+----------------------+-----+----------------------+---------------------+\n",
      "| rrs8(5) | 0.5250871080139372   | 0.07682166826462127  | ... | 0.020306630114732455 | 0.02009242515571629 |\n",
      "+---------+----------------------+----------------------+-----+----------------------+---------------------+\n",
      "| rrs8(6) | 0.049477351916376304 | 0.033197507190795776 | ... | 0.08071885470606151  | 0.04189270644966846 |\n",
      "+---------+----------------------+----------------------+-----+----------------------+---------------------+\n",
      "| rrs8(7) | 0.0348432055749129   | 0.025647171620325978 | ... | 0.020306630114732455 | 0.02009242515571629 |\n",
      "+---------+----------------------+----------------------+-----+----------------------+---------------------+\n",
      "[bnlearn] >CPD of q48:\n",
      "+--------+----------------------+----------------------+-----+----------------------+----------------------+\n",
      "| rage   | rage(1)              | rage(2)              | ... | rage(4)              | rage(5)              |\n",
      "+--------+----------------------+----------------------+-----+----------------------+----------------------+\n",
      "| q48(1) | 0.6319783197831981   | 0.27283743475018646  | ... | 0.08615651899233992  | 0.057821534614783586 |\n",
      "+--------+----------------------+----------------------+-----+----------------------+----------------------+\n",
      "| q48(2) | 0.047831978319783225 | 0.2938105891126026   | ... | 0.5858011529653322   | 0.47554305360212545  |\n",
      "+--------+----------------------+----------------------+-----+----------------------+----------------------+\n",
      "| q48(3) | 0.155149051490515    | 0.27954884414615966  | ... | 0.05275211245360501  | 0.024066260353180192 |\n",
      "+--------+----------------------+----------------------+-----+----------------------+----------------------+\n",
      "| q48(4) | 0.029539295392953944 | 0.04716629381058912  | ... | 0.01721550975282319  | 0.016330676668229415 |\n",
      "+--------+----------------------+----------------------+-----+----------------------+----------------------+\n",
      "| q48(5) | 0.027100271002710043 | 0.028709917971662943 | ... | 0.1053462844507621   | 0.06555711829973436  |\n",
      "+--------+----------------------+----------------------+-----+----------------------+----------------------+\n",
      "| q48(6) | 0.027100271002710043 | 0.021998508575689787 | ... | 0.04066966753533919  | 0.02125332083137991  |\n",
      "+--------+----------------------+----------------------+-----+----------------------+----------------------+\n",
      "| q48(7) | 0.027100271002710043 | 0.018642803877703208 | ... | 0.06980968174998028  | 0.28777934052195664  |\n",
      "+--------+----------------------+----------------------+-----+----------------------+----------------------+\n",
      "| q48(8) | 0.027100271002710043 | 0.018642803877703208 | ... | 0.025033562346995192 | 0.03602125332083139  |\n",
      "+--------+----------------------+----------------------+-----+----------------------+----------------------+\n",
      "| q48(9) | 0.027100271002710043 | 0.018642803877703208 | ... | 0.01721550975282319  | 0.015627441787779344 |\n",
      "+--------+----------------------+----------------------+-----+----------------------+----------------------+\n",
      "[bnlearn] >CPD of rcrs15:\n",
      "+-----------+----------------------+-----+----------------------+----------------------+\n",
      "| rage      | rage(1)              | ... | rage(5)              | rage(5)              |\n",
      "+-----------+----------------------+-----+----------------------+----------------------+\n",
      "| target    | target(0)            | ... | target(0)            | target(1)            |\n",
      "+-----------+----------------------+-----+----------------------+----------------------+\n",
      "| rcrs15(1) | 0.05964214711729622  | ... | 0.15066225165562913  | 0.23471882640586797  |\n",
      "+-----------+----------------------+-----+----------------------+----------------------+\n",
      "| rcrs15(2) | 0.2803180914512923   | ... | 0.5364238410596026   | 0.5806845965770171   |\n",
      "+-----------+----------------------+-----+----------------------+----------------------+\n",
      "| rcrs15(3) | 0.16898608349900596  | ... | 0.0695364238410596   | 0.06356968215158924  |\n",
      "+-----------+----------------------+-----+----------------------+----------------------+\n",
      "| rcrs15(4) | 0.45129224652087474  | ... | 0.21026490066225165  | 0.09290953545232274  |\n",
      "+-----------+----------------------+-----+----------------------+----------------------+\n",
      "| rcrs15(5) | 0.039761431411530816 | ... | 0.033112582781456956 | 0.028117359413202935 |\n",
      "+-----------+----------------------+-----+----------------------+----------------------+\n",
      "[bnlearn] >Compute structure scores for model comparison (higher is better).\n"
     ]
    }
   ],
   "source": [
    "pmodel = bn.parameter_learning.fit(smodel, df2)"
   ]
  },
  {
   "cell_type": "code",
   "execution_count": 59,
   "id": "07acd184",
   "metadata": {},
   "outputs": [
    {
     "name": "stdout",
     "output_type": "stream",
     "text": [
      "[bnlearn]> Remaining columns for inference: 20\n"
     ]
    },
    {
     "name": "stderr",
     "output_type": "stream",
     "text": [
      "100%|█████████████████████████████████████████████████████████████████████████████| 1130/1130 [00:05<00:00, 189.44it/s]\n"
     ]
    }
   ],
   "source": [
    "# Predict\n",
    "pout = bn.predict(pmodel, df2, \"target\")"
   ]
  },
  {
   "cell_type": "code",
   "execution_count": 60,
   "id": "235a84e3",
   "metadata": {},
   "outputs": [
    {
     "data": {
      "text/html": [
       "<div>\n",
       "<style scoped>\n",
       "    .dataframe tbody tr th:only-of-type {\n",
       "        vertical-align: middle;\n",
       "    }\n",
       "\n",
       "    .dataframe tbody tr th {\n",
       "        vertical-align: top;\n",
       "    }\n",
       "\n",
       "    .dataframe thead th {\n",
       "        text-align: right;\n",
       "    }\n",
       "</style>\n",
       "<table border=\"1\" class=\"dataframe\">\n",
       "  <thead>\n",
       "    <tr style=\"text-align: right;\">\n",
       "      <th></th>\n",
       "      <th>target</th>\n",
       "      <th>p</th>\n",
       "    </tr>\n",
       "  </thead>\n",
       "  <tbody>\n",
       "    <tr>\n",
       "      <th>0</th>\n",
       "      <td>0</td>\n",
       "      <td>0.609349</td>\n",
       "    </tr>\n",
       "    <tr>\n",
       "      <th>1</th>\n",
       "      <td>0</td>\n",
       "      <td>0.807309</td>\n",
       "    </tr>\n",
       "    <tr>\n",
       "      <th>2</th>\n",
       "      <td>0</td>\n",
       "      <td>0.724182</td>\n",
       "    </tr>\n",
       "    <tr>\n",
       "      <th>3</th>\n",
       "      <td>0</td>\n",
       "      <td>0.588681</td>\n",
       "    </tr>\n",
       "    <tr>\n",
       "      <th>4</th>\n",
       "      <td>0</td>\n",
       "      <td>0.564899</td>\n",
       "    </tr>\n",
       "    <tr>\n",
       "      <th>5</th>\n",
       "      <td>0</td>\n",
       "      <td>0.737372</td>\n",
       "    </tr>\n",
       "    <tr>\n",
       "      <th>6</th>\n",
       "      <td>1</td>\n",
       "      <td>0.531372</td>\n",
       "    </tr>\n",
       "    <tr>\n",
       "      <th>7</th>\n",
       "      <td>1</td>\n",
       "      <td>0.697405</td>\n",
       "    </tr>\n",
       "    <tr>\n",
       "      <th>8</th>\n",
       "      <td>0</td>\n",
       "      <td>0.816815</td>\n",
       "    </tr>\n",
       "    <tr>\n",
       "      <th>9</th>\n",
       "      <td>0</td>\n",
       "      <td>0.651046</td>\n",
       "    </tr>\n",
       "  </tbody>\n",
       "</table>\n",
       "</div>"
      ],
      "text/plain": [
       "   target         p\n",
       "0       0  0.609349\n",
       "1       0  0.807309\n",
       "2       0  0.724182\n",
       "3       0  0.588681\n",
       "4       0  0.564899\n",
       "5       0  0.737372\n",
       "6       1  0.531372\n",
       "7       1  0.697405\n",
       "8       0  0.816815\n",
       "9       0  0.651046"
      ]
     },
     "execution_count": 60,
     "metadata": {},
     "output_type": "execute_result"
    }
   ],
   "source": [
    "pout[:10]"
   ]
  },
  {
   "cell_type": "code",
   "execution_count": 61,
   "id": "9773d11c",
   "metadata": {},
   "outputs": [
    {
     "name": "stdout",
     "output_type": "stream",
     "text": [
      "Confusion Matrix:\n",
      "[[444 191]\n",
      " [237 258]]\n"
     ]
    }
   ],
   "source": [
    "import pandas as pd\n",
    "from sklearn.metrics import confusion_matrix\n",
    "\n",
    "# Assuming you have the 'target' column in both df2_test and pout\n",
    "actual_labels = df2['target']\n",
    "predicted_labels = pout['target']\n",
    "\n",
    "# Create the confusion matrix\n",
    "confusion_mat = confusion_matrix(actual_labels, predicted_labels)\n",
    "\n",
    "print(\"Confusion Matrix:\")\n",
    "print(confusion_mat)\n"
   ]
  },
  {
   "cell_type": "markdown",
   "id": "3c6e6457",
   "metadata": {},
   "source": [
    "**Train-test**"
   ]
  },
  {
   "cell_type": "code",
   "execution_count": 97,
   "id": "af91723e",
   "metadata": {},
   "outputs": [],
   "source": [
    "df2_train, df2_test = train_test_split(df2, \n",
    "                                       test_size=0.2, \n",
    "                                       stratify=df2[\"target\"],\n",
    "                                       random_state=8) "
   ]
  },
  {
   "cell_type": "code",
   "execution_count": 98,
   "id": "f91d32da",
   "metadata": {},
   "outputs": [
    {
     "data": {
      "text/plain": [
       "(1130, 4520)"
      ]
     },
     "execution_count": 98,
     "metadata": {},
     "output_type": "execute_result"
    }
   ],
   "source": [
    "len(df2_train), len(df2_test)"
   ]
  },
  {
   "cell_type": "code",
   "execution_count": 99,
   "id": "c35f85c0",
   "metadata": {},
   "outputs": [
    {
     "name": "stdout",
     "output_type": "stream",
     "text": [
      "[bnlearn] >Computing best DAG using [hc]\n",
      "[bnlearn] >Set scoring type at [bic]\n",
      "[bnlearn] >Compute structure scores for model comparison (higher is better).\n"
     ]
    }
   ],
   "source": [
    "smodel = bn.structure_learning.fit(df2_train, root_node = \"target\")"
   ]
  },
  {
   "cell_type": "code",
   "execution_count": 100,
   "id": "f6368e6f",
   "metadata": {},
   "outputs": [
    {
     "name": "stdout",
     "output_type": "stream",
     "text": [
      "[bnlearn] >Set node properties.\n",
      "[bnlearn] >Set edge properties.\n",
      "[bnlearn] >Plot based on Bayesian model\n"
     ]
    },
    {
     "data": {
      "image/png": "[encoded data removed]",
      "text/plain": [
       "<Figure size 1500x1000 with 1 Axes>"
      ]
     },
     "metadata": {},
     "output_type": "display_data"
    }
   ],
   "source": [
    "# Plot\n",
    "G = bn.plot(smodel, interactive=False)"
   ]
  },
  {
   "cell_type": "code",
   "execution_count": 101,
   "id": "eda73895",
   "metadata": {},
   "outputs": [
    {
     "name": "stdout",
     "output_type": "stream",
     "text": [
      "[bnlearn]> Remaining columns for inference: 20\n"
     ]
    },
    {
     "name": "stderr",
     "output_type": "stream",
     "text": [
      "100%|█████████████████████████████████████████████████████████████████████████████| 4520/4520 [00:28<00:00, 161.04it/s]\n"
     ]
    }
   ],
   "source": [
    "# Predict\n",
    "pout = bn.predict(pmodel, df2_test, \"target\")"
   ]
  },
  {
   "cell_type": "code",
   "execution_count": 102,
   "id": "89a47660",
   "metadata": {},
   "outputs": [
    {
     "name": "stdout",
     "output_type": "stream",
     "text": [
      "Confusion Matrix:\n",
      "[[1792  749]\n",
      " [ 860 1119]]\n"
     ]
    }
   ],
   "source": [
    "import pandas as pd\n",
    "from sklearn.metrics import confusion_matrix\n",
    "\n",
    "# Assuming you have the 'target' column in both df2 and pout\n",
    "actual_labels = df2_test['target']\n",
    "predicted_labels = pout['target']\n",
    "\n",
    "# Create the confusion matrix\n",
    "confusion_mat = confusion_matrix(actual_labels, predicted_labels)\n",
    "\n",
    "print(\"Confusion Matrix:\")\n",
    "print(confusion_mat)"
   ]
  }
 ],
 "metadata": {
  "kernelspec": {
   "display_name": "Python 3 (ipykernel)",
   "language": "python",
   "name": "python3"
  },
  "language_info": {
   "codemirror_mode": {
    "name": "ipython",
    "version": 3
   },
   "file_extension": ".py",
   "mimetype": "text/x-python",
   "name": "python",
   "nbconvert_exporter": "python",
   "pygments_lexer": "ipython3",
   "version": "3.8.8"
  }
 },
 "nbformat": 4,
 "nbformat_minor": 5
}
